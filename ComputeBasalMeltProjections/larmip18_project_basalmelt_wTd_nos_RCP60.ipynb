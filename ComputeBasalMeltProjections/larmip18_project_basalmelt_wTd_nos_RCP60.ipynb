{
 "cells": [
  {
   "cell_type": "code",
   "execution_count": 1,
   "metadata": {},
   "outputs": [],
   "source": [
    "%matplotlib inline"
   ]
  },
  {
   "cell_type": "code",
   "execution_count": 2,
   "metadata": {},
   "outputs": [],
   "source": [
    "import numpy as np\n",
    "import netCDF4 as nc\n",
    "import matplotlib.pylab as plt\n",
    "import imp\n",
    "import csv\n",
    "import pandas as pd\n",
    "import random as rnd"
   ]
  },
  {
   "cell_type": "code",
   "execution_count": 3,
   "metadata": {},
   "outputs": [
    {
     "name": "stdout",
     "output_type": "stream",
     "text": [
      "651\n"
     ]
    }
   ],
   "source": [
    "# Read atmospheric forcing\n",
    "\n",
    "NumTensemble = 600\n",
    "Tlen = 651\n",
    "\n",
    "#fname = \"../MAGICC/RCP2500/Temp_RCP60_HistConstraint.dat\" # File to read\n",
    "#df = pd.read_csv(fname,sep='\\s+',index_col=0,header=None)\n",
    "#df.columns.name = \"ensemble member\"\n",
    "#df.index.name = \"Time\"\n",
    "#T = np.array(df.values)\n",
    "\n",
    "fname = \"../MAGICC/RCP2500/Temp_RCP60_HistConstraint.dat\" # File to read\n",
    "df = pd.read_csv(fname,sep='\\s+',index_col=0,header=None)\n",
    "df.columns.name = \"ensemble member\"\n",
    "df.index.name = \"Time\"\n",
    "SAT = np.array(df.values)\n",
    "\n",
    "print(len(SAT[:,1]))\n",
    "# SAT[time,ensemblemember]"
   ]
  },
  {
   "cell_type": "code",
   "execution_count": 4,
   "metadata": {},
   "outputs": [],
   "source": [
    "# Normalize and crop temperature series\n",
    "Temp = []\n",
    "Tavebeg = 0\n",
    "Taveend = 80\n",
    "tbeg = 51\n",
    "tend = 251\n",
    "for i in range(len(SAT[1,:])):\n",
    "    SATave = np.mean(SAT[Tavebeg:Taveend,i])\n",
    "    SAT[:,i] = SAT[:,i]-SATave\n",
    "SAT = SAT[tbeg:tend,:]"
   ]
  },
  {
   "cell_type": "code",
   "execution_count": 5,
   "metadata": {},
   "outputs": [],
   "source": [
    "# Read ocean scaling\n",
    "\n",
    "NumOmodel = 19\n",
    "\n",
    "fname = \"../ScalingCoefficients/OceanScaling/OS_R1.dat\" # File to read\n",
    "with open(fname) as f:\n",
    "    OS_NoDelay_R1 = np.array([float(row.split(\"\\t\")[0]) for row in f])\n",
    "with open(fname) as f:\n",
    "    OS_WiDelay_R1 = np.array([float(row.split(\"\\t\")[3]) for row in f])\n",
    "with open(fname) as f:\n",
    "    OS_Delay_R1 = np.array([float(row.split(\"\\t\")[2]) for row in f])\n",
    "#print(OS_NoDelay_R1)\n",
    "#print(OS_WiDelay_R1)\n",
    "#print(OS_Delay_R1)\n",
    "\n",
    "fname = \"../ScalingCoefficients/OceanScaling/OS_R2.dat\" # File to read\n",
    "with open(fname) as f:\n",
    "    OS_NoDelay_R2 = np.array([float(row.split(\"\\t\")[0]) for row in f])\n",
    "with open(fname) as f:\n",
    "    OS_WiDelay_R2 = np.array([float(row.split(\"\\t\")[3]) for row in f])\n",
    "with open(fname) as f:\n",
    "    OS_Delay_R2 = np.array([float(row.split(\"\\t\")[2]) for row in f])\n",
    "#print(OS_NoDelay_R2)\n",
    "#print(OS_WiDelay_R2)\n",
    "#print(OS_Delay_R2)\n",
    "\n",
    "fname = \"../ScalingCoefficients/OceanScaling/OS_R3.dat\" # File to read\n",
    "with open(fname) as f:\n",
    "    OS_NoDelay_R3 = np.array([float(row.split(\"\\t\")[0]) for row in f])\n",
    "with open(fname) as f:\n",
    "    OS_WiDelay_R3 = np.array([float(row.split(\"\\t\")[3]) for row in f])\n",
    "with open(fname) as f:\n",
    "    OS_Delay_R3 = np.array([float(row.split(\"\\t\")[2]) for row in f])\n",
    "#print(OS_NoDelay_R3)\n",
    "#print(OS_WiDelay_R3)\n",
    "#print(OS_Delay_R3)\n",
    "\n",
    "fname = \"../ScalingCoefficients/OceanScaling/OS_R4.dat\" # File to read\n",
    "with open(fname) as f:\n",
    "    OS_NoDelay_R4 = np.array([float(row.split(\"\\t\")[0]) for row in f])\n",
    "with open(fname) as f:\n",
    "    OS_WiDelay_R4 = np.array([float(row.split(\"\\t\")[3]) for row in f])\n",
    "with open(fname) as f:\n",
    "    OS_Delay_R4 = np.array([float(row.split(\"\\t\")[2]) for row in f])\n",
    "#print(OS_NoDelay_R4)\n",
    "#print(OS_WiDelay_R4)\n",
    "#print(OS_Delay_R4)"
   ]
  },
  {
   "cell_type": "code",
   "execution_count": 6,
   "metadata": {},
   "outputs": [],
   "source": [
    "# Read melting sensitivity\n",
    "fname = \"../ScalingCoefficients/MeltSensitivity/MeltSensitivity.dat\" # File to read\n",
    "with open(fname) as f:\n",
    "    MeltSensitivity = np.array([float(row) for row in f])\n",
    "\n",
    "#print(MS)\n",
    "#print(\"Lower limit of melt sensitivity: \",MS[0])\n",
    "#print(\"Upper limit of melt sensitivity: \",MS[1])"
   ]
  },
  {
   "cell_type": "code",
   "execution_count": 7,
   "metadata": {},
   "outputs": [],
   "source": [
    "EnsembleSize = 20000\n",
    "scaled_forcing = False\n",
    "\n",
    "countR1 = 0\n",
    "countR2 = 0\n",
    "countR3 = 0\n",
    "countR4 = 0\n",
    "\n",
    "M_R1 = [0] * (tend-tbeg)\n",
    "M_R2 = [0] * (tend-tbeg)\n",
    "M_R3 = [0] * (tend-tbeg)\n",
    "M_R4 = [0] * (tend-tbeg)\n",
    "M_R5 = [0] * (tend-tbeg)\n",
    "\n",
    "for i in range(EnsembleSize):\n",
    "\n",
    "    # Select forcing randomly\n",
    "\n",
    "    # select global warming path\n",
    "    iTens = rnd.randint(0,NumTensemble-1)\n",
    "    Temp = np.array(SAT[:,iTens])\n",
    "\n",
    "    # select ocean model\n",
    "    iOmod = rnd.randint(0,NumOmodel-1)\n",
    "    OS_R1 = OS_WiDelay_R1[iOmod]\n",
    "    OS_R2 = OS_WiDelay_R2[iOmod]\n",
    "    OS_R3 = OS_WiDelay_R3[iOmod]\n",
    "    OS_R4 = OS_WiDelay_R4[iOmod]\n",
    "    OS_R5 = OS_WiDelay_R4[iOmod]\n",
    "\n",
    "    tau_R1 = int(OS_Delay_R1[iOmod])\n",
    "    tau_R2 = int(OS_Delay_R2[iOmod])\n",
    "    tau_R3 = int(OS_Delay_R3[iOmod])\n",
    "    tau_R4 = int(OS_Delay_R4[iOmod])\n",
    "    tau_R5 = int(OS_Delay_R4[iOmod])\n",
    "\n",
    "    if tau_R1>0:\n",
    "        countR1 = countR1+1\n",
    "    if tau_R2>0:\n",
    "        countR2 = countR2+1\n",
    "    if tau_R3>0:\n",
    "        countR3 = countR3+1\n",
    "    if tau_R4>0:\n",
    "        countR4 = countR4+1\n",
    "    \n",
    "    Temp_R1 = np.append(np.zeros(tau_R1),Temp[:tend-tbeg-tau_R1])\n",
    "    Temp_R2 = np.append(np.zeros(tau_R2),Temp[:tend-tbeg-tau_R2])\n",
    "    Temp_R3 = np.append(np.zeros(tau_R3),Temp[:tend-tbeg-tau_R3])\n",
    "    Temp_R4 = np.append(np.zeros(tau_R4),Temp[:tend-tbeg-tau_R4])\n",
    "    Temp_R5 = np.append(np.zeros(tau_R5),Temp[:tend-tbeg-tau_R5])\n",
    "    \n",
    "    # select melting sensitivity\n",
    "    MS_R1 = rnd.uniform(MeltSensitivity[0],MeltSensitivity[1])\n",
    "    MS_R2 = rnd.uniform(MeltSensitivity[0],MeltSensitivity[1])\n",
    "    MS_R3 = rnd.uniform(MeltSensitivity[0],MeltSensitivity[1])\n",
    "    MS_R4 = rnd.uniform(MeltSensitivity[0],MeltSensitivity[1])\n",
    "    MS_R5 = rnd.uniform(MeltSensitivity[0],MeltSensitivity[1])\n",
    "\n",
    "    # Compose forcing time series\n",
    "    M_R1_single = MS_R1*OS_R1*Temp_R1\n",
    "    M_R2_single = MS_R2*OS_R2*Temp_R2\n",
    "    M_R3_single = MS_R3*OS_R3*Temp_R3\n",
    "    M_R4_single = MS_R4*OS_R4*Temp_R4\n",
    "    M_R5_single = MS_R5*OS_R5*Temp_R5\n",
    "    \n",
    "    M_R1=np.vstack([M_R1, M_R1_single])\n",
    "    M_R2=np.vstack([M_R2, M_R2_single])\n",
    "    M_R3=np.vstack([M_R3, M_R3_single])\n",
    "    M_R4=np.vstack([M_R4, M_R4_single])\n",
    "    M_R5=np.vstack([M_R5, M_R5_single])\n",
    "    \n",
    "\n",
    "M_R1[M_R1 < 0.0] = 0.0\n",
    "M_R2[M_R2 < 0.0] = 0.0\n",
    "M_R3[M_R3 < 0.0] = 0.0\n",
    "M_R4[M_R4 < 0.0] = 0.0\n",
    "M_R5[M_R5 < 0.0] = 0.0\n",
    "    \n"
   ]
  },
  {
   "cell_type": "code",
   "execution_count": 8,
   "metadata": {},
   "outputs": [
    {
     "name": "stdout",
     "output_type": "stream",
     "text": [
      "200\n",
      "20001\n",
      "200\n"
     ]
    }
   ],
   "source": [
    "Time = range(1900,2100)\n",
    "print(len(Time))\n",
    "print(len(M_R1[:,0]))\n",
    "print(len(M_R1[0,:]))\n"
   ]
  },
  {
   "cell_type": "code",
   "execution_count": 9,
   "metadata": {},
   "outputs": [],
   "source": [
    "ncfile = nc.Dataset('EnsembleBasalMelt/BasalMelt_wTd_nos_RCP60.nc','w', format='NETCDF4')\n",
    "ncfile.createDimension('Time', None)\n",
    "ncfile.createDimension('Emember', None)\n",
    "\n",
    "BM_wdT_nos_R1 = ncfile.createVariable('EAIS', 'f4', ('Emember', 'Time'))\n",
    "BM_wdT_nos_R2 = ncfile.createVariable('Ross', 'f4', ('Emember', 'Time'))\n",
    "BM_wdT_nos_R3 = ncfile.createVariable('Amundsen', 'f4', ('Emember', 'Time'))\n",
    "BM_wdT_nos_R4 = ncfile.createVariable('Weddell', 'f4', ('Emember', 'Time'))\n",
    "BM_wdT_nos_R5 = ncfile.createVariable('Peninsula', 'f4', ('Emember', 'Time'))\n",
    "t = ncfile.createVariable('Time', 'i4', 'Time')\n",
    "\n",
    "BM_wdT_nos_R1[:,:] = M_R1\n",
    "BM_wdT_nos_R2[:,:] = M_R2\n",
    "BM_wdT_nos_R3[:,:] = M_R3\n",
    "BM_wdT_nos_R4[:,:] = M_R4\n",
    "BM_wdT_nos_R5[:,:] = M_R5\n",
    "t[:] = Time\n",
    "\n",
    "BM_wdT_nos_R1.units = 'meter per years'\n",
    "BM_wdT_nos_R2.units = 'meter per years'\n",
    "BM_wdT_nos_R3.units = 'meter per years'\n",
    "BM_wdT_nos_R4.units = 'meter per years'\n",
    "BM_wdT_nos_R5.units = 'meter per years'\n",
    "\n",
    "t.units = 'years'\n",
    "\n",
    "ncfile.close()"
   ]
  },
  {
   "cell_type": "code",
   "execution_count": 10,
   "metadata": {},
   "outputs": [],
   "source": [
    "BM_wdT_nos_RCP60_R1_50pc = np.percentile(M_R1, 50, axis=0, out=None, overwrite_input=False, interpolation='linear', keepdims=False)\n",
    "BM_wdT_nos_RCP60_R1_83pc = np.percentile(M_R1, 83.33, axis=0, out=None, overwrite_input=False, interpolation='linear', keepdims=False)\n",
    "BM_wdT_nos_RCP60_R1_17pc = np.percentile(M_R1, 16.66, axis=0, out=None, overwrite_input=False, interpolation='linear', keepdims=False)\n",
    "BM_wdT_nos_RCP60_R1_05pc = np.percentile(M_R1, 5, axis=0, out=None, overwrite_input=False, interpolation='linear', keepdims=False)\n",
    "BM_wdT_nos_RCP60_R1_95pc = np.percentile(M_R1, 95, axis=0, out=None, overwrite_input=False, interpolation='linear', keepdims=False)\n",
    "BM_wdT_nos_RCP60_R1_99pc = np.percentile(M_R1, 99, axis=0, out=None, overwrite_input=False, interpolation='linear', keepdims=False)\n",
    "BM_wdT_nos_RCP60_R1_01pc = np.percentile(M_R1, 1, axis=0, out=None, overwrite_input=False, interpolation='linear', keepdims=False)\n",
    "\n",
    "np.savetxt(\"PercentilesBasalMelt/BM_wdT_nos_RCP60_R1_50pc.dat\", BM_wdT_nos_RCP60_R1_50pc, delimiter=\",\")\n",
    "np.savetxt(\"PercentilesBasalMelt/BM_wdT_nos_RCP60_R1_83pc.dat\", BM_wdT_nos_RCP60_R1_83pc, delimiter=\",\")\n",
    "np.savetxt(\"PercentilesBasalMelt/BM_wdT_nos_RCP60_R1_17pc.dat\", BM_wdT_nos_RCP60_R1_17pc, delimiter=\",\")\n",
    "np.savetxt(\"PercentilesBasalMelt/BM_wdT_nos_RCP60_R1_05pc.dat\", BM_wdT_nos_RCP60_R1_05pc, delimiter=\",\")\n",
    "np.savetxt(\"PercentilesBasalMelt/BM_wdT_nos_RCP60_R1_95pc.dat\", BM_wdT_nos_RCP60_R1_95pc, delimiter=\",\")\n",
    "np.savetxt(\"PercentilesBasalMelt/BM_wdT_nos_RCP60_R1_01pc.dat\", BM_wdT_nos_RCP60_R1_01pc, delimiter=\",\")\n",
    "np.savetxt(\"PercentilesBasalMelt/BM_wdT_nos_RCP60_R1_99pc.dat\", BM_wdT_nos_RCP60_R1_99pc, delimiter=\",\")\n"
   ]
  },
  {
   "cell_type": "code",
   "execution_count": 11,
   "metadata": {},
   "outputs": [],
   "source": [
    "BM_wdT_nos_RCP60_R2_50pc = np.percentile(M_R2, 50, axis=0, out=None, overwrite_input=False, interpolation='linear', keepdims=False)\n",
    "BM_wdT_nos_RCP60_R2_83pc = np.percentile(M_R2, 83.33, axis=0, out=None, overwrite_input=False, interpolation='linear', keepdims=False)\n",
    "BM_wdT_nos_RCP60_R2_17pc = np.percentile(M_R2, 16.66, axis=0, out=None, overwrite_input=False, interpolation='linear', keepdims=False)\n",
    "BM_wdT_nos_RCP60_R2_05pc = np.percentile(M_R2, 5, axis=0, out=None, overwrite_input=False, interpolation='linear', keepdims=False)\n",
    "BM_wdT_nos_RCP60_R2_95pc = np.percentile(M_R2, 95, axis=0, out=None, overwrite_input=False, interpolation='linear', keepdims=False)\n",
    "BM_wdT_nos_RCP60_R2_99pc = np.percentile(M_R2, 99, axis=0, out=None, overwrite_input=False, interpolation='linear', keepdims=False)\n",
    "BM_wdT_nos_RCP60_R2_01pc = np.percentile(M_R2, 1, axis=0, out=None, overwrite_input=False, interpolation='linear', keepdims=False)\n",
    "\n",
    "np.savetxt(\"PercentilesBasalMelt/BM_wdT_nos_RCP60_R2_50pc.dat\", BM_wdT_nos_RCP60_R2_50pc, delimiter=\",\")\n",
    "np.savetxt(\"PercentilesBasalMelt/BM_wdT_nos_RCP60_R2_83pc.dat\", BM_wdT_nos_RCP60_R2_83pc, delimiter=\",\")\n",
    "np.savetxt(\"PercentilesBasalMelt/BM_wdT_nos_RCP60_R2_17pc.dat\", BM_wdT_nos_RCP60_R2_17pc, delimiter=\",\")\n",
    "np.savetxt(\"PercentilesBasalMelt/BM_wdT_nos_RCP60_R2_05pc.dat\", BM_wdT_nos_RCP60_R2_05pc, delimiter=\",\")\n",
    "np.savetxt(\"PercentilesBasalMelt/BM_wdT_nos_RCP60_R2_95pc.dat\", BM_wdT_nos_RCP60_R2_95pc, delimiter=\",\")\n",
    "np.savetxt(\"PercentilesBasalMelt/BM_wdT_nos_RCP60_R2_01pc.dat\", BM_wdT_nos_RCP60_R2_01pc, delimiter=\",\")\n",
    "np.savetxt(\"PercentilesBasalMelt/BM_wdT_nos_RCP60_R2_99pc.dat\", BM_wdT_nos_RCP60_R2_99pc, delimiter=\",\")\n"
   ]
  },
  {
   "cell_type": "code",
   "execution_count": 12,
   "metadata": {},
   "outputs": [],
   "source": [
    "BM_wdT_nos_RCP60_R3_50pc = np.percentile(M_R3, 50, axis=0, out=None, overwrite_input=False, interpolation='linear', keepdims=False)\n",
    "BM_wdT_nos_RCP60_R3_83pc = np.percentile(M_R3, 83.33, axis=0, out=None, overwrite_input=False, interpolation='linear', keepdims=False)\n",
    "BM_wdT_nos_RCP60_R3_17pc = np.percentile(M_R3, 16.66, axis=0, out=None, overwrite_input=False, interpolation='linear', keepdims=False)\n",
    "BM_wdT_nos_RCP60_R3_05pc = np.percentile(M_R3, 5, axis=0, out=None, overwrite_input=False, interpolation='linear', keepdims=False)\n",
    "BM_wdT_nos_RCP60_R3_95pc = np.percentile(M_R3, 95, axis=0, out=None, overwrite_input=False, interpolation='linear', keepdims=False)\n",
    "BM_wdT_nos_RCP60_R3_99pc = np.percentile(M_R3, 99, axis=0, out=None, overwrite_input=False, interpolation='linear', keepdims=False)\n",
    "BM_wdT_nos_RCP60_R3_01pc = np.percentile(M_R3, 1, axis=0, out=None, overwrite_input=False, interpolation='linear', keepdims=False)\n",
    "\n",
    "np.savetxt(\"PercentilesBasalMelt/BM_wdT_nos_RCP60_R3_50pc.dat\", BM_wdT_nos_RCP60_R3_50pc, delimiter=\",\")\n",
    "np.savetxt(\"PercentilesBasalMelt/BM_wdT_nos_RCP60_R3_83pc.dat\", BM_wdT_nos_RCP60_R3_83pc, delimiter=\",\")\n",
    "np.savetxt(\"PercentilesBasalMelt/BM_wdT_nos_RCP60_R3_17pc.dat\", BM_wdT_nos_RCP60_R3_17pc, delimiter=\",\")\n",
    "np.savetxt(\"PercentilesBasalMelt/BM_wdT_nos_RCP60_R3_05pc.dat\", BM_wdT_nos_RCP60_R3_05pc, delimiter=\",\")\n",
    "np.savetxt(\"PercentilesBasalMelt/BM_wdT_nos_RCP60_R3_95pc.dat\", BM_wdT_nos_RCP60_R3_95pc, delimiter=\",\")\n",
    "np.savetxt(\"PercentilesBasalMelt/BM_wdT_nos_RCP60_R3_01pc.dat\", BM_wdT_nos_RCP60_R3_01pc, delimiter=\",\")\n",
    "np.savetxt(\"PercentilesBasalMelt/BM_wdT_nos_RCP60_R3_99pc.dat\", BM_wdT_nos_RCP60_R3_99pc, delimiter=\",\")\n"
   ]
  },
  {
   "cell_type": "code",
   "execution_count": 13,
   "metadata": {},
   "outputs": [],
   "source": [
    "BM_wdT_nos_RCP60_R4_50pc = np.percentile(M_R4, 50, axis=0, out=None, overwrite_input=False, interpolation='linear', keepdims=False)\n",
    "BM_wdT_nos_RCP60_R4_83pc = np.percentile(M_R4, 83.33, axis=0, out=None, overwrite_input=False, interpolation='linear', keepdims=False)\n",
    "BM_wdT_nos_RCP60_R4_17pc = np.percentile(M_R4, 16.66, axis=0, out=None, overwrite_input=False, interpolation='linear', keepdims=False)\n",
    "BM_wdT_nos_RCP60_R4_05pc = np.percentile(M_R4, 5, axis=0, out=None, overwrite_input=False, interpolation='linear', keepdims=False)\n",
    "BM_wdT_nos_RCP60_R4_95pc = np.percentile(M_R4, 95, axis=0, out=None, overwrite_input=False, interpolation='linear', keepdims=False)\n",
    "BM_wdT_nos_RCP60_R4_99pc = np.percentile(M_R4, 99, axis=0, out=None, overwrite_input=False, interpolation='linear', keepdims=False)\n",
    "BM_wdT_nos_RCP60_R4_01pc = np.percentile(M_R4, 1, axis=0, out=None, overwrite_input=False, interpolation='linear', keepdims=False)\n",
    "\n",
    "np.savetxt(\"PercentilesBasalMelt/BM_wdT_nos_RCP60_R4_50pc.dat\", BM_wdT_nos_RCP60_R4_50pc, delimiter=\",\")\n",
    "np.savetxt(\"PercentilesBasalMelt/BM_wdT_nos_RCP60_R4_83pc.dat\", BM_wdT_nos_RCP60_R4_83pc, delimiter=\",\")\n",
    "np.savetxt(\"PercentilesBasalMelt/BM_wdT_nos_RCP60_R4_17pc.dat\", BM_wdT_nos_RCP60_R4_17pc, delimiter=\",\")\n",
    "np.savetxt(\"PercentilesBasalMelt/BM_wdT_nos_RCP60_R4_05pc.dat\", BM_wdT_nos_RCP60_R4_05pc, delimiter=\",\")\n",
    "np.savetxt(\"PercentilesBasalMelt/BM_wdT_nos_RCP60_R4_95pc.dat\", BM_wdT_nos_RCP60_R4_95pc, delimiter=\",\")\n",
    "np.savetxt(\"PercentilesBasalMelt/BM_wdT_nos_RCP60_R4_01pc.dat\", BM_wdT_nos_RCP60_R4_01pc, delimiter=\",\")\n",
    "np.savetxt(\"PercentilesBasalMelt/BM_wdT_nos_RCP60_R4_99pc.dat\", BM_wdT_nos_RCP60_R4_99pc, delimiter=\",\")\n"
   ]
  },
  {
   "cell_type": "code",
   "execution_count": 14,
   "metadata": {},
   "outputs": [],
   "source": [
    "BM_wdT_nos_RCP60_R5_50pc = np.percentile(M_R5, 50, axis=0, out=None, overwrite_input=False, interpolation='linear', keepdims=False)\n",
    "BM_wdT_nos_RCP60_R5_83pc = np.percentile(M_R5, 83.33, axis=0, out=None, overwrite_input=False, interpolation='linear', keepdims=False)\n",
    "BM_wdT_nos_RCP60_R5_17pc = np.percentile(M_R5, 16.66, axis=0, out=None, overwrite_input=False, interpolation='linear', keepdims=False)\n",
    "BM_wdT_nos_RCP60_R5_05pc = np.percentile(M_R5, 5, axis=0, out=None, overwrite_input=False, interpolation='linear', keepdims=False)\n",
    "BM_wdT_nos_RCP60_R5_95pc = np.percentile(M_R5, 95, axis=0, out=None, overwrite_input=False, interpolation='linear', keepdims=False)\n",
    "BM_wdT_nos_RCP60_R5_99pc = np.percentile(M_R5, 99, axis=0, out=None, overwrite_input=False, interpolation='linear', keepdims=False)\n",
    "BM_wdT_nos_RCP60_R5_01pc = np.percentile(M_R5, 1, axis=0, out=None, overwrite_input=False, interpolation='linear', keepdims=False)\n",
    "\n",
    "np.savetxt(\"PercentilesBasalMelt/BM_wdT_nos_RCP60_R5_50pc.dat\", BM_wdT_nos_RCP60_R5_50pc, delimiter=\",\")\n",
    "np.savetxt(\"PercentilesBasalMelt/BM_wdT_nos_RCP60_R5_83pc.dat\", BM_wdT_nos_RCP60_R5_83pc, delimiter=\",\")\n",
    "np.savetxt(\"PercentilesBasalMelt/BM_wdT_nos_RCP60_R5_17pc.dat\", BM_wdT_nos_RCP60_R5_17pc, delimiter=\",\")\n",
    "np.savetxt(\"PercentilesBasalMelt/BM_wdT_nos_RCP60_R5_05pc.dat\", BM_wdT_nos_RCP60_R5_05pc, delimiter=\",\")\n",
    "np.savetxt(\"PercentilesBasalMelt/BM_wdT_nos_RCP60_R5_95pc.dat\", BM_wdT_nos_RCP60_R5_95pc, delimiter=\",\")\n",
    "np.savetxt(\"PercentilesBasalMelt/BM_wdT_nos_RCP60_R5_01pc.dat\", BM_wdT_nos_RCP60_R5_01pc, delimiter=\",\")\n",
    "np.savetxt(\"PercentilesBasalMelt/BM_wdT_nos_RCP60_R5_99pc.dat\", BM_wdT_nos_RCP60_R5_99pc, delimiter=\",\")\n"
   ]
  },
  {
   "cell_type": "code",
   "execution_count": 15,
   "metadata": {},
   "outputs": [
    {
     "data": {
      "image/png": "[encoded data removed]",
      "text/plain": [
       "<Figure size 432x288 with 1 Axes>"
      ]
     },
     "metadata": {
      "needs_background": "light"
     },
     "output_type": "display_data"
    }
   ],
   "source": [
    "fp3=plt.figure()\n",
    "for i in range(EnsembleSize):\n",
    "    plt.plot(Time,M_R1[i,:])\n",
    "\n",
    "plt.show()\n",
    "fp3.savefig(\"Figures/BM_wdT_nos_RCP60_R1_alllines.pdf\", bbox_inches='tight')\n"
   ]
  },
  {
   "cell_type": "code",
   "execution_count": 16,
   "metadata": {},
   "outputs": [
    {
     "data": {
      "image/png": "[encoded data removed]",
      "text/plain": [
       "<Figure size 432x288 with 1 Axes>"
      ]
     },
     "metadata": {
      "needs_background": "light"
     },
     "output_type": "display_data"
    }
   ],
   "source": [
    "fp2 = plt.figure()\n",
    "plt.fill_between(Time, BM_wdT_nos_RCP60_R1_05pc, BM_wdT_nos_RCP60_R1_95pc,facecolor='#ff8800')\n",
    "plt.fill_between(Time, BM_wdT_nos_RCP60_R1_17pc, BM_wdT_nos_RCP60_R1_83pc,facecolor='#ff0000')\n",
    "plt.plot(Time, BM_wdT_nos_RCP60_R1_50pc, 'k-')\n",
    "plt.show()\n",
    "fp2.savefig(\"Figures/BM_wdT_nos_RCP60_R1_percentiles_shades.pdf\", bbox_inches='tight')\n"
   ]
  },
  {
   "cell_type": "code",
   "execution_count": 17,
   "metadata": {},
   "outputs": [
    {
     "data": {
      "image/png": "[encoded data removed]",
      "text/plain": [
       "<Figure size 432x288 with 1 Axes>"
      ]
     },
     "metadata": {
      "needs_background": "light"
     },
     "output_type": "display_data"
    }
   ],
   "source": [
    "fp2 = plt.figure()\n",
    "plt.fill_between(Time, BM_wdT_nos_RCP60_R2_05pc, BM_wdT_nos_RCP60_R2_95pc,facecolor='#ff8800')\n",
    "plt.fill_between(Time, BM_wdT_nos_RCP60_R2_17pc, BM_wdT_nos_RCP60_R2_83pc,facecolor='#ff0000')\n",
    "plt.plot(Time, BM_wdT_nos_RCP60_R2_50pc, 'k-')\n",
    "plt.show()\n",
    "fp2.savefig(\"Figures/BM_wdT_nos_RCP60_R2_percentiles_shades.pdf\", bbox_inches='tight')\n"
   ]
  },
  {
   "cell_type": "code",
   "execution_count": 18,
   "metadata": {},
   "outputs": [
    {
     "data": {
      "image/png": "[encoded data removed]",
      "text/plain": [
       "<Figure size 432x288 with 1 Axes>"
      ]
     },
     "metadata": {
      "needs_background": "light"
     },
     "output_type": "display_data"
    }
   ],
   "source": [
    "fp2 = plt.figure()\n",
    "plt.fill_between(Time, BM_wdT_nos_RCP60_R3_05pc, BM_wdT_nos_RCP60_R3_95pc,facecolor='#ff8800')\n",
    "plt.fill_between(Time, BM_wdT_nos_RCP60_R3_17pc, BM_wdT_nos_RCP60_R3_83pc,facecolor='#ff0000')\n",
    "plt.plot(Time, BM_wdT_nos_RCP60_R3_50pc, 'k-')\n",
    "plt.show()\n",
    "fp2.savefig(\"Figures/BM_wdT_nos_RCP60_R3_percentiles_shades.pdf\", bbox_inches='tight')\n"
   ]
  },
  {
   "cell_type": "code",
   "execution_count": 19,
   "metadata": {},
   "outputs": [
    {
     "ename": "NameError",
     "evalue": "name 'BM_wdT_RCP60_nos_R4_05pc' is not defined",
     "output_type": "error",
     "traceback": [
      "\u001b[1;31m---------------------------------------------------------------------------\u001b[0m",
      "\u001b[1;31mNameError\u001b[0m                                 Traceback (most recent call last)",
      "\u001b[1;32m<ipython-input-19-18d41040e20d>\u001b[0m in \u001b[0;36m<module>\u001b[1;34m\u001b[0m\n\u001b[0;32m      1\u001b[0m \u001b[0mfp2\u001b[0m \u001b[1;33m=\u001b[0m \u001b[0mplt\u001b[0m\u001b[1;33m.\u001b[0m\u001b[0mfigure\u001b[0m\u001b[1;33m(\u001b[0m\u001b[1;33m)\u001b[0m\u001b[1;33m\u001b[0m\u001b[1;33m\u001b[0m\u001b[0m\n\u001b[1;32m----> 2\u001b[1;33m \u001b[0mplt\u001b[0m\u001b[1;33m.\u001b[0m\u001b[0mfill_between\u001b[0m\u001b[1;33m(\u001b[0m\u001b[0mTime\u001b[0m\u001b[1;33m,\u001b[0m \u001b[0mBM_wdT_RCP60_nos_R4_05pc\u001b[0m\u001b[1;33m,\u001b[0m \u001b[0mBM_wdT_nos_RCP60_R4_95pc\u001b[0m\u001b[1;33m,\u001b[0m\u001b[0mfacecolor\u001b[0m\u001b[1;33m=\u001b[0m\u001b[1;34m'#ff8800'\u001b[0m\u001b[1;33m)\u001b[0m\u001b[1;33m\u001b[0m\u001b[1;33m\u001b[0m\u001b[0m\n\u001b[0m\u001b[0;32m      3\u001b[0m \u001b[0mplt\u001b[0m\u001b[1;33m.\u001b[0m\u001b[0mfill_between\u001b[0m\u001b[1;33m(\u001b[0m\u001b[0mTime\u001b[0m\u001b[1;33m,\u001b[0m \u001b[0mBM_wdT_RCP60_nos_R4_17pc\u001b[0m\u001b[1;33m,\u001b[0m \u001b[0mBM_wdT_nos_RCP60_R4_83pc\u001b[0m\u001b[1;33m,\u001b[0m\u001b[0mfacecolor\u001b[0m\u001b[1;33m=\u001b[0m\u001b[1;34m'#ff0000'\u001b[0m\u001b[1;33m)\u001b[0m\u001b[1;33m\u001b[0m\u001b[1;33m\u001b[0m\u001b[0m\n\u001b[0;32m      4\u001b[0m \u001b[0mplt\u001b[0m\u001b[1;33m.\u001b[0m\u001b[0mplot\u001b[0m\u001b[1;33m(\u001b[0m\u001b[0mTime\u001b[0m\u001b[1;33m,\u001b[0m \u001b[0mBM_wdT_nos_RCP60_R4_50pc\u001b[0m\u001b[1;33m,\u001b[0m \u001b[1;34m'k-'\u001b[0m\u001b[1;33m)\u001b[0m\u001b[1;33m\u001b[0m\u001b[1;33m\u001b[0m\u001b[0m\n\u001b[0;32m      5\u001b[0m \u001b[0mplt\u001b[0m\u001b[1;33m.\u001b[0m\u001b[0mshow\u001b[0m\u001b[1;33m(\u001b[0m\u001b[1;33m)\u001b[0m\u001b[1;33m\u001b[0m\u001b[1;33m\u001b[0m\u001b[0m\n",
      "\u001b[1;31mNameError\u001b[0m: name 'BM_wdT_RCP60_nos_R4_05pc' is not defined"
     ]
    },
    {
     "data": {
      "text/plain": [
       "<Figure size 432x288 with 0 Axes>"
      ]
     },
     "metadata": {},
     "output_type": "display_data"
    }
   ],
   "source": [
    "fp2 = plt.figure()\n",
    "plt.fill_between(Time, BM_wdT_RCP60_nos_R4_05pc, BM_wdT_nos_RCP60_R4_95pc,facecolor='#ff8800')\n",
    "plt.fill_between(Time, BM_wdT_RCP60_nos_R4_17pc, BM_wdT_nos_RCP60_R4_83pc,facecolor='#ff0000')\n",
    "plt.plot(Time, BM_wdT_nos_RCP60_R4_50pc, 'k-')\n",
    "plt.show()\n",
    "fp2.savefig(\"Figures/BM_wdT_nos_RCP60_R4_percentiles_shades.pdf\", bbox_inches='tight')\n"
   ]
  },
  {
   "cell_type": "code",
   "execution_count": null,
   "metadata": {},
   "outputs": [],
   "source": [
    "fp2 = plt.figure()\n",
    "plt.fill_between(Time, BM_wdT_nos_RCP60_R5_05pc, BM_wdT_nos_RCP60_R5_95pc,facecolor='#ff8800')\n",
    "plt.fill_between(Time, BM_wdT_nos_RCP60_R5_17pc, BM_wdT_nos_RCP60_R5_83pc,facecolor='#ff0000')\n",
    "plt.plot(Time, BM_wdT_nos_RCP60_R5_50pc, 'k-')\n",
    "plt.show()\n",
    "fp2.savefig(\"Figures/BM_wdT_nos_RCP60_R5_percentiles_shades.pdf\", bbox_inches='tight')\n"
   ]
  },
  {
   "cell_type": "code",
   "execution_count": null,
   "metadata": {},
   "outputs": [],
   "source": []
  },
  {
   "cell_type": "code",
   "execution_count": null,
   "metadata": {},
   "outputs": [],
   "source": []
  }
 ],
 "metadata": {
  "kernelspec": {
   "display_name": "Python 3",
   "language": "python",
   "name": "python3"
  },
  "language_info": {
   "codemirror_mode": {
    "name": "ipython",
    "version": 3
   },
   "file_extension": ".py",
   "mimetype": "text/x-python",
   "name": "python",
   "nbconvert_exporter": "python",
   "pygments_lexer": "ipython3",
   "version": "3.7.1"
  }
 },
 "nbformat": 4,
 "nbformat_minor": 2
}
