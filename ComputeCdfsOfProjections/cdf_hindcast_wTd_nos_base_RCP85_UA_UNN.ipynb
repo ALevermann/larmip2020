{
 "cells": [
  {
   "cell_type": "code",
   "execution_count": 1,
   "metadata": {},
   "outputs": [],
   "source": [
    "%matplotlib inline"
   ]
  },
  {
   "cell_type": "code",
   "execution_count": 2,
   "metadata": {},
   "outputs": [],
   "source": [
    "import numpy as np\n",
    "import netCDF4 as nc\n",
    "import matplotlib.pylab as plt\n",
    "import imp\n",
    "import csv\n",
    "import pandas as pd\n",
    "from io import StringIO"
   ]
  },
  {
   "cell_type": "code",
   "execution_count": 3,
   "metadata": {},
   "outputs": [],
   "source": [
    "Refyear = 1992\n",
    "Refyearind = Refyear-1900\n",
    "Finyear = 2017\n",
    "Finyearind = Finyear-1900\n",
    "EnsembleNumber = 20000\n",
    "YearNumber = 200"
   ]
  },
  {
   "cell_type": "code",
   "execution_count": 4,
   "metadata": {},
   "outputs": [
    {
     "name": "stdout",
     "output_type": "stream",
     "text": [
      "1992\n"
     ]
    },
    {
     "data": {
      "text/plain": [
       "[<matplotlib.lines.Line2D at 0x1f080e7b7b8>]"
      ]
     },
     "execution_count": 4,
     "metadata": {},
     "output_type": "execute_result"
    },
    {
     "data": {
      "image/png": "[encoded data removed]",
      "text/plain": [
       "<Figure size 432x288 with 1 Axes>"
      ]
     },
     "metadata": {
      "needs_background": "light"
     },
     "output_type": "display_data"
    }
   ],
   "source": [
    "# Read data\n",
    "# UA_UNN\n",
    "\n",
    "fname=\"../ComputeProjection4OneIceModel/EnsembleSingleModelProjections/SL_wTd_nos_base_UA_UNN_RCP85.nc\"\n",
    "ncf = nc.Dataset(fname, \"r\")\n",
    "\n",
    "Time = ncf.variables[\"Time\"][:]\n",
    "SL_wTd_nos_base_UA_UNN_R0_RCP85 = ncf.variables[\"Antarctica\"][:]\n",
    "SL_wTd_nos_base_UA_UNN_R1_RCP85 = ncf.variables[\"EAIS\"][:]\n",
    "SL_wTd_nos_base_UA_UNN_R2_RCP85 = ncf.variables[\"Ross\"][:]\n",
    "SL_wTd_nos_base_UA_UNN_R3_RCP85 = ncf.variables[\"Amundsen\"][:]\n",
    "SL_wTd_nos_base_UA_UNN_R4_RCP85 = ncf.variables[\"Weddell\"][:]\n",
    "SL_wTd_nos_base_UA_UNN_R5_RCP85 = ncf.variables[\"Peninsula\"][:]\n",
    "SL_wTd_nos_base_UA_UNN_SU_RCP85 = SL_wTd_nos_base_UA_UNN_R1_RCP85+SL_wTd_nos_base_UA_UNN_R2_RCP85+SL_wTd_nos_base_UA_UNN_R3_RCP85+SL_wTd_nos_base_UA_UNN_R4_RCP85+SL_wTd_nos_base_UA_UNN_R5_RCP85\n",
    "ncf.close()\n",
    "\n",
    "print(Time[Refyearind])\n",
    "# Normalizing\n",
    "for i in range(0,EnsembleNumber):\n",
    "    SL_wTd_nos_base_UA_UNN_SU_RCP85_offset = SL_wTd_nos_base_UA_UNN_SU_RCP85[i,Refyearind]\n",
    "    SL_wTd_nos_base_UA_UNN_R0_RCP85_offset = SL_wTd_nos_base_UA_UNN_R0_RCP85[i,Refyearind]\n",
    "    SL_wTd_nos_base_UA_UNN_R1_RCP85_offset = SL_wTd_nos_base_UA_UNN_R1_RCP85[i,Refyearind]\n",
    "    SL_wTd_nos_base_UA_UNN_R2_RCP85_offset = SL_wTd_nos_base_UA_UNN_R2_RCP85[i,Refyearind]\n",
    "    SL_wTd_nos_base_UA_UNN_R3_RCP85_offset = SL_wTd_nos_base_UA_UNN_R3_RCP85[i,Refyearind]\n",
    "    SL_wTd_nos_base_UA_UNN_R4_RCP85_offset = SL_wTd_nos_base_UA_UNN_R4_RCP85[i,Refyearind]\n",
    "    SL_wTd_nos_base_UA_UNN_R5_RCP85_offset = SL_wTd_nos_base_UA_UNN_R5_RCP85[i,Refyearind]\n",
    "    for yr in range(YearNumber):\n",
    "        SL_wTd_nos_base_UA_UNN_SU_RCP85[i,yr] = SL_wTd_nos_base_UA_UNN_SU_RCP85[i,yr]-SL_wTd_nos_base_UA_UNN_SU_RCP85_offset\n",
    "        SL_wTd_nos_base_UA_UNN_R0_RCP85[i,yr] = SL_wTd_nos_base_UA_UNN_R0_RCP85[i,yr]-SL_wTd_nos_base_UA_UNN_R0_RCP85_offset\n",
    "        SL_wTd_nos_base_UA_UNN_R1_RCP85[i,yr] = SL_wTd_nos_base_UA_UNN_R1_RCP85[i,yr]-SL_wTd_nos_base_UA_UNN_R1_RCP85_offset\n",
    "        SL_wTd_nos_base_UA_UNN_R2_RCP85[i,yr] = SL_wTd_nos_base_UA_UNN_R2_RCP85[i,yr]-SL_wTd_nos_base_UA_UNN_R2_RCP85_offset\n",
    "        SL_wTd_nos_base_UA_UNN_R3_RCP85[i,yr] = SL_wTd_nos_base_UA_UNN_R3_RCP85[i,yr]-SL_wTd_nos_base_UA_UNN_R3_RCP85_offset\n",
    "        SL_wTd_nos_base_UA_UNN_R4_RCP85[i,yr] = SL_wTd_nos_base_UA_UNN_R4_RCP85[i,yr]-SL_wTd_nos_base_UA_UNN_R4_RCP85_offset\n",
    "        SL_wTd_nos_base_UA_UNN_R5_RCP85[i,yr] = SL_wTd_nos_base_UA_UNN_R5_RCP85[i,yr]-SL_wTd_nos_base_UA_UNN_R5_RCP85_offset\n",
    "plt.plot(Time[90:199],SL_wTd_nos_base_UA_UNN_SU_RCP85[30,90:199])\n",
    "plt.plot(Time[90:199],SL_wTd_nos_base_UA_UNN_SU_RCP85[430,90:199])\n",
    "plt.plot(Time[90:199],SL_wTd_nos_base_UA_UNN_SU_RCP85[3430,90:199])\n",
    "plt.plot(Time[90:199],SL_wTd_nos_base_UA_UNN_SU_RCP85[12530,90:199])\n",
    "\n"
   ]
  },
  {
   "cell_type": "code",
   "execution_count": 5,
   "metadata": {},
   "outputs": [
    {
     "name": "stdout",
     "output_type": "stream",
     "text": [
      "20\n"
     ]
    }
   ],
   "source": [
    "# compute cumulative probability distributions\n",
    "cdfnum = 1000\n",
    "cdfstep = int(len(SL_wTd_nos_base_UA_UNN_SU_RCP85[:,0])/cdfnum)\n",
    "print(cdfstep)\n",
    "\n",
    "SL_wTd_nos_base_UA_UNN_R0_RCP85_cdf = [0] * (cdfnum+1)\n",
    "for t in range(len(SL_wTd_nos_base_UA_UNN_SU_RCP85[1,:])):\n",
    "    # merge sl with weights\n",
    "    sortind = np.argsort(SL_wTd_nos_base_UA_UNN_SU_RCP85[:,t])\n",
    "\n",
    "    slcdf = []\n",
    "    slcdf.append(0)\n",
    "    for i in range(1,cdfnum+1):\n",
    "        cdfval = float(i/cdfnum)\n",
    "        slval = SL_wTd_nos_base_UA_UNN_SU_RCP85[sortind[i*cdfstep],t]\n",
    "        slcdf.append(slval)\n",
    "    SL_wTd_nos_base_UA_UNN_R0_RCP85_cdf=np.vstack([SL_wTd_nos_base_UA_UNN_R0_RCP85_cdf, slcdf])\n",
    "\n",
    "SL_wTd_nos_base_UA_UNN_R1_RCP85_cdf = [0] * (cdfnum+1)\n",
    "for t in range(len(SL_wTd_nos_base_UA_UNN_R1_RCP85[1,:])):\n",
    "    # merge sl with weights\n",
    "    sortind = np.argsort(SL_wTd_nos_base_UA_UNN_R1_RCP85[:,t])\n",
    "\n",
    "    slcdf = []\n",
    "    slcdf.append(0)\n",
    "    for i in range(1,cdfnum+1):\n",
    "        cdfval = float(i/cdfnum)\n",
    "        slval = SL_wTd_nos_base_UA_UNN_R1_RCP85[sortind[i*cdfstep],t]\n",
    "        slcdf.append(slval)\n",
    "    SL_wTd_nos_base_UA_UNN_R1_RCP85_cdf=np.vstack([SL_wTd_nos_base_UA_UNN_R1_RCP85_cdf, slcdf])\n",
    "\n",
    "SL_wTd_nos_base_UA_UNN_R2_RCP85_cdf = [0] * (cdfnum+1)\n",
    "for t in range(len(SL_wTd_nos_base_UA_UNN_R2_RCP85[1,:])):\n",
    "    # merge sl with weights\n",
    "    sortind = np.argsort(SL_wTd_nos_base_UA_UNN_R2_RCP85[:,t])\n",
    "\n",
    "    slcdf = []\n",
    "    slcdf.append(0)\n",
    "    for i in range(1,cdfnum+1):\n",
    "        cdfval = float(i/cdfnum)\n",
    "        slval = SL_wTd_nos_base_UA_UNN_R2_RCP85[sortind[i*cdfstep],t]\n",
    "        slcdf.append(slval)\n",
    "    SL_wTd_nos_base_UA_UNN_R2_RCP85_cdf=np.vstack([SL_wTd_nos_base_UA_UNN_R2_RCP85_cdf, slcdf])\n",
    "\n",
    "SL_wTd_nos_base_UA_UNN_R3_RCP85_cdf = [0] * (cdfnum+1)\n",
    "for t in range(len(SL_wTd_nos_base_UA_UNN_R3_RCP85[1,:])):\n",
    "    # merge sl with weights\n",
    "    sortind = np.argsort(SL_wTd_nos_base_UA_UNN_R3_RCP85[:,t])\n",
    "\n",
    "    slcdf = []\n",
    "    slcdf.append(0)\n",
    "    for i in range(1,cdfnum+1):\n",
    "        cdfval = float(i/cdfnum)\n",
    "        slval = SL_wTd_nos_base_UA_UNN_R3_RCP85[sortind[i*cdfstep],t]\n",
    "        slcdf.append(slval)\n",
    "    SL_wTd_nos_base_UA_UNN_R3_RCP85_cdf=np.vstack([SL_wTd_nos_base_UA_UNN_R3_RCP85_cdf, slcdf])\n",
    "\n",
    "SL_wTd_nos_base_UA_UNN_R4_RCP85_cdf = [0] * (cdfnum+1)\n",
    "for t in range(len(SL_wTd_nos_base_UA_UNN_R4_RCP85[1,:])):\n",
    "    # merge sl with weights\n",
    "    sortind = np.argsort(SL_wTd_nos_base_UA_UNN_R4_RCP85[:,t])\n",
    "\n",
    "    slcdf = []\n",
    "    slcdf.append(0)\n",
    "    for i in range(1,cdfnum+1):\n",
    "        cdfval = float(i/cdfnum)\n",
    "        slval = SL_wTd_nos_base_UA_UNN_R4_RCP85[sortind[i*cdfstep],t]\n",
    "        slcdf.append(slval)\n",
    "    SL_wTd_nos_base_UA_UNN_R4_RCP85_cdf=np.vstack([SL_wTd_nos_base_UA_UNN_R4_RCP85_cdf, slcdf])\n",
    "\n",
    "SL_wTd_nos_base_UA_UNN_R5_RCP85_cdf = [0] * (cdfnum+1)\n",
    "for t in range(len(SL_wTd_nos_base_UA_UNN_R5_RCP85[1,:])):\n",
    "    # merge sl with weights\n",
    "    sortind = np.argsort(SL_wTd_nos_base_UA_UNN_R5_RCP85[:,t])\n",
    "\n",
    "    slcdf = []\n",
    "    slcdf.append(0)\n",
    "    for i in range(1,cdfnum+1):\n",
    "        cdfval = float(i/cdfnum)\n",
    "        slval = SL_wTd_nos_base_UA_UNN_R5_RCP85[sortind[i*cdfstep],t]\n",
    "        slcdf.append(slval)\n",
    "    SL_wTd_nos_base_UA_UNN_R5_RCP85_cdf=np.vstack([SL_wTd_nos_base_UA_UNN_R5_RCP85_cdf, slcdf])\n",
    "\n",
    "Percentile = np.arange(0,float((cdfnum+1)/cdfnum),float(1/cdfnum))\n",
    "\n",
    "\n",
    "# write cdfs\n",
    "ncfile = nc.Dataset('Cdfs/SL_hindcast_wTd_nos_base_UA_UNN_RCP85_cdf.nc','w', format='NETCDF4')\n",
    "ncfile.createDimension('Time', None)\n",
    "ncfile.createDimension('Percentile', None)\n",
    "\n",
    "SL_wTd_weighted_base_R0 = ncfile.createVariable('Antarctica', 'f4', ('Time','Percentile'))\n",
    "SL_wTd_weighted_base_R1 = ncfile.createVariable('EAIS', 'f4', ('Time','Percentile'))\n",
    "SL_wTd_weighted_base_R2 = ncfile.createVariable('Ross', 'f4', ('Time','Percentile'))\n",
    "SL_wTd_weighted_base_R3 = ncfile.createVariable('Amundsen', 'f4', ('Time','Percentile'))\n",
    "SL_wTd_weighted_base_R4 = ncfile.createVariable('Weddell', 'f4', ('Time','Percentile'))\n",
    "SL_wTd_weighted_base_R5 = ncfile.createVariable('Peninsula', 'f4', ('Time','Percentile'))\n",
    "p = ncfile.createVariable('Percentile', 'f4', 'Percentile')\n",
    "t = ncfile.createVariable('Time', 'f4', 'Time')\n",
    "\n",
    "t[:] = Time\n",
    "t.units = 'years'\n",
    "SL_wTd_weighted_base_R0[:,:] = SL_wTd_nos_base_UA_UNN_R0_RCP85_cdf\n",
    "SL_wTd_weighted_base_R1[:,:] = SL_wTd_nos_base_UA_UNN_R1_RCP85_cdf\n",
    "SL_wTd_weighted_base_R2[:,:] = SL_wTd_nos_base_UA_UNN_R2_RCP85_cdf\n",
    "SL_wTd_weighted_base_R3[:,:] = SL_wTd_nos_base_UA_UNN_R3_RCP85_cdf\n",
    "SL_wTd_weighted_base_R4[:,:] = SL_wTd_nos_base_UA_UNN_R4_RCP85_cdf\n",
    "SL_wTd_weighted_base_R5[:,:] = SL_wTd_nos_base_UA_UNN_R5_RCP85_cdf\n",
    "p[:] = Percentile\n",
    "\n",
    "SL_wTd_weighted_base_R0.units = 'meter'\n",
    "SL_wTd_weighted_base_R1.units = 'meter'\n",
    "SL_wTd_weighted_base_R2.units = 'meter'\n",
    "SL_wTd_weighted_base_R3.units = 'meter'\n",
    "SL_wTd_weighted_base_R4.units = 'meter'\n",
    "SL_wTd_weighted_base_R5.units = 'meter'\n",
    "\n",
    "p.units = 'percent'\n",
    "\n",
    "ncfile.close()\n"
   ]
  },
  {
   "cell_type": "code",
   "execution_count": 6,
   "metadata": {},
   "outputs": [
    {
     "data": {
      "text/plain": [
       "[<matplotlib.lines.Line2D at 0x1f0815bef60>]"
      ]
     },
     "execution_count": 6,
     "metadata": {},
     "output_type": "execute_result"
    },
    {
     "data": {
      "image/png": "[encoded data removed]",
      "text/plain": [
       "<Figure size 432x288 with 1 Axes>"
      ]
     },
     "metadata": {
      "needs_background": "light"
     },
     "output_type": "display_data"
    }
   ],
   "source": [
    "fname = \"../ObservationalData/imbie_dataset-2018_06_08.dat\" # File to read\n",
    "df = pd.read_csv(fname,sep='\\t',index_col=-1,header=None)\n",
    "ObsData = np.array(df.values)\n",
    "ObsTime = ObsData[:,0]\n",
    "ObsSL = ObsData[:,3]\n",
    "ObsUncertainty = ObsData[:,4]\n",
    "#print(ObsData[:,0])\n",
    "plt.plot(ObsTime,ObsSL,'k')\n",
    "plt.plot(ObsTime,ObsSL-ObsUncertainty,':k')\n",
    "plt.plot(ObsTime,ObsSL+ObsUncertainty,':k')\n",
    "\n",
    "#ObsDSL = ObsData[:,4]"
   ]
  },
  {
   "cell_type": "code",
   "execution_count": 7,
   "metadata": {},
   "outputs": [
    {
     "name": "stdout",
     "output_type": "stream",
     "text": [
      "200\n",
      "200\n"
     ]
    },
    {
     "data": {
      "text/plain": [
       "(0.0, 16.0)"
      ]
     },
     "execution_count": 7,
     "metadata": {},
     "output_type": "execute_result"
    },
    {
     "data": {
      "image/png": "[encoded data removed]",
      "text/plain": [
       "<Figure size 432x288 with 1 Axes>"
      ]
     },
     "metadata": {
      "needs_background": "light"
     },
     "output_type": "display_data"
    }
   ],
   "source": [
    "xmin = 1992\n",
    "xmax = 2017\n",
    "ymin = 0.0\n",
    "ymax = 0.016*1000\n",
    "xlimit = [xmin, xmax]\n",
    "ylimit = [ymin, ymax]\n",
    "AspectRatio = 1.0*((xmax-xmin)/(ymax-ymin))\n",
    "\n",
    "fp, ax = plt.subplots(1, 1)\n",
    "print(len(Time))\n",
    "print(len(SL_wTd_nos_base_UA_UNN_R0_RCP85_cdf[0:-1,500]))\n",
    "\n",
    "SL_wTd_nos_base_UA_UNN_SU_RCP26_01pc = SL_wTd_nos_base_UA_UNN_R0_RCP85_cdf[0:-1,10]\n",
    "SL_wTd_nos_base_UA_UNN_SU_RCP26_05pc = SL_wTd_nos_base_UA_UNN_R0_RCP85_cdf[0:-1,50]\n",
    "SL_wTd_nos_base_UA_UNN_SU_RCP26_17pc = SL_wTd_nos_base_UA_UNN_R0_RCP85_cdf[0:-1,166]\n",
    "SL_wTd_nos_base_UA_UNN_SU_RCP26_50pc = SL_wTd_nos_base_UA_UNN_R0_RCP85_cdf[0:-1,500]\n",
    "SL_wTd_nos_base_UA_UNN_SU_RCP26_83pc = SL_wTd_nos_base_UA_UNN_R0_RCP85_cdf[0:-1,833]\n",
    "SL_wTd_nos_base_UA_UNN_SU_RCP26_95pc = SL_wTd_nos_base_UA_UNN_R0_RCP85_cdf[0:-1,950]\n",
    "SL_wTd_nos_base_UA_UNN_SU_RCP26_99pc = SL_wTd_nos_base_UA_UNN_R0_RCP85_cdf[0:-1,990]\n",
    "\n",
    "ax.plot(Time, SL_wTd_nos_base_UA_UNN_SU_RCP26_17pc*1000,':k')\n",
    "ax.plot(Time,SL_wTd_nos_base_UA_UNN_SU_RCP26_83pc*1000,':k')\n",
    "ax.plot(Time, SL_wTd_nos_base_UA_UNN_SU_RCP26_50pc*1000, '#000000')\n",
    "\n",
    "ax.fill_between(ObsTime, ObsSL-ObsUncertainty, ObsSL+ObsUncertainty,facecolor='#000000',alpha=0.25)\n",
    "ax.plot(ObsTime,ObsSL, '#ffffff')\n",
    "\n",
    "ax.set_xlim(xlimit)\n",
    "ax.set_ylim(ylimit)\n"
   ]
  },
  {
   "cell_type": "code",
   "execution_count": 8,
   "metadata": {},
   "outputs": [
    {
     "name": "stdout",
     "output_type": "stream",
     "text": [
      "1.8537523746490479\n"
     ]
    }
   ],
   "source": [
    "print(SL_wTd_nos_base_UA_UNN_R0_RCP85_cdf[-1,990])"
   ]
  },
  {
   "cell_type": "code",
   "execution_count": null,
   "metadata": {},
   "outputs": [],
   "source": []
  }
 ],
 "metadata": {
  "kernelspec": {
   "display_name": "Python 3",
   "language": "python",
   "name": "python3"
  },
  "language_info": {
   "codemirror_mode": {
    "name": "ipython",
    "version": 3
   },
   "file_extension": ".py",
   "mimetype": "text/x-python",
   "name": "python",
   "nbconvert_exporter": "python",
   "pygments_lexer": "ipython3",
   "version": "3.7.1"
  }
 },
 "nbformat": 4,
 "nbformat_minor": 2
}
