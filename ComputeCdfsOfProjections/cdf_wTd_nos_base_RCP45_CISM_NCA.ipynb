{
 "cells": [
  {
   "cell_type": "code",
   "execution_count": 1,
   "metadata": {},
   "outputs": [],
   "source": [
    "%matplotlib inline"
   ]
  },
  {
   "cell_type": "code",
   "execution_count": 2,
   "metadata": {},
   "outputs": [],
   "source": [
    "import numpy as np\n",
    "import netCDF4 as nc\n",
    "import matplotlib.pylab as plt\n",
    "import imp\n",
    "import csv\n",
    "import pandas as pd\n",
    "from io import StringIO"
   ]
  },
  {
   "cell_type": "code",
   "execution_count": 3,
   "metadata": {},
   "outputs": [
    {
     "name": "stdout",
     "output_type": "stream",
     "text": [
      "20\n"
     ]
    }
   ],
   "source": [
    "# Read data\n",
    "# CISM_NCA\n",
    "\n",
    "fname=\"../ComputeProjection4OneIceModel/EnsembleSingleModelProjections/SL_wTd_nos_base_CISM_NCA_RCP45.nc\"\n",
    "ncf = nc.Dataset(fname, \"r\")\n",
    "\n",
    "Time = ncf.variables[\"Time\"][:]\n",
    "SL_wTd_nos_base_CISM_NCA_R0_RCP45 = ncf.variables[\"Antarctica\"][:]\n",
    "SL_wTd_nos_base_CISM_NCA_R1_RCP45 = ncf.variables[\"EAIS\"][:]\n",
    "SL_wTd_nos_base_CISM_NCA_R2_RCP45 = ncf.variables[\"Ross\"][:]\n",
    "SL_wTd_nos_base_CISM_NCA_R3_RCP45 = ncf.variables[\"Amundsen\"][:]\n",
    "SL_wTd_nos_base_CISM_NCA_R4_RCP45 = ncf.variables[\"Weddell\"][:]\n",
    "SL_wTd_nos_base_CISM_NCA_R5_RCP45 = ncf.variables[\"Peninsula\"][:]\n",
    "SL_wTd_nos_base_CISM_NCA_SU_RCP45 = SL_wTd_nos_base_CISM_NCA_R1_RCP45+SL_wTd_nos_base_CISM_NCA_R2_RCP45+SL_wTd_nos_base_CISM_NCA_R3_RCP45+SL_wTd_nos_base_CISM_NCA_R4_RCP45+SL_wTd_nos_base_CISM_NCA_R5_RCP45\n",
    "ncf.close()\n",
    "\n",
    "# compute cumulative probability distributions\n",
    "cdfnum = 1000\n",
    "cdfstep = int(len(SL_wTd_nos_base_CISM_NCA_SU_RCP45[:,0])/cdfnum)\n",
    "print(cdfstep)\n",
    "\n",
    "SL_wTd_nos_base_CISM_NCA_R0_RCP45_cdf = [0] * (cdfnum+1)\n",
    "for t in range(len(SL_wTd_nos_base_CISM_NCA_SU_RCP45[1,:])):\n",
    "    # merge sl with weights\n",
    "    sortind = np.argsort(SL_wTd_nos_base_CISM_NCA_SU_RCP45[:,t])\n",
    "\n",
    "    slcdf = []\n",
    "    slcdf.append(0)\n",
    "    for i in range(1,cdfnum+1):\n",
    "        cdfval = float(i/cdfnum)\n",
    "        slval = SL_wTd_nos_base_CISM_NCA_SU_RCP45[sortind[i*cdfstep],t]\n",
    "        slcdf.append(slval)\n",
    "    SL_wTd_nos_base_CISM_NCA_R0_RCP45_cdf=np.vstack([SL_wTd_nos_base_CISM_NCA_R0_RCP45_cdf, slcdf])\n",
    "\n",
    "SL_wTd_nos_base_CISM_NCA_R1_RCP45_cdf = [0] * (cdfnum+1)\n",
    "for t in range(len(SL_wTd_nos_base_CISM_NCA_R1_RCP45[1,:])):\n",
    "    # merge sl with weights\n",
    "    sortind = np.argsort(SL_wTd_nos_base_CISM_NCA_R1_RCP45[:,t])\n",
    "\n",
    "    slcdf = []\n",
    "    slcdf.append(0)\n",
    "    for i in range(1,cdfnum+1):\n",
    "        cdfval = float(i/cdfnum)\n",
    "        slval = SL_wTd_nos_base_CISM_NCA_R1_RCP45[sortind[i*cdfstep],t]\n",
    "        slcdf.append(slval)\n",
    "    SL_wTd_nos_base_CISM_NCA_R1_RCP45_cdf=np.vstack([SL_wTd_nos_base_CISM_NCA_R1_RCP45_cdf, slcdf])\n",
    "\n",
    "SL_wTd_nos_base_CISM_NCA_R2_RCP45_cdf = [0] * (cdfnum+1)\n",
    "for t in range(len(SL_wTd_nos_base_CISM_NCA_R2_RCP45[1,:])):\n",
    "    # merge sl with weights\n",
    "    sortind = np.argsort(SL_wTd_nos_base_CISM_NCA_R2_RCP45[:,t])\n",
    "\n",
    "    slcdf = []\n",
    "    slcdf.append(0)\n",
    "    for i in range(1,cdfnum+1):\n",
    "        cdfval = float(i/cdfnum)\n",
    "        slval = SL_wTd_nos_base_CISM_NCA_R2_RCP45[sortind[i*cdfstep],t]\n",
    "        slcdf.append(slval)\n",
    "    SL_wTd_nos_base_CISM_NCA_R2_RCP45_cdf=np.vstack([SL_wTd_nos_base_CISM_NCA_R2_RCP45_cdf, slcdf])\n",
    "\n",
    "SL_wTd_nos_base_CISM_NCA_R3_RCP45_cdf = [0] * (cdfnum+1)\n",
    "for t in range(len(SL_wTd_nos_base_CISM_NCA_R3_RCP45[1,:])):\n",
    "    # merge sl with weights\n",
    "    sortind = np.argsort(SL_wTd_nos_base_CISM_NCA_R3_RCP45[:,t])\n",
    "\n",
    "    slcdf = []\n",
    "    slcdf.append(0)\n",
    "    for i in range(1,cdfnum+1):\n",
    "        cdfval = float(i/cdfnum)\n",
    "        slval = SL_wTd_nos_base_CISM_NCA_R3_RCP45[sortind[i*cdfstep],t]\n",
    "        slcdf.append(slval)\n",
    "    SL_wTd_nos_base_CISM_NCA_R3_RCP45_cdf=np.vstack([SL_wTd_nos_base_CISM_NCA_R3_RCP45_cdf, slcdf])\n",
    "\n",
    "SL_wTd_nos_base_CISM_NCA_R4_RCP45_cdf = [0] * (cdfnum+1)\n",
    "for t in range(len(SL_wTd_nos_base_CISM_NCA_R4_RCP45[1,:])):\n",
    "    # merge sl with weights\n",
    "    sortind = np.argsort(SL_wTd_nos_base_CISM_NCA_R4_RCP45[:,t])\n",
    "\n",
    "    slcdf = []\n",
    "    slcdf.append(0)\n",
    "    for i in range(1,cdfnum+1):\n",
    "        cdfval = float(i/cdfnum)\n",
    "        slval = SL_wTd_nos_base_CISM_NCA_R4_RCP45[sortind[i*cdfstep],t]\n",
    "        slcdf.append(slval)\n",
    "    SL_wTd_nos_base_CISM_NCA_R4_RCP45_cdf=np.vstack([SL_wTd_nos_base_CISM_NCA_R4_RCP45_cdf, slcdf])\n",
    "\n",
    "SL_wTd_nos_base_CISM_NCA_R5_RCP45_cdf = [0] * (cdfnum+1)\n",
    "for t in range(len(SL_wTd_nos_base_CISM_NCA_R5_RCP45[1,:])):\n",
    "    # merge sl with weights\n",
    "    sortind = np.argsort(SL_wTd_nos_base_CISM_NCA_R5_RCP45[:,t])\n",
    "\n",
    "    slcdf = []\n",
    "    slcdf.append(0)\n",
    "    for i in range(1,cdfnum+1):\n",
    "        cdfval = float(i/cdfnum)\n",
    "        slval = SL_wTd_nos_base_CISM_NCA_R5_RCP45[sortind[i*cdfstep],t]\n",
    "        slcdf.append(slval)\n",
    "    SL_wTd_nos_base_CISM_NCA_R5_RCP45_cdf=np.vstack([SL_wTd_nos_base_CISM_NCA_R5_RCP45_cdf, slcdf])\n",
    "\n",
    "Percentile = np.arange(0,float((cdfnum+1)/cdfnum),float(1/cdfnum))\n",
    "\n",
    "\n",
    "# write cdfs\n",
    "ncfile = nc.Dataset('Cdfs/SL_wTd_nos_base_CISM_NCA_RCP45_cdf_simple.nc','w', format='NETCDF4')\n",
    "ncfile.createDimension('Time', None)\n",
    "ncfile.createDimension('Percentile', None)\n",
    "\n",
    "SL_wTd_nos_base_R0 = ncfile.createVariable('Antarctica', 'f4', ('Time','Percentile'))\n",
    "SL_wTd_nos_base_R1 = ncfile.createVariable('EAIS', 'f4', ('Time','Percentile'))\n",
    "SL_wTd_nos_base_R2 = ncfile.createVariable('Ross', 'f4', ('Time','Percentile'))\n",
    "SL_wTd_nos_base_R3 = ncfile.createVariable('Amundsen', 'f4', ('Time','Percentile'))\n",
    "SL_wTd_nos_base_R4 = ncfile.createVariable('Weddell', 'f4', ('Time','Percentile'))\n",
    "SL_wTd_nos_base_R5 = ncfile.createVariable('Peninsula', 'f4', ('Time','Percentile'))\n",
    "p = ncfile.createVariable('Percentile', 'f4', 'Percentile')\n",
    "t = ncfile.createVariable('Time', 'f4', 'Time')\n",
    "\n",
    "t[:] = Time\n",
    "t.units = 'years'\n",
    "SL_wTd_nos_base_R0[:,:] = SL_wTd_nos_base_CISM_NCA_R0_RCP45_cdf\n",
    "SL_wTd_nos_base_R1[:,:] = SL_wTd_nos_base_CISM_NCA_R1_RCP45_cdf\n",
    "SL_wTd_nos_base_R2[:,:] = SL_wTd_nos_base_CISM_NCA_R2_RCP45_cdf\n",
    "SL_wTd_nos_base_R3[:,:] = SL_wTd_nos_base_CISM_NCA_R3_RCP45_cdf\n",
    "SL_wTd_nos_base_R4[:,:] = SL_wTd_nos_base_CISM_NCA_R4_RCP45_cdf\n",
    "SL_wTd_nos_base_R5[:,:] = SL_wTd_nos_base_CISM_NCA_R5_RCP45_cdf\n",
    "p[:] = Percentile\n",
    "\n",
    "SL_wTd_nos_base_R0.units = 'meter'\n",
    "SL_wTd_nos_base_R1.units = 'meter'\n",
    "SL_wTd_nos_base_R2.units = 'meter'\n",
    "SL_wTd_nos_base_R3.units = 'meter'\n",
    "SL_wTd_nos_base_R4.units = 'meter'\n",
    "SL_wTd_nos_base_R5.units = 'meter'\n",
    "\n",
    "p.units = 'percent'\n",
    "\n",
    "ncfile.close()\n"
   ]
  },
  {
   "cell_type": "code",
   "execution_count": 4,
   "metadata": {},
   "outputs": [
    {
     "name": "stdout",
     "output_type": "stream",
     "text": [
      "200\n",
      "200\n"
     ]
    },
    {
     "data": {
      "text/plain": [
       "[<matplotlib.lines.Line2D at 0x1c1919d2e48>]"
      ]
     },
     "execution_count": 4,
     "metadata": {},
     "output_type": "execute_result"
    },
    {
     "data": {
      "image/png": "[encoded data removed]",
      "text/plain": [
       "<Figure size 432x288 with 1 Axes>"
      ]
     },
     "metadata": {
      "needs_background": "light"
     },
     "output_type": "display_data"
    }
   ],
   "source": [
    "print(len(Time))\n",
    "print(len(SL_wTd_nos_base_CISM_NCA_R0_RCP45_cdf[0:-1,500]))\n",
    "plt.plot(Time,SL_wTd_nos_base_CISM_NCA_R0_RCP45_cdf[0:-1,10])\n",
    "plt.plot(Time,SL_wTd_nos_base_CISM_NCA_R0_RCP45_cdf[0:-1,50])\n",
    "plt.plot(Time,SL_wTd_nos_base_CISM_NCA_R0_RCP45_cdf[0:-1,166])\n",
    "plt.plot(Time,SL_wTd_nos_base_CISM_NCA_R0_RCP45_cdf[0:-1,500])\n",
    "plt.plot(Time,SL_wTd_nos_base_CISM_NCA_R0_RCP45_cdf[0:-1,833])\n",
    "plt.plot(Time,SL_wTd_nos_base_CISM_NCA_R0_RCP45_cdf[0:-1,950])\n",
    "plt.plot(Time,SL_wTd_nos_base_CISM_NCA_R0_RCP45_cdf[0:-1,990])\n"
   ]
  },
  {
   "cell_type": "code",
   "execution_count": 5,
   "metadata": {},
   "outputs": [
    {
     "name": "stdout",
     "output_type": "stream",
     "text": [
      "0.2820247709751129\n"
     ]
    }
   ],
   "source": [
    "print(SL_wTd_nos_base_CISM_NCA_R0_RCP45_cdf[-1,990])"
   ]
  },
  {
   "cell_type": "code",
   "execution_count": null,
   "metadata": {},
   "outputs": [],
   "source": []
  },
  {
   "cell_type": "code",
   "execution_count": null,
   "metadata": {},
   "outputs": [],
   "source": []
  },
  {
   "cell_type": "code",
   "execution_count": null,
   "metadata": {},
   "outputs": [],
   "source": []
  }
 ],
 "metadata": {
  "kernelspec": {
   "display_name": "Python 3",
   "language": "python",
   "name": "python3"
  },
  "language_info": {
   "codemirror_mode": {
    "name": "ipython",
    "version": 3
   },
   "file_extension": ".py",
   "mimetype": "text/x-python",
   "name": "python",
   "nbconvert_exporter": "python",
   "pygments_lexer": "ipython3",
   "version": "3.7.1"
  }
 },
 "nbformat": 4,
 "nbformat_minor": 2
}
