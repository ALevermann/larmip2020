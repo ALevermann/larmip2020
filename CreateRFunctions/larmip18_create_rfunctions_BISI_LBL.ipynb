{
 "cells": [
  {
   "cell_type": "code",
   "execution_count": 1,
   "metadata": {},
   "outputs": [],
   "source": [
    "%matplotlib inline"
   ]
  },
  {
   "cell_type": "code",
   "execution_count": 2,
   "metadata": {},
   "outputs": [],
   "source": [
    "import numpy as np\n",
    "import netCDF4 as nc\n",
    "import matplotlib.pylab as plt\n",
    "import imp\n",
    "import csv\n",
    "#import pandas"
   ]
  },
  {
   "cell_type": "code",
   "execution_count": 7,
   "metadata": {},
   "outputs": [],
   "source": [
    "# BISI_LBL\n",
    "# BM08\n",
    "\n",
    "fname = \"larmip_data/BISI_LBL/VaFDiffControl-SLE-larmip.6-8.500m\" # File to read\n",
    "with open(fname) as f:\n",
    "    time = np.array([float(row[:17]) for row in f])\n",
    "with open(fname) as f:\n",
    "    sl = -np.array([float(row[18:])/1000 for row in f])\n",
    "BISI_LBL_BM08_R0 = []\n",
    "for t in range(200):\n",
    "    ind = 0\n",
    "    for i in range(len(time)):\n",
    "        if time[i]<=t and time[i+1]:\n",
    "            ind = i\n",
    "    val = sl[ind]+(t-time[ind])/(time[ind+1]-time[ind])*(sl[ind+1]-sl[ind])\n",
    "    BISI_LBL_BM08_R0.append(val)\n",
    "\n",
    "\n",
    "\n",
    "fname = \"larmip_data/BISI_LBL/VaFDiffControl-SLE-larmip.1-8.500m\" # File to read\n",
    "with open(fname) as f:\n",
    "    time = np.array([float(row[:17]) for row in f])\n",
    "with open(fname) as f:\n",
    "    sl = -np.array([float(row[18:])/1000 for row in f])\n",
    "BISI_LBL_BM08_R1 = []\n",
    "for t in range(200):\n",
    "    ind = 0\n",
    "    for i in range(len(time)):\n",
    "        if time[i]<=t and time[i+1]:\n",
    "            ind = i\n",
    "    val = sl[ind]+(t-time[ind])/(time[ind+1]-time[ind])*(sl[ind+1]-sl[ind])\n",
    "    BISI_LBL_BM08_R1.append(val)\n",
    "\n",
    "fname = \"larmip_data/BISI_LBL/VaFDiffControl-SLE-larmip.2-8.500m\" # File to read\n",
    "with open(fname) as f:\n",
    "    time = np.array([float(row[:17]) for row in f])\n",
    "with open(fname) as f:\n",
    "    sl = -np.array([float(row[18:])/1000 for row in f])\n",
    "BISI_LBL_BM08_R2 = []\n",
    "for t in range(200):\n",
    "    ind = 0\n",
    "    for i in range(len(time)):\n",
    "        if time[i]<=t and time[i+1]:\n",
    "            ind = i\n",
    "    val = sl[ind]+(t-time[ind])/(time[ind+1]-time[ind])*(sl[ind+1]-sl[ind])\n",
    "    BISI_LBL_BM08_R2.append(val)\n",
    "    \n",
    "fname = \"larmip_data/BISI_LBL/VaFDiffControl-SLE-larmip.3-8.500m\" # File to read\n",
    "with open(fname) as f:\n",
    "    time = np.array([float(row[:17]) for row in f])\n",
    "with open(fname) as f:\n",
    "    sl = -np.array([float(row[18:])/1000 for row in f])\n",
    "BISI_LBL_BM08_R3 = []\n",
    "for t in range(200):\n",
    "    ind = 0\n",
    "    for i in range(len(time)):\n",
    "        if time[i]<=t and time[i+1]:\n",
    "            ind = i\n",
    "    val = sl[ind]+(t-time[ind])/(time[ind+1]-time[ind])*(sl[ind+1]-sl[ind])\n",
    "    BISI_LBL_BM08_R3.append(val)\n",
    "    \n",
    "fname = \"larmip_data/BISI_LBL/VaFDiffControl-SLE-larmip.4-8.500m\" # File to read\n",
    "with open(fname) as f:\n",
    "    time = np.array([float(row[:17]) for row in f])\n",
    "with open(fname) as f:\n",
    "    sl = -np.array([float(row[18:])/1000 for row in f])\n",
    "BISI_LBL_BM08_R4 = []\n",
    "for t in range(200):\n",
    "    ind = 0\n",
    "    for i in range(len(time)):\n",
    "        if time[i]<=t and time[i+1]:\n",
    "            ind = i\n",
    "    val = sl[ind]+(t-time[ind])/(time[ind+1]-time[ind])*(sl[ind+1]-sl[ind])\n",
    "    BISI_LBL_BM08_R4.append(val)\n",
    "    \n",
    "fname = \"larmip_data/BISI_LBL/VaFDiffControl-SLE-larmip.5-8.500m\" # File to read\n",
    "with open(fname) as f:\n",
    "    time = np.array([float(row[:17]) for row in f])\n",
    "with open(fname) as f:\n",
    "    sl = -np.array([float(row[18:])/1000 for row in f])\n",
    "BISI_LBL_BM08_R5 = []\n",
    "for t in range(200):\n",
    "    ind = 0\n",
    "    for i in range(len(time)):\n",
    "        if time[i]<=t and time[i+1]:\n",
    "            ind = i\n",
    "    val = sl[ind]+(t-time[ind])/(time[ind+1]-time[ind])*(sl[ind+1]-sl[ind])\n",
    "    BISI_LBL_BM08_R5.append(val)\n",
    "    \n"
   ]
  },
  {
   "cell_type": "code",
   "execution_count": 8,
   "metadata": {},
   "outputs": [
    {
     "name": "stdout",
     "output_type": "stream",
     "text": [
      "200\n"
     ]
    },
    {
     "data": {
      "image/png": "[encoded data removed]",
      "text/plain": [
       "<matplotlib.figure.Figure at 0x88d5c50>"
      ]
     },
     "metadata": {},
     "output_type": "display_data"
    }
   ],
   "source": [
    "\n",
    "BISI_LBL_BM08_R0=np.array(BISI_LBL_BM08_R0)\n",
    "BISI_LBL_BM08_R1=np.array(BISI_LBL_BM08_R1)\n",
    "BISI_LBL_BM08_R2=np.array(BISI_LBL_BM08_R2)\n",
    "BISI_LBL_BM08_R3=np.array(BISI_LBL_BM08_R3)\n",
    "BISI_LBL_BM08_R4=np.array(BISI_LBL_BM08_R4)\n",
    "BISI_LBL_BM08_R5=np.array(BISI_LBL_BM08_R5)\n",
    "\n",
    "BISI_LBL_BM08_SU=BISI_LBL_BM08_R1+BISI_LBL_BM08_R2+BISI_LBL_BM08_R3+BISI_LBL_BM08_R4+BISI_LBL_BM08_R5\n",
    "\n",
    "\n",
    "# create and write response function\n",
    "RF_BISI_LBL_BM08_R0=np.diff(BISI_LBL_BM08_R0)/8\n",
    "RF_BISI_LBL_BM08_R1=np.diff(BISI_LBL_BM08_R1)/8\n",
    "RF_BISI_LBL_BM08_R2=np.diff(BISI_LBL_BM08_R2)/8\n",
    "RF_BISI_LBL_BM08_R3=np.diff(BISI_LBL_BM08_R3)/8\n",
    "RF_BISI_LBL_BM08_R4=np.diff(BISI_LBL_BM08_R4)/8\n",
    "RF_BISI_LBL_BM08_R5=np.diff(BISI_LBL_BM08_R5)/8\n",
    "RF_BISI_LBL_BM08_SU=np.diff(BISI_LBL_BM08_SU)/8\n",
    "\n",
    "RF_BISI_LBL_BM08_R0=np.append(RF_BISI_LBL_BM08_R0[0],RF_BISI_LBL_BM08_R0)\n",
    "RF_BISI_LBL_BM08_R1=np.append(RF_BISI_LBL_BM08_R1[0],RF_BISI_LBL_BM08_R1)\n",
    "RF_BISI_LBL_BM08_R2=np.append(RF_BISI_LBL_BM08_R2[0],RF_BISI_LBL_BM08_R2)\n",
    "RF_BISI_LBL_BM08_R3=np.append(RF_BISI_LBL_BM08_R3[0],RF_BISI_LBL_BM08_R3)\n",
    "RF_BISI_LBL_BM08_R4=np.append(RF_BISI_LBL_BM08_R4[0],RF_BISI_LBL_BM08_R4)\n",
    "RF_BISI_LBL_BM08_R5=np.append(RF_BISI_LBL_BM08_R5[0],RF_BISI_LBL_BM08_R5)\n",
    "RF_BISI_LBL_BM08_SU=np.append(RF_BISI_LBL_BM08_SU[0],RF_BISI_LBL_BM08_SU)\n",
    "\n",
    "\n",
    "# plot\n",
    "plt.plot(BISI_LBL_BM08_R0,label=\"BISI_LBL_BM08_R0\")\n",
    "plt.plot(BISI_LBL_BM08_R1,label=\"BISI_LBL_BM08_R1\")\n",
    "plt.plot(BISI_LBL_BM08_R2,label=\"BISI_LBL_BM08_R2\")\n",
    "plt.plot(BISI_LBL_BM08_R3,label=\"BISI_LBL_BM08_R3\")\n",
    "plt.plot(BISI_LBL_BM08_R4,label=\"BISI_LBL_BM08_R4\")\n",
    "plt.plot(BISI_LBL_BM08_R5,label=\"BISI_LBL_BM08_R5\")\n",
    "plt.plot(BISI_LBL_BM08_SU,label=\"BISI_LBL_BM08_SU\")\n",
    "plt.legend()\n",
    "\n",
    "print(len(RF_BISI_LBL_BM08_R2))"
   ]
  },
  {
   "cell_type": "code",
   "execution_count": 9,
   "metadata": {},
   "outputs": [],
   "source": [
    "# Response functions\n",
    "np.savetxt(\"RF_BISI_LBL_BM08_R0.dat\", RF_BISI_LBL_BM08_R0, delimiter=\",\")\n",
    "np.savetxt(\"RF_BISI_LBL_BM08_R1.dat\", RF_BISI_LBL_BM08_R1, delimiter=\",\")\n",
    "np.savetxt(\"RF_BISI_LBL_BM08_R2.dat\", RF_BISI_LBL_BM08_R2, delimiter=\",\")\n",
    "np.savetxt(\"RF_BISI_LBL_BM08_R3.dat\", RF_BISI_LBL_BM08_R3, delimiter=\",\")\n",
    "np.savetxt(\"RF_BISI_LBL_BM08_R4.dat\", RF_BISI_LBL_BM08_R4, delimiter=\",\")\n",
    "np.savetxt(\"RF_BISI_LBL_BM08_R5.dat\", RF_BISI_LBL_BM08_R5, delimiter=\",\")\n",
    "np.savetxt(\"RF_BISI_LBL_BM08_SU.dat\", RF_BISI_LBL_BM08_SU, delimiter=\",\")"
   ]
  },
  {
   "cell_type": "code",
   "execution_count": 10,
   "metadata": {},
   "outputs": [],
   "source": [
    "# Experiments\n",
    "np.savetxt(\"BISI_LBL_BM08_R0.dat\", BISI_LBL_BM08_R0, delimiter=\",\")\n",
    "np.savetxt(\"BISI_LBL_BM08_R1.dat\", BISI_LBL_BM08_R1, delimiter=\",\")\n",
    "np.savetxt(\"BISI_LBL_BM08_R2.dat\", BISI_LBL_BM08_R2, delimiter=\",\")\n",
    "np.savetxt(\"BISI_LBL_BM08_R3.dat\", BISI_LBL_BM08_R3, delimiter=\",\")\n",
    "np.savetxt(\"BISI_LBL_BM08_R4.dat\", BISI_LBL_BM08_R4, delimiter=\",\")\n",
    "np.savetxt(\"BISI_LBL_BM08_R5.dat\", BISI_LBL_BM08_R5, delimiter=\",\")\n",
    "np.savetxt(\"BISI_LBL_BM08_SU.dat\", BISI_LBL_BM08_SU, delimiter=\",\")"
   ]
  },
  {
   "cell_type": "code",
   "execution_count": null,
   "metadata": {},
   "outputs": [],
   "source": []
  }
 ],
 "metadata": {
  "kernelspec": {
   "display_name": "Python 3",
   "language": "python",
   "name": "python3"
  },
  "language_info": {
   "codemirror_mode": {
    "name": "ipython",
    "version": 3
   },
   "file_extension": ".py",
   "mimetype": "text/x-python",
   "name": "python",
   "nbconvert_exporter": "python",
   "pygments_lexer": "ipython3",
   "version": "3.7.1"
  }
 },
 "nbformat": 4,
 "nbformat_minor": 2
}
