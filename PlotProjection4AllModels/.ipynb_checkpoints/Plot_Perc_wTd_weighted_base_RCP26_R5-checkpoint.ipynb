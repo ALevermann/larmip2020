{
 "cells": [
  {
   "cell_type": "code",
   "execution_count": 1,
   "metadata": {},
   "outputs": [],
   "source": [
    "%matplotlib inline"
   ]
  },
  {
   "cell_type": "code",
   "execution_count": 2,
   "metadata": {},
   "outputs": [],
   "source": [
    "import numpy as np\n",
    "import netCDF4 as nc\n",
    "import matplotlib.pylab as plt\n",
    "import imp\n",
    "import csv\n",
    "import pandas as pd\n",
    "from io import StringIO"
   ]
  },
  {
   "cell_type": "code",
   "execution_count": 3,
   "metadata": {},
   "outputs": [
    {
     "name": "stdout",
     "output_type": "stream",
     "text": [
      "200\n"
     ]
    }
   ],
   "source": [
    "Time = np.arange(1900,2100)\n",
    "print(len(Time))\n"
   ]
  },
  {
   "cell_type": "code",
   "execution_count": 4,
   "metadata": {},
   "outputs": [
    {
     "name": "stdout",
     "output_type": "stream",
     "text": [
      "2.450359e-05\n"
     ]
    }
   ],
   "source": [
    "# Read data\n",
    "# AISM_VUB\n",
    "\n",
    "fname=\"..\\ComputeCdfsOfProjections\\Cdfs/SL_wTd_weighted_base_AISM_VUB_RCP26_cdf.nc\"\n",
    "ncf = nc.Dataset(fname, \"r\")\n",
    "\n",
    "Percentile = ncf.variables[\"Percentile\"][:]\n",
    "SL_wTd_nos_base_R5 = ncf.variables[\"Peninsula\"][:]\n",
    "#Time = ncf.variable[\"Time\"][:]\n",
    "\n",
    "SL_wTd_nos_base_AISM_VUB_SU_RCP26_01pc = SL_wTd_nos_base_R5[0:-1,10]\n",
    "SL_wTd_nos_base_AISM_VUB_SU_RCP26_05pc = SL_wTd_nos_base_R5[0:-1,50]\n",
    "SL_wTd_nos_base_AISM_VUB_SU_RCP26_17pc = SL_wTd_nos_base_R5[0:-1,166]\n",
    "SL_wTd_nos_base_AISM_VUB_SU_RCP26_50pc = SL_wTd_nos_base_R5[0:-1,500]\n",
    "SL_wTd_nos_base_AISM_VUB_SU_RCP26_83pc = SL_wTd_nos_base_R5[0:-1,833]\n",
    "SL_wTd_nos_base_AISM_VUB_SU_RCP26_95pc = SL_wTd_nos_base_R5[0:-1,950]\n",
    "SL_wTd_nos_base_AISM_VUB_SU_RCP26_99pc = SL_wTd_nos_base_R5[0:-1,990]\n",
    "\n",
    "ncf.close()\n",
    "print(max(SL_wTd_nos_base_AISM_VUB_SU_RCP26_99pc))"
   ]
  },
  {
   "cell_type": "code",
   "execution_count": 5,
   "metadata": {},
   "outputs": [
    {
     "name": "stdout",
     "output_type": "stream",
     "text": [
      "201\n"
     ]
    },
    {
     "data": {
      "text/plain": [
       "[<matplotlib.lines.Line2D at 0x1aa7b0fc400>]"
      ]
     },
     "execution_count": 5,
     "metadata": {},
     "output_type": "execute_result"
    },
    {
     "data": {
      "image/png": "[encoded data removed]",
      "text/plain": [
       "<Figure size 432x288 with 1 Axes>"
      ]
     },
     "metadata": {
      "needs_background": "light"
     },
     "output_type": "display_data"
    }
   ],
   "source": [
    "print(len(SL_wTd_nos_base_R5[:,1]))\n",
    "plt.plot(SL_wTd_nos_base_R5[:,100])\n",
    "plt.plot(SL_wTd_nos_base_R5[:,1000])\n",
    "plt.plot(SL_wTd_nos_base_R5[:,500])"
   ]
  },
  {
   "cell_type": "code",
   "execution_count": 6,
   "metadata": {},
   "outputs": [
    {
     "name": "stdout",
     "output_type": "stream",
     "text": [
      "0.012521441\n"
     ]
    }
   ],
   "source": [
    "# Read data\n",
    "# BISI_LBL\n",
    "\n",
    "fname=\"..\\ComputeCdfsOfProjections\\Cdfs/SL_wTd_weighted_base_BISI_LBL_RCP26_cdf.nc\"\n",
    "ncf = nc.Dataset(fname, \"r\")\n",
    "\n",
    "Percentile = ncf.variables[\"Percentile\"][:]\n",
    "SL_wTd_nos_base_R5 = ncf.variables[\"Peninsula\"][:]\n",
    "\n",
    "SL_wTd_nos_base_BISI_LBL_SU_RCP26_01pc = SL_wTd_nos_base_R5[0:-1,10]\n",
    "SL_wTd_nos_base_BISI_LBL_SU_RCP26_05pc = SL_wTd_nos_base_R5[0:-1,50]\n",
    "SL_wTd_nos_base_BISI_LBL_SU_RCP26_17pc = SL_wTd_nos_base_R5[0:-1,166]\n",
    "SL_wTd_nos_base_BISI_LBL_SU_RCP26_50pc = SL_wTd_nos_base_R5[0:-1,500]\n",
    "SL_wTd_nos_base_BISI_LBL_SU_RCP26_83pc = SL_wTd_nos_base_R5[0:-1,833]\n",
    "SL_wTd_nos_base_BISI_LBL_SU_RCP26_95pc = SL_wTd_nos_base_R5[0:-1,950]\n",
    "SL_wTd_nos_base_BISI_LBL_SU_RCP26_99pc = SL_wTd_nos_base_R5[0:-1,990]\n",
    "\n",
    "print(max(SL_wTd_nos_base_BISI_LBL_SU_RCP26_99pc))"
   ]
  },
  {
   "cell_type": "code",
   "execution_count": 7,
   "metadata": {},
   "outputs": [
    {
     "name": "stdout",
     "output_type": "stream",
     "text": [
      "0.0056481054\n"
     ]
    }
   ],
   "source": [
    "# Read data\n",
    "# CISM_NCA\n",
    "\n",
    "fname=\"..\\ComputeCdfsOfProjections\\Cdfs/SL_wTd_weighted_base_CISM_NCA_RCP26_cdf.nc\"\n",
    "ncf = nc.Dataset(fname, \"r\")\n",
    "\n",
    "Percentile = ncf.variables[\"Percentile\"][:]\n",
    "SL_wTd_nos_base_R5 = ncf.variables[\"Peninsula\"][:]\n",
    "\n",
    "SL_wTd_nos_base_CISM_NCA_SU_RCP26_01pc = SL_wTd_nos_base_R5[0:-1,10]\n",
    "SL_wTd_nos_base_CISM_NCA_SU_RCP26_05pc = SL_wTd_nos_base_R5[0:-1,50]\n",
    "SL_wTd_nos_base_CISM_NCA_SU_RCP26_17pc = SL_wTd_nos_base_R5[0:-1,166]\n",
    "SL_wTd_nos_base_CISM_NCA_SU_RCP26_50pc = SL_wTd_nos_base_R5[0:-1,500]\n",
    "SL_wTd_nos_base_CISM_NCA_SU_RCP26_83pc = SL_wTd_nos_base_R5[0:-1,833]\n",
    "SL_wTd_nos_base_CISM_NCA_SU_RCP26_95pc = SL_wTd_nos_base_R5[0:-1,950]\n",
    "SL_wTd_nos_base_CISM_NCA_SU_RCP26_99pc = SL_wTd_nos_base_R5[0:-1,990]\n",
    "\n",
    "print(max(SL_wTd_nos_base_CISM_NCA_SU_RCP26_99pc))"
   ]
  },
  {
   "cell_type": "code",
   "execution_count": 8,
   "metadata": {},
   "outputs": [
    {
     "name": "stdout",
     "output_type": "stream",
     "text": [
      "0.006023044\n"
     ]
    }
   ],
   "source": [
    "# Read data\n",
    "# FETI_VUB\n",
    "\n",
    "fname=\"..\\ComputeCdfsOfProjections\\Cdfs/SL_wTd_weighted_base_FETI_VUB_RCP26_cdf.nc\"\n",
    "ncf = nc.Dataset(fname, \"r\")\n",
    "\n",
    "Percentile = ncf.variables[\"Percentile\"][:]\n",
    "SL_wTd_nos_base_R5 = ncf.variables[\"Peninsula\"][:]\n",
    "\n",
    "SL_wTd_nos_base_FETI_VUB_SU_RCP26_01pc = SL_wTd_nos_base_R5[0:-1,10]\n",
    "SL_wTd_nos_base_FETI_VUB_SU_RCP26_05pc = SL_wTd_nos_base_R5[0:-1,50]\n",
    "SL_wTd_nos_base_FETI_VUB_SU_RCP26_17pc = SL_wTd_nos_base_R5[0:-1,166]\n",
    "SL_wTd_nos_base_FETI_VUB_SU_RCP26_50pc = SL_wTd_nos_base_R5[0:-1,500]\n",
    "SL_wTd_nos_base_FETI_VUB_SU_RCP26_83pc = SL_wTd_nos_base_R5[0:-1,833]\n",
    "SL_wTd_nos_base_FETI_VUB_SU_RCP26_95pc = SL_wTd_nos_base_R5[0:-1,950]\n",
    "SL_wTd_nos_base_FETI_VUB_SU_RCP26_99pc = SL_wTd_nos_base_R5[0:-1,990]\n",
    "\n",
    "print(max(SL_wTd_nos_base_FETI_VUB_SU_RCP26_99pc))"
   ]
  },
  {
   "cell_type": "code",
   "execution_count": 9,
   "metadata": {},
   "outputs": [
    {
     "name": "stdout",
     "output_type": "stream",
     "text": [
      "0.008825425\n",
      "200\n",
      "1001\n",
      "201\n"
     ]
    }
   ],
   "source": [
    "# Read data\n",
    "# GRIS_LSC\n",
    "\n",
    "fname=\"..\\ComputeCdfsOfProjections\\Cdfs/SL_wTd_weighted_base_GRIS_LSC_RCP26_cdf.nc\"\n",
    "ncf = nc.Dataset(fname, \"r\")\n",
    "\n",
    "Percentile = ncf.variables[\"Percentile\"][:]\n",
    "SL_wTd_nos_base_R5 = ncf.variables[\"Peninsula\"][:]\n",
    "\n",
    "SL_wTd_nos_base_GRIS_LSC_SU_RCP26_01pc = SL_wTd_nos_base_R5[0:-1,10]\n",
    "SL_wTd_nos_base_GRIS_LSC_SU_RCP26_05pc = SL_wTd_nos_base_R5[0:-1,50]\n",
    "SL_wTd_nos_base_GRIS_LSC_SU_RCP26_17pc = SL_wTd_nos_base_R5[0:-1,166]\n",
    "SL_wTd_nos_base_GRIS_LSC_SU_RCP26_50pc = SL_wTd_nos_base_R5[0:-1,500]\n",
    "SL_wTd_nos_base_GRIS_LSC_SU_RCP26_83pc = SL_wTd_nos_base_R5[0:-1,833]\n",
    "SL_wTd_nos_base_GRIS_LSC_SU_RCP26_95pc = SL_wTd_nos_base_R5[0:-1,950]\n",
    "SL_wTd_nos_base_GRIS_LSC_SU_RCP26_99pc = SL_wTd_nos_base_R5[0:-1,990]\n",
    "\n",
    "print(max(SL_wTd_nos_base_GRIS_LSC_SU_RCP26_99pc))\n",
    "print(len(SL_wTd_nos_base_GRIS_LSC_SU_RCP26_01pc))\n",
    "print(len(SL_wTd_nos_base_R5[1,:]))\n",
    "print(len(SL_wTd_nos_base_R5[:,1]))"
   ]
  },
  {
   "cell_type": "code",
   "execution_count": 10,
   "metadata": {},
   "outputs": [
    {
     "name": "stdout",
     "output_type": "stream",
     "text": [
      "0.0\n"
     ]
    }
   ],
   "source": [
    "# Read data\n",
    "# IMAU_VUB\n",
    "\n",
    "fname=\"..\\ComputeCdfsOfProjections\\Cdfs/SL_wTd_weighted_base_IMAU_VUB_RCP26_cdf.nc\"\n",
    "ncf = nc.Dataset(fname, \"r\")\n",
    "\n",
    "Percentile = ncf.variables[\"Percentile\"][:]\n",
    "SL_wTd_nos_base_R5 = ncf.variables[\"Peninsula\"][:]\n",
    "\n",
    "SL_wTd_nos_base_IMAU_VUB_SU_RCP26_01pc = SL_wTd_nos_base_R5[0:-1,10]\n",
    "SL_wTd_nos_base_IMAU_VUB_SU_RCP26_05pc = SL_wTd_nos_base_R5[0:-1,50]\n",
    "SL_wTd_nos_base_IMAU_VUB_SU_RCP26_17pc = SL_wTd_nos_base_R5[0:-1,166]\n",
    "SL_wTd_nos_base_IMAU_VUB_SU_RCP26_50pc = SL_wTd_nos_base_R5[0:-1,500]\n",
    "SL_wTd_nos_base_IMAU_VUB_SU_RCP26_83pc = SL_wTd_nos_base_R5[0:-1,833]\n",
    "SL_wTd_nos_base_IMAU_VUB_SU_RCP26_95pc = SL_wTd_nos_base_R5[0:-1,950]\n",
    "SL_wTd_nos_base_IMAU_VUB_SU_RCP26_99pc = SL_wTd_nos_base_R5[0:-1,990]\n",
    "\n",
    "print(max(SL_wTd_nos_base_IMAU_VUB_SU_RCP26_99pc))"
   ]
  },
  {
   "cell_type": "code",
   "execution_count": 11,
   "metadata": {},
   "outputs": [
    {
     "name": "stdout",
     "output_type": "stream",
     "text": [
      "0.015041563\n"
     ]
    }
   ],
   "source": [
    "# Read data\n",
    "# ISSM_JPL\n",
    "\n",
    "fname=\"..\\ComputeCdfsOfProjections\\Cdfs/SL_wTd_weighted_base_ISSM_JPL_RCP26_cdf.nc\"\n",
    "ncf = nc.Dataset(fname, \"r\")\n",
    "\n",
    "Percentile = ncf.variables[\"Percentile\"][:]\n",
    "SL_wTd_nos_base_R5 = ncf.variables[\"Peninsula\"][:]\n",
    "\n",
    "SL_wTd_nos_base_ISSM_JPL_SU_RCP26_01pc = SL_wTd_nos_base_R5[0:-1,10]\n",
    "SL_wTd_nos_base_ISSM_JPL_SU_RCP26_05pc = SL_wTd_nos_base_R5[0:-1,50]\n",
    "SL_wTd_nos_base_ISSM_JPL_SU_RCP26_17pc = SL_wTd_nos_base_R5[0:-1,166]\n",
    "SL_wTd_nos_base_ISSM_JPL_SU_RCP26_50pc = SL_wTd_nos_base_R5[0:-1,500]\n",
    "SL_wTd_nos_base_ISSM_JPL_SU_RCP26_83pc = SL_wTd_nos_base_R5[0:-1,833]\n",
    "SL_wTd_nos_base_ISSM_JPL_SU_RCP26_95pc = SL_wTd_nos_base_R5[0:-1,950]\n",
    "SL_wTd_nos_base_ISSM_JPL_SU_RCP26_99pc = SL_wTd_nos_base_R5[0:-1,990]\n",
    "\n",
    "print(max(SL_wTd_nos_base_ISSM_JPL_SU_RCP26_99pc))"
   ]
  },
  {
   "cell_type": "code",
   "execution_count": 12,
   "metadata": {},
   "outputs": [
    {
     "name": "stdout",
     "output_type": "stream",
     "text": [
      "0.03426224\n"
     ]
    }
   ],
   "source": [
    "# Read data\n",
    "# ISSM_UCI\n",
    "\n",
    "fname=\"..\\ComputeCdfsOfProjections\\Cdfs/SL_wTd_weighted_base_ISSM_UCI_RCP26_cdf.nc\"\n",
    "ncf = nc.Dataset(fname, \"r\")\n",
    "\n",
    "Percentile = ncf.variables[\"Percentile\"][:]\n",
    "SL_wTd_nos_base_R5 = ncf.variables[\"Peninsula\"][:]\n",
    "\n",
    "SL_wTd_nos_base_ISSM_UCI_SU_RCP26_01pc = SL_wTd_nos_base_R5[0:-1,10]\n",
    "SL_wTd_nos_base_ISSM_UCI_SU_RCP26_05pc = SL_wTd_nos_base_R5[0:-1,50]\n",
    "SL_wTd_nos_base_ISSM_UCI_SU_RCP26_17pc = SL_wTd_nos_base_R5[0:-1,166]\n",
    "SL_wTd_nos_base_ISSM_UCI_SU_RCP26_50pc = SL_wTd_nos_base_R5[0:-1,500]\n",
    "SL_wTd_nos_base_ISSM_UCI_SU_RCP26_83pc = SL_wTd_nos_base_R5[0:-1,833]\n",
    "SL_wTd_nos_base_ISSM_UCI_SU_RCP26_95pc = SL_wTd_nos_base_R5[0:-1,950]\n",
    "SL_wTd_nos_base_ISSM_UCI_SU_RCP26_99pc = SL_wTd_nos_base_R5[0:-1,990]\n",
    "\n",
    "print(max(SL_wTd_nos_base_ISSM_UCI_SU_RCP26_99pc))"
   ]
  },
  {
   "cell_type": "code",
   "execution_count": 13,
   "metadata": {},
   "outputs": [
    {
     "name": "stdout",
     "output_type": "stream",
     "text": [
      "0.0074058166\n"
     ]
    }
   ],
   "source": [
    "# Read data\n",
    "# MALI_LAN\n",
    "\n",
    "fname=\"..\\ComputeCdfsOfProjections\\Cdfs/SL_wTd_weighted_base_MALI_LAN_RCP26_cdf.nc\"\n",
    "ncf = nc.Dataset(fname, \"r\")\n",
    "\n",
    "Percentile = ncf.variables[\"Percentile\"][:]\n",
    "SL_wTd_nos_base_R5 = ncf.variables[\"Peninsula\"][:]\n",
    "\n",
    "SL_wTd_nos_base_MALI_LAN_SU_RCP26_01pc = SL_wTd_nos_base_R5[0:-1,10]\n",
    "SL_wTd_nos_base_MALI_LAN_SU_RCP26_05pc = SL_wTd_nos_base_R5[0:-1,50]\n",
    "SL_wTd_nos_base_MALI_LAN_SU_RCP26_17pc = SL_wTd_nos_base_R5[0:-1,166]\n",
    "SL_wTd_nos_base_MALI_LAN_SU_RCP26_50pc = SL_wTd_nos_base_R5[0:-1,500]\n",
    "SL_wTd_nos_base_MALI_LAN_SU_RCP26_83pc = SL_wTd_nos_base_R5[0:-1,833]\n",
    "SL_wTd_nos_base_MALI_LAN_SU_RCP26_95pc = SL_wTd_nos_base_R5[0:-1,950]\n",
    "SL_wTd_nos_base_MALI_LAN_SU_RCP26_99pc = SL_wTd_nos_base_R5[0:-1,990]\n",
    "\n",
    "print(max(SL_wTd_nos_base_MALI_LAN_SU_RCP26_99pc))"
   ]
  },
  {
   "cell_type": "code",
   "execution_count": 14,
   "metadata": {},
   "outputs": [
    {
     "name": "stdout",
     "output_type": "stream",
     "text": [
      "0.012040181\n"
     ]
    }
   ],
   "source": [
    "# Read data\n",
    "# PISM_AWI\n",
    "\n",
    "fname=\"..\\ComputeCdfsOfProjections\\Cdfs/SL_wTd_weighted_base_PISM_AWI_RCP26_cdf.nc\"\n",
    "ncf = nc.Dataset(fname, \"r\")\n",
    "\n",
    "Percentile = ncf.variables[\"Percentile\"][:]\n",
    "SL_wTd_nos_base_R5 = ncf.variables[\"Peninsula\"][:]\n",
    "\n",
    "SL_wTd_nos_base_PISM_AWI_SU_RCP26_01pc = SL_wTd_nos_base_R5[0:-1,10]\n",
    "SL_wTd_nos_base_PISM_AWI_SU_RCP26_05pc = SL_wTd_nos_base_R5[0:-1,50]\n",
    "SL_wTd_nos_base_PISM_AWI_SU_RCP26_17pc = SL_wTd_nos_base_R5[0:-1,166]\n",
    "SL_wTd_nos_base_PISM_AWI_SU_RCP26_50pc = SL_wTd_nos_base_R5[0:-1,500]\n",
    "SL_wTd_nos_base_PISM_AWI_SU_RCP26_83pc = SL_wTd_nos_base_R5[0:-1,833]\n",
    "SL_wTd_nos_base_PISM_AWI_SU_RCP26_95pc = SL_wTd_nos_base_R5[0:-1,950]\n",
    "SL_wTd_nos_base_PISM_AWI_SU_RCP26_99pc = SL_wTd_nos_base_R5[0:-1,990]\n",
    "\n",
    "print(max(SL_wTd_nos_base_PISM_AWI_SU_RCP26_99pc))"
   ]
  },
  {
   "cell_type": "code",
   "execution_count": 15,
   "metadata": {},
   "outputs": [
    {
     "name": "stdout",
     "output_type": "stream",
     "text": [
      "0.11931951\n"
     ]
    }
   ],
   "source": [
    "# Read data\n",
    "# PISM_DMI\n",
    "\n",
    "fname=\"..\\ComputeCdfsOfProjections\\Cdfs/SL_wTd_weighted_base_PISM_DMI_RCP26_cdf.nc\"\n",
    "ncf = nc.Dataset(fname, \"r\")\n",
    "\n",
    "Percentile = ncf.variables[\"Percentile\"][:]\n",
    "SL_wTd_nos_base_R5 = ncf.variables[\"Peninsula\"][:]\n",
    "\n",
    "SL_wTd_nos_base_PISM_DMI_SU_RCP26_01pc = SL_wTd_nos_base_R5[0:-1,10]\n",
    "SL_wTd_nos_base_PISM_DMI_SU_RCP26_05pc = SL_wTd_nos_base_R5[0:-1,50]\n",
    "SL_wTd_nos_base_PISM_DMI_SU_RCP26_17pc = SL_wTd_nos_base_R5[0:-1,166]\n",
    "SL_wTd_nos_base_PISM_DMI_SU_RCP26_50pc = SL_wTd_nos_base_R5[0:-1,500]\n",
    "SL_wTd_nos_base_PISM_DMI_SU_RCP26_83pc = SL_wTd_nos_base_R5[0:-1,833]\n",
    "SL_wTd_nos_base_PISM_DMI_SU_RCP26_95pc = SL_wTd_nos_base_R5[0:-1,950]\n",
    "SL_wTd_nos_base_PISM_DMI_SU_RCP26_99pc = SL_wTd_nos_base_R5[0:-1,990]\n",
    "\n",
    "print(max(SL_wTd_nos_base_PISM_DMI_SU_RCP26_99pc))"
   ]
  },
  {
   "cell_type": "code",
   "execution_count": 16,
   "metadata": {},
   "outputs": [
    {
     "name": "stdout",
     "output_type": "stream",
     "text": [
      "0.0059579113\n"
     ]
    }
   ],
   "source": [
    "# Read data\n",
    "# PISM_PIK\n",
    "\n",
    "fname=\"..\\ComputeCdfsOfProjections\\Cdfs/SL_wTd_weighted_base_PISM_PIK_RCP26_cdf.nc\"\n",
    "ncf = nc.Dataset(fname, \"r\")\n",
    "\n",
    "Percentile = ncf.variables[\"Percentile\"][:]\n",
    "SL_wTd_nos_base_R5 = ncf.variables[\"Peninsula\"][:]\n",
    "\n",
    "SL_wTd_nos_base_PISM_PIK_SU_RCP26_01pc = SL_wTd_nos_base_R5[0:-1,10]\n",
    "SL_wTd_nos_base_PISM_PIK_SU_RCP26_05pc = SL_wTd_nos_base_R5[0:-1,50]\n",
    "SL_wTd_nos_base_PISM_PIK_SU_RCP26_17pc = SL_wTd_nos_base_R5[0:-1,166]\n",
    "SL_wTd_nos_base_PISM_PIK_SU_RCP26_50pc = SL_wTd_nos_base_R5[0:-1,500]\n",
    "SL_wTd_nos_base_PISM_PIK_SU_RCP26_83pc = SL_wTd_nos_base_R5[0:-1,833]\n",
    "SL_wTd_nos_base_PISM_PIK_SU_RCP26_95pc = SL_wTd_nos_base_R5[0:-1,950]\n",
    "SL_wTd_nos_base_PISM_PIK_SU_RCP26_99pc = SL_wTd_nos_base_R5[0:-1,990]\n",
    "\n",
    "print(max(SL_wTd_nos_base_PISM_PIK_SU_RCP26_99pc))"
   ]
  },
  {
   "cell_type": "code",
   "execution_count": 17,
   "metadata": {},
   "outputs": [
    {
     "name": "stdout",
     "output_type": "stream",
     "text": [
      "0.029758122\n"
     ]
    }
   ],
   "source": [
    "# Read data\n",
    "# PISM_VUW\n",
    "\n",
    "fname=\"..\\ComputeCdfsOfProjections\\Cdfs/SL_wTd_weighted_base_PISM_VUW_RCP26_cdf.nc\"\n",
    "ncf = nc.Dataset(fname, \"r\")\n",
    "\n",
    "Percentile = ncf.variables[\"Percentile\"][:]\n",
    "SL_wTd_nos_base_R5 = ncf.variables[\"Peninsula\"][:]\n",
    "\n",
    "SL_wTd_nos_base_PISM_VUW_SU_RCP26_01pc = SL_wTd_nos_base_R5[0:-1,10]\n",
    "SL_wTd_nos_base_PISM_VUW_SU_RCP26_05pc = SL_wTd_nos_base_R5[0:-1,50]\n",
    "SL_wTd_nos_base_PISM_VUW_SU_RCP26_17pc = SL_wTd_nos_base_R5[0:-1,166]\n",
    "SL_wTd_nos_base_PISM_VUW_SU_RCP26_50pc = SL_wTd_nos_base_R5[0:-1,500]\n",
    "SL_wTd_nos_base_PISM_VUW_SU_RCP26_83pc = SL_wTd_nos_base_R5[0:-1,833]\n",
    "SL_wTd_nos_base_PISM_VUW_SU_RCP26_95pc = SL_wTd_nos_base_R5[0:-1,950]\n",
    "SL_wTd_nos_base_PISM_VUW_SU_RCP26_99pc = SL_wTd_nos_base_R5[0:-1,990]\n",
    "\n",
    "print(max(SL_wTd_nos_base_PISM_VUW_SU_RCP26_99pc))"
   ]
  },
  {
   "cell_type": "code",
   "execution_count": 18,
   "metadata": {},
   "outputs": [
    {
     "name": "stdout",
     "output_type": "stream",
     "text": [
      "0.0019449326\n"
     ]
    }
   ],
   "source": [
    "# Read data\n",
    "# PS3D_PSU\n",
    "\n",
    "fname=\"..\\ComputeCdfsOfProjections\\Cdfs/SL_wTd_weighted_base_PS3D_PSU_RCP26_cdf.nc\"\n",
    "ncf = nc.Dataset(fname, \"r\")\n",
    "\n",
    "Percentile = ncf.variables[\"Percentile\"][:]\n",
    "SL_wTd_nos_base_R5 = ncf.variables[\"Peninsula\"][:]\n",
    "\n",
    "SL_wTd_nos_base_PS3D_PSU_SU_RCP26_01pc = SL_wTd_nos_base_R5[0:-1,10]\n",
    "SL_wTd_nos_base_PS3D_PSU_SU_RCP26_05pc = SL_wTd_nos_base_R5[0:-1,50]\n",
    "SL_wTd_nos_base_PS3D_PSU_SU_RCP26_17pc = SL_wTd_nos_base_R5[0:-1,166]\n",
    "SL_wTd_nos_base_PS3D_PSU_SU_RCP26_50pc = SL_wTd_nos_base_R5[0:-1,500]\n",
    "SL_wTd_nos_base_PS3D_PSU_SU_RCP26_83pc = SL_wTd_nos_base_R5[0:-1,833]\n",
    "SL_wTd_nos_base_PS3D_PSU_SU_RCP26_95pc = SL_wTd_nos_base_R5[0:-1,950]\n",
    "SL_wTd_nos_base_PS3D_PSU_SU_RCP26_99pc = SL_wTd_nos_base_R5[0:-1,990]\n",
    "\n",
    "print(max(SL_wTd_nos_base_PS3D_PSU_SU_RCP26_99pc))"
   ]
  },
  {
   "cell_type": "code",
   "execution_count": 19,
   "metadata": {},
   "outputs": [
    {
     "name": "stdout",
     "output_type": "stream",
     "text": [
      "0.017952716\n"
     ]
    }
   ],
   "source": [
    "# Read data\n",
    "# SICO_UHO\n",
    "\n",
    "fname=\"..\\ComputeCdfsOfProjections\\Cdfs/SL_wTd_weighted_base_SICO_UHO_RCP26_cdf.nc\"\n",
    "#fname=\"..\\ComputeCdfsOfProjections\\Cdfs/SL_wTd_nos_base_SICO_UHO_RCP26_cdf.nc\"\n",
    "ncf = nc.Dataset(fname, \"r\")\n",
    "\n",
    "Percentile = ncf.variables[\"Percentile\"][:]\n",
    "SL_wTd_nos_base_R5 = ncf.variables[\"Peninsula\"][:]\n",
    "\n",
    "SL_wTd_nos_base_SICO_UHO_SU_RCP26_01pc = SL_wTd_nos_base_R5[0:-1,10]\n",
    "SL_wTd_nos_base_SICO_UHO_SU_RCP26_05pc = SL_wTd_nos_base_R5[0:-1,50]\n",
    "SL_wTd_nos_base_SICO_UHO_SU_RCP26_17pc = SL_wTd_nos_base_R5[0:-1,166]\n",
    "SL_wTd_nos_base_SICO_UHO_SU_RCP26_50pc = SL_wTd_nos_base_R5[0:-1,500]\n",
    "SL_wTd_nos_base_SICO_UHO_SU_RCP26_83pc = SL_wTd_nos_base_R5[0:-1,833]\n",
    "SL_wTd_nos_base_SICO_UHO_SU_RCP26_95pc = SL_wTd_nos_base_R5[0:-1,950]\n",
    "SL_wTd_nos_base_SICO_UHO_SU_RCP26_99pc = SL_wTd_nos_base_R5[0:-1,990]\n",
    "\n",
    "print(max(SL_wTd_nos_base_SICO_UHO_SU_RCP26_99pc))"
   ]
  },
  {
   "cell_type": "code",
   "execution_count": 20,
   "metadata": {},
   "outputs": [
    {
     "name": "stdout",
     "output_type": "stream",
     "text": [
      "0.044263143\n"
     ]
    }
   ],
   "source": [
    "# Read data\n",
    "# UA_UNN\n",
    "\n",
    "fname=\"..\\ComputeCdfsOfProjections\\Cdfs/SL_wTd_weighted_base_UA_UNN_RCP26_cdf.nc\"\n",
    "#fname=\"..\\ComputeCdfsOfProjections\\Cdfs/SL_wTd_nos_base_UA_UNN_RCP26_cdf.nc\"\n",
    "ncf = nc.Dataset(fname, \"r\")\n",
    "\n",
    "Percentile = ncf.variables[\"Percentile\"][:]\n",
    "SL_wTd_nos_base_R5 = ncf.variables[\"Peninsula\"][:]\n",
    "\n",
    "SL_wTd_nos_base_UA_UNN_SU_RCP26_01pc = SL_wTd_nos_base_R5[0:-1,10]\n",
    "SL_wTd_nos_base_UA_UNN_SU_RCP26_05pc = SL_wTd_nos_base_R5[0:-1,50]\n",
    "SL_wTd_nos_base_UA_UNN_SU_RCP26_17pc = SL_wTd_nos_base_R5[0:-1,166]\n",
    "SL_wTd_nos_base_UA_UNN_SU_RCP26_50pc = SL_wTd_nos_base_R5[0:-1,500]\n",
    "SL_wTd_nos_base_UA_UNN_SU_RCP26_83pc = SL_wTd_nos_base_R5[0:-1,833]\n",
    "SL_wTd_nos_base_UA_UNN_SU_RCP26_95pc = SL_wTd_nos_base_R5[0:-1,950]\n",
    "SL_wTd_nos_base_UA_UNN_SU_RCP26_99pc = SL_wTd_nos_base_R5[0:-1,990]\n",
    "\n",
    "print(max(SL_wTd_nos_base_UA_UNN_SU_RCP26_99pc))"
   ]
  },
  {
   "cell_type": "code",
   "execution_count": 21,
   "metadata": {},
   "outputs": [
    {
     "name": "stdout",
     "output_type": "stream",
     "text": [
      "0.056751415\n"
     ]
    }
   ],
   "source": [
    "# Read data\n",
    "# All Models\n",
    "\n",
    "fname=\"..\\ComputeCdfsOfProjections\\Cdfs/SL_wTd_weighted_base_RCP26_cdf.nc\"\n",
    "ncf = nc.Dataset(fname, \"r\")\n",
    "\n",
    "Percentile = ncf.variables[\"Percentile\"][:]\n",
    "SL_wTd_nos_base_R5 = ncf.variables[\"Peninsula\"][:]\n",
    "\n",
    "SL_wTd_nos_base_RCP26_01pc = SL_wTd_nos_base_R5[0:-1,10]\n",
    "SL_wTd_nos_base_RCP26_05pc = SL_wTd_nos_base_R5[0:-1,50]\n",
    "SL_wTd_nos_base_RCP26_17pc = SL_wTd_nos_base_R5[0:-1,166]\n",
    "SL_wTd_nos_base_RCP26_50pc = SL_wTd_nos_base_R5[0:-1,500]\n",
    "SL_wTd_nos_base_RCP26_83pc = SL_wTd_nos_base_R5[0:-1,833]\n",
    "SL_wTd_nos_base_RCP26_95pc = SL_wTd_nos_base_R5[0:-1,950]\n",
    "SL_wTd_nos_base_RCP26_99pc = SL_wTd_nos_base_R5[0:-1,990]\n",
    "\n",
    "print(max(SL_wTd_nos_base_RCP26_99pc))"
   ]
  },
  {
   "cell_type": "code",
   "execution_count": 22,
   "metadata": {},
   "outputs": [],
   "source": [
    "# Set plotting variables\n",
    "SizeOfFont = 20\n",
    "\n",
    "# For all panels but Whole Antarctica\n",
    "xmin = 1900\n",
    "xmax = 2100\n",
    "ymin = -0.01\n",
    "ymax = 0.08\n",
    "xlimit = [xmin, xmax]\n",
    "ylimit = [ymin, ymax]\n",
    "AspectRatio = 1.0*((xmax-xmin)/(ymax-ymin))\n",
    "\n",
    "\n",
    "figwidth = 20\n",
    "\n",
    "ScalingTextXPos= xmin+10\n",
    "ScalingTextYPos= ymax-0.01\n",
    "XlabelXPos = xmin-65\n",
    "XlabelYPos = ymax+0.15"
   ]
  },
  {
   "cell_type": "code",
   "execution_count": 23,
   "metadata": {},
   "outputs": [
    {
     "data": {
      "image/png": "[encoded data removed]",
      "text/plain": [
       "<Figure size 1440x1440 with 16 Axes>"
      ]
     },
     "metadata": {
      "needs_background": "light"
     },
     "output_type": "display_data"
    }
   ],
   "source": [
    "fp, axes = plt.subplots(4, 4,figsize=(figwidth,figwidth))\n",
    "#fp.subplots_adjust(hspace=0.2, wspace=0.01)\n",
    "fp.subplots_adjust(hspace=0.15, wspace=0.01)\n",
    "\n",
    "# AISM_VUB\n",
    "\n",
    "ax = axes[0,0]\n",
    "ax.fill_between(Time, SL_wTd_nos_base_AISM_VUB_SU_RCP26_01pc, SL_wTd_nos_base_AISM_VUB_SU_RCP26_99pc,facecolor='#0000ff',alpha=0.25)\n",
    "ax.fill_between(Time, SL_wTd_nos_base_AISM_VUB_SU_RCP26_05pc, SL_wTd_nos_base_AISM_VUB_SU_RCP26_95pc,facecolor='#0000ff',alpha=0.5)\n",
    "ax.fill_between(Time, SL_wTd_nos_base_AISM_VUB_SU_RCP26_17pc, SL_wTd_nos_base_AISM_VUB_SU_RCP26_83pc,facecolor='#0000ff')\n",
    "ax.plot(Time, SL_wTd_nos_base_AISM_VUB_SU_RCP26_50pc, '#ffffff')\n",
    "ax.plot(Time, Time*0, '#000000')\n",
    "\n",
    "ax.xaxis.set_visible(False)\n",
    "#ax.yaxis.set_visible(False)\n",
    "ax.set_xlim(xlimit)\n",
    "ax.set_ylim(ylimit)\n",
    "ax.xaxis.set_tick_params(labelsize=SizeOfFont)\n",
    "ax.yaxis.set_tick_params(labelsize=SizeOfFont)\n",
    "ax.set(adjustable='box',aspect=AspectRatio)\n",
    "ax.text(ScalingTextXPos,ScalingTextYPos,\"AISM VUB\",fontsize = SizeOfFont)\n",
    "#ax.set_ylabel(\"Sea level response (m)\",fontsize = SizeOfFont)\n",
    "#ax.set_xlabel(\"Time (years)\",fontsize = SizeOfFont)\n",
    "#ScalingText = \"r = \" + str(np.round(SF_ISSM_UCI_BM08_R5,2))\n",
    "#ax.text(ScalingTextXPos,ScalingTextYPos,ScalingText,fontsize = SizeOfFont)\n",
    "\n",
    "\n",
    "# BISI_LBL\n",
    "\n",
    "ax = axes[0,1]\n",
    "ax.fill_between(Time, SL_wTd_nos_base_BISI_LBL_SU_RCP26_01pc, SL_wTd_nos_base_BISI_LBL_SU_RCP26_99pc,facecolor='#0000ff',alpha=0.25)\n",
    "ax.fill_between(Time, SL_wTd_nos_base_BISI_LBL_SU_RCP26_05pc, SL_wTd_nos_base_BISI_LBL_SU_RCP26_95pc,facecolor='#0000ff',alpha=0.5)\n",
    "ax.fill_between(Time, SL_wTd_nos_base_BISI_LBL_SU_RCP26_17pc, SL_wTd_nos_base_BISI_LBL_SU_RCP26_83pc,facecolor='#0000ff')\n",
    "ax.plot(Time, SL_wTd_nos_base_BISI_LBL_SU_RCP26_50pc, '#ffffff')\n",
    "ax.plot(Time, Time*0, '#000000')\n",
    "\n",
    "ax.xaxis.set_visible(False)\n",
    "ax.yaxis.set_visible(False)\n",
    "ax.set_xlim(xlimit)\n",
    "ax.set_ylim(ylimit)\n",
    "ax.xaxis.set_tick_params(labelsize=SizeOfFont)\n",
    "ax.yaxis.set_tick_params(labelsize=SizeOfFont)\n",
    "ax.set(adjustable='box',aspect=AspectRatio)\n",
    "ax.text(ScalingTextXPos,ScalingTextYPos,\"BISI LBL\",fontsize = SizeOfFont)\n",
    "#ax.set_ylabel(\"Sea level response (m)\",fontsize = SizeOfFont)\n",
    "#ax.set_xlabel(\"Time (years)\",fontsize = SizeOfFont)\n",
    "#ScalingText = \"r = \" + str(np.round(SF_ISSM_UCI_BM08_R5,2))\n",
    "#ax.text(ScalingTextXPos,ScalingTextYPos,ScalingText,fontsize = SizeOfFont)\n",
    "\n",
    "\n",
    "# CISM_NCA\n",
    "\n",
    "ax = axes[0,2]\n",
    "ax.fill_between(Time, SL_wTd_nos_base_CISM_NCA_SU_RCP26_01pc, SL_wTd_nos_base_CISM_NCA_SU_RCP26_99pc,facecolor='#0000ff',alpha=0.25)\n",
    "ax.fill_between(Time, SL_wTd_nos_base_CISM_NCA_SU_RCP26_05pc, SL_wTd_nos_base_CISM_NCA_SU_RCP26_95pc,facecolor='#0000ff',alpha=0.5)\n",
    "ax.fill_between(Time, SL_wTd_nos_base_CISM_NCA_SU_RCP26_17pc, SL_wTd_nos_base_CISM_NCA_SU_RCP26_83pc,facecolor='#0000ff')\n",
    "ax.plot(Time, SL_wTd_nos_base_CISM_NCA_SU_RCP26_50pc, '#ffffff')\n",
    "ax.plot(Time, Time*0, '#000000')\n",
    "\n",
    "ax.xaxis.set_visible(False)\n",
    "ax.yaxis.set_visible(False)\n",
    "ax.set_xlim(xlimit)\n",
    "ax.set_ylim(ylimit)\n",
    "ax.xaxis.set_tick_params(labelsize=SizeOfFont)\n",
    "ax.yaxis.set_tick_params(labelsize=SizeOfFont)\n",
    "ax.set(adjustable='box',aspect=AspectRatio)\n",
    "ax.text(ScalingTextXPos,ScalingTextYPos,\"CISM NCA\",fontsize = SizeOfFont)\n",
    "#ax.set_ylabel(\"Sea level response (m)\",fontsize = SizeOfFont)\n",
    "#ax.set_xlabel(\"Time (years)\",fontsize = SizeOfFont)\n",
    "#ScalingText = \"r = \" + str(np.round(SF_ISSM_UCI_BM08_R5,2))\n",
    "#ax.text(ScalingTextXPos,ScalingTextYPos,ScalingText,fontsize = SizeOfFont)\n",
    "\n",
    "\n",
    "# FETI_VUB\n",
    "ax = axes[0,3]\n",
    "ax.fill_between(Time, SL_wTd_nos_base_FETI_VUB_SU_RCP26_01pc, SL_wTd_nos_base_FETI_VUB_SU_RCP26_99pc,facecolor='#0000ff',alpha=0.25)\n",
    "ax.fill_between(Time, SL_wTd_nos_base_FETI_VUB_SU_RCP26_05pc, SL_wTd_nos_base_FETI_VUB_SU_RCP26_95pc,facecolor='#0000ff',alpha=0.5)\n",
    "ax.fill_between(Time, SL_wTd_nos_base_FETI_VUB_SU_RCP26_17pc, SL_wTd_nos_base_FETI_VUB_SU_RCP26_83pc,facecolor='#0000ff')\n",
    "ax.plot(Time, SL_wTd_nos_base_FETI_VUB_SU_RCP26_50pc, '#ffffff')\n",
    "ax.plot(Time, Time*0, '#000000')\n",
    "\n",
    "ax.xaxis.set_visible(False)\n",
    "ax.yaxis.set_visible(False)\n",
    "ax.set_xlim(xlimit)\n",
    "ax.set_ylim(ylimit)\n",
    "ax.xaxis.set_tick_params(labelsize=SizeOfFont)\n",
    "ax.yaxis.set_tick_params(labelsize=SizeOfFont)\n",
    "ax.set(adjustable='box',aspect=AspectRatio)\n",
    "ax.text(ScalingTextXPos,ScalingTextYPos,\"FETI ULB\",fontsize = SizeOfFont)\n",
    "#ax.set_ylabel(\"Sea level response (m)\",fontsize = SizeOfFont)\n",
    "#ax.set_xlabel(\"Time (years)\",fontsize = SizeOfFont)\n",
    "#ScalingText = \"r = \" + str(np.round(SF_ISSM_UCI_BM08_R5,2))\n",
    "#ax.text(ScalingTextXPos,ScalingTextYPos,ScalingText,fontsize = SizeOfFont)\n",
    "\n",
    "\n",
    "# GRIS_LSC\n",
    "ax = axes[1,0]\n",
    "#ax.plot(ISSM_UCI_BM02_R5[:endyear],'g')\n",
    "ax.fill_between(Time, SL_wTd_nos_base_GRIS_LSC_SU_RCP26_01pc, SL_wTd_nos_base_GRIS_LSC_SU_RCP26_99pc,facecolor='#0000ff',alpha=0.25)\n",
    "ax.fill_between(Time, SL_wTd_nos_base_GRIS_LSC_SU_RCP26_05pc, SL_wTd_nos_base_GRIS_LSC_SU_RCP26_95pc,facecolor='#0000ff',alpha=0.5)\n",
    "ax.fill_between(Time, SL_wTd_nos_base_GRIS_LSC_SU_RCP26_17pc, SL_wTd_nos_base_GRIS_LSC_SU_RCP26_83pc,facecolor='#0000ff')\n",
    "ax.plot(Time, SL_wTd_nos_base_GRIS_LSC_SU_RCP26_50pc, '#ffffff')\n",
    "ax.plot(Time, Time*0, '#000000')\n",
    "\n",
    "ax.xaxis.set_visible(False)\n",
    "#ax.yaxis.set_visible(False)\n",
    "ax.set_xlim(xlimit)\n",
    "ax.set_ylim(ylimit)\n",
    "ax.xaxis.set_tick_params(labelsize=SizeOfFont)\n",
    "ax.yaxis.set_tick_params(labelsize=SizeOfFont)\n",
    "ax.set(adjustable='box',aspect=AspectRatio)\n",
    "ax.text(ScalingTextXPos,ScalingTextYPos,\"GRIS LSC\",fontsize = SizeOfFont)\n",
    "#ax.set_ylabel(\"Sea level response (m)\",fontsize = SizeOfFont)\n",
    "#ax.set_xlabel(\"Time (years)\",fontsize = SizeOfFont)\n",
    "#ScalingText = \"r = \" + str(np.round(SF_ISSM_UCI_BM08_R5,2))\n",
    "#ax.text(ScalingTextXPos,ScalingTextYPos,ScalingText,fontsize = SizeOfFont)\n",
    "\n",
    "\n",
    "# IMAU_VUB\n",
    "ax = axes[1,1]\n",
    "#ax.plot(ISSM_UCI_BM02_R5[:endyear],'g',label=\"ISSM_UCI_BM02_R5\")\n",
    "ax.fill_between(Time, SL_wTd_nos_base_IMAU_VUB_SU_RCP26_01pc, SL_wTd_nos_base_IMAU_VUB_SU_RCP26_99pc,facecolor='#0000ff',alpha=0.25)\n",
    "ax.fill_between(Time, SL_wTd_nos_base_IMAU_VUB_SU_RCP26_05pc, SL_wTd_nos_base_IMAU_VUB_SU_RCP26_95pc,facecolor='#0000ff',alpha=0.5)\n",
    "ax.fill_between(Time, SL_wTd_nos_base_IMAU_VUB_SU_RCP26_17pc, SL_wTd_nos_base_IMAU_VUB_SU_RCP26_83pc,facecolor='#0000ff')\n",
    "ax.plot(Time, SL_wTd_nos_base_IMAU_VUB_SU_RCP26_50pc, '#ffffff')\n",
    "ax.plot(Time, Time*0, '#000000')\n",
    "\n",
    "ax.xaxis.set_visible(False)\n",
    "ax.yaxis.set_visible(False)\n",
    "ax.set_xlim(xlimit)\n",
    "ax.set_ylim(ylimit)\n",
    "ax.xaxis.set_tick_params(labelsize=SizeOfFont)\n",
    "ax.yaxis.set_tick_params(labelsize=SizeOfFont)\n",
    "ax.set(adjustable='box',aspect=AspectRatio)\n",
    "ax.text(ScalingTextXPos,ScalingTextYPos,\"IMAU UU\",fontsize = SizeOfFont)\n",
    "#ax.set_ylabel(\"Sea level response (m)\",fontsize = SizeOfFont)\n",
    "#ax.set_xlabel(\"Time (years)\",fontsize = SizeOfFont)\n",
    "#ScalingText = \"r = \" + str(np.round(SF_ISSM_UCI_BM08_R5,2))\n",
    "#ax.text(ScalingTextXPos,ScalingTextYPos,ScalingText,fontsize = SizeOfFont)\n",
    "\n",
    "\n",
    "# ISSM_JPL\n",
    "ax = axes[1,2]\n",
    "#ax.plot(ISSM_UCI_BM04_R5[:endyear],'b')\n",
    "ax.fill_between(Time, SL_wTd_nos_base_ISSM_JPL_SU_RCP26_01pc, SL_wTd_nos_base_ISSM_JPL_SU_RCP26_99pc,facecolor='#0000ff',alpha=0.25)\n",
    "ax.fill_between(Time, SL_wTd_nos_base_ISSM_JPL_SU_RCP26_05pc, SL_wTd_nos_base_ISSM_JPL_SU_RCP26_95pc,facecolor='#0000ff',alpha=0.5)\n",
    "ax.fill_between(Time, SL_wTd_nos_base_ISSM_JPL_SU_RCP26_17pc, SL_wTd_nos_base_ISSM_JPL_SU_RCP26_83pc,facecolor='#0000ff')\n",
    "ax.plot(Time, SL_wTd_nos_base_ISSM_JPL_SU_RCP26_50pc, '#ffffff')\n",
    "ax.plot(Time, Time*0, '#000000')\n",
    "\n",
    "ax.xaxis.set_visible(False)\n",
    "ax.yaxis.set_visible(False)\n",
    "ax.set_xlim(xlimit)\n",
    "ax.set_ylim(ylimit)\n",
    "ax.xaxis.set_tick_params(labelsize=SizeOfFont)\n",
    "ax.yaxis.set_tick_params(labelsize=SizeOfFont)\n",
    "ax.set(adjustable='box',aspect=AspectRatio)\n",
    "ax.text(ScalingTextXPos,ScalingTextYPos,\"ISSM JPL\",fontsize = SizeOfFont)\n",
    "#ax.set_ylabel(\"Sea level response (m)\",fontsize = SizeOfFont)\n",
    "#ax.set_xlabel(\"Time (years)\",fontsize = SizeOfFont)\n",
    "#ScalingText = \"r = \" + str(np.round(SF_ISSM_UCI_BM08_R5,2))\n",
    "#ax.text(ScalingTextXPos,ScalingTextYPos,ScalingText,fontsize = SizeOfFont)\n",
    "\n",
    "\n",
    "# ISSM_UCI\n",
    "ax = axes[1,3]\n",
    "#ax.plot(ISSM_UCI_BM02_R5[:endyear],'g',label=\"ISSM_UCI_BM02_R5\")\n",
    "ax.fill_between(Time, SL_wTd_nos_base_ISSM_UCI_SU_RCP26_01pc, SL_wTd_nos_base_ISSM_UCI_SU_RCP26_99pc,facecolor='#0000ff',alpha=0.25)\n",
    "ax.fill_between(Time, SL_wTd_nos_base_ISSM_UCI_SU_RCP26_05pc, SL_wTd_nos_base_ISSM_UCI_SU_RCP26_95pc,facecolor='#0000ff',alpha=0.5)\n",
    "ax.fill_between(Time, SL_wTd_nos_base_ISSM_UCI_SU_RCP26_17pc, SL_wTd_nos_base_ISSM_UCI_SU_RCP26_83pc,facecolor='#0000ff')\n",
    "ax.plot(Time, SL_wTd_nos_base_ISSM_UCI_SU_RCP26_50pc, '#ffffff')\n",
    "ax.plot(Time, Time*0, '#000000')\n",
    "\n",
    "ax.xaxis.set_visible(False)\n",
    "ax.yaxis.set_visible(False)\n",
    "#ax.yaxis.set_label_position(\"right\")\n",
    "ax.yaxis.set_ticks_position(\"right\")\n",
    "ax.set_xlim(xlimit)\n",
    "ax.set_ylim(ylimit)\n",
    "ax.xaxis.set_tick_params(labelsize=SizeOfFont)\n",
    "ax.yaxis.set_tick_params(labelsize=SizeOfFont)\n",
    "ax.set(adjustable='box',aspect=AspectRatio)\n",
    "ax.text(ScalingTextXPos,ScalingTextYPos,\"ISSM UCI\",fontsize = SizeOfFont)\n",
    "#ax.set_ylabel(\"Sea level response (m)\",fontsize = SizeOfFont)\n",
    "#ax.set_xlabel(\"Time (years)\",fontsize = SizeOfFont)\n",
    "#ScalingText = \"r = \" + str(np.round(SF_ISSM_UCI_BM08_R5,2))\n",
    "#ax.text(ScalingTextXPos2,ScalingTextYPos2,ScalingText,fontsize = SizeOfFont)\n",
    "\n",
    "\n",
    "# MALI_LAN\n",
    "ax = axes[2,0]\n",
    "#ax.plot(MALI_LAN_BM02_R5[:endyear],'g',label=\"ISSM_UCI_BM02_R5\")\n",
    "ax.fill_between(Time, SL_wTd_nos_base_MALI_LAN_SU_RCP26_01pc, SL_wTd_nos_base_MALI_LAN_SU_RCP26_99pc,facecolor='#0000ff',alpha=0.25)\n",
    "ax.fill_between(Time, SL_wTd_nos_base_MALI_LAN_SU_RCP26_05pc, SL_wTd_nos_base_MALI_LAN_SU_RCP26_95pc,facecolor='#0000ff',alpha=0.5)\n",
    "ax.fill_between(Time, SL_wTd_nos_base_MALI_LAN_SU_RCP26_17pc, SL_wTd_nos_base_MALI_LAN_SU_RCP26_83pc,facecolor='#0000ff')\n",
    "ax.plot(Time, SL_wTd_nos_base_MALI_LAN_SU_RCP26_50pc, '#ffffff')\n",
    "ax.plot(Time, Time*0, '#000000')\n",
    "\n",
    "ax.xaxis.set_visible(False)\n",
    "#ax.yaxis.set_visible(False)\n",
    "#ax.yaxis.set_label_position(\"right\")\n",
    "#ax.yaxis.set_ticks_position(\"right\")\n",
    "ax.set_xlim(xlimit)\n",
    "ax.set_ylim(ylimit)\n",
    "ax.xaxis.set_tick_params(labelsize=SizeOfFont)\n",
    "ax.yaxis.set_tick_params(labelsize=SizeOfFont)\n",
    "ax.set(adjustable='box',aspect=AspectRatio)\n",
    "ax.text(ScalingTextXPos,ScalingTextYPos,\"MALI DOE\",fontsize = SizeOfFont)\n",
    "#ax.set_ylabel(\"Sea level response (m)\",fontsize = SizeOfFont)\n",
    "#ax.set_xlabel(\"Time (years)\",fontsize = SizeOfFont)\n",
    "#ScalingText = \"r = \" + str(np.round(SF_ISSM_UCI_BM08_R5,2))\n",
    "#ax.text(ScalingTextXPos2,ScalingTextYPos2,ScalingText,fontsize = SizeOfFont)\n",
    "\n",
    "\n",
    "# PISM_AWI\n",
    "ax = axes[2,1]\n",
    "#ax.plot(ISSM_UCI_BM02_R5[:endyear],'g',label=\"ISSM_UCI_BM02_R5\")\n",
    "ax.fill_between(Time, SL_wTd_nos_base_PISM_AWI_SU_RCP26_01pc, SL_wTd_nos_base_PISM_AWI_SU_RCP26_99pc,facecolor='#0000ff',alpha=0.25)\n",
    "ax.fill_between(Time, SL_wTd_nos_base_PISM_AWI_SU_RCP26_05pc, SL_wTd_nos_base_PISM_AWI_SU_RCP26_95pc,facecolor='#0000ff',alpha=0.5)\n",
    "ax.fill_between(Time, SL_wTd_nos_base_PISM_AWI_SU_RCP26_17pc, SL_wTd_nos_base_PISM_AWI_SU_RCP26_83pc,facecolor='#0000ff')\n",
    "ax.plot(Time, SL_wTd_nos_base_PISM_AWI_SU_RCP26_50pc, '#ffffff')\n",
    "ax.plot(Time, Time*0, '#000000')\n",
    "\n",
    "ax.xaxis.set_visible(False)\n",
    "ax.yaxis.set_visible(False)\n",
    "ax.set_xlim(xlimit)\n",
    "ax.set_ylim(ylimit)\n",
    "ax.xaxis.set_tick_params(labelsize=SizeOfFont)\n",
    "ax.yaxis.set_tick_params(labelsize=SizeOfFont)\n",
    "ax.set(adjustable='box',aspect=AspectRatio)\n",
    "ax.text(ScalingTextXPos,ScalingTextYPos,\"PISM AWI\",fontsize = SizeOfFont)\n",
    "ax.set_ylabel(\"Sea level response (m)\",fontsize = SizeOfFont)\n",
    "ax.set_xlabel(\"Time (years)\",fontsize = SizeOfFont)\n",
    "#ScalingText = \"r = \" + str(np.round(SF_ISSM_UCI_BM08_R5,2))\n",
    "#ax.text(ScalingTextXPos,ScalingTextYPos,ScalingText,fontsize = SizeOfFont)\n",
    "\n",
    "\n",
    "# PISM_DMI\n",
    "ax = axes[2,2]\n",
    "#ax.plot(PISM_DMI_BM02_R5[:endyear],'g',label=\"ISSM_UCI_BM02_R5\")\n",
    "ax.fill_between(Time, SL_wTd_nos_base_PISM_DMI_SU_RCP26_01pc, SL_wTd_nos_base_PISM_DMI_SU_RCP26_99pc,facecolor='#0000ff',alpha=0.25)\n",
    "ax.fill_between(Time, SL_wTd_nos_base_PISM_DMI_SU_RCP26_05pc, SL_wTd_nos_base_PISM_DMI_SU_RCP26_95pc,facecolor='#0000ff',alpha=0.5)\n",
    "ax.fill_between(Time, SL_wTd_nos_base_PISM_DMI_SU_RCP26_17pc, SL_wTd_nos_base_PISM_DMI_SU_RCP26_83pc,facecolor='#0000ff')\n",
    "ax.plot(Time, SL_wTd_nos_base_PISM_DMI_SU_RCP26_50pc, '#ffffff')\n",
    "ax.plot(Time, Time*0, '#000000')\n",
    "\n",
    "ax.xaxis.set_visible(False)\n",
    "ax.yaxis.set_visible(False)\n",
    "ax.set_xlim(xlimit)\n",
    "ax.set_ylim(ylimit)\n",
    "ax.xaxis.set_tick_params(labelsize=SizeOfFont)\n",
    "ax.yaxis.set_tick_params(labelsize=SizeOfFont)\n",
    "ax.set(adjustable='box',aspect=AspectRatio)\n",
    "ax.text(ScalingTextXPos,ScalingTextYPos,\"PISM DMI\",fontsize = SizeOfFont)\n",
    "ax.set_ylabel(\"Sea level response (m)\",fontsize = SizeOfFont)\n",
    "ax.set_xlabel(\"Time (years)\",fontsize = SizeOfFont)\n",
    "#ScalingText = \"r = \" + str(np.round(SF_ISSM_UCI_BM08_R5,2))\n",
    "#ax.text(ScalingTextXPos,ScalingTextYPos,ScalingText,fontsize = SizeOfFont)\n",
    "\n",
    "\n",
    "# PISM_PIK\n",
    "ax = axes[2,3]\n",
    "#ax.plot(PISM_PIK_BM04_R5[:endyear],'b')\n",
    "ax.fill_between(Time, SL_wTd_nos_base_PISM_PIK_SU_RCP26_01pc, SL_wTd_nos_base_PISM_PIK_SU_RCP26_99pc,facecolor='#0000ff',alpha=0.25)\n",
    "ax.fill_between(Time, SL_wTd_nos_base_PISM_PIK_SU_RCP26_05pc, SL_wTd_nos_base_PISM_PIK_SU_RCP26_95pc,facecolor='#0000ff',alpha=0.5)\n",
    "ax.fill_between(Time, SL_wTd_nos_base_PISM_PIK_SU_RCP26_17pc, SL_wTd_nos_base_PISM_PIK_SU_RCP26_83pc,facecolor='#0000ff')\n",
    "ax.plot(Time, SL_wTd_nos_base_PISM_PIK_SU_RCP26_50pc, '#ffffff')\n",
    "ax.plot(Time, Time*0, '#000000')\n",
    "\n",
    "ax.xaxis.set_visible(False)\n",
    "ax.yaxis.set_visible(False)\n",
    "ax.set_xlim(xlimit)\n",
    "ax.set_ylim(ylimit)\n",
    "ax.xaxis.set_tick_params(labelsize=SizeOfFont)\n",
    "ax.yaxis.set_tick_params(labelsize=SizeOfFont)\n",
    "ax.set(adjustable='box',aspect=AspectRatio)\n",
    "ax.text(ScalingTextXPos,ScalingTextYPos,\"PISM PIK\",fontsize = SizeOfFont)\n",
    "#ax.set_ylabel(\"Sea level response (m)\",fontsize = SizeOfFont)\n",
    "#ax.set_xlabel(\"Time (years)\",fontsize = SizeOfFont)\n",
    "#ScalingText = \"r = \" + str(np.round(SF_ISSM_UCI_BM08_R5,2))\n",
    "#ax.text(ScalingTextXPos,ScalingTextYPos,ScalingText,fontsize = SizeOfFont)\n",
    "\n",
    "\n",
    "# PISM_VUW\n",
    "ax = axes[3,0]\n",
    "#ax.plot(ISSM_UCI_BM02_R5[:endyear],'g',label=\"ISSM_UCI_BM02_R5\")\n",
    "ax.fill_between(Time, SL_wTd_nos_base_PISM_VUW_SU_RCP26_01pc, SL_wTd_nos_base_PISM_VUW_SU_RCP26_99pc,facecolor='#0000ff',alpha=0.25)\n",
    "ax.fill_between(Time, SL_wTd_nos_base_PISM_VUW_SU_RCP26_05pc, SL_wTd_nos_base_PISM_VUW_SU_RCP26_95pc,facecolor='#0000ff',alpha=0.5)\n",
    "ax.fill_between(Time, SL_wTd_nos_base_PISM_VUW_SU_RCP26_17pc, SL_wTd_nos_base_PISM_VUW_SU_RCP26_83pc,facecolor='#0000ff')\n",
    "ax.plot(Time, SL_wTd_nos_base_PISM_VUW_SU_RCP26_50pc, '#ffffff')\n",
    "ax.plot(Time, Time*0, '#000000')\n",
    "\n",
    "#ax.xaxis.set_visible(False)\n",
    "#ax.yaxis.set_visible(False)\n",
    "#ax.yaxis.set_label_position(\"right\")\n",
    "#ax.yaxis.set_ticks_position(\"right\")\n",
    "ax.set_xlim(xlimit)\n",
    "ax.set_ylim(ylimit)\n",
    "ax.xaxis.set_tick_params(labelsize=SizeOfFont)\n",
    "ax.yaxis.set_tick_params(labelsize=SizeOfFont)\n",
    "ax.set(adjustable='box',aspect=AspectRatio)\n",
    "ax.text(ScalingTextXPos,ScalingTextYPos,\"PISM VUW\",fontsize = SizeOfFont)\n",
    "ax.text(XlabelXPos, XlabelYPos,\"Sea level response from the Peninsula (m)\",fontsize = SizeOfFont, rotation = 90)\n",
    "#ax.set_ylabel(\"Sea level response from East Antarctica(m)\",fontsize = SizeOfFont)\n",
    "ax.set_xlabel(\"Time (years)\",fontsize = SizeOfFont)\n",
    "#ScalingText = \"r = \" + str(np.round(SF_ISSM_UCI_BM08_R5,2))\n",
    "#ax.text(ScalingTextXPos2,ScalingTextYPos2,ScalingText,fontsize = SizeOfFont)\n",
    "\n",
    "# PS3D_PSU\n",
    "ax = axes[3,1]\n",
    "#ax.plot(ISSM_UCI_BM02_R5[:endyear],'g',label=\"ISSM_UCI_BM02_R5\")\n",
    "ax.fill_between(Time, SL_wTd_nos_base_PS3D_PSU_SU_RCP26_01pc, SL_wTd_nos_base_PS3D_PSU_SU_RCP26_99pc,facecolor='#0000ff',alpha=0.25)\n",
    "ax.fill_between(Time, SL_wTd_nos_base_PS3D_PSU_SU_RCP26_05pc, SL_wTd_nos_base_PS3D_PSU_SU_RCP26_95pc,facecolor='#0000ff',alpha=0.5)\n",
    "ax.fill_between(Time, SL_wTd_nos_base_PS3D_PSU_SU_RCP26_17pc, SL_wTd_nos_base_PS3D_PSU_SU_RCP26_83pc,facecolor='#0000ff')\n",
    "ax.plot(Time, SL_wTd_nos_base_PS3D_PSU_SU_RCP26_50pc, '#ffffff')\n",
    "ax.plot(Time, Time*0, '#000000')\n",
    "\n",
    "#ax.xaxis.set_visible(False)\n",
    "ax.yaxis.set_visible(False)\n",
    "ax.set_xlim(xlimit)\n",
    "ax.set_ylim(ylimit)\n",
    "ax.xaxis.set_tick_params(labelsize=SizeOfFont)\n",
    "ax.yaxis.set_tick_params(labelsize=SizeOfFont)\n",
    "ax.set(adjustable='box',aspect=AspectRatio)\n",
    "ax.text(ScalingTextXPos,ScalingTextYPos,\"PS3D PSU\",fontsize = SizeOfFont)\n",
    "#ax.set_ylabel(\"Sea level response (m)\",fontsize = SizeOfFont)\n",
    "ax.set_xlabel(\"Time (years)\",fontsize = SizeOfFont)\n",
    "#ScalingText = \"r = \" + str(np.round(SF_ISSM_UCI_BM08_R5,2))\n",
    "#ax.text(ScalingTextXPos,ScalingTextYPos,ScalingText,fontsize = SizeOfFont)\n",
    "ax.xaxis.set_ticks(np.arange(1950, 2150, 50))\n",
    "\n",
    "\n",
    "# SICO_UHO\n",
    "ax = axes[3,2]\n",
    "#ax.plot(ISSM_UCI_BM04_R5[:endyear],'b')\n",
    "ax.fill_between(Time, SL_wTd_nos_base_SICO_UHO_SU_RCP26_01pc, SL_wTd_nos_base_SICO_UHO_SU_RCP26_99pc,facecolor='#0000ff',alpha=0.25)\n",
    "ax.fill_between(Time, SL_wTd_nos_base_SICO_UHO_SU_RCP26_05pc, SL_wTd_nos_base_SICO_UHO_SU_RCP26_95pc,facecolor='#0000ff',alpha=0.5)\n",
    "ax.fill_between(Time, SL_wTd_nos_base_SICO_UHO_SU_RCP26_17pc, SL_wTd_nos_base_SICO_UHO_SU_RCP26_83pc,facecolor='#0000ff')\n",
    "ax.plot(Time, SL_wTd_nos_base_SICO_UHO_SU_RCP26_50pc, '#ffffff')\n",
    "ax.plot(Time, Time*0, '#000000')\n",
    "\n",
    "#ax.xaxis.set_visible(False)\n",
    "ax.yaxis.set_visible(False)\n",
    "ax.set_xlim(xlimit)\n",
    "ax.set_ylim(ylimit)\n",
    "ax.xaxis.set_tick_params(labelsize=SizeOfFont)\n",
    "ax.yaxis.set_tick_params(labelsize=SizeOfFont)\n",
    "ax.set(adjustable='box',aspect=AspectRatio)\n",
    "ax.text(ScalingTextXPos,ScalingTextYPos,\"SICO ILTS\",fontsize = SizeOfFont)\n",
    "#ax.set_ylabel(\"Sea level response (m)\",fontsize = SizeOfFont)\n",
    "ax.set_xlabel(\"Time (years)\",fontsize = SizeOfFont)\n",
    "ax.xaxis.set_ticks(np.arange(1950, 2150, 50))\n",
    "#ScalingText = \"r = \" + str(np.round(SF_ISSM_UCI_BM08_R5,2))\n",
    "#ax.text(ScalingTextXPos,ScalingTextYPos,ScalingText,fontsize = SizeOfFont)\n",
    "\n",
    "\n",
    "# UA UNN\n",
    "ax = axes[3,3]\n",
    "ax.fill_between(Time, SL_wTd_nos_base_UA_UNN_SU_RCP26_01pc, SL_wTd_nos_base_UA_UNN_SU_RCP26_99pc,facecolor='#0000ff',alpha=0.25)\n",
    "ax.fill_between(Time, SL_wTd_nos_base_UA_UNN_SU_RCP26_05pc, SL_wTd_nos_base_UA_UNN_SU_RCP26_95pc,facecolor='#0000ff',alpha=0.5)\n",
    "ax.fill_between(Time, SL_wTd_nos_base_UA_UNN_SU_RCP26_17pc, SL_wTd_nos_base_UA_UNN_SU_RCP26_83pc,facecolor='#0000ff')\n",
    "ax.plot(Time, SL_wTd_nos_base_UA_UNN_SU_RCP26_50pc, '#ffffff')\n",
    "ax.plot(Time, Time*0, '#000000')\n",
    "\n",
    "#ax.xaxis.set_visible(False)\n",
    "ax.yaxis.set_visible(False)\n",
    "ax.yaxis.set_label_position(\"right\")\n",
    "ax.yaxis.set_ticks_position(\"right\")\n",
    "ax.set_xlim(xlimit)\n",
    "ax.set_ylim(ylimit)\n",
    "ax.xaxis.set_tick_params(labelsize=SizeOfFont)\n",
    "ax.yaxis.set_tick_params(labelsize=SizeOfFont)\n",
    "ax.set(adjustable='box',aspect=AspectRatio)\n",
    "ax.text(ScalingTextXPos,ScalingTextYPos,\"ÚA UNN\",fontsize = SizeOfFont)\n",
    "ax.set_ylabel(\"Sea level response from the Peninsula (m)\",fontsize = SizeOfFont)\n",
    "ax.set_xlabel(\"Time (years)\",fontsize = SizeOfFont)\n",
    "ax.xaxis.set_ticks(np.arange(1950, 2150, 50))\n",
    "#ScalingText = \"r = \" + str(np.round(SF_ISSM_UCI_BM08_R5,2))\n",
    "#ax.text(ScalingTextXPos2,ScalingTextYPos2,ScalingText,fontsize = SizeOfFont)\n",
    "\n",
    "\n",
    "\n",
    "fp.savefig(\"Figures/RCP26_weighted_Peninsula.pdf\", bbox_inches='tight')"
   ]
  },
  {
   "cell_type": "code",
   "execution_count": 24,
   "metadata": {},
   "outputs": [
    {
     "data": {
      "text/plain": [
       "<Figure size 432x288 with 0 Axes>"
      ]
     },
     "metadata": {},
     "output_type": "display_data"
    },
    {
     "data": {
      "image/png": "[encoded data removed]",
      "text/plain": [
       "<Figure size 1440x960 with 1 Axes>"
      ]
     },
     "metadata": {
      "needs_background": "light"
     },
     "output_type": "display_data"
    }
   ],
   "source": [
    "fp = plt.figure()\n",
    "\n",
    "# Set plotting variables\n",
    "SizeOfFont = 20\n",
    "#Scalefactor = 1000 # 1 = m and 1000 = mm\n",
    "\n",
    "# For all panels but Whole Antarctica\n",
    "#xmin = 1992\n",
    "#xmax = 2017\n",
    "#ymin = 0.0*Scalefactor\n",
    "#ymax = 0.016*Scalefactor\n",
    "#xlimit = [xmin, xmax]\n",
    "#ylimit = [ymin, ymax]\n",
    "#AspectRatio = 1.0*((xmax-xmin)/(ymax-ymin))\n",
    "\n",
    "\n",
    "#figwidth = 15\n",
    "\n",
    "#ScalingTextXPos= xmin+10\n",
    "#ScalingTextYPos= ymax-0.08\n",
    "\n",
    "fp, axes = plt.subplots(1, 1,figsize=(figwidth,figwidth/3*2))\n",
    "fp.subplots_adjust(hspace=0.2, wspace=0.05)\n",
    "\n",
    "ax = axes\n",
    "#plt.fill_between(Time, SL_wTd_nos_base_RCP26_01pc*Scalefactor, SL_wTd_nos_base_RCP26_99pc*Scalefactor,facecolor='#0000ff',alpha=0.25)\n",
    "#plt.fill_between(Time, SL_wTd_nos_base_RCP26_05pc*Scalefactor, SL_wTd_nos_base_RCP26_95pc*Scalefactor,facecolor='#0000ff',alpha=0.5)\n",
    "#plt.fill_between(Time, SL_wTd_nos_base_RCP26_17pc*Scalefactor, SL_wTd_nos_base_RCP26_83pc*Scalefactor,facecolor='#0000ff')\n",
    "#plt.plot(Time, SL_wTd_nos_base_RCP26_50pc*Scalefactor, '#ffffff')\n",
    "ax.plot(Time, Time*0, '#000000')\n",
    "\n",
    "ax.fill_between(Time, SL_wTd_nos_base_RCP26_01pc, SL_wTd_nos_base_RCP26_99pc,facecolor='#0000ff',alpha=0.25)\n",
    "ax.fill_between(Time, SL_wTd_nos_base_RCP26_05pc, SL_wTd_nos_base_RCP26_95pc,facecolor='#0000ff',alpha=0.5)\n",
    "ax.fill_between(Time, SL_wTd_nos_base_RCP26_17pc, SL_wTd_nos_base_RCP26_83pc,facecolor='#0000ff')\n",
    "ax.plot(Time, SL_wTd_nos_base_RCP26_50pc, '#ffffff')\n",
    "\n",
    "ax.plot(Time, Time*0, '#000000')\n",
    "\n",
    "#ax.plot(ObsTime,ObsSL,'k')\n",
    "#ax.plot(ObsTime,ObsSL-ObsUncertainty,':k')\n",
    "#ax.plot(ObsTime,ObsSL+ObsUncertainty,':k')\n",
    "\n",
    "#ax.xaxis.set_visible(False)\n",
    "#ax.yaxis.set_visible(False)\n",
    "#ax.yaxis.set_label_position(\"right\")\n",
    "ax.set_xlim(xlimit)\n",
    "ax.set_ylim(ylimit)\n",
    "ax.xaxis.set_tick_params(labelsize=SizeOfFont)\n",
    "ax.yaxis.set_tick_params(labelsize=SizeOfFont)\n",
    "ax.set(adjustable='box',aspect=AspectRatio)\n",
    "#ax.set_title(\"Historic\",fontsize = SizeOfFont)\n",
    "ax.set_ylabel(\"Sea level response from the Peninsula (m)\",fontsize = SizeOfFont)\n",
    "ax.set_xlabel(\"Time (years)\",fontsize = SizeOfFont)\n",
    "\n",
    "plt.show()\n",
    "fp.savefig(\"Figures/RCP26_weighted_Peninsula_combined.pdf\", bbox_inches='tight')"
   ]
  },
  {
   "cell_type": "code",
   "execution_count": null,
   "metadata": {},
   "outputs": [],
   "source": []
  },
  {
   "cell_type": "code",
   "execution_count": null,
   "metadata": {},
   "outputs": [],
   "source": []
  },
  {
   "cell_type": "code",
   "execution_count": null,
   "metadata": {},
   "outputs": [],
   "source": []
  }
 ],
 "metadata": {
  "kernelspec": {
   "display_name": "Python 3",
   "language": "python",
   "name": "python3"
  },
  "language_info": {
   "codemirror_mode": {
    "name": "ipython",
    "version": 3
   },
   "file_extension": ".py",
   "mimetype": "text/x-python",
   "name": "python",
   "nbconvert_exporter": "python",
   "pygments_lexer": "ipython3",
   "version": "3.7.0"
  }
 },
 "nbformat": 4,
 "nbformat_minor": 2
}
