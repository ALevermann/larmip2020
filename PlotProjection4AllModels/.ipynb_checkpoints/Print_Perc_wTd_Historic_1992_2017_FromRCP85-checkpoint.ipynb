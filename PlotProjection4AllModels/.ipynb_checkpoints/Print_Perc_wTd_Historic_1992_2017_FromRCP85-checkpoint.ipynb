{
 "cells": [
  {
   "cell_type": "code",
   "execution_count": 1,
   "metadata": {},
   "outputs": [],
   "source": [
    "%matplotlib inline"
   ]
  },
  {
   "cell_type": "code",
   "execution_count": 2,
   "metadata": {},
   "outputs": [],
   "source": [
    "import numpy as np\n",
    "import netCDF4 as nc\n",
    "import matplotlib.pylab as plt\n",
    "import imp\n",
    "import csv\n",
    "import pandas as pd\n",
    "from io import StringIO"
   ]
  },
  {
   "cell_type": "code",
   "execution_count": 3,
   "metadata": {},
   "outputs": [
    {
     "data": {
      "text/plain": [
       "[<matplotlib.lines.Line2D at 0x1ac063872b0>]"
      ]
     },
     "execution_count": 3,
     "metadata": {},
     "output_type": "execute_result"
    },
    {
     "data": {
      "image/png": "[encoded data removed]",
      "text/plain": [
       "<Figure size 432x288 with 1 Axes>"
      ]
     },
     "metadata": {
      "needs_background": "light"
     },
     "output_type": "display_data"
    }
   ],
   "source": [
    "fname = \"../ObservationalData/imbie_dataset-2018_06_08.dat\" # File to read\n",
    "df = pd.read_csv(fname,sep='\\t',index_col=-1,header=None)\n",
    "ObsData = np.array(df.values)\n",
    "ObsTime = ObsData[:,0]\n",
    "ObsSL = ObsData[:,3]\n",
    "ObsUncertainty = ObsData[:,4]\n",
    "#print(ObsData[:,0])\n",
    "plt.plot(ObsTime,ObsSL,'k')\n",
    "plt.plot(ObsTime,ObsSL-ObsUncertainty,':k')\n",
    "plt.plot(ObsTime,ObsSL+ObsUncertainty,':k')\n",
    "\n",
    "#ObsDSL = ObsData[:,4]"
   ]
  },
  {
   "cell_type": "code",
   "execution_count": 4,
   "metadata": {},
   "outputs": [
    {
     "name": "stdout",
     "output_type": "stream",
     "text": [
      "3.6900000000000004 7.4 11.11\n",
      "200\n",
      "-83\n",
      "2017\n"
     ]
    }
   ],
   "source": [
    "Obs166=(ObsSL[-1]-ObsUncertainty[-1])\n",
    "Obs500=(ObsSL[-1])\n",
    "Obs833=(ObsSL[-1]+ObsUncertainty[-1])\n",
    "\n",
    "print(Obs166,Obs500,Obs833)\n",
    "\n",
    "Time = np.arange(1900,2100)\n",
    "outputyear = -(2100-2017)\n",
    "\n",
    "print(len(Time))\n",
    "print(outputyear)\n",
    "print(Time[outputyear])"
   ]
  },
  {
   "cell_type": "code",
   "execution_count": 5,
   "metadata": {},
   "outputs": [
    {
     "name": "stdout",
     "output_type": "stream",
     "text": [
      "[0.0020689173, 0.0035876017, 0.0049037645, 0.007023167, 0.011014247, 0.019208433, 0.031249166]\n"
     ]
    }
   ],
   "source": [
    "fname=\"..\\ComputeCdfsOfProjections\\Cdfs/SL_hindcast_wTd_nos_base_AISM_VUB_RCP85_cdf.nc\"\n",
    "ncf = nc.Dataset(fname, \"r\")\n",
    "\n",
    "Percentile = ncf.variables[\"Percentile\"][:]\n",
    "SL_wTd_nos_base_R0 = ncf.variables[\"Antarctica\"][:]\n",
    "\n",
    "SL_wTd_nos_AISM_VUB_RCP85_table = [SL_wTd_nos_base_R0[outputyear,5],SL_wTd_nos_base_R0[outputyear,50],SL_wTd_nos_base_R0[outputyear,166],SL_wTd_nos_base_R0[outputyear,500],SL_wTd_nos_base_R0[outputyear,833],SL_wTd_nos_base_R0[outputyear,950],SL_wTd_nos_base_R0[outputyear,995]]\n",
    "\n",
    "print(SL_wTd_nos_AISM_VUB_RCP85_table)\n"
   ]
  },
  {
   "cell_type": "code",
   "execution_count": 6,
   "metadata": {},
   "outputs": [
    {
     "name": "stdout",
     "output_type": "stream",
     "text": [
      "[0.0019042004, 0.0036870337, 0.0059218667, 0.009092845, 0.013591611, 0.023159752, 0.03865166]\n"
     ]
    }
   ],
   "source": [
    "fname=\"..\\ComputeCdfsOfProjections\\Cdfs/SL_hindcast_wTd_nos_base_BISI_LBL_RCP85_cdf.nc\"\n",
    "ncf = nc.Dataset(fname, \"r\")\n",
    "\n",
    "Percentile = ncf.variables[\"Percentile\"][:]\n",
    "SL_wTd_nos_base_R0 = ncf.variables[\"Antarctica\"][:]\n",
    "\n",
    "SL_wTd_nos_BISI_LBL_RCP85_table = [SL_wTd_nos_base_R0[outputyear,5],SL_wTd_nos_base_R0[outputyear,50],SL_wTd_nos_base_R0[outputyear,166],SL_wTd_nos_base_R0[outputyear,500],SL_wTd_nos_base_R0[outputyear,833],SL_wTd_nos_base_R0[outputyear,950],SL_wTd_nos_base_R0[outputyear,995]]\n",
    "\n",
    "print(SL_wTd_nos_BISI_LBL_RCP85_table)\n"
   ]
  },
  {
   "cell_type": "code",
   "execution_count": 7,
   "metadata": {},
   "outputs": [
    {
     "name": "stdout",
     "output_type": "stream",
     "text": [
      "[0.0014795762, 0.0025494166, 0.0036744385, 0.0055954047, 0.009052502, 0.015470116, 0.024528673]\n"
     ]
    }
   ],
   "source": [
    "fname=\"..\\ComputeCdfsOfProjections\\Cdfs/SL_hindcast_wTd_nos_base_CISM_NCA_RCP85_cdf.nc\"\n",
    "ncf = nc.Dataset(fname, \"r\")\n",
    "\n",
    "Percentile = ncf.variables[\"Percentile\"][:]\n",
    "SL_wTd_nos_base_R0 = ncf.variables[\"Antarctica\"][:]\n",
    "\n",
    "SL_wTd_nos_CISM_NCA_RCP85_table = [SL_wTd_nos_base_R0[outputyear,5],SL_wTd_nos_base_R0[outputyear,50],SL_wTd_nos_base_R0[outputyear,166],SL_wTd_nos_base_R0[outputyear,500],SL_wTd_nos_base_R0[outputyear,833],SL_wTd_nos_base_R0[outputyear,950],SL_wTd_nos_base_R0[outputyear,995]]\n",
    "\n",
    "print(SL_wTd_nos_CISM_NCA_RCP85_table)\n"
   ]
  },
  {
   "cell_type": "code",
   "execution_count": 8,
   "metadata": {},
   "outputs": [
    {
     "name": "stdout",
     "output_type": "stream",
     "text": [
      "[0.0018093813, 0.003332081, 0.004944308, 0.008030512, 0.01276667, 0.020938326, 0.032996166]\n"
     ]
    }
   ],
   "source": [
    "fname=\"..\\ComputeCdfsOfProjections\\Cdfs/SL_hindcast_wTd_nos_base_FETI_VUB_RCP85_cdf.nc\"\n",
    "ncf = nc.Dataset(fname, \"r\")\n",
    "\n",
    "Percentile = ncf.variables[\"Percentile\"][:]\n",
    "SL_wTd_nos_base_R0 = ncf.variables[\"Antarctica\"][:]\n",
    "\n",
    "SL_wTd_nos_FETI_VUB_RCP85_table = [SL_wTd_nos_base_R0[outputyear,5],SL_wTd_nos_base_R0[outputyear,50],SL_wTd_nos_base_R0[outputyear,166],SL_wTd_nos_base_R0[outputyear,500],SL_wTd_nos_base_R0[outputyear,833],SL_wTd_nos_base_R0[outputyear,950],SL_wTd_nos_base_R0[outputyear,995]]\n",
    "\n",
    "print(SL_wTd_nos_FETI_VUB_RCP85_table)\n"
   ]
  },
  {
   "cell_type": "code",
   "execution_count": 9,
   "metadata": {},
   "outputs": [
    {
     "name": "stdout",
     "output_type": "stream",
     "text": [
      "[0.00060694583, 0.0011816056, 0.002166746, 0.0044494905, 0.007570213, 0.012447482, 0.018605221]\n"
     ]
    }
   ],
   "source": [
    "fname=\"..\\ComputeCdfsOfProjections\\Cdfs/SL_hindcast_wTd_nos_base_GRIS_LSC_RCP85_cdf.nc\"\n",
    "ncf = nc.Dataset(fname, \"r\")\n",
    "\n",
    "Percentile = ncf.variables[\"Percentile\"][:]\n",
    "SL_wTd_nos_base_R0 = ncf.variables[\"Antarctica\"][:]\n",
    "\n",
    "SL_wTd_nos_GRIS_LSC_RCP85_table = [SL_wTd_nos_base_R0[outputyear,5],SL_wTd_nos_base_R0[outputyear,50],SL_wTd_nos_base_R0[outputyear,166],SL_wTd_nos_base_R0[outputyear,500],SL_wTd_nos_base_R0[outputyear,833],SL_wTd_nos_base_R0[outputyear,950],SL_wTd_nos_base_R0[outputyear,995]]\n",
    "\n",
    "print(SL_wTd_nos_GRIS_LSC_RCP85_table)\n"
   ]
  },
  {
   "cell_type": "code",
   "execution_count": 10,
   "metadata": {},
   "outputs": [
    {
     "name": "stdout",
     "output_type": "stream",
     "text": [
      "[0.0021554774, 0.0050405194, 0.009257485, 0.014297695, 0.022523642, 0.034720294, 0.06591658]\n"
     ]
    }
   ],
   "source": [
    "fname=\"..\\ComputeCdfsOfProjections\\Cdfs/SL_hindcast_wTd_nos_base_IMAU_VUB_RCP85_cdf.nc\"\n",
    "ncf = nc.Dataset(fname, \"r\")\n",
    "\n",
    "Percentile = ncf.variables[\"Percentile\"][:]\n",
    "SL_wTd_nos_base_R0 = ncf.variables[\"Antarctica\"][:]\n",
    "\n",
    "SL_wTd_nos_IMAU_VUB_RCP85_table = [SL_wTd_nos_base_R0[outputyear,5],SL_wTd_nos_base_R0[outputyear,50],SL_wTd_nos_base_R0[outputyear,166],SL_wTd_nos_base_R0[outputyear,500],SL_wTd_nos_base_R0[outputyear,833],SL_wTd_nos_base_R0[outputyear,950],SL_wTd_nos_base_R0[outputyear,995]]\n",
    "\n",
    "print(SL_wTd_nos_IMAU_VUB_RCP85_table)\n"
   ]
  },
  {
   "cell_type": "code",
   "execution_count": 11,
   "metadata": {},
   "outputs": [
    {
     "name": "stdout",
     "output_type": "stream",
     "text": [
      "[0.0017483155, 0.002919843, 0.0042337202, 0.0064642145, 0.010093156, 0.017492283, 0.028900757]\n"
     ]
    }
   ],
   "source": [
    "fname=\"..\\ComputeCdfsOfProjections\\Cdfs/SL_hindcast_wTd_nos_base_ISSM_JPL_RCP85_cdf.nc\"\n",
    "ncf = nc.Dataset(fname, \"r\")\n",
    "\n",
    "Percentile = ncf.variables[\"Percentile\"][:]\n",
    "SL_wTd_nos_base_R0 = ncf.variables[\"Antarctica\"][:]\n",
    "\n",
    "SL_wTd_nos_ISSM_JPL_RCP85_table = [SL_wTd_nos_base_R0[outputyear,5],SL_wTd_nos_base_R0[outputyear,50],SL_wTd_nos_base_R0[outputyear,166],SL_wTd_nos_base_R0[outputyear,500],SL_wTd_nos_base_R0[outputyear,833],SL_wTd_nos_base_R0[outputyear,950],SL_wTd_nos_base_R0[outputyear,995]]\n",
    "\n",
    "print(SL_wTd_nos_ISSM_JPL_RCP85_table)\n"
   ]
  },
  {
   "cell_type": "code",
   "execution_count": 12,
   "metadata": {},
   "outputs": [
    {
     "name": "stdout",
     "output_type": "stream",
     "text": [
      "[0.0036364952, 0.006856454, 0.010145301, 0.01467118, 0.022543874, 0.03881662, 0.06572605]\n"
     ]
    }
   ],
   "source": [
    "fname=\"..\\ComputeCdfsOfProjections\\Cdfs/SL_hindcast_wTd_nos_base_ISSM_UCI_RCP85_cdf.nc\"\n",
    "ncf = nc.Dataset(fname, \"r\")\n",
    "\n",
    "Percentile = ncf.variables[\"Percentile\"][:]\n",
    "SL_wTd_nos_base_R0 = ncf.variables[\"Antarctica\"][:]\n",
    "\n",
    "SL_wTd_nos_ISSM_UCI_RCP85_table = [SL_wTd_nos_base_R0[outputyear,5],SL_wTd_nos_base_R0[outputyear,50],SL_wTd_nos_base_R0[outputyear,166],SL_wTd_nos_base_R0[outputyear,500],SL_wTd_nos_base_R0[outputyear,833],SL_wTd_nos_base_R0[outputyear,950],SL_wTd_nos_base_R0[outputyear,995]]\n",
    "\n",
    "print(SL_wTd_nos_ISSM_UCI_RCP85_table)\n"
   ]
  },
  {
   "cell_type": "code",
   "execution_count": 13,
   "metadata": {},
   "outputs": [
    {
     "name": "stdout",
     "output_type": "stream",
     "text": [
      "[0.0019094894, 0.0038441652, 0.0056865, 0.008038895, 0.011944398, 0.020895932, 0.03544292]\n"
     ]
    }
   ],
   "source": [
    "fname=\"..\\ComputeCdfsOfProjections\\Cdfs/SL_hindcast_wTd_nos_base_MALI_LAN_RCP85_cdf.nc\"\n",
    "ncf = nc.Dataset(fname, \"r\")\n",
    "\n",
    "Percentile = ncf.variables[\"Percentile\"][:]\n",
    "SL_wTd_nos_base_R0 = ncf.variables[\"Antarctica\"][:]\n",
    "\n",
    "SL_wTd_nos_MALI_LAN_RCP85_table = [SL_wTd_nos_base_R0[outputyear,5],SL_wTd_nos_base_R0[outputyear,50],SL_wTd_nos_base_R0[outputyear,166],SL_wTd_nos_base_R0[outputyear,500],SL_wTd_nos_base_R0[outputyear,833],SL_wTd_nos_base_R0[outputyear,950],SL_wTd_nos_base_R0[outputyear,995]]\n",
    "\n",
    "print(SL_wTd_nos_MALI_LAN_RCP85_table)\n"
   ]
  },
  {
   "cell_type": "code",
   "execution_count": 14,
   "metadata": {},
   "outputs": [
    {
     "name": "stdout",
     "output_type": "stream",
     "text": [
      "[0.0011302882, 0.0023523893, 0.004059653, 0.0058837645, 0.009106268, 0.015718844, 0.024679156]\n"
     ]
    }
   ],
   "source": [
    "fname=\"..\\ComputeCdfsOfProjections\\Cdfs/SL_hindcast_wTd_nos_base_PISM_AWI_RCP85_cdf.nc\"\n",
    "ncf = nc.Dataset(fname, \"r\")\n",
    "\n",
    "Percentile = ncf.variables[\"Percentile\"][:]\n",
    "SL_wTd_nos_base_R0 = ncf.variables[\"Antarctica\"][:]\n",
    "\n",
    "SL_wTd_nos_PISM_AWI_RCP85_table = [SL_wTd_nos_base_R0[outputyear,5],SL_wTd_nos_base_R0[outputyear,50],SL_wTd_nos_base_R0[outputyear,166],SL_wTd_nos_base_R0[outputyear,500],SL_wTd_nos_base_R0[outputyear,833],SL_wTd_nos_base_R0[outputyear,950],SL_wTd_nos_base_R0[outputyear,995]]\n",
    "\n",
    "print(SL_wTd_nos_PISM_AWI_RCP85_table)\n"
   ]
  },
  {
   "cell_type": "code",
   "execution_count": 15,
   "metadata": {},
   "outputs": [
    {
     "name": "stdout",
     "output_type": "stream",
     "text": [
      "[0.005274523, 0.008863823, 0.012574039, 0.017395696, 0.025306376, 0.043784752, 0.07353351]\n"
     ]
    }
   ],
   "source": [
    "fname=\"..\\ComputeCdfsOfProjections\\Cdfs/SL_hindcast_wTd_nos_base_PISM_DMI_RCP85_cdf.nc\"\n",
    "ncf = nc.Dataset(fname, \"r\")\n",
    "\n",
    "Percentile = ncf.variables[\"Percentile\"][:]\n",
    "SL_wTd_nos_base_R0 = ncf.variables[\"Antarctica\"][:]\n",
    "\n",
    "SL_wTd_nos_PISM_DMI_RCP85_table = [SL_wTd_nos_base_R0[outputyear,5],SL_wTd_nos_base_R0[outputyear,50],SL_wTd_nos_base_R0[outputyear,166],SL_wTd_nos_base_R0[outputyear,500],SL_wTd_nos_base_R0[outputyear,833],SL_wTd_nos_base_R0[outputyear,950],SL_wTd_nos_base_R0[outputyear,995]]\n",
    "\n",
    "print(SL_wTd_nos_PISM_DMI_RCP85_table)\n"
   ]
  },
  {
   "cell_type": "code",
   "execution_count": 16,
   "metadata": {},
   "outputs": [
    {
     "name": "stdout",
     "output_type": "stream",
     "text": [
      "[0.0020894555, 0.004031715, 0.0061441166, 0.01026389, 0.01751541, 0.02828382, 0.03916242]\n"
     ]
    }
   ],
   "source": [
    "fname=\"..\\ComputeCdfsOfProjections\\Cdfs/SL_hindcast_wTd_nos_base_PISM_PIK_RCP85_cdf.nc\"\n",
    "ncf = nc.Dataset(fname, \"r\")\n",
    "\n",
    "Percentile = ncf.variables[\"Percentile\"][:]\n",
    "SL_wTd_nos_base_R0 = ncf.variables[\"Antarctica\"][:]\n",
    "\n",
    "SL_wTd_nos_PISM_PIK_RCP85_table = [SL_wTd_nos_base_R0[outputyear,5],SL_wTd_nos_base_R0[outputyear,50],SL_wTd_nos_base_R0[outputyear,166],SL_wTd_nos_base_R0[outputyear,500],SL_wTd_nos_base_R0[outputyear,833],SL_wTd_nos_base_R0[outputyear,950],SL_wTd_nos_base_R0[outputyear,995]]\n",
    "\n",
    "print(SL_wTd_nos_PISM_PIK_RCP85_table)\n"
   ]
  },
  {
   "cell_type": "code",
   "execution_count": 17,
   "metadata": {},
   "outputs": [
    {
     "name": "stdout",
     "output_type": "stream",
     "text": [
      "[0.005300224, 0.009560732, 0.014206918, 0.021519408, 0.033939604, 0.056586504, 0.098711066]\n"
     ]
    }
   ],
   "source": [
    "fname=\"..\\ComputeCdfsOfProjections\\Cdfs/SL_hindcast_wTd_nos_base_PISM_VUW_RCP85_cdf.nc\"\n",
    "ncf = nc.Dataset(fname, \"r\")\n",
    "\n",
    "Percentile = ncf.variables[\"Percentile\"][:]\n",
    "SL_wTd_nos_base_R0 = ncf.variables[\"Antarctica\"][:]\n",
    "\n",
    "SL_wTd_nos_PISM_VUW_RCP85_table = [SL_wTd_nos_base_R0[outputyear,5],SL_wTd_nos_base_R0[outputyear,50],SL_wTd_nos_base_R0[outputyear,166],SL_wTd_nos_base_R0[outputyear,500],SL_wTd_nos_base_R0[outputyear,833],SL_wTd_nos_base_R0[outputyear,950],SL_wTd_nos_base_R0[outputyear,995]]\n",
    "\n",
    "print(SL_wTd_nos_PISM_VUW_RCP85_table)\n"
   ]
  },
  {
   "cell_type": "code",
   "execution_count": 18,
   "metadata": {},
   "outputs": [
    {
     "name": "stdout",
     "output_type": "stream",
     "text": [
      "[0.0032461127, 0.0051553394, 0.0069364877, 0.011038963, 0.017660178, 0.028321158, 0.043151993]\n"
     ]
    }
   ],
   "source": [
    "fname=\"..\\ComputeCdfsOfProjections\\Cdfs/SL_hindcast_wTd_nos_base_PS3D_PSU_RCP85_cdf.nc\"\n",
    "ncf = nc.Dataset(fname, \"r\")\n",
    "\n",
    "Percentile = ncf.variables[\"Percentile\"][:]\n",
    "SL_wTd_nos_base_R0 = ncf.variables[\"Antarctica\"][:]\n",
    "\n",
    "SL_wTd_nos_PS3D_PSU_RCP85_table = [SL_wTd_nos_base_R0[outputyear,5],SL_wTd_nos_base_R0[outputyear,50],SL_wTd_nos_base_R0[outputyear,166],SL_wTd_nos_base_R0[outputyear,500],SL_wTd_nos_base_R0[outputyear,833],SL_wTd_nos_base_R0[outputyear,950],SL_wTd_nos_base_R0[outputyear,995]]\n",
    "\n",
    "print(SL_wTd_nos_PS3D_PSU_RCP85_table)\n"
   ]
  },
  {
   "cell_type": "code",
   "execution_count": 19,
   "metadata": {},
   "outputs": [
    {
     "name": "stdout",
     "output_type": "stream",
     "text": [
      "[0.0045424285, 0.007676345, 0.011074049, 0.01727726, 0.025743064, 0.043029398, 0.071521536]\n"
     ]
    }
   ],
   "source": [
    "fname=\"..\\ComputeCdfsOfProjections\\Cdfs/SL_hindcast_wTd_nos_base_SICO_UHO_RCP85_cdf.nc\"\n",
    "ncf = nc.Dataset(fname, \"r\")\n",
    "\n",
    "Percentile = ncf.variables[\"Percentile\"][:]\n",
    "SL_wTd_nos_base_R0 = ncf.variables[\"Antarctica\"][:]\n",
    "\n",
    "SL_wTd_nos_SICO_UHO_RCP85_table = [SL_wTd_nos_base_R0[outputyear,5],SL_wTd_nos_base_R0[outputyear,50],SL_wTd_nos_base_R0[outputyear,166],SL_wTd_nos_base_R0[outputyear,500],SL_wTd_nos_base_R0[outputyear,833],SL_wTd_nos_base_R0[outputyear,950],SL_wTd_nos_base_R0[outputyear,995]]\n",
    "\n",
    "print(SL_wTd_nos_SICO_UHO_RCP85_table)\n"
   ]
  },
  {
   "cell_type": "code",
   "execution_count": 20,
   "metadata": {},
   "outputs": [
    {
     "name": "stdout",
     "output_type": "stream",
     "text": [
      "[0.006841065, 0.012492467, 0.017839612, 0.025518855, 0.03952738, 0.06947705, 0.11935403]\n"
     ]
    }
   ],
   "source": [
    "fname=\"..\\ComputeCdfsOfProjections\\Cdfs/SL_hindcast_wTd_nos_base_UA_UNN_RCP85_cdf.nc\"\n",
    "ncf = nc.Dataset(fname, \"r\")\n",
    "\n",
    "Percentile = ncf.variables[\"Percentile\"][:]\n",
    "SL_wTd_nos_base_R0 = ncf.variables[\"Antarctica\"][:]\n",
    "\n",
    "SL_wTd_nos_UA_UNN_RCP85_table = [SL_wTd_nos_base_R0[outputyear,5],SL_wTd_nos_base_R0[outputyear,50],SL_wTd_nos_base_R0[outputyear,166],SL_wTd_nos_base_R0[outputyear,500],SL_wTd_nos_base_R0[outputyear,833],SL_wTd_nos_base_R0[outputyear,950],SL_wTd_nos_base_R0[outputyear,995]]\n",
    "\n",
    "print(SL_wTd_nos_UA_UNN_RCP85_table)\n"
   ]
  },
  {
   "cell_type": "code",
   "execution_count": 21,
   "metadata": {},
   "outputs": [],
   "source": [
    "f = open('Tables/Tab6_SL_hindcast.dat', 'w')\n",
    "\n",
    "f.write(\"%1.2f %1.2f %1.2f \\n\" %(Obs166, Obs500, Obs833))\n",
    "\n",
    "\n",
    "for i in range(2,len(SL_wTd_nos_AISM_VUB_RCP85_table)-2):\n",
    "    f.write(\"%1.2f \" %(SL_wTd_nos_AISM_VUB_RCP85_table[i]*1000))\n",
    "f.write(\"\\n\")\n",
    "    \n",
    "for i in range(2,len(SL_wTd_nos_AISM_VUB_RCP85_table)-2):\n",
    "    f.write(\"%1.2f \" %(SL_wTd_nos_BISI_LBL_RCP85_table[i]*1000))\n",
    "f.write(\"\\n\")\n",
    "    \n",
    "for i in range(2,len(SL_wTd_nos_AISM_VUB_RCP85_table)-2):\n",
    "    f.write(\"%1.2f \" %(SL_wTd_nos_CISM_NCA_RCP85_table[i]*1000))\n",
    "f.write(\"\\n\")\n",
    "    \n",
    "for i in range(2,len(SL_wTd_nos_AISM_VUB_RCP85_table)-2):\n",
    "    f.write(\"%1.2f \" %(SL_wTd_nos_FETI_VUB_RCP85_table[i]*1000))\n",
    "f.write(\"\\n\")\n",
    "    \n",
    "for i in range(2,len(SL_wTd_nos_AISM_VUB_RCP85_table)-2):\n",
    "    f.write(\"%1.2f \" %(SL_wTd_nos_GRIS_LSC_RCP85_table[i]*1000))\n",
    "f.write(\"\\n\")\n",
    "    \n",
    "for i in range(2,len(SL_wTd_nos_AISM_VUB_RCP85_table)-2):\n",
    "    f.write(\"%1.2f \" %(SL_wTd_nos_IMAU_VUB_RCP85_table[i]*1000))\n",
    "f.write(\"\\n\")\n",
    "    \n",
    "for i in range(2,len(SL_wTd_nos_AISM_VUB_RCP85_table)-2):\n",
    "    f.write(\"%1.2f \" %(SL_wTd_nos_ISSM_JPL_RCP85_table[i]*1000))\n",
    "f.write(\"\\n\")\n",
    "    \n",
    "for i in range(2,len(SL_wTd_nos_AISM_VUB_RCP85_table)-2):\n",
    "    f.write(\"%1.2f \" %(SL_wTd_nos_ISSM_UCI_RCP85_table[i]*1000))\n",
    "f.write(\"\\n\")\n",
    "    \n",
    "for i in range(2,len(SL_wTd_nos_AISM_VUB_RCP85_table)-2):\n",
    "    f.write(\"%1.2f \" %(SL_wTd_nos_MALI_LAN_RCP85_table[i]*1000))\n",
    "f.write(\"\\n\")\n",
    "    \n",
    "for i in range(2,len(SL_wTd_nos_AISM_VUB_RCP85_table)-2):\n",
    "    f.write(\"%1.2f \" %(SL_wTd_nos_PISM_AWI_RCP85_table[i]*1000))\n",
    "f.write(\"\\n\")\n",
    "    \n",
    "for i in range(2,len(SL_wTd_nos_AISM_VUB_RCP85_table)-2):\n",
    "    f.write(\"%1.2f \" %(SL_wTd_nos_PISM_DMI_RCP85_table[i]*1000))\n",
    "f.write(\"\\n\")\n",
    "    \n",
    "for i in range(2,len(SL_wTd_nos_AISM_VUB_RCP85_table)-2):\n",
    "    f.write(\"%1.2f \" %(SL_wTd_nos_PISM_PIK_RCP85_table[i]*1000))\n",
    "f.write(\"\\n\")\n",
    "    \n",
    "for i in range(2,len(SL_wTd_nos_AISM_VUB_RCP85_table)-2):\n",
    "    f.write(\"%1.2f \" %(SL_wTd_nos_PISM_VUW_RCP85_table[i]*1000))\n",
    "f.write(\"\\n\")\n",
    "    \n",
    "for i in range(2,len(SL_wTd_nos_AISM_VUB_RCP85_table)-2):\n",
    "    f.write(\"%1.2f \" %(SL_wTd_nos_PS3D_PSU_RCP85_table[i]*1000))\n",
    "f.write(\"\\n\")\n",
    "    \n",
    "for i in range(2,len(SL_wTd_nos_AISM_VUB_RCP85_table)-2):\n",
    "    f.write(\"%1.2f \" %(SL_wTd_nos_SICO_UHO_RCP85_table[i]*1000))\n",
    "f.write(\"\\n\")\n",
    "    \n",
    "for i in range(2,len(SL_wTd_nos_AISM_VUB_RCP85_table)-2):\n",
    "    f.write(\"%1.2f \" %(SL_wTd_nos_UA_UNN_RCP85_table[i]*1000))\n",
    "f.write(\"\\n\")\n",
    "    \n",
    "f.close()\n"
   ]
  },
  {
   "cell_type": "code",
   "execution_count": null,
   "metadata": {},
   "outputs": [],
   "source": []
  },
  {
   "cell_type": "code",
   "execution_count": null,
   "metadata": {},
   "outputs": [],
   "source": []
  },
  {
   "cell_type": "code",
   "execution_count": null,
   "metadata": {},
   "outputs": [],
   "source": []
  }
 ],
 "metadata": {
  "kernelspec": {
   "display_name": "Python 3",
   "language": "python",
   "name": "python3"
  },
  "language_info": {
   "codemirror_mode": {
    "name": "ipython",
    "version": 3
   },
   "file_extension": ".py",
   "mimetype": "text/x-python",
   "name": "python",
   "nbconvert_exporter": "python",
   "pygments_lexer": "ipython3",
   "version": "3.7.1"
  }
 },
 "nbformat": 4,
 "nbformat_minor": 2
}
