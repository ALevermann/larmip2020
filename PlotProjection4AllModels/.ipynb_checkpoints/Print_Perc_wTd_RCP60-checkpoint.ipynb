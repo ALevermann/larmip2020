{
 "cells": [
  {
   "cell_type": "code",
   "execution_count": 1,
   "metadata": {},
   "outputs": [],
   "source": [
    "%matplotlib inline"
   ]
  },
  {
   "cell_type": "code",
   "execution_count": 2,
   "metadata": {},
   "outputs": [],
   "source": [
    "import numpy as np\n",
    "import netCDF4 as nc\n",
    "import matplotlib.pylab as plt\n",
    "import imp\n",
    "import csv\n",
    "import pandas as pd\n",
    "from io import StringIO"
   ]
  },
  {
   "cell_type": "code",
   "execution_count": 3,
   "metadata": {},
   "outputs": [
    {
     "name": "stdout",
     "output_type": "stream",
     "text": [
      "[0.031681255, 0.049717575, 0.069278225, 0.10009404, 0.14417462, 0.24656272, 0.3979297]\n"
     ]
    }
   ],
   "source": [
    "fname=\"..\\ComputeCdfsOfProjections\\Cdfs/SL_wTd_nos_base_AISM_VUB_RCP60_cdf.nc\"\n",
    "ncf = nc.Dataset(fname, \"r\")\n",
    "\n",
    "Percentile = ncf.variables[\"Percentile\"][:]\n",
    "SL_wTd_nos_base_R0 = ncf.variables[\"Antarctica\"][:]\n",
    "\n",
    "SL_wTd_nos_AISM_VUB_RCP60_table = [SL_wTd_nos_base_R0[-1,5],SL_wTd_nos_base_R0[-1,50],SL_wTd_nos_base_R0[-1,166],SL_wTd_nos_base_R0[-1,500],SL_wTd_nos_base_R0[-1,833],SL_wTd_nos_base_R0[-1,950],SL_wTd_nos_base_R0[-1,995]]\n",
    "\n",
    "print(SL_wTd_nos_AISM_VUB_RCP60_table)\n"
   ]
  },
  {
   "cell_type": "code",
   "execution_count": 4,
   "metadata": {},
   "outputs": [
    {
     "name": "stdout",
     "output_type": "stream",
     "text": [
      "[0.041113526, 0.06761417, 0.09689384, 0.14483443, 0.21517068, 0.36517197, 0.6214907]\n"
     ]
    }
   ],
   "source": [
    "fname=\"..\\ComputeCdfsOfProjections\\Cdfs/SL_wTd_nos_base_BISI_LBL_RCP60_cdf.nc\"\n",
    "ncf = nc.Dataset(fname, \"r\")\n",
    "\n",
    "Percentile = ncf.variables[\"Percentile\"][:]\n",
    "SL_wTd_nos_base_R0 = ncf.variables[\"Antarctica\"][:]\n",
    "\n",
    "SL_wTd_nos_BISI_LBL_RCP60_table = [SL_wTd_nos_base_R0[-1,5],SL_wTd_nos_base_R0[-1,50],SL_wTd_nos_base_R0[-1,166],SL_wTd_nos_base_R0[-1,500],SL_wTd_nos_base_R0[-1,833],SL_wTd_nos_base_R0[-1,950],SL_wTd_nos_base_R0[-1,995]]\n",
    "\n",
    "print(SL_wTd_nos_BISI_LBL_RCP60_table)\n"
   ]
  },
  {
   "cell_type": "code",
   "execution_count": 5,
   "metadata": {},
   "outputs": [
    {
     "name": "stdout",
     "output_type": "stream",
     "text": [
      "[0.022557935, 0.037201814, 0.05423995, 0.082989596, 0.12005829, 0.2006626, 0.31517717]\n"
     ]
    }
   ],
   "source": [
    "fname=\"..\\ComputeCdfsOfProjections\\Cdfs/SL_wTd_nos_base_CISM_NCA_RCP60_cdf.nc\"\n",
    "ncf = nc.Dataset(fname, \"r\")\n",
    "\n",
    "Percentile = ncf.variables[\"Percentile\"][:]\n",
    "SL_wTd_nos_base_R0 = ncf.variables[\"Antarctica\"][:]\n",
    "\n",
    "SL_wTd_nos_CISM_NCA_RCP60_table = [SL_wTd_nos_base_R0[-1,5],SL_wTd_nos_base_R0[-1,50],SL_wTd_nos_base_R0[-1,166],SL_wTd_nos_base_R0[-1,500],SL_wTd_nos_base_R0[-1,833],SL_wTd_nos_base_R0[-1,950],SL_wTd_nos_base_R0[-1,995]]\n",
    "\n",
    "print(SL_wTd_nos_CISM_NCA_RCP60_table)\n"
   ]
  },
  {
   "cell_type": "code",
   "execution_count": 6,
   "metadata": {},
   "outputs": [
    {
     "name": "stdout",
     "output_type": "stream",
     "text": [
      "[0.034346435, 0.05305904, 0.07868155, 0.12568337, 0.18555483, 0.30226427, 0.47231027]\n"
     ]
    }
   ],
   "source": [
    "fname=\"..\\ComputeCdfsOfProjections\\Cdfs/SL_wTd_nos_base_FETI_VUB_RCP60_cdf.nc\"\n",
    "ncf = nc.Dataset(fname, \"r\")\n",
    "\n",
    "Percentile = ncf.variables[\"Percentile\"][:]\n",
    "SL_wTd_nos_base_R0 = ncf.variables[\"Antarctica\"][:]\n",
    "\n",
    "SL_wTd_nos_FETI_VUB_RCP60_table = [SL_wTd_nos_base_R0[-1,5],SL_wTd_nos_base_R0[-1,50],SL_wTd_nos_base_R0[-1,166],SL_wTd_nos_base_R0[-1,500],SL_wTd_nos_base_R0[-1,833],SL_wTd_nos_base_R0[-1,950],SL_wTd_nos_base_R0[-1,995]]\n",
    "\n",
    "print(SL_wTd_nos_FETI_VUB_RCP60_table)\n"
   ]
  },
  {
   "cell_type": "code",
   "execution_count": 7,
   "metadata": {},
   "outputs": [
    {
     "name": "stdout",
     "output_type": "stream",
     "text": [
      "[0.017275298, 0.02545847, 0.0376276, 0.06241526, 0.09401209, 0.14658242, 0.2224836]\n"
     ]
    }
   ],
   "source": [
    "fname=\"..\\ComputeCdfsOfProjections\\Cdfs/SL_wTd_nos_base_GRIS_LSC_RCP60_cdf.nc\"\n",
    "ncf = nc.Dataset(fname, \"r\")\n",
    "\n",
    "Percentile = ncf.variables[\"Percentile\"][:]\n",
    "SL_wTd_nos_base_R0 = ncf.variables[\"Antarctica\"][:]\n",
    "\n",
    "SL_wTd_nos_GRIS_LSC_RCP60_table = [SL_wTd_nos_base_R0[-1,5],SL_wTd_nos_base_R0[-1,50],SL_wTd_nos_base_R0[-1,166],SL_wTd_nos_base_R0[-1,500],SL_wTd_nos_base_R0[-1,833],SL_wTd_nos_base_R0[-1,950],SL_wTd_nos_base_R0[-1,995]]\n",
    "\n",
    "print(SL_wTd_nos_GRIS_LSC_RCP60_table)\n"
   ]
  },
  {
   "cell_type": "code",
   "execution_count": 8,
   "metadata": {},
   "outputs": [
    {
     "name": "stdout",
     "output_type": "stream",
     "text": [
      "[0.05490052, 0.09690247, 0.14414026, 0.21502854, 0.32767084, 0.5337822, 0.889214]\n"
     ]
    }
   ],
   "source": [
    "fname=\"..\\ComputeCdfsOfProjections\\Cdfs/SL_wTd_nos_base_IMAU_VUB_RCP60_cdf.nc\"\n",
    "ncf = nc.Dataset(fname, \"r\")\n",
    "\n",
    "Percentile = ncf.variables[\"Percentile\"][:]\n",
    "SL_wTd_nos_base_R0 = ncf.variables[\"Antarctica\"][:]\n",
    "\n",
    "SL_wTd_nos_IMAU_VUB_RCP60_table = [SL_wTd_nos_base_R0[-1,5],SL_wTd_nos_base_R0[-1,50],SL_wTd_nos_base_R0[-1,166],SL_wTd_nos_base_R0[-1,500],SL_wTd_nos_base_R0[-1,833],SL_wTd_nos_base_R0[-1,950],SL_wTd_nos_base_R0[-1,995]]\n",
    "\n",
    "print(SL_wTd_nos_IMAU_VUB_RCP60_table)\n"
   ]
  },
  {
   "cell_type": "code",
   "execution_count": 9,
   "metadata": {},
   "outputs": [
    {
     "name": "stdout",
     "output_type": "stream",
     "text": [
      "[0.029682763, 0.047943357, 0.06686038, 0.09972289, 0.14416885, 0.25306663, 0.39682898]\n"
     ]
    }
   ],
   "source": [
    "fname=\"..\\ComputeCdfsOfProjections\\Cdfs/SL_wTd_nos_base_ISSM_JPL_RCP60_cdf.nc\"\n",
    "ncf = nc.Dataset(fname, \"r\")\n",
    "\n",
    "Percentile = ncf.variables[\"Percentile\"][:]\n",
    "SL_wTd_nos_base_R0 = ncf.variables[\"Antarctica\"][:]\n",
    "\n",
    "SL_wTd_nos_ISSM_JPL_RCP60_table = [SL_wTd_nos_base_R0[-1,5],SL_wTd_nos_base_R0[-1,50],SL_wTd_nos_base_R0[-1,166],SL_wTd_nos_base_R0[-1,500],SL_wTd_nos_base_R0[-1,833],SL_wTd_nos_base_R0[-1,950],SL_wTd_nos_base_R0[-1,995]]\n",
    "\n",
    "print(SL_wTd_nos_ISSM_JPL_RCP60_table)\n"
   ]
  },
  {
   "cell_type": "code",
   "execution_count": 10,
   "metadata": {},
   "outputs": [
    {
     "name": "stdout",
     "output_type": "stream",
     "text": [
      "[0.062384877, 0.10110475, 0.14927864, 0.21575724, 0.31592116, 0.54195285, 0.88566333]\n"
     ]
    }
   ],
   "source": [
    "fname=\"..\\ComputeCdfsOfProjections\\Cdfs/SL_wTd_nos_base_ISSM_UCI_RCP60_cdf.nc\"\n",
    "ncf = nc.Dataset(fname, \"r\")\n",
    "\n",
    "Percentile = ncf.variables[\"Percentile\"][:]\n",
    "SL_wTd_nos_base_R0 = ncf.variables[\"Antarctica\"][:]\n",
    "\n",
    "SL_wTd_nos_ISSM_UCI_RCP60_table = [SL_wTd_nos_base_R0[-1,5],SL_wTd_nos_base_R0[-1,50],SL_wTd_nos_base_R0[-1,166],SL_wTd_nos_base_R0[-1,500],SL_wTd_nos_base_R0[-1,833],SL_wTd_nos_base_R0[-1,950],SL_wTd_nos_base_R0[-1,995]]\n",
    "\n",
    "print(SL_wTd_nos_ISSM_UCI_RCP60_table)\n"
   ]
  },
  {
   "cell_type": "code",
   "execution_count": 11,
   "metadata": {},
   "outputs": [
    {
     "name": "stdout",
     "output_type": "stream",
     "text": [
      "[0.034787744, 0.06166978, 0.08623459, 0.122694805, 0.17542611, 0.3066752, 0.5063448]\n"
     ]
    }
   ],
   "source": [
    "fname=\"..\\ComputeCdfsOfProjections\\Cdfs/SL_wTd_nos_base_MALI_LAN_RCP60_cdf.nc\"\n",
    "ncf = nc.Dataset(fname, \"r\")\n",
    "\n",
    "Percentile = ncf.variables[\"Percentile\"][:]\n",
    "SL_wTd_nos_base_R0 = ncf.variables[\"Antarctica\"][:]\n",
    "\n",
    "SL_wTd_nos_MALI_LAN_RCP60_table = [SL_wTd_nos_base_R0[-1,5],SL_wTd_nos_base_R0[-1,50],SL_wTd_nos_base_R0[-1,166],SL_wTd_nos_base_R0[-1,500],SL_wTd_nos_base_R0[-1,833],SL_wTd_nos_base_R0[-1,950],SL_wTd_nos_base_R0[-1,995]]\n",
    "\n",
    "print(SL_wTd_nos_MALI_LAN_RCP60_table)\n"
   ]
  },
  {
   "cell_type": "code",
   "execution_count": 12,
   "metadata": {},
   "outputs": [
    {
     "name": "stdout",
     "output_type": "stream",
     "text": [
      "[0.022268808, 0.040237263, 0.06246242, 0.090267144, 0.13333434, 0.22127646, 0.3525933]\n"
     ]
    }
   ],
   "source": [
    "fname=\"..\\ComputeCdfsOfProjections\\Cdfs/SL_wTd_nos_base_PISM_AWI_RCP60_cdf.nc\"\n",
    "ncf = nc.Dataset(fname, \"r\")\n",
    "\n",
    "Percentile = ncf.variables[\"Percentile\"][:]\n",
    "SL_wTd_nos_base_R0 = ncf.variables[\"Antarctica\"][:]\n",
    "\n",
    "SL_wTd_nos_PISM_AWI_RCP60_table = [SL_wTd_nos_base_R0[-1,5],SL_wTd_nos_base_R0[-1,50],SL_wTd_nos_base_R0[-1,166],SL_wTd_nos_base_R0[-1,500],SL_wTd_nos_base_R0[-1,833],SL_wTd_nos_base_R0[-1,950],SL_wTd_nos_base_R0[-1,995]]\n",
    "\n",
    "print(SL_wTd_nos_PISM_AWI_RCP60_table)\n"
   ]
  },
  {
   "cell_type": "code",
   "execution_count": 13,
   "metadata": {},
   "outputs": [
    {
     "name": "stdout",
     "output_type": "stream",
     "text": [
      "[0.07968784, 0.12809747, 0.18262574, 0.25534317, 0.36311477, 0.6443479, 1.0190301]\n"
     ]
    }
   ],
   "source": [
    "fname=\"..\\ComputeCdfsOfProjections\\Cdfs/SL_wTd_nos_base_PISM_DMI_RCP60_cdf.nc\"\n",
    "ncf = nc.Dataset(fname, \"r\")\n",
    "\n",
    "Percentile = ncf.variables[\"Percentile\"][:]\n",
    "SL_wTd_nos_base_R0 = ncf.variables[\"Antarctica\"][:]\n",
    "\n",
    "SL_wTd_nos_PISM_DMI_RCP60_table = [SL_wTd_nos_base_R0[-1,5],SL_wTd_nos_base_R0[-1,50],SL_wTd_nos_base_R0[-1,166],SL_wTd_nos_base_R0[-1,500],SL_wTd_nos_base_R0[-1,833],SL_wTd_nos_base_R0[-1,950],SL_wTd_nos_base_R0[-1,995]]\n",
    "\n",
    "print(SL_wTd_nos_PISM_DMI_RCP60_table)\n"
   ]
  },
  {
   "cell_type": "code",
   "execution_count": 14,
   "metadata": {},
   "outputs": [
    {
     "name": "stdout",
     "output_type": "stream",
     "text": [
      "[0.034328196, 0.06127181, 0.09377146, 0.15650049, 0.24612468, 0.36851284, 0.53914344]\n"
     ]
    }
   ],
   "source": [
    "fname=\"..\\ComputeCdfsOfProjections\\Cdfs/SL_wTd_nos_base_PISM_PIK_RCP60_cdf.nc\"\n",
    "ncf = nc.Dataset(fname, \"r\")\n",
    "\n",
    "Percentile = ncf.variables[\"Percentile\"][:]\n",
    "SL_wTd_nos_base_R0 = ncf.variables[\"Antarctica\"][:]\n",
    "\n",
    "SL_wTd_nos_PISM_PIK_RCP60_table = [SL_wTd_nos_base_R0[-1,5],SL_wTd_nos_base_R0[-1,50],SL_wTd_nos_base_R0[-1,166],SL_wTd_nos_base_R0[-1,500],SL_wTd_nos_base_R0[-1,833],SL_wTd_nos_base_R0[-1,950],SL_wTd_nos_base_R0[-1,995]]\n",
    "\n",
    "print(SL_wTd_nos_PISM_PIK_RCP60_table)\n"
   ]
  },
  {
   "cell_type": "code",
   "execution_count": 15,
   "metadata": {},
   "outputs": [
    {
     "name": "stdout",
     "output_type": "stream",
     "text": [
      "[0.08904164, 0.14216301, 0.20166253, 0.30183005, 0.45374689, 0.7712107, 1.2501843]\n"
     ]
    }
   ],
   "source": [
    "fname=\"..\\ComputeCdfsOfProjections\\Cdfs/SL_wTd_nos_base_PISM_VUW_RCP60_cdf.nc\"\n",
    "ncf = nc.Dataset(fname, \"r\")\n",
    "\n",
    "Percentile = ncf.variables[\"Percentile\"][:]\n",
    "SL_wTd_nos_base_R0 = ncf.variables[\"Antarctica\"][:]\n",
    "\n",
    "SL_wTd_nos_PISM_VUW_RCP60_table = [SL_wTd_nos_base_R0[-1,5],SL_wTd_nos_base_R0[-1,50],SL_wTd_nos_base_R0[-1,166],SL_wTd_nos_base_R0[-1,500],SL_wTd_nos_base_R0[-1,833],SL_wTd_nos_base_R0[-1,950],SL_wTd_nos_base_R0[-1,995]]\n",
    "\n",
    "print(SL_wTd_nos_PISM_VUW_RCP60_table)\n"
   ]
  },
  {
   "cell_type": "code",
   "execution_count": 16,
   "metadata": {},
   "outputs": [
    {
     "name": "stdout",
     "output_type": "stream",
     "text": [
      "[0.044674713, 0.07138611, 0.101437636, 0.16172662, 0.23593101, 0.37771896, 0.57951146]\n"
     ]
    }
   ],
   "source": [
    "fname=\"..\\ComputeCdfsOfProjections\\Cdfs/SL_wTd_nos_base_PS3D_PSU_RCP60_cdf.nc\"\n",
    "ncf = nc.Dataset(fname, \"r\")\n",
    "\n",
    "Percentile = ncf.variables[\"Percentile\"][:]\n",
    "SL_wTd_nos_base_R0 = ncf.variables[\"Antarctica\"][:]\n",
    "\n",
    "SL_wTd_nos_PS3D_PSU_RCP60_table = [SL_wTd_nos_base_R0[-1,5],SL_wTd_nos_base_R0[-1,50],SL_wTd_nos_base_R0[-1,166],SL_wTd_nos_base_R0[-1,500],SL_wTd_nos_base_R0[-1,833],SL_wTd_nos_base_R0[-1,950],SL_wTd_nos_base_R0[-1,995]]\n",
    "\n",
    "print(SL_wTd_nos_PS3D_PSU_RCP60_table)\n"
   ]
  },
  {
   "cell_type": "code",
   "execution_count": 17,
   "metadata": {},
   "outputs": [
    {
     "name": "stdout",
     "output_type": "stream",
     "text": [
      "[0.08387848, 0.12441774, 0.17599894, 0.273924, 0.39782104, 0.6676197, 1.0857165]\n"
     ]
    }
   ],
   "source": [
    "fname=\"..\\ComputeCdfsOfProjections\\Cdfs/SL_wTd_nos_base_SICO_UHO_RCP60_cdf.nc\"\n",
    "ncf = nc.Dataset(fname, \"r\")\n",
    "\n",
    "Percentile = ncf.variables[\"Percentile\"][:]\n",
    "SL_wTd_nos_base_R0 = ncf.variables[\"Antarctica\"][:]\n",
    "\n",
    "SL_wTd_nos_SICO_UHO_RCP60_table = [SL_wTd_nos_base_R0[-1,5],SL_wTd_nos_base_R0[-1,50],SL_wTd_nos_base_R0[-1,166],SL_wTd_nos_base_R0[-1,500],SL_wTd_nos_base_R0[-1,833],SL_wTd_nos_base_R0[-1,950],SL_wTd_nos_base_R0[-1,995]]\n",
    "\n",
    "print(SL_wTd_nos_SICO_UHO_RCP60_table)\n"
   ]
  },
  {
   "cell_type": "code",
   "execution_count": 18,
   "metadata": {},
   "outputs": [
    {
     "name": "stdout",
     "output_type": "stream",
     "text": [
      "[0.11382039, 0.18103668, 0.25342634, 0.3658613, 0.5387627, 0.9269503, 1.5343378]\n"
     ]
    }
   ],
   "source": [
    "fname=\"..\\ComputeCdfsOfProjections\\Cdfs/SL_wTd_nos_base_UA_UNN_RCP60_cdf.nc\"\n",
    "ncf = nc.Dataset(fname, \"r\")\n",
    "\n",
    "Percentile = ncf.variables[\"Percentile\"][:]\n",
    "SL_wTd_nos_base_R0 = ncf.variables[\"Antarctica\"][:]\n",
    "\n",
    "SL_wTd_nos_UA_UNN_RCP60_table = [SL_wTd_nos_base_R0[-1,5],SL_wTd_nos_base_R0[-1,50],SL_wTd_nos_base_R0[-1,166],SL_wTd_nos_base_R0[-1,500],SL_wTd_nos_base_R0[-1,833],SL_wTd_nos_base_R0[-1,950],SL_wTd_nos_base_R0[-1,995]]\n",
    "\n",
    "print(SL_wTd_nos_UA_UNN_RCP60_table)\n"
   ]
  },
  {
   "cell_type": "code",
   "execution_count": 19,
   "metadata": {},
   "outputs": [],
   "source": [
    "f = open('Tables/Tab9_SL_RCP60.dat', 'w')\n",
    "\n",
    "for i in range(1,len(SL_wTd_nos_AISM_VUB_RCP60_table)-1):\n",
    "    f.write(\"%1.2f \" %(SL_wTd_nos_AISM_VUB_RCP60_table[i]))\n",
    "f.write(\"\\n\")\n",
    "    \n",
    "for i in range(1,len(SL_wTd_nos_BISI_LBL_RCP60_table)-1):\n",
    "    f.write(\"%1.2f \" %(SL_wTd_nos_BISI_LBL_RCP60_table[i]))\n",
    "f.write(\"\\n\")\n",
    "    \n",
    "for i in range(1,len(SL_wTd_nos_CISM_NCA_RCP60_table)-1):\n",
    "    f.write(\"%1.2f \" %(SL_wTd_nos_CISM_NCA_RCP60_table[i]))\n",
    "f.write(\"\\n\")\n",
    "    \n",
    "for i in range(1,len(SL_wTd_nos_FETI_VUB_RCP60_table)-1):\n",
    "    f.write(\"%1.2f \" %(SL_wTd_nos_FETI_VUB_RCP60_table[i]))\n",
    "f.write(\"\\n\")\n",
    "    \n",
    "for i in range(1,len(SL_wTd_nos_GRIS_LSC_RCP60_table)-1):\n",
    "    f.write(\"%1.2f \" %(SL_wTd_nos_GRIS_LSC_RCP60_table[i]))\n",
    "f.write(\"\\n\")\n",
    "    \n",
    "for i in range(1,len(SL_wTd_nos_IMAU_VUB_RCP60_table)-1):\n",
    "    f.write(\"%1.2f \" %(SL_wTd_nos_IMAU_VUB_RCP60_table[i]))\n",
    "f.write(\"\\n\")\n",
    "    \n",
    "for i in range(1,len(SL_wTd_nos_ISSM_JPL_RCP60_table)-1):\n",
    "    f.write(\"%1.2f \" %(SL_wTd_nos_ISSM_JPL_RCP60_table[i]))\n",
    "f.write(\"\\n\")\n",
    "    \n",
    "for i in range(1,len(SL_wTd_nos_ISSM_UCI_RCP60_table)-1):\n",
    "    f.write(\"%1.2f \" %(SL_wTd_nos_ISSM_UCI_RCP60_table[i]))\n",
    "f.write(\"\\n\")\n",
    "    \n",
    "for i in range(1,len(SL_wTd_nos_MALI_LAN_RCP60_table)-1):\n",
    "    f.write(\"%1.2f \" %(SL_wTd_nos_MALI_LAN_RCP60_table[i]))\n",
    "f.write(\"\\n\")\n",
    "    \n",
    "for i in range(1,len(SL_wTd_nos_PISM_AWI_RCP60_table)-1):\n",
    "    f.write(\"%1.2f \" %(SL_wTd_nos_PISM_AWI_RCP60_table[i]))\n",
    "f.write(\"\\n\")\n",
    "    \n",
    "for i in range(1,len(SL_wTd_nos_PISM_DMI_RCP60_table)-1):\n",
    "    f.write(\"%1.2f \" %(SL_wTd_nos_PISM_DMI_RCP60_table[i]))\n",
    "f.write(\"\\n\")\n",
    "    \n",
    "for i in range(1,len(SL_wTd_nos_PISM_PIK_RCP60_table)-1):\n",
    "    f.write(\"%1.2f \" %(SL_wTd_nos_PISM_PIK_RCP60_table[i]))\n",
    "f.write(\"\\n\")\n",
    "    \n",
    "for i in range(1,len(SL_wTd_nos_PISM_VUW_RCP60_table)-1):\n",
    "    f.write(\"%1.2f \" %(SL_wTd_nos_PISM_VUW_RCP60_table[i]))\n",
    "f.write(\"\\n\")\n",
    "    \n",
    "for i in range(1,len(SL_wTd_nos_PS3D_PSU_RCP60_table)-1):\n",
    "    f.write(\"%1.2f \" %(SL_wTd_nos_PS3D_PSU_RCP60_table[i]))\n",
    "f.write(\"\\n\")\n",
    "    \n",
    "for i in range(1,len(SL_wTd_nos_SICO_UHO_RCP60_table)-1):\n",
    "    f.write(\"%1.2f \" %(SL_wTd_nos_SICO_UHO_RCP60_table[i]))\n",
    "f.write(\"\\n\")\n",
    "    \n",
    "for i in range(1,len(SL_wTd_nos_UA_UNN_RCP60_table)-1):\n",
    "    f.write(\"%1.2f \" %(SL_wTd_nos_UA_UNN_RCP60_table[i]))\n",
    "f.write(\"\\n\")\n",
    "    \n",
    "f.close()\n"
   ]
  },
  {
   "cell_type": "code",
   "execution_count": 20,
   "metadata": {},
   "outputs": [],
   "source": [
    "f = open('Tables/Backup/Tab9_SL_RCP60_full.dat', 'w')\n",
    "\n",
    "for i in range(len(SL_wTd_nos_AISM_VUB_RCP60_table)):\n",
    "    f.write(\"%1.2f \" %(SL_wTd_nos_AISM_VUB_RCP60_table[i]))\n",
    "f.write(\"\\n\")\n",
    "    \n",
    "for i in range(len(SL_wTd_nos_BISI_LBL_RCP60_table)):\n",
    "    f.write(\"%1.2f \" %(SL_wTd_nos_BISI_LBL_RCP60_table[i]))\n",
    "f.write(\"\\n\")\n",
    "    \n",
    "for i in range(len(SL_wTd_nos_CISM_NCA_RCP60_table)):\n",
    "    f.write(\"%1.2f \" %(SL_wTd_nos_CISM_NCA_RCP60_table[i]))\n",
    "f.write(\"\\n\")\n",
    "    \n",
    "for i in range(len(SL_wTd_nos_FETI_VUB_RCP60_table)):\n",
    "    f.write(\"%1.2f \" %(SL_wTd_nos_FETI_VUB_RCP60_table[i]))\n",
    "f.write(\"\\n\")\n",
    "    \n",
    "for i in range(len(SL_wTd_nos_GRIS_LSC_RCP60_table)):\n",
    "    f.write(\"%1.2f \" %(SL_wTd_nos_GRIS_LSC_RCP60_table[i]))\n",
    "f.write(\"\\n\")\n",
    "    \n",
    "for i in range(len(SL_wTd_nos_IMAU_VUB_RCP60_table)):\n",
    "    f.write(\"%1.2f \" %(SL_wTd_nos_IMAU_VUB_RCP60_table[i]))\n",
    "f.write(\"\\n\")\n",
    "    \n",
    "for i in range(len(SL_wTd_nos_ISSM_JPL_RCP60_table)):\n",
    "    f.write(\"%1.2f \" %(SL_wTd_nos_ISSM_JPL_RCP60_table[i]))\n",
    "f.write(\"\\n\")\n",
    "    \n",
    "for i in range(len(SL_wTd_nos_ISSM_UCI_RCP60_table)):\n",
    "    f.write(\"%1.2f \" %(SL_wTd_nos_ISSM_UCI_RCP60_table[i]))\n",
    "f.write(\"\\n\")\n",
    "    \n",
    "for i in range(len(SL_wTd_nos_MALI_LAN_RCP60_table)):\n",
    "    f.write(\"%1.2f \" %(SL_wTd_nos_MALI_LAN_RCP60_table[i]))\n",
    "f.write(\"\\n\")\n",
    "    \n",
    "for i in range(len(SL_wTd_nos_PISM_AWI_RCP60_table)):\n",
    "    f.write(\"%1.2f \" %(SL_wTd_nos_PISM_AWI_RCP60_table[i]))\n",
    "f.write(\"\\n\")\n",
    "    \n",
    "for i in range(len(SL_wTd_nos_PISM_DMI_RCP60_table)):\n",
    "    f.write(\"%1.2f \" %(SL_wTd_nos_PISM_DMI_RCP60_table[i]))\n",
    "f.write(\"\\n\")\n",
    "    \n",
    "for i in range(len(SL_wTd_nos_PISM_PIK_RCP60_table)):\n",
    "    f.write(\"%1.2f \" %(SL_wTd_nos_PISM_PIK_RCP60_table[i]))\n",
    "f.write(\"\\n\")\n",
    "    \n",
    "for i in range(len(SL_wTd_nos_PISM_VUW_RCP60_table)):\n",
    "    f.write(\"%1.2f \" %(SL_wTd_nos_PISM_VUW_RCP60_table[i]))\n",
    "f.write(\"\\n\")\n",
    "    \n",
    "for i in range(len(SL_wTd_nos_PS3D_PSU_RCP60_table)):\n",
    "    f.write(\"%1.2f \" %(SL_wTd_nos_PS3D_PSU_RCP60_table[i]))\n",
    "f.write(\"\\n\")\n",
    "    \n",
    "for i in range(len(SL_wTd_nos_SICO_UHO_RCP60_table)):\n",
    "    f.write(\"%1.2f \" %(SL_wTd_nos_SICO_UHO_RCP60_table[i]))\n",
    "f.write(\"\\n\")\n",
    "    \n",
    "for i in range(len(SL_wTd_nos_UA_UNN_RCP60_table)):\n",
    "    f.write(\"%1.2f \" %(SL_wTd_nos_UA_UNN_RCP60_table[i]))\n",
    "f.write(\"\\n\")\n",
    "    \n",
    "f.close()\n"
   ]
  },
  {
   "cell_type": "code",
   "execution_count": null,
   "metadata": {},
   "outputs": [],
   "source": []
  },
  {
   "cell_type": "code",
   "execution_count": null,
   "metadata": {},
   "outputs": [],
   "source": []
  }
 ],
 "metadata": {
  "kernelspec": {
   "display_name": "Python 3",
   "language": "python",
   "name": "python3"
  },
  "language_info": {
   "codemirror_mode": {
    "name": "ipython",
    "version": 3
   },
   "file_extension": ".py",
   "mimetype": "text/x-python",
   "name": "python",
   "nbconvert_exporter": "python",
   "pygments_lexer": "ipython3",
   "version": "3.7.1"
  }
 },
 "nbformat": 4,
 "nbformat_minor": 2
}
