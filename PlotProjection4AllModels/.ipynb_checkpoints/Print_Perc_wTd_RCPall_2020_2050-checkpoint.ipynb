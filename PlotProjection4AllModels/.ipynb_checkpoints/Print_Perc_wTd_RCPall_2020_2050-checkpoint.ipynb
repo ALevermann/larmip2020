{
 "cells": [
  {
   "cell_type": "code",
   "execution_count": 1,
   "metadata": {},
   "outputs": [],
   "source": [
    "%matplotlib inline"
   ]
  },
  {
   "cell_type": "code",
   "execution_count": 2,
   "metadata": {},
   "outputs": [],
   "source": [
    "import numpy as np\n",
    "import netCDF4 as nc\n",
    "import matplotlib.pylab as plt\n",
    "import imp\n",
    "import csv\n",
    "import pandas as pd\n",
    "from io import StringIO"
   ]
  },
  {
   "cell_type": "code",
   "execution_count": 3,
   "metadata": {},
   "outputs": [
    {
     "name": "stdout",
     "output_type": "stream",
     "text": [
      "200\n"
     ]
    }
   ],
   "source": [
    "Time = np.arange(1900,2100)\n",
    "print(len(Time))\n"
   ]
  },
  {
   "cell_type": "code",
   "execution_count": 4,
   "metadata": {},
   "outputs": [
    {
     "name": "stdout",
     "output_type": "stream",
     "text": [
      "2050.0\n",
      "2020.0\n",
      "0 0.00\n",
      "1 0.01\n",
      "2 0.01\n",
      "3 0.03\n",
      "4 0.05\n",
      "5 0.09\n",
      "6 0.19\n",
      "[0.0039301184, 0.008076716, 0.013285736, 0.025707614, 0.054921288, 0.08729674, 0.19371633]\n"
     ]
    }
   ],
   "source": [
    "fname=\"..\\ComputeCdfsOfProjections\\Cdfs/SL_2020_2050_wTd_nos_base_RCP26_cdf.nc\"\n",
    "ncf = nc.Dataset(fname, \"r\")\n",
    "\n",
    "Percentile = ncf.variables[\"Percentile\"][:]\n",
    "SL_wTd_nos_base_R0 = ncf.variables[\"Antarctica\"][:]\n",
    "\n",
    "Year = ncf.variables[\"Time\"][:]\n",
    "yr = 150\n",
    "print(Year[yr])\n",
    "\n",
    "start_yr = 120\n",
    "print(Year[start_yr])\n",
    "SL_wTd_nos_base_R0[start_yr,50]\n",
    "SL_wTd_nos_base_R0[start_yr,166]\n",
    "SL_wTd_nos_base_R0[start_yr,500]\n",
    "SL_wTd_nos_base_R0[start_yr,833]\n",
    "SL_wTd_nos_base_R0[start_yr,950]\n",
    "\n",
    "SL_wTd_nos_base_RCP26_table = [SL_wTd_nos_base_R0[yr,5],SL_wTd_nos_base_R0[yr,50],SL_wTd_nos_base_R0[yr,166],SL_wTd_nos_base_R0[yr,500],SL_wTd_nos_base_R0[yr,833],SL_wTd_nos_base_R0[yr,950],SL_wTd_nos_base_R0[yr,995]]\n",
    "\n",
    "f = open('Tables/SL_wTd_nos_base_RCP26_2020_2050_table.dat', 'w')\n",
    "for i in range(len(SL_wTd_nos_base_RCP26_table)):\n",
    "    print(\"%i %1.2f\" % (i,SL_wTd_nos_base_RCP26_table[i]))\n",
    "    f.write(\"%1.2f \" %(SL_wTd_nos_base_RCP26_table[i]))\n",
    "f.close()\n",
    "\n",
    "print(SL_wTd_nos_base_RCP26_table)\n"
   ]
  },
  {
   "cell_type": "code",
   "execution_count": 5,
   "metadata": {},
   "outputs": [
    {
     "name": "stdout",
     "output_type": "stream",
     "text": [
      "2050.0\n",
      "0 0.00\n",
      "1 0.01\n",
      "2 0.01\n",
      "3 0.03\n",
      "4 0.06\n",
      "5 0.09\n",
      "6 0.20\n",
      "[0.003957242, 0.008153558, 0.013470696, 0.026075393, 0.055944897, 0.089868456, 0.20051686]\n"
     ]
    }
   ],
   "source": [
    "fname=\"..\\ComputeCdfsOfProjections\\Cdfs/SL_2020_2050_wTd_nos_base_RCP45_cdf.nc\"\n",
    "ncf = nc.Dataset(fname, \"r\")\n",
    "\n",
    "Percentile = ncf.variables[\"Percentile\"][:]\n",
    "SL_wTd_nos_base_R0 = ncf.variables[\"Antarctica\"][:]\n",
    "\n",
    "Year = ncf.variables[\"Time\"][:]\n",
    "yr = 150\n",
    "print(Year[yr])\n",
    "\n",
    "SL_wTd_nos_base_RCP45_table = [SL_wTd_nos_base_R0[yr,5],SL_wTd_nos_base_R0[yr,50],SL_wTd_nos_base_R0[yr,166],SL_wTd_nos_base_R0[yr,500],SL_wTd_nos_base_R0[yr,833],SL_wTd_nos_base_R0[yr,950],SL_wTd_nos_base_R0[yr,995]]\n",
    "f = open('Tables/SL_wTd_nos_base_RCP45_2020_2050_table.dat', 'w')\n",
    "for i in range(len(SL_wTd_nos_base_RCP45_table)):\n",
    "    print(\"%i %1.2f\" % (i,SL_wTd_nos_base_RCP45_table[i]))\n",
    "    f.write(\"%1.2f \" %(SL_wTd_nos_base_RCP45_table[i]))\n",
    "f.close()\n",
    "\n",
    "print(SL_wTd_nos_base_RCP45_table)\n"
   ]
  },
  {
   "cell_type": "code",
   "execution_count": 6,
   "metadata": {},
   "outputs": [
    {
     "name": "stdout",
     "output_type": "stream",
     "text": [
      "2050.0\n",
      "0 0.00\n",
      "1 0.01\n",
      "2 0.01\n",
      "3 0.03\n",
      "4 0.05\n",
      "5 0.09\n",
      "6 0.19\n",
      "[0.0038991647, 0.008027456, 0.013203703, 0.025551464, 0.054501522, 0.086657315, 0.19281656]\n"
     ]
    }
   ],
   "source": [
    "fname=\"..\\ComputeCdfsOfProjections\\Cdfs/SL_2020_2050_wTd_nos_base_RCP60_cdf.nc\"\n",
    "ncf = nc.Dataset(fname, \"r\")\n",
    "\n",
    "Percentile = ncf.variables[\"Percentile\"][:]\n",
    "SL_wTd_nos_base_R0 = ncf.variables[\"Antarctica\"][:]\n",
    "\n",
    "Year = ncf.variables[\"Time\"][:]\n",
    "yr = 150\n",
    "print(Year[yr])\n",
    "\n",
    "SL_wTd_nos_base_RCP60_table = [SL_wTd_nos_base_R0[yr,5],SL_wTd_nos_base_R0[yr,50],SL_wTd_nos_base_R0[yr,166],SL_wTd_nos_base_R0[yr,500],SL_wTd_nos_base_R0[yr,833],SL_wTd_nos_base_R0[yr,950],SL_wTd_nos_base_R0[yr,995]]\n",
    "f = open('Tables/SL_wTd_nos_base_RCP60_2020_2050_table.dat', 'w')\n",
    "for i in range(len(SL_wTd_nos_base_RCP60_table)):\n",
    "    print(\"%i %1.2f\" % (i,SL_wTd_nos_base_RCP60_table[i]))\n",
    "    f.write(\"%1.2f \" %(SL_wTd_nos_base_RCP60_table[i]))\n",
    "f.close()\n",
    "\n",
    "print(SL_wTd_nos_base_RCP60_table)\n"
   ]
  },
  {
   "cell_type": "code",
   "execution_count": 7,
   "metadata": {},
   "outputs": [
    {
     "name": "stdout",
     "output_type": "stream",
     "text": [
      "2050.0\n",
      "0 0.00\n",
      "1 0.01\n",
      "2 0.01\n",
      "3 0.03\n",
      "4 0.06\n",
      "5 0.10\n",
      "6 0.22\n",
      "[0.004067703, 0.008481516, 0.01407063, 0.027493782, 0.059837095, 0.09668058, 0.22174539]\n"
     ]
    }
   ],
   "source": [
    "fname=\"..\\ComputeCdfsOfProjections\\Cdfs/SL_2020_2050_wTd_nos_base_RCP85_cdf.nc\"\n",
    "ncf = nc.Dataset(fname, \"r\")\n",
    "\n",
    "Percentile = ncf.variables[\"Percentile\"][:]\n",
    "SL_wTd_nos_base_R0 = ncf.variables[\"Antarctica\"][:]\n",
    "\n",
    "Year = ncf.variables[\"Time\"][:]\n",
    "yr = 150\n",
    "print(Year[yr])\n",
    "\n",
    "SL_wTd_nos_base_RCP85_table = [SL_wTd_nos_base_R0[yr,5],SL_wTd_nos_base_R0[yr,50],SL_wTd_nos_base_R0[yr,166],SL_wTd_nos_base_R0[yr,500],SL_wTd_nos_base_R0[yr,833],SL_wTd_nos_base_R0[yr,950],SL_wTd_nos_base_R0[yr,995]]\n",
    "f = open('Tables/SL_wTd_nos_base_RCP85_2020_2050_table.dat', 'w')\n",
    "for i in range(len(SL_wTd_nos_base_RCP85_table)):\n",
    "    print(\"%i %1.2f\" % (i,SL_wTd_nos_base_RCP85_table[i]))\n",
    "    f.write(\"%1.2f \" %(SL_wTd_nos_base_RCP85_table[i]))\n",
    "f.close()\n",
    "\n",
    "print(SL_wTd_nos_base_RCP85_table)\n"
   ]
  },
  {
   "cell_type": "code",
   "execution_count": 8,
   "metadata": {},
   "outputs": [],
   "source": [
    "f = open('Tables/Tab15_SL_RCPall_2020_2050.dat', 'w')\n",
    "\n",
    "for i in range(1,len(SL_wTd_nos_base_RCP26_table)-1):\n",
    "    f.write(\"%1.2f \" %(SL_wTd_nos_base_RCP26_table[i]))\n",
    "f.write(\"\\n\")\n",
    "\n",
    "for i in range(1,len(SL_wTd_nos_base_RCP45_table)-1):\n",
    "    f.write(\"%1.2f \" %(SL_wTd_nos_base_RCP45_table[i]))\n",
    "f.write(\"\\n\")\n",
    "\n",
    "for i in range(1,len(SL_wTd_nos_base_RCP60_table)-1):\n",
    "    f.write(\"%1.2f \" %(SL_wTd_nos_base_RCP60_table[i]))\n",
    "f.write(\"\\n\")\n",
    "\n",
    "for i in range(1,len(SL_wTd_nos_base_RCP85_table)-1):\n",
    "    f.write(\"%1.2f \" %(SL_wTd_nos_base_RCP85_table[i]))\n",
    "f.write(\"\\n\")\n",
    "    \n",
    "f.close()\n"
   ]
  },
  {
   "cell_type": "code",
   "execution_count": 9,
   "metadata": {},
   "outputs": [],
   "source": [
    "f = open('Tables/Backup/Tab15_SL_RCPall_2020_2050_full.dat', 'w')\n",
    "\n",
    "for i in range(len(SL_wTd_nos_base_RCP26_table)):\n",
    "    f.write(\"%1.2f \" %(SL_wTd_nos_base_RCP26_table[i]))\n",
    "f.write(\"\\n\")\n",
    "\n",
    "for i in range(len(SL_wTd_nos_base_RCP45_table)):\n",
    "    f.write(\"%1.2f \" %(SL_wTd_nos_base_RCP45_table[i]))\n",
    "f.write(\"\\n\")\n",
    "\n",
    "for i in range(len(SL_wTd_nos_base_RCP60_table)):\n",
    "    f.write(\"%1.2f \" %(SL_wTd_nos_base_RCP60_table[i]))\n",
    "f.write(\"\\n\")\n",
    "\n",
    "for i in range(len(SL_wTd_nos_base_RCP85_table)):\n",
    "    f.write(\"%1.2f \" %(SL_wTd_nos_base_RCP85_table[i]))\n",
    "f.write(\"\\n\")\n",
    "    \n",
    "f.close()\n"
   ]
  },
  {
   "cell_type": "code",
   "execution_count": null,
   "metadata": {},
   "outputs": [],
   "source": []
  },
  {
   "cell_type": "code",
   "execution_count": null,
   "metadata": {},
   "outputs": [],
   "source": []
  },
  {
   "cell_type": "code",
   "execution_count": null,
   "metadata": {},
   "outputs": [],
   "source": []
  }
 ],
 "metadata": {
  "kernelspec": {
   "display_name": "Python 3",
   "language": "python",
   "name": "python3"
  },
  "language_info": {
   "codemirror_mode": {
    "name": "ipython",
    "version": 3
   },
   "file_extension": ".py",
   "mimetype": "text/x-python",
   "name": "python",
   "nbconvert_exporter": "python",
   "pygments_lexer": "ipython3",
   "version": "3.7.1"
  }
 },
 "nbformat": 4,
 "nbformat_minor": 2
}
