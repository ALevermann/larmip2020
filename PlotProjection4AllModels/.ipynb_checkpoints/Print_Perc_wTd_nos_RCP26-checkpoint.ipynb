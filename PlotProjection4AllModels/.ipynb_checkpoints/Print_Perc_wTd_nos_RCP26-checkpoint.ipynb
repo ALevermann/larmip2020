{
 "cells": [
  {
   "cell_type": "code",
   "execution_count": 1,
   "metadata": {},
   "outputs": [],
   "source": [
    "%matplotlib inline"
   ]
  },
  {
   "cell_type": "code",
   "execution_count": 2,
   "metadata": {},
   "outputs": [],
   "source": [
    "import numpy as np\n",
    "import netCDF4 as nc\n",
    "import matplotlib.pylab as plt\n",
    "import imp\n",
    "import csv\n",
    "import pandas as pd\n",
    "from io import StringIO"
   ]
  },
  {
   "cell_type": "code",
   "execution_count": 3,
   "metadata": {},
   "outputs": [
    {
     "name": "stdout",
     "output_type": "stream",
     "text": [
      "[0.02639354, 0.042962343, 0.060552374, 0.085650556, 0.11848622, 0.19524862, 0.3019096]\n"
     ]
    }
   ],
   "source": [
    "fname=\"..\\ComputeCdfsOfProjections\\Cdfs/SL_wTd_nos_base_AISM_VUB_RCP26_cdf.nc\"\n",
    "ncf = nc.Dataset(fname, \"r\")\n",
    "\n",
    "Percentile = ncf.variables[\"Percentile\"][:]\n",
    "SL_wTd_nos_base_R0 = ncf.variables[\"Antarctica\"][:]\n",
    "\n",
    "SL_wTd_nos_AISM_VUB_RCP26_table = [SL_wTd_nos_base_R0[-1,5],SL_wTd_nos_base_R0[-1,50],SL_wTd_nos_base_R0[-1,166],SL_wTd_nos_base_R0[-1,500],SL_wTd_nos_base_R0[-1,833],SL_wTd_nos_base_R0[-1,950],SL_wTd_nos_base_R0[-1,995]]\n",
    "\n",
    "print(SL_wTd_nos_AISM_VUB_RCP26_table)\n"
   ]
  },
  {
   "cell_type": "code",
   "execution_count": 4,
   "metadata": {},
   "outputs": [
    {
     "name": "stdout",
     "output_type": "stream",
     "text": [
      "[0.039818574, 0.06457219, 0.09234593, 0.1363568, 0.19598447, 0.3423536, 0.53376627]\n"
     ]
    }
   ],
   "source": [
    "fname=\"..\\ComputeCdfsOfProjections\\Cdfs/SL_wTd_nos_base_BISI_LBL_RCP26_cdf.nc\"\n",
    "ncf = nc.Dataset(fname, \"r\")\n",
    "\n",
    "Percentile = ncf.variables[\"Percentile\"][:]\n",
    "SL_wTd_nos_base_R0 = ncf.variables[\"Antarctica\"][:]\n",
    "\n",
    "SL_wTd_nos_BISI_LBL_RCP26_table = [SL_wTd_nos_base_R0[-1,5],SL_wTd_nos_base_R0[-1,50],SL_wTd_nos_base_R0[-1,166],SL_wTd_nos_base_R0[-1,500],SL_wTd_nos_base_R0[-1,833],SL_wTd_nos_base_R0[-1,950],SL_wTd_nos_base_R0[-1,995]]\n",
    "\n",
    "print(SL_wTd_nos_BISI_LBL_RCP26_table)\n"
   ]
  },
  {
   "cell_type": "code",
   "execution_count": 5,
   "metadata": {},
   "outputs": [
    {
     "name": "stdout",
     "output_type": "stream",
     "text": [
      "[0.019854745, 0.033367403, 0.04978336, 0.07372557, 0.10301895, 0.16502526, 0.24528432]\n"
     ]
    }
   ],
   "source": [
    "fname=\"..\\ComputeCdfsOfProjections\\Cdfs/SL_wTd_nos_base_CISM_NCA_RCP26_cdf.nc\"\n",
    "ncf = nc.Dataset(fname, \"r\")\n",
    "\n",
    "Percentile = ncf.variables[\"Percentile\"][:]\n",
    "SL_wTd_nos_base_R0 = ncf.variables[\"Antarctica\"][:]\n",
    "\n",
    "SL_wTd_nos_CISM_NCA_RCP26_table = [SL_wTd_nos_base_R0[-1,5],SL_wTd_nos_base_R0[-1,50],SL_wTd_nos_base_R0[-1,166],SL_wTd_nos_base_R0[-1,500],SL_wTd_nos_base_R0[-1,833],SL_wTd_nos_base_R0[-1,950],SL_wTd_nos_base_R0[-1,995]]\n",
    "\n",
    "print(SL_wTd_nos_CISM_NCA_RCP26_table)\n"
   ]
  },
  {
   "cell_type": "code",
   "execution_count": 6,
   "metadata": {},
   "outputs": [
    {
     "name": "stdout",
     "output_type": "stream",
     "text": [
      "[0.030300219, 0.04943973, 0.07173215, 0.114083104, 0.16356418, 0.25773358, 0.38913485]\n"
     ]
    }
   ],
   "source": [
    "fname=\"..\\ComputeCdfsOfProjections\\Cdfs/SL_wTd_nos_base_FETI_VUB_RCP26_cdf.nc\"\n",
    "ncf = nc.Dataset(fname, \"r\")\n",
    "\n",
    "Percentile = ncf.variables[\"Percentile\"][:]\n",
    "SL_wTd_nos_base_R0 = ncf.variables[\"Antarctica\"][:]\n",
    "\n",
    "SL_wTd_nos_FETI_VUB_RCP26_table = [SL_wTd_nos_base_R0[-1,5],SL_wTd_nos_base_R0[-1,50],SL_wTd_nos_base_R0[-1,166],SL_wTd_nos_base_R0[-1,500],SL_wTd_nos_base_R0[-1,833],SL_wTd_nos_base_R0[-1,950],SL_wTd_nos_base_R0[-1,995]]\n",
    "\n",
    "print(SL_wTd_nos_FETI_VUB_RCP26_table)\n"
   ]
  },
  {
   "cell_type": "code",
   "execution_count": 7,
   "metadata": {},
   "outputs": [
    {
     "name": "stdout",
     "output_type": "stream",
     "text": [
      "[0.016947376, 0.024672711, 0.036024988, 0.05840187, 0.084412344, 0.12818661, 0.19625987]\n"
     ]
    }
   ],
   "source": [
    "fname=\"..\\ComputeCdfsOfProjections\\Cdfs/SL_wTd_nos_base_GRIS_LSC_RCP26_cdf.nc\"\n",
    "ncf = nc.Dataset(fname, \"r\")\n",
    "\n",
    "Percentile = ncf.variables[\"Percentile\"][:]\n",
    "SL_wTd_nos_base_R0 = ncf.variables[\"Antarctica\"][:]\n",
    "\n",
    "SL_wTd_nos_GRIS_LSC_RCP26_table = [SL_wTd_nos_base_R0[-1,5],SL_wTd_nos_base_R0[-1,50],SL_wTd_nos_base_R0[-1,166],SL_wTd_nos_base_R0[-1,500],SL_wTd_nos_base_R0[-1,833],SL_wTd_nos_base_R0[-1,950],SL_wTd_nos_base_R0[-1,995]]\n",
    "\n",
    "print(SL_wTd_nos_GRIS_LSC_RCP26_table)\n"
   ]
  },
  {
   "cell_type": "code",
   "execution_count": 8,
   "metadata": {},
   "outputs": [
    {
     "name": "stdout",
     "output_type": "stream",
     "text": [
      "[0.053004257, 0.09232114, 0.13501929, 0.19514911, 0.28437403, 0.48828438, 0.76417184]\n"
     ]
    }
   ],
   "source": [
    "fname=\"..\\ComputeCdfsOfProjections\\Cdfs/SL_wTd_nos_base_IMAU_VUB_RCP26_cdf.nc\"\n",
    "ncf = nc.Dataset(fname, \"r\")\n",
    "\n",
    "Percentile = ncf.variables[\"Percentile\"][:]\n",
    "SL_wTd_nos_base_R0 = ncf.variables[\"Antarctica\"][:]\n",
    "\n",
    "SL_wTd_nos_IMAU_VUB_RCP26_table = [SL_wTd_nos_base_R0[-1,5],SL_wTd_nos_base_R0[-1,50],SL_wTd_nos_base_R0[-1,166],SL_wTd_nos_base_R0[-1,500],SL_wTd_nos_base_R0[-1,833],SL_wTd_nos_base_R0[-1,950],SL_wTd_nos_base_R0[-1,995]]\n",
    "\n",
    "print(SL_wTd_nos_IMAU_VUB_RCP26_table)\n"
   ]
  },
  {
   "cell_type": "code",
   "execution_count": 9,
   "metadata": {},
   "outputs": [
    {
     "name": "stdout",
     "output_type": "stream",
     "text": [
      "[0.026884906, 0.04334432, 0.06211752, 0.09137698, 0.12751384, 0.21525227, 0.33612007]\n"
     ]
    }
   ],
   "source": [
    "fname=\"..\\ComputeCdfsOfProjections\\Cdfs/SL_wTd_nos_base_ISSM_JPL_RCP26_cdf.nc\"\n",
    "ncf = nc.Dataset(fname, \"r\")\n",
    "\n",
    "Percentile = ncf.variables[\"Percentile\"][:]\n",
    "SL_wTd_nos_base_R0 = ncf.variables[\"Antarctica\"][:]\n",
    "\n",
    "SL_wTd_nos_ISSM_JPL_RCP26_table = [SL_wTd_nos_base_R0[-1,5],SL_wTd_nos_base_R0[-1,50],SL_wTd_nos_base_R0[-1,166],SL_wTd_nos_base_R0[-1,500],SL_wTd_nos_base_R0[-1,833],SL_wTd_nos_base_R0[-1,950],SL_wTd_nos_base_R0[-1,995]]\n",
    "\n",
    "print(SL_wTd_nos_ISSM_JPL_RCP26_table)\n"
   ]
  },
  {
   "cell_type": "code",
   "execution_count": 10,
   "metadata": {},
   "outputs": [
    {
     "name": "stdout",
     "output_type": "stream",
     "text": [
      "[0.054729227, 0.09254827, 0.13506113, 0.1908698, 0.27033737, 0.45181954, 0.7379061]\n"
     ]
    }
   ],
   "source": [
    "fname=\"..\\ComputeCdfsOfProjections\\Cdfs/SL_wTd_nos_base_ISSM_UCI_RCP26_cdf.nc\"\n",
    "ncf = nc.Dataset(fname, \"r\")\n",
    "\n",
    "Percentile = ncf.variables[\"Percentile\"][:]\n",
    "SL_wTd_nos_base_R0 = ncf.variables[\"Antarctica\"][:]\n",
    "\n",
    "SL_wTd_nos_ISSM_UCI_RCP26_table = [SL_wTd_nos_base_R0[-1,5],SL_wTd_nos_base_R0[-1,50],SL_wTd_nos_base_R0[-1,166],SL_wTd_nos_base_R0[-1,500],SL_wTd_nos_base_R0[-1,833],SL_wTd_nos_base_R0[-1,950],SL_wTd_nos_base_R0[-1,995]]\n",
    "\n",
    "print(SL_wTd_nos_ISSM_UCI_RCP26_table)\n"
   ]
  },
  {
   "cell_type": "code",
   "execution_count": 11,
   "metadata": {},
   "outputs": [
    {
     "name": "stdout",
     "output_type": "stream",
     "text": [
      "[0.031083107, 0.05600632, 0.07909194, 0.1101674, 0.15441068, 0.2601381, 0.41732946]\n"
     ]
    }
   ],
   "source": [
    "fname=\"..\\ComputeCdfsOfProjections\\Cdfs/SL_wTd_nos_base_MALI_LAN_RCP26_cdf.nc\"\n",
    "ncf = nc.Dataset(fname, \"r\")\n",
    "\n",
    "Percentile = ncf.variables[\"Percentile\"][:]\n",
    "SL_wTd_nos_base_R0 = ncf.variables[\"Antarctica\"][:]\n",
    "\n",
    "SL_wTd_nos_MALI_LAN_RCP26_table = [SL_wTd_nos_base_R0[-1,5],SL_wTd_nos_base_R0[-1,50],SL_wTd_nos_base_R0[-1,166],SL_wTd_nos_base_R0[-1,500],SL_wTd_nos_base_R0[-1,833],SL_wTd_nos_base_R0[-1,950],SL_wTd_nos_base_R0[-1,995]]\n",
    "\n",
    "print(SL_wTd_nos_MALI_LAN_RCP26_table)\n"
   ]
  },
  {
   "cell_type": "code",
   "execution_count": 12,
   "metadata": {},
   "outputs": [
    {
     "name": "stdout",
     "output_type": "stream",
     "text": [
      "[0.020030128, 0.035167757, 0.05731667, 0.08326909, 0.119106956, 0.19514029, 0.2971678]\n"
     ]
    }
   ],
   "source": [
    "fname=\"..\\ComputeCdfsOfProjections\\Cdfs/SL_wTd_nos_base_PISM_AWI_RCP26_cdf.nc\"\n",
    "ncf = nc.Dataset(fname, \"r\")\n",
    "\n",
    "Percentile = ncf.variables[\"Percentile\"][:]\n",
    "SL_wTd_nos_base_R0 = ncf.variables[\"Antarctica\"][:]\n",
    "\n",
    "SL_wTd_nos_PISM_AWI_RCP26_table = [SL_wTd_nos_base_R0[-1,5],SL_wTd_nos_base_R0[-1,50],SL_wTd_nos_base_R0[-1,166],SL_wTd_nos_base_R0[-1,500],SL_wTd_nos_base_R0[-1,833],SL_wTd_nos_base_R0[-1,950],SL_wTd_nos_base_R0[-1,995]]\n",
    "\n",
    "print(SL_wTd_nos_PISM_AWI_RCP26_table)\n"
   ]
  },
  {
   "cell_type": "code",
   "execution_count": 13,
   "metadata": {},
   "outputs": [
    {
     "name": "stdout",
     "output_type": "stream",
     "text": [
      "[0.06520221, 0.10976821, 0.16144013, 0.22464558, 0.31203905, 0.52039146, 0.81643474]\n"
     ]
    }
   ],
   "source": [
    "fname=\"..\\ComputeCdfsOfProjections\\Cdfs/SL_wTd_nos_base_PISM_DMI_RCP26_cdf.nc\"\n",
    "ncf = nc.Dataset(fname, \"r\")\n",
    "\n",
    "Percentile = ncf.variables[\"Percentile\"][:]\n",
    "SL_wTd_nos_base_R0 = ncf.variables[\"Antarctica\"][:]\n",
    "\n",
    "SL_wTd_nos_PISM_DMI_RCP26_table = [SL_wTd_nos_base_R0[-1,5],SL_wTd_nos_base_R0[-1,50],SL_wTd_nos_base_R0[-1,166],SL_wTd_nos_base_R0[-1,500],SL_wTd_nos_base_R0[-1,833],SL_wTd_nos_base_R0[-1,950],SL_wTd_nos_base_R0[-1,995]]\n",
    "\n",
    "print(SL_wTd_nos_PISM_DMI_RCP26_table)\n"
   ]
  },
  {
   "cell_type": "code",
   "execution_count": 14,
   "metadata": {},
   "outputs": [
    {
     "name": "stdout",
     "output_type": "stream",
     "text": [
      "[0.031494323, 0.057005543, 0.08942827, 0.14474133, 0.21745734, 0.31478873, 0.450582]\n"
     ]
    }
   ],
   "source": [
    "fname=\"..\\ComputeCdfsOfProjections\\Cdfs/SL_wTd_nos_base_PISM_PIK_RCP26_cdf.nc\"\n",
    "ncf = nc.Dataset(fname, \"r\")\n",
    "\n",
    "Percentile = ncf.variables[\"Percentile\"][:]\n",
    "SL_wTd_nos_base_R0 = ncf.variables[\"Antarctica\"][:]\n",
    "\n",
    "SL_wTd_nos_PISM_PIK_RCP26_table = [SL_wTd_nos_base_R0[-1,5],SL_wTd_nos_base_R0[-1,50],SL_wTd_nos_base_R0[-1,166],SL_wTd_nos_base_R0[-1,500],SL_wTd_nos_base_R0[-1,833],SL_wTd_nos_base_R0[-1,950],SL_wTd_nos_base_R0[-1,995]]\n",
    "\n",
    "print(SL_wTd_nos_PISM_PIK_RCP26_table)\n"
   ]
  },
  {
   "cell_type": "code",
   "execution_count": 15,
   "metadata": {},
   "outputs": [
    {
     "name": "stdout",
     "output_type": "stream",
     "text": [
      "[0.07768642, 0.12694782, 0.17893903, 0.2638235, 0.37809634, 0.61532956, 0.98118186]\n"
     ]
    }
   ],
   "source": [
    "fname=\"..\\ComputeCdfsOfProjections\\Cdfs/SL_wTd_nos_base_PISM_VUW_RCP26_cdf.nc\"\n",
    "ncf = nc.Dataset(fname, \"r\")\n",
    "\n",
    "Percentile = ncf.variables[\"Percentile\"][:]\n",
    "SL_wTd_nos_base_R0 = ncf.variables[\"Antarctica\"][:]\n",
    "\n",
    "SL_wTd_nos_PISM_VUW_RCP26_table = [SL_wTd_nos_base_R0[-1,5],SL_wTd_nos_base_R0[-1,50],SL_wTd_nos_base_R0[-1,166],SL_wTd_nos_base_R0[-1,500],SL_wTd_nos_base_R0[-1,833],SL_wTd_nos_base_R0[-1,950],SL_wTd_nos_base_R0[-1,995]]\n",
    "\n",
    "print(SL_wTd_nos_PISM_VUW_RCP26_table)\n"
   ]
  },
  {
   "cell_type": "code",
   "execution_count": 16,
   "metadata": {},
   "outputs": [
    {
     "name": "stdout",
     "output_type": "stream",
     "text": [
      "[0.0361842, 0.06456515, 0.09224255, 0.14258474, 0.2005089, 0.2980712, 0.44993022]\n"
     ]
    }
   ],
   "source": [
    "fname=\"..\\ComputeCdfsOfProjections\\Cdfs/SL_wTd_nos_base_PS3D_PSU_RCP26_cdf.nc\"\n",
    "ncf = nc.Dataset(fname, \"r\")\n",
    "\n",
    "Percentile = ncf.variables[\"Percentile\"][:]\n",
    "SL_wTd_nos_base_R0 = ncf.variables[\"Antarctica\"][:]\n",
    "\n",
    "SL_wTd_nos_PS3D_PSU_RCP26_table = [SL_wTd_nos_base_R0[-1,5],SL_wTd_nos_base_R0[-1,50],SL_wTd_nos_base_R0[-1,166],SL_wTd_nos_base_R0[-1,500],SL_wTd_nos_base_R0[-1,833],SL_wTd_nos_base_R0[-1,950],SL_wTd_nos_base_R0[-1,995]]\n",
    "\n",
    "print(SL_wTd_nos_PS3D_PSU_RCP26_table)\n"
   ]
  },
  {
   "cell_type": "code",
   "execution_count": 17,
   "metadata": {},
   "outputs": [
    {
     "name": "stdout",
     "output_type": "stream",
     "text": [
      "[0.041737072, 0.060300518, 0.081865706, 0.12106029, 0.17227146, 0.2884796, 0.46695963]\n"
     ]
    }
   ],
   "source": [
    "fname=\"..\\ComputeCdfsOfProjections\\Cdfs/SL_wTd_nos_base_SICO_UHO_RCP26_cdf.nc\"\n",
    "ncf = nc.Dataset(fname, \"r\")\n",
    "\n",
    "Percentile = ncf.variables[\"Percentile\"][:]\n",
    "SL_wTd_nos_base_R0 = ncf.variables[\"Antarctica\"][:]\n",
    "\n",
    "SL_wTd_nos_SICO_UHO_RCP26_table = [SL_wTd_nos_base_R0[-1,5],SL_wTd_nos_base_R0[-1,50],SL_wTd_nos_base_R0[-1,166],SL_wTd_nos_base_R0[-1,500],SL_wTd_nos_base_R0[-1,833],SL_wTd_nos_base_R0[-1,950],SL_wTd_nos_base_R0[-1,995]]\n",
    "\n",
    "print(SL_wTd_nos_SICO_UHO_RCP26_table)\n"
   ]
  },
  {
   "cell_type": "code",
   "execution_count": 20,
   "metadata": {},
   "outputs": [
    {
     "name": "stdout",
     "output_type": "stream",
     "text": [
      "[0.10048463, 0.16321543, 0.22360715, 0.3201848, 0.45568967, 0.764606, 1.2265859]\n"
     ]
    }
   ],
   "source": [
    "fname=\"..\\ComputeCdfsOfProjections\\Cdfs/SL_wTd_nos_base_UA_UNN_RCP26_cdf.nc\"\n",
    "ncf = nc.Dataset(fname, \"r\")\n",
    "\n",
    "Percentile = ncf.variables[\"Percentile\"][:]\n",
    "SL_wTd_nos_base_R0 = ncf.variables[\"Antarctica\"][:]\n",
    "\n",
    "SL_wTd_nos_UA_UNN_RCP26_table = [SL_wTd_nos_base_R0[-1,5],SL_wTd_nos_base_R0[-1,50],SL_wTd_nos_base_R0[-1,166],SL_wTd_nos_base_R0[-1,500],SL_wTd_nos_base_R0[-1,833],SL_wTd_nos_base_R0[-1,950],SL_wTd_nos_base_R0[-1,995]]\n",
    "\n",
    "print(SL_wTd_nos_UA_UNN_RCP26_table)\n"
   ]
  },
  {
   "cell_type": "code",
   "execution_count": 22,
   "metadata": {},
   "outputs": [],
   "source": [
    "f = open('Tables/Tab7_SL_RCP26.dat', 'w')\n",
    "\n",
    "for i in range(1,len(SL_wTd_nos_AISM_VUB_RCP26_table)-1):\n",
    "    f.write(\"%1.2f \" %(SL_wTd_nos_AISM_VUB_RCP26_table[i]))\n",
    "f.write(\"\\n\")\n",
    "    \n",
    "for i in range(1,len(SL_wTd_nos_BISI_LBL_RCP26_table)-1):\n",
    "    f.write(\"%1.2f \" %(SL_wTd_nos_BISI_LBL_RCP26_table[i]))\n",
    "f.write(\"\\n\")\n",
    "    \n",
    "for i in range(1,len(SL_wTd_nos_CISM_NCA_RCP26_table)-1):\n",
    "    f.write(\"%1.2f \" %(SL_wTd_nos_CISM_NCA_RCP26_table[i]))\n",
    "f.write(\"\\n\")\n",
    "    \n",
    "for i in range(1,len(SL_wTd_nos_FETI_VUB_RCP26_table)-1):\n",
    "    f.write(\"%1.2f \" %(SL_wTd_nos_FETI_VUB_RCP26_table[i]))\n",
    "f.write(\"\\n\")\n",
    "    \n",
    "for i in range(1,len(SL_wTd_nos_GRIS_LSC_RCP26_table)-1):\n",
    "    f.write(\"%1.2f \" %(SL_wTd_nos_GRIS_LSC_RCP26_table[i]))\n",
    "f.write(\"\\n\")\n",
    "    \n",
    "for i in range(1,len(SL_wTd_nos_IMAU_VUB_RCP26_table)-1):\n",
    "    f.write(\"%1.2f \" %(SL_wTd_nos_IMAU_VUB_RCP26_table[i]))\n",
    "f.write(\"\\n\")\n",
    "    \n",
    "for i in range(1,len(SL_wTd_nos_ISSM_JPL_RCP26_table)-1):\n",
    "    f.write(\"%1.2f \" %(SL_wTd_nos_ISSM_JPL_RCP26_table[i]))\n",
    "f.write(\"\\n\")\n",
    "    \n",
    "for i in range(1,len(SL_wTd_nos_ISSM_UCI_RCP26_table)-1):\n",
    "    f.write(\"%1.2f \" %(SL_wTd_nos_ISSM_UCI_RCP26_table[i]))\n",
    "f.write(\"\\n\")\n",
    "    \n",
    "for i in range(1,len(SL_wTd_nos_MALI_LAN_RCP26_table)-1):\n",
    "    f.write(\"%1.2f \" %(SL_wTd_nos_MALI_LAN_RCP26_table[i]))\n",
    "f.write(\"\\n\")\n",
    "    \n",
    "for i in range(1,len(SL_wTd_nos_PISM_AWI_RCP26_table)-1):\n",
    "    f.write(\"%1.2f \" %(SL_wTd_nos_PISM_AWI_RCP26_table[i]))\n",
    "f.write(\"\\n\")\n",
    "    \n",
    "for i in range(1,len(SL_wTd_nos_PISM_DMI_RCP26_table)-1):\n",
    "    f.write(\"%1.2f \" %(SL_wTd_nos_PISM_DMI_RCP26_table[i]))\n",
    "f.write(\"\\n\")\n",
    "    \n",
    "for i in range(1,len(SL_wTd_nos_PISM_PIK_RCP26_table)-1):\n",
    "    f.write(\"%1.2f \" %(SL_wTd_nos_PISM_PIK_RCP26_table[i]))\n",
    "f.write(\"\\n\")\n",
    "    \n",
    "for i in range(1,len(SL_wTd_nos_PISM_VUW_RCP26_table)-1):\n",
    "    f.write(\"%1.2f \" %(SL_wTd_nos_PISM_VUW_RCP26_table[i]))\n",
    "f.write(\"\\n\")\n",
    "    \n",
    "for i in range(1,len(SL_wTd_nos_PS3D_PSU_RCP26_table)-1):\n",
    "    f.write(\"%1.2f \" %(SL_wTd_nos_PS3D_PSU_RCP26_table[i]))\n",
    "f.write(\"\\n\")\n",
    "    \n",
    "for i in range(1,len(SL_wTd_nos_SICO_UHO_RCP26_table)-1):\n",
    "    f.write(\"%1.2f \" %(SL_wTd_nos_SICO_UHO_RCP26_table[i]))\n",
    "f.write(\"\\n\")\n",
    "    \n",
    "for i in range(1,len(SL_wTd_nos_UA_UNN_RCP26_table)-1):\n",
    "    f.write(\"%1.2f \" %(SL_wTd_nos_UA_UNN_RCP26_table[i]))\n",
    "f.write(\"\\n\")\n",
    "    \n",
    "f.close()\n"
   ]
  },
  {
   "cell_type": "code",
   "execution_count": 23,
   "metadata": {},
   "outputs": [],
   "source": [
    "f = open('Tables/Backup/Tab7_SL_RCP26_full.dat', 'w')\n",
    "\n",
    "for i in range(len(SL_wTd_nos_AISM_VUB_RCP26_table)):\n",
    "    f.write(\"%1.2f \" %(SL_wTd_nos_AISM_VUB_RCP26_table[i]))\n",
    "f.write(\"\\n\")\n",
    "    \n",
    "for i in range(len(SL_wTd_nos_BISI_LBL_RCP26_table)):\n",
    "    f.write(\"%1.2f \" %(SL_wTd_nos_BISI_LBL_RCP26_table[i]))\n",
    "f.write(\"\\n\")\n",
    "    \n",
    "for i in range(len(SL_wTd_nos_CISM_NCA_RCP26_table)):\n",
    "    f.write(\"%1.2f \" %(SL_wTd_nos_CISM_NCA_RCP26_table[i]))\n",
    "f.write(\"\\n\")\n",
    "    \n",
    "for i in range(len(SL_wTd_nos_FETI_VUB_RCP26_table)):\n",
    "    f.write(\"%1.2f \" %(SL_wTd_nos_FETI_VUB_RCP26_table[i]))\n",
    "f.write(\"\\n\")\n",
    "    \n",
    "for i in range(len(SL_wTd_nos_GRIS_LSC_RCP26_table)):\n",
    "    f.write(\"%1.2f \" %(SL_wTd_nos_GRIS_LSC_RCP26_table[i]))\n",
    "f.write(\"\\n\")\n",
    "    \n",
    "for i in range(len(SL_wTd_nos_IMAU_VUB_RCP26_table)):\n",
    "    f.write(\"%1.2f \" %(SL_wTd_nos_IMAU_VUB_RCP26_table[i]))\n",
    "f.write(\"\\n\")\n",
    "    \n",
    "for i in range(len(SL_wTd_nos_ISSM_JPL_RCP26_table)):\n",
    "    f.write(\"%1.2f \" %(SL_wTd_nos_ISSM_JPL_RCP26_table[i]))\n",
    "f.write(\"\\n\")\n",
    "    \n",
    "for i in range(len(SL_wTd_nos_ISSM_UCI_RCP26_table)):\n",
    "    f.write(\"%1.2f \" %(SL_wTd_nos_ISSM_UCI_RCP26_table[i]))\n",
    "f.write(\"\\n\")\n",
    "    \n",
    "for i in range(len(SL_wTd_nos_MALI_LAN_RCP26_table)):\n",
    "    f.write(\"%1.2f \" %(SL_wTd_nos_MALI_LAN_RCP26_table[i]))\n",
    "f.write(\"\\n\")\n",
    "    \n",
    "for i in range(len(SL_wTd_nos_PISM_AWI_RCP26_table)):\n",
    "    f.write(\"%1.2f \" %(SL_wTd_nos_PISM_AWI_RCP26_table[i]))\n",
    "f.write(\"\\n\")\n",
    "    \n",
    "for i in range(len(SL_wTd_nos_PISM_DMI_RCP26_table)):\n",
    "    f.write(\"%1.2f \" %(SL_wTd_nos_PISM_DMI_RCP26_table[i]))\n",
    "f.write(\"\\n\")\n",
    "    \n",
    "for i in range(len(SL_wTd_nos_PISM_PIK_RCP26_table)):\n",
    "    f.write(\"%1.2f \" %(SL_wTd_nos_PISM_PIK_RCP26_table[i]))\n",
    "f.write(\"\\n\")\n",
    "    \n",
    "for i in range(len(SL_wTd_nos_PISM_VUW_RCP26_table)):\n",
    "    f.write(\"%1.2f \" %(SL_wTd_nos_PISM_VUW_RCP26_table[i]))\n",
    "f.write(\"\\n\")\n",
    "    \n",
    "for i in range(len(SL_wTd_nos_PS3D_PSU_RCP26_table)):\n",
    "    f.write(\"%1.2f \" %(SL_wTd_nos_PS3D_PSU_RCP26_table[i]))\n",
    "f.write(\"\\n\")\n",
    "    \n",
    "for i in range(len(SL_wTd_nos_SICO_UHO_RCP26_table)):\n",
    "    f.write(\"%1.2f \" %(SL_wTd_nos_SICO_UHO_RCP26_table[i]))\n",
    "f.write(\"\\n\")\n",
    "    \n",
    "for i in range(len(SL_wTd_nos_UA_UNN_RCP26_table)):\n",
    "    f.write(\"%1.2f \" %(SL_wTd_nos_UA_UNN_RCP26_table[i]))\n",
    "f.write(\"\\n\")\n",
    "    \n",
    "f.close()\n"
   ]
  },
  {
   "cell_type": "code",
   "execution_count": null,
   "metadata": {},
   "outputs": [],
   "source": []
  },
  {
   "cell_type": "code",
   "execution_count": null,
   "metadata": {},
   "outputs": [],
   "source": []
  }
 ],
 "metadata": {
  "kernelspec": {
   "display_name": "Python 3",
   "language": "python",
   "name": "python3"
  },
  "language_info": {
   "codemirror_mode": {
    "name": "ipython",
    "version": 3
   },
   "file_extension": ".py",
   "mimetype": "text/x-python",
   "name": "python",
   "nbconvert_exporter": "python",
   "pygments_lexer": "ipython3",
   "version": "3.7.1"
  }
 },
 "nbformat": 4,
 "nbformat_minor": 2
}
