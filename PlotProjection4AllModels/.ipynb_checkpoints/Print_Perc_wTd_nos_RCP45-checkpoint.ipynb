{
 "cells": [
  {
   "cell_type": "code",
   "execution_count": 1,
   "metadata": {},
   "outputs": [],
   "source": [
    "%matplotlib inline"
   ]
  },
  {
   "cell_type": "code",
   "execution_count": 2,
   "metadata": {},
   "outputs": [],
   "source": [
    "import numpy as np\n",
    "import netCDF4 as nc\n",
    "import matplotlib.pylab as plt\n",
    "import imp\n",
    "import csv\n",
    "import pandas as pd\n",
    "from io import StringIO"
   ]
  },
  {
   "cell_type": "code",
   "execution_count": 3,
   "metadata": {},
   "outputs": [
    {
     "name": "stdout",
     "output_type": "stream",
     "text": [
      "[0.030216172, 0.04890959, 0.068326354, 0.0991284, 0.1404549, 0.24162714, 0.3800459]\n"
     ]
    }
   ],
   "source": [
    "fname=\"..\\ComputeCdfsOfProjections\\Cdfs/SL_wTd_nos_base_AISM_VUB_RCP45_cdf.nc\"\n",
    "ncf = nc.Dataset(fname, \"r\")\n",
    "\n",
    "Percentile = ncf.variables[\"Percentile\"][:]\n",
    "SL_wTd_nos_base_R0 = ncf.variables[\"Antarctica\"][:]\n",
    "\n",
    "SL_wTd_nos_AISM_VUB_RCP45_table = [SL_wTd_nos_base_R0[-1,5],SL_wTd_nos_base_R0[-1,50],SL_wTd_nos_base_R0[-1,166],SL_wTd_nos_base_R0[-1,500],SL_wTd_nos_base_R0[-1,833],SL_wTd_nos_base_R0[-1,950],SL_wTd_nos_base_R0[-1,995]]\n",
    "\n",
    "print(SL_wTd_nos_AISM_VUB_RCP45_table)\n"
   ]
  },
  {
   "cell_type": "code",
   "execution_count": 4,
   "metadata": {},
   "outputs": [
    {
     "name": "stdout",
     "output_type": "stream",
     "text": [
      "[0.041529935, 0.0686266, 0.0980159, 0.14687124, 0.21977839, 0.3899351, 0.6243952]\n"
     ]
    }
   ],
   "source": [
    "fname=\"..\\ComputeCdfsOfProjections\\Cdfs/SL_wTd_nos_base_BISI_LBL_RCP45_cdf.nc\"\n",
    "ncf = nc.Dataset(fname, \"r\")\n",
    "\n",
    "Percentile = ncf.variables[\"Percentile\"][:]\n",
    "SL_wTd_nos_base_R0 = ncf.variables[\"Antarctica\"][:]\n",
    "\n",
    "SL_wTd_nos_BISI_LBL_RCP45_table = [SL_wTd_nos_base_R0[-1,5],SL_wTd_nos_base_R0[-1,50],SL_wTd_nos_base_R0[-1,166],SL_wTd_nos_base_R0[-1,500],SL_wTd_nos_base_R0[-1,833],SL_wTd_nos_base_R0[-1,950],SL_wTd_nos_base_R0[-1,995]]\n",
    "\n",
    "print(SL_wTd_nos_BISI_LBL_RCP45_table)\n"
   ]
  },
  {
   "cell_type": "code",
   "execution_count": 5,
   "metadata": {},
   "outputs": [
    {
     "name": "stdout",
     "output_type": "stream",
     "text": [
      "[0.022122854, 0.036880333, 0.054806966, 0.08293974, 0.11761169, 0.19360147, 0.3085384]\n"
     ]
    }
   ],
   "source": [
    "fname=\"..\\ComputeCdfsOfProjections\\Cdfs/SL_wTd_nos_base_CISM_NCA_RCP45_cdf.nc\"\n",
    "ncf = nc.Dataset(fname, \"r\")\n",
    "\n",
    "Percentile = ncf.variables[\"Percentile\"][:]\n",
    "SL_wTd_nos_base_R0 = ncf.variables[\"Antarctica\"][:]\n",
    "\n",
    "SL_wTd_nos_CISM_NCA_RCP45_table = [SL_wTd_nos_base_R0[-1,5],SL_wTd_nos_base_R0[-1,50],SL_wTd_nos_base_R0[-1,166],SL_wTd_nos_base_R0[-1,500],SL_wTd_nos_base_R0[-1,833],SL_wTd_nos_base_R0[-1,950],SL_wTd_nos_base_R0[-1,995]]\n",
    "\n",
    "print(SL_wTd_nos_CISM_NCA_RCP45_table)\n"
   ]
  },
  {
   "cell_type": "code",
   "execution_count": 6,
   "metadata": {},
   "outputs": [
    {
     "name": "stdout",
     "output_type": "stream",
     "text": [
      "[0.033463344, 0.053607773, 0.079229064, 0.12739576, 0.18550749, 0.3044951, 0.47974226]\n"
     ]
    }
   ],
   "source": [
    "fname=\"..\\ComputeCdfsOfProjections\\Cdfs/SL_wTd_nos_base_FETI_VUB_RCP45_cdf.nc\"\n",
    "ncf = nc.Dataset(fname, \"r\")\n",
    "\n",
    "Percentile = ncf.variables[\"Percentile\"][:]\n",
    "SL_wTd_nos_base_R0 = ncf.variables[\"Antarctica\"][:]\n",
    "\n",
    "SL_wTd_nos_FETI_VUB_RCP45_table = [SL_wTd_nos_base_R0[-1,5],SL_wTd_nos_base_R0[-1,50],SL_wTd_nos_base_R0[-1,166],SL_wTd_nos_base_R0[-1,500],SL_wTd_nos_base_R0[-1,833],SL_wTd_nos_base_R0[-1,950],SL_wTd_nos_base_R0[-1,995]]\n",
    "\n",
    "print(SL_wTd_nos_FETI_VUB_RCP45_table)\n"
   ]
  },
  {
   "cell_type": "code",
   "execution_count": 7,
   "metadata": {},
   "outputs": [
    {
     "name": "stdout",
     "output_type": "stream",
     "text": [
      "[0.017401759, 0.025610823, 0.03744351, 0.06310516, 0.09428662, 0.1464021, 0.22830592]\n"
     ]
    }
   ],
   "source": [
    "fname=\"..\\ComputeCdfsOfProjections\\Cdfs/SL_wTd_nos_base_GRIS_LSC_RCP45_cdf.nc\"\n",
    "ncf = nc.Dataset(fname, \"r\")\n",
    "\n",
    "Percentile = ncf.variables[\"Percentile\"][:]\n",
    "SL_wTd_nos_base_R0 = ncf.variables[\"Antarctica\"][:]\n",
    "\n",
    "SL_wTd_nos_GRIS_LSC_RCP45_table = [SL_wTd_nos_base_R0[-1,5],SL_wTd_nos_base_R0[-1,50],SL_wTd_nos_base_R0[-1,166],SL_wTd_nos_base_R0[-1,500],SL_wTd_nos_base_R0[-1,833],SL_wTd_nos_base_R0[-1,950],SL_wTd_nos_base_R0[-1,995]]\n",
    "\n",
    "print(SL_wTd_nos_GRIS_LSC_RCP45_table)\n"
   ]
  },
  {
   "cell_type": "code",
   "execution_count": 8,
   "metadata": {},
   "outputs": [
    {
     "name": "stdout",
     "output_type": "stream",
     "text": [
      "[0.056037545, 0.096423306, 0.14656809, 0.21760541, 0.32899418, 0.55932707, 0.9061605]\n"
     ]
    }
   ],
   "source": [
    "fname=\"..\\ComputeCdfsOfProjections\\Cdfs/SL_wTd_nos_base_IMAU_VUB_RCP45_cdf.nc\"\n",
    "ncf = nc.Dataset(fname, \"r\")\n",
    "\n",
    "Percentile = ncf.variables[\"Percentile\"][:]\n",
    "SL_wTd_nos_base_R0 = ncf.variables[\"Antarctica\"][:]\n",
    "\n",
    "SL_wTd_nos_IMAU_VUB_RCP45_table = [SL_wTd_nos_base_R0[-1,5],SL_wTd_nos_base_R0[-1,50],SL_wTd_nos_base_R0[-1,166],SL_wTd_nos_base_R0[-1,500],SL_wTd_nos_base_R0[-1,833],SL_wTd_nos_base_R0[-1,950],SL_wTd_nos_base_R0[-1,995]]\n",
    "\n",
    "print(SL_wTd_nos_IMAU_VUB_RCP45_table)\n"
   ]
  },
  {
   "cell_type": "code",
   "execution_count": 9,
   "metadata": {},
   "outputs": [
    {
     "name": "stdout",
     "output_type": "stream",
     "text": [
      "[0.029275257, 0.047091514, 0.066763364, 0.100185454, 0.14402714, 0.2486486, 0.3926121]\n"
     ]
    }
   ],
   "source": [
    "fname=\"..\\ComputeCdfsOfProjections\\Cdfs/SL_wTd_nos_base_ISSM_JPL_RCP45_cdf.nc\"\n",
    "ncf = nc.Dataset(fname, \"r\")\n",
    "\n",
    "Percentile = ncf.variables[\"Percentile\"][:]\n",
    "SL_wTd_nos_base_R0 = ncf.variables[\"Antarctica\"][:]\n",
    "\n",
    "SL_wTd_nos_ISSM_JPL_RCP45_table = [SL_wTd_nos_base_R0[-1,5],SL_wTd_nos_base_R0[-1,50],SL_wTd_nos_base_R0[-1,166],SL_wTd_nos_base_R0[-1,500],SL_wTd_nos_base_R0[-1,833],SL_wTd_nos_base_R0[-1,950],SL_wTd_nos_base_R0[-1,995]]\n",
    "\n",
    "print(SL_wTd_nos_ISSM_JPL_RCP45_table)\n"
   ]
  },
  {
   "cell_type": "code",
   "execution_count": 10,
   "metadata": {},
   "outputs": [
    {
     "name": "stdout",
     "output_type": "stream",
     "text": [
      "[0.061414897, 0.10328984, 0.14996283, 0.21650216, 0.31697384, 0.55449647, 0.8936323]\n"
     ]
    }
   ],
   "source": [
    "fname=\"..\\ComputeCdfsOfProjections\\Cdfs/SL_wTd_nos_base_ISSM_UCI_RCP45_cdf.nc\"\n",
    "ncf = nc.Dataset(fname, \"r\")\n",
    "\n",
    "Percentile = ncf.variables[\"Percentile\"][:]\n",
    "SL_wTd_nos_base_R0 = ncf.variables[\"Antarctica\"][:]\n",
    "\n",
    "SL_wTd_nos_ISSM_UCI_RCP45_table = [SL_wTd_nos_base_R0[-1,5],SL_wTd_nos_base_R0[-1,50],SL_wTd_nos_base_R0[-1,166],SL_wTd_nos_base_R0[-1,500],SL_wTd_nos_base_R0[-1,833],SL_wTd_nos_base_R0[-1,950],SL_wTd_nos_base_R0[-1,995]]\n",
    "\n",
    "print(SL_wTd_nos_ISSM_UCI_RCP45_table)\n"
   ]
  },
  {
   "cell_type": "code",
   "execution_count": 11,
   "metadata": {},
   "outputs": [
    {
     "name": "stdout",
     "output_type": "stream",
     "text": [
      "[0.03636881, 0.06245419, 0.087465346, 0.12399499, 0.17628945, 0.3121119, 0.5093595]\n"
     ]
    }
   ],
   "source": [
    "fname=\"..\\ComputeCdfsOfProjections\\Cdfs/SL_wTd_nos_base_MALI_LAN_RCP45_cdf.nc\"\n",
    "ncf = nc.Dataset(fname, \"r\")\n",
    "\n",
    "Percentile = ncf.variables[\"Percentile\"][:]\n",
    "SL_wTd_nos_base_R0 = ncf.variables[\"Antarctica\"][:]\n",
    "\n",
    "SL_wTd_nos_MALI_LAN_RCP45_table = [SL_wTd_nos_base_R0[-1,5],SL_wTd_nos_base_R0[-1,50],SL_wTd_nos_base_R0[-1,166],SL_wTd_nos_base_R0[-1,500],SL_wTd_nos_base_R0[-1,833],SL_wTd_nos_base_R0[-1,950],SL_wTd_nos_base_R0[-1,995]]\n",
    "\n",
    "print(SL_wTd_nos_MALI_LAN_RCP45_table)\n"
   ]
  },
  {
   "cell_type": "code",
   "execution_count": 12,
   "metadata": {},
   "outputs": [
    {
     "name": "stdout",
     "output_type": "stream",
     "text": [
      "[0.022016395, 0.040213715, 0.062045578, 0.09170332, 0.13522187, 0.2270647, 0.34959397]\n"
     ]
    }
   ],
   "source": [
    "fname=\"..\\ComputeCdfsOfProjections\\Cdfs/SL_wTd_nos_base_PISM_AWI_RCP45_cdf.nc\"\n",
    "ncf = nc.Dataset(fname, \"r\")\n",
    "\n",
    "Percentile = ncf.variables[\"Percentile\"][:]\n",
    "SL_wTd_nos_base_R0 = ncf.variables[\"Antarctica\"][:]\n",
    "\n",
    "SL_wTd_nos_PISM_AWI_RCP45_table = [SL_wTd_nos_base_R0[-1,5],SL_wTd_nos_base_R0[-1,50],SL_wTd_nos_base_R0[-1,166],SL_wTd_nos_base_R0[-1,500],SL_wTd_nos_base_R0[-1,833],SL_wTd_nos_base_R0[-1,950],SL_wTd_nos_base_R0[-1,995]]\n",
    "\n",
    "print(SL_wTd_nos_PISM_AWI_RCP45_table)\n"
   ]
  },
  {
   "cell_type": "code",
   "execution_count": 13,
   "metadata": {},
   "outputs": [
    {
     "name": "stdout",
     "output_type": "stream",
     "text": [
      "[0.07660014, 0.12571444, 0.1817784, 0.25532597, 0.3633142, 0.64119947, 1.0013492]\n"
     ]
    }
   ],
   "source": [
    "fname=\"..\\ComputeCdfsOfProjections\\Cdfs/SL_wTd_nos_base_PISM_DMI_RCP45_cdf.nc\"\n",
    "ncf = nc.Dataset(fname, \"r\")\n",
    "\n",
    "Percentile = ncf.variables[\"Percentile\"][:]\n",
    "SL_wTd_nos_base_R0 = ncf.variables[\"Antarctica\"][:]\n",
    "\n",
    "SL_wTd_nos_PISM_DMI_RCP45_table = [SL_wTd_nos_base_R0[-1,5],SL_wTd_nos_base_R0[-1,50],SL_wTd_nos_base_R0[-1,166],SL_wTd_nos_base_R0[-1,500],SL_wTd_nos_base_R0[-1,833],SL_wTd_nos_base_R0[-1,950],SL_wTd_nos_base_R0[-1,995]]\n",
    "\n",
    "print(SL_wTd_nos_PISM_DMI_RCP45_table)\n"
   ]
  },
  {
   "cell_type": "code",
   "execution_count": 14,
   "metadata": {},
   "outputs": [
    {
     "name": "stdout",
     "output_type": "stream",
     "text": [
      "[0.034238964, 0.06100963, 0.09640061, 0.15908675, 0.24902958, 0.37394196, 0.54104286]\n"
     ]
    }
   ],
   "source": [
    "fname=\"..\\ComputeCdfsOfProjections\\Cdfs/SL_wTd_nos_base_PISM_PIK_RCP45_cdf.nc\"\n",
    "ncf = nc.Dataset(fname, \"r\")\n",
    "\n",
    "Percentile = ncf.variables[\"Percentile\"][:]\n",
    "SL_wTd_nos_base_R0 = ncf.variables[\"Antarctica\"][:]\n",
    "\n",
    "SL_wTd_nos_PISM_PIK_RCP45_table = [SL_wTd_nos_base_R0[-1,5],SL_wTd_nos_base_R0[-1,50],SL_wTd_nos_base_R0[-1,166],SL_wTd_nos_base_R0[-1,500],SL_wTd_nos_base_R0[-1,833],SL_wTd_nos_base_R0[-1,950],SL_wTd_nos_base_R0[-1,995]]\n",
    "\n",
    "print(SL_wTd_nos_PISM_PIK_RCP45_table)\n"
   ]
  },
  {
   "cell_type": "code",
   "execution_count": 15,
   "metadata": {},
   "outputs": [
    {
     "name": "stdout",
     "output_type": "stream",
     "text": [
      "[0.08720569, 0.1410065, 0.20164476, 0.30084276, 0.4543362, 0.7608064, 1.2213283]\n"
     ]
    }
   ],
   "source": [
    "fname=\"..\\ComputeCdfsOfProjections\\Cdfs/SL_wTd_nos_base_PISM_VUW_RCP45_cdf.nc\"\n",
    "ncf = nc.Dataset(fname, \"r\")\n",
    "\n",
    "Percentile = ncf.variables[\"Percentile\"][:]\n",
    "SL_wTd_nos_base_R0 = ncf.variables[\"Antarctica\"][:]\n",
    "\n",
    "SL_wTd_nos_PISM_VUW_RCP45_table = [SL_wTd_nos_base_R0[-1,5],SL_wTd_nos_base_R0[-1,50],SL_wTd_nos_base_R0[-1,166],SL_wTd_nos_base_R0[-1,500],SL_wTd_nos_base_R0[-1,833],SL_wTd_nos_base_R0[-1,950],SL_wTd_nos_base_R0[-1,995]]\n",
    "\n",
    "print(SL_wTd_nos_PISM_VUW_RCP45_table)\n"
   ]
  },
  {
   "cell_type": "code",
   "execution_count": 16,
   "metadata": {},
   "outputs": [
    {
     "name": "stdout",
     "output_type": "stream",
     "text": [
      "[0.04367092, 0.07185182, 0.103157, 0.16192503, 0.23532097, 0.36781433, 0.5954847]\n"
     ]
    }
   ],
   "source": [
    "fname=\"..\\ComputeCdfsOfProjections\\Cdfs/SL_wTd_nos_base_PS3D_PSU_RCP45_cdf.nc\"\n",
    "ncf = nc.Dataset(fname, \"r\")\n",
    "\n",
    "Percentile = ncf.variables[\"Percentile\"][:]\n",
    "SL_wTd_nos_base_R0 = ncf.variables[\"Antarctica\"][:]\n",
    "\n",
    "SL_wTd_nos_PS3D_PSU_RCP45_table = [SL_wTd_nos_base_R0[-1,5],SL_wTd_nos_base_R0[-1,50],SL_wTd_nos_base_R0[-1,166],SL_wTd_nos_base_R0[-1,500],SL_wTd_nos_base_R0[-1,833],SL_wTd_nos_base_R0[-1,950],SL_wTd_nos_base_R0[-1,995]]\n",
    "\n",
    "print(SL_wTd_nos_PS3D_PSU_RCP45_table)\n"
   ]
  },
  {
   "cell_type": "code",
   "execution_count": 17,
   "metadata": {},
   "outputs": [
    {
     "name": "stdout",
     "output_type": "stream",
     "text": [
      "[0.045970187, 0.06569694, 0.089977555, 0.13380441, 0.19359252, 0.33676866, 0.54813355]\n"
     ]
    }
   ],
   "source": [
    "fname=\"..\\ComputeCdfsOfProjections\\Cdfs/SL_wTd_nos_base_SICO_UHO_RCP45_cdf.nc\"\n",
    "ncf = nc.Dataset(fname, \"r\")\n",
    "\n",
    "Percentile = ncf.variables[\"Percentile\"][:]\n",
    "SL_wTd_nos_base_R0 = ncf.variables[\"Antarctica\"][:]\n",
    "\n",
    "SL_wTd_nos_SICO_UHO_RCP45_table = [SL_wTd_nos_base_R0[-1,5],SL_wTd_nos_base_R0[-1,50],SL_wTd_nos_base_R0[-1,166],SL_wTd_nos_base_R0[-1,500],SL_wTd_nos_base_R0[-1,833],SL_wTd_nos_base_R0[-1,950],SL_wTd_nos_base_R0[-1,995]]\n",
    "\n",
    "print(SL_wTd_nos_SICO_UHO_RCP45_table)\n"
   ]
  },
  {
   "cell_type": "code",
   "execution_count": 18,
   "metadata": {},
   "outputs": [
    {
     "name": "stdout",
     "output_type": "stream",
     "text": [
      "[0.11349072, 0.18361264, 0.25298643, 0.3650253, 0.5302669, 0.9006597, 1.4785802]\n"
     ]
    }
   ],
   "source": [
    "fname=\"..\\ComputeCdfsOfProjections\\Cdfs/SL_wTd_nos_base_UA_UNN_RCP45_cdf.nc\"\n",
    "ncf = nc.Dataset(fname, \"r\")\n",
    "\n",
    "Percentile = ncf.variables[\"Percentile\"][:]\n",
    "SL_wTd_nos_base_R0 = ncf.variables[\"Antarctica\"][:]\n",
    "\n",
    "SL_wTd_nos_UA_UNN_RCP45_table = [SL_wTd_nos_base_R0[-1,5],SL_wTd_nos_base_R0[-1,50],SL_wTd_nos_base_R0[-1,166],SL_wTd_nos_base_R0[-1,500],SL_wTd_nos_base_R0[-1,833],SL_wTd_nos_base_R0[-1,950],SL_wTd_nos_base_R0[-1,995]]\n",
    "\n",
    "print(SL_wTd_nos_UA_UNN_RCP45_table)\n"
   ]
  },
  {
   "cell_type": "code",
   "execution_count": 21,
   "metadata": {},
   "outputs": [],
   "source": [
    "f = open('Tables/Tab8_SL_RCP45.dat', 'w')\n",
    "\n",
    "for i in range(1,len(SL_wTd_nos_AISM_VUB_RCP45_table)-1):\n",
    "    f.write(\"%1.2f \" %(SL_wTd_nos_AISM_VUB_RCP45_table[i]))\n",
    "f.write(\"\\n\")\n",
    "    \n",
    "for i in range(1,len(SL_wTd_nos_BISI_LBL_RCP45_table)-1):\n",
    "    f.write(\"%1.2f \" %(SL_wTd_nos_BISI_LBL_RCP45_table[i]))\n",
    "f.write(\"\\n\")\n",
    "    \n",
    "for i in range(1,len(SL_wTd_nos_CISM_NCA_RCP45_table)-1):\n",
    "    f.write(\"%1.2f \" %(SL_wTd_nos_CISM_NCA_RCP45_table[i]))\n",
    "f.write(\"\\n\")\n",
    "    \n",
    "for i in range(1,len(SL_wTd_nos_FETI_VUB_RCP45_table)-1):\n",
    "    f.write(\"%1.2f \" %(SL_wTd_nos_FETI_VUB_RCP45_table[i]))\n",
    "f.write(\"\\n\")\n",
    "    \n",
    "for i in range(1,len(SL_wTd_nos_GRIS_LSC_RCP45_table)-1):\n",
    "    f.write(\"%1.2f \" %(SL_wTd_nos_GRIS_LSC_RCP45_table[i]))\n",
    "f.write(\"\\n\")\n",
    "    \n",
    "for i in range(1,len(SL_wTd_nos_IMAU_VUB_RCP45_table)-1):\n",
    "    f.write(\"%1.2f \" %(SL_wTd_nos_IMAU_VUB_RCP45_table[i]))\n",
    "f.write(\"\\n\")\n",
    "    \n",
    "for i in range(1,len(SL_wTd_nos_ISSM_JPL_RCP45_table)-1):\n",
    "    f.write(\"%1.2f \" %(SL_wTd_nos_ISSM_JPL_RCP45_table[i]))\n",
    "f.write(\"\\n\")\n",
    "    \n",
    "for i in range(1,len(SL_wTd_nos_ISSM_UCI_RCP45_table)-1):\n",
    "    f.write(\"%1.2f \" %(SL_wTd_nos_ISSM_UCI_RCP45_table[i]))\n",
    "f.write(\"\\n\")\n",
    "    \n",
    "for i in range(1,len(SL_wTd_nos_MALI_LAN_RCP45_table)-1):\n",
    "    f.write(\"%1.2f \" %(SL_wTd_nos_MALI_LAN_RCP45_table[i]))\n",
    "f.write(\"\\n\")\n",
    "    \n",
    "for i in range(1,len(SL_wTd_nos_PISM_AWI_RCP45_table)-1):\n",
    "    f.write(\"%1.2f \" %(SL_wTd_nos_PISM_AWI_RCP45_table[i]))\n",
    "f.write(\"\\n\")\n",
    "    \n",
    "for i in range(1,len(SL_wTd_nos_PISM_DMI_RCP45_table)-1):\n",
    "    f.write(\"%1.2f \" %(SL_wTd_nos_PISM_DMI_RCP45_table[i]))\n",
    "f.write(\"\\n\")\n",
    "    \n",
    "for i in range(1,len(SL_wTd_nos_PISM_PIK_RCP45_table)-1):\n",
    "    f.write(\"%1.2f \" %(SL_wTd_nos_PISM_PIK_RCP45_table[i]))\n",
    "f.write(\"\\n\")\n",
    "    \n",
    "for i in range(1,len(SL_wTd_nos_PISM_VUW_RCP45_table)-1):\n",
    "    f.write(\"%1.2f \" %(SL_wTd_nos_PISM_VUW_RCP45_table[i]))\n",
    "f.write(\"\\n\")\n",
    "    \n",
    "for i in range(1,len(SL_wTd_nos_PS3D_PSU_RCP45_table)-1):\n",
    "    f.write(\"%1.2f \" %(SL_wTd_nos_PS3D_PSU_RCP45_table[i]))\n",
    "f.write(\"\\n\")\n",
    "    \n",
    "for i in range(1,len(SL_wTd_nos_SICO_UHO_RCP45_table)-1):\n",
    "    f.write(\"%1.2f \" %(SL_wTd_nos_SICO_UHO_RCP45_table[i]))\n",
    "f.write(\"\\n\")\n",
    "    \n",
    "for i in range(1,len(SL_wTd_nos_UA_UNN_RCP45_table)-1):\n",
    "    f.write(\"%1.2f \" %(SL_wTd_nos_UA_UNN_RCP45_table[i]))\n",
    "f.write(\"\\n\")\n",
    "    \n",
    "f.close()\n"
   ]
  },
  {
   "cell_type": "code",
   "execution_count": 22,
   "metadata": {},
   "outputs": [],
   "source": [
    "f = open('Tables/Backup/Tab8_SL_RCP45_full.dat', 'w')\n",
    "\n",
    "for i in range(len(SL_wTd_nos_AISM_VUB_RCP45_table)):\n",
    "    f.write(\"%1.2f \" %(SL_wTd_nos_AISM_VUB_RCP45_table[i]))\n",
    "f.write(\"\\n\")\n",
    "    \n",
    "for i in range(len(SL_wTd_nos_BISI_LBL_RCP45_table)):\n",
    "    f.write(\"%1.2f \" %(SL_wTd_nos_BISI_LBL_RCP45_table[i]))\n",
    "f.write(\"\\n\")\n",
    "    \n",
    "for i in range(len(SL_wTd_nos_CISM_NCA_RCP45_table)):\n",
    "    f.write(\"%1.2f \" %(SL_wTd_nos_CISM_NCA_RCP45_table[i]))\n",
    "f.write(\"\\n\")\n",
    "    \n",
    "for i in range(len(SL_wTd_nos_FETI_VUB_RCP45_table)):\n",
    "    f.write(\"%1.2f \" %(SL_wTd_nos_FETI_VUB_RCP45_table[i]))\n",
    "f.write(\"\\n\")\n",
    "    \n",
    "for i in range(len(SL_wTd_nos_GRIS_LSC_RCP45_table)):\n",
    "    f.write(\"%1.2f \" %(SL_wTd_nos_GRIS_LSC_RCP45_table[i]))\n",
    "f.write(\"\\n\")\n",
    "    \n",
    "for i in range(len(SL_wTd_nos_IMAU_VUB_RCP45_table)):\n",
    "    f.write(\"%1.2f \" %(SL_wTd_nos_IMAU_VUB_RCP45_table[i]))\n",
    "f.write(\"\\n\")\n",
    "    \n",
    "for i in range(len(SL_wTd_nos_ISSM_JPL_RCP45_table)):\n",
    "    f.write(\"%1.2f \" %(SL_wTd_nos_ISSM_JPL_RCP45_table[i]))\n",
    "f.write(\"\\n\")\n",
    "    \n",
    "for i in range(len(SL_wTd_nos_ISSM_UCI_RCP45_table)):\n",
    "    f.write(\"%1.2f \" %(SL_wTd_nos_ISSM_UCI_RCP45_table[i]))\n",
    "f.write(\"\\n\")\n",
    "    \n",
    "for i in range(len(SL_wTd_nos_MALI_LAN_RCP45_table)):\n",
    "    f.write(\"%1.2f \" %(SL_wTd_nos_MALI_LAN_RCP45_table[i]))\n",
    "f.write(\"\\n\")\n",
    "    \n",
    "for i in range(len(SL_wTd_nos_PISM_AWI_RCP45_table)):\n",
    "    f.write(\"%1.2f \" %(SL_wTd_nos_PISM_AWI_RCP45_table[i]))\n",
    "f.write(\"\\n\")\n",
    "    \n",
    "for i in range(len(SL_wTd_nos_PISM_DMI_RCP45_table)):\n",
    "    f.write(\"%1.2f \" %(SL_wTd_nos_PISM_DMI_RCP45_table[i]))\n",
    "f.write(\"\\n\")\n",
    "    \n",
    "for i in range(len(SL_wTd_nos_PISM_PIK_RCP45_table)):\n",
    "    f.write(\"%1.2f \" %(SL_wTd_nos_PISM_PIK_RCP45_table[i]))\n",
    "f.write(\"\\n\")\n",
    "    \n",
    "for i in range(len(SL_wTd_nos_PISM_VUW_RCP45_table)):\n",
    "    f.write(\"%1.2f \" %(SL_wTd_nos_PISM_VUW_RCP45_table[i]))\n",
    "f.write(\"\\n\")\n",
    "    \n",
    "for i in range(len(SL_wTd_nos_PS3D_PSU_RCP45_table)):\n",
    "    f.write(\"%1.2f \" %(SL_wTd_nos_PS3D_PSU_RCP45_table[i]))\n",
    "f.write(\"\\n\")\n",
    "    \n",
    "for i in range(len(SL_wTd_nos_SICO_UHO_RCP45_table)):\n",
    "    f.write(\"%1.2f \" %(SL_wTd_nos_SICO_UHO_RCP45_table[i]))\n",
    "f.write(\"\\n\")\n",
    "    \n",
    "for i in range(len(SL_wTd_nos_UA_UNN_RCP45_table)):\n",
    "    f.write(\"%1.2f \" %(SL_wTd_nos_UA_UNN_RCP45_table[i]))\n",
    "f.write(\"\\n\")\n",
    "    \n",
    "f.close()\n"
   ]
  },
  {
   "cell_type": "code",
   "execution_count": null,
   "metadata": {},
   "outputs": [],
   "source": []
  },
  {
   "cell_type": "code",
   "execution_count": null,
   "metadata": {},
   "outputs": [],
   "source": []
  }
 ],
 "metadata": {
  "kernelspec": {
   "display_name": "Python 3",
   "language": "python",
   "name": "python3"
  },
  "language_info": {
   "codemirror_mode": {
    "name": "ipython",
    "version": 3
   },
   "file_extension": ".py",
   "mimetype": "text/x-python",
   "name": "python",
   "nbconvert_exporter": "python",
   "pygments_lexer": "ipython3",
   "version": "3.7.1"
  }
 },
 "nbformat": 4,
 "nbformat_minor": 2
}
