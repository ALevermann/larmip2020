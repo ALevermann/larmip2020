{
 "cells": [
  {
   "cell_type": "code",
   "execution_count": 1,
   "metadata": {},
   "outputs": [],
   "source": [
    "%matplotlib inline"
   ]
  },
  {
   "cell_type": "code",
   "execution_count": 2,
   "metadata": {},
   "outputs": [],
   "source": [
    "import numpy as np\n",
    "import netCDF4 as nc\n",
    "import matplotlib.pylab as plt\n",
    "import imp\n",
    "import csv\n",
    "import pandas as pd\n",
    "from io import StringIO"
   ]
  },
  {
   "cell_type": "code",
   "execution_count": 3,
   "metadata": {},
   "outputs": [
    {
     "name": "stdout",
     "output_type": "stream",
     "text": [
      "[0.03745045, 0.059070244, 0.083378606, 0.12528822, 0.18941864, 0.33267832, 0.55169547]\n"
     ]
    }
   ],
   "source": [
    "fname=\"..\\ComputeCdfsOfProjections\\Cdfs/SL_wTd_nos_base_AISM_VUB_RCP85_cdf.nc\"\n",
    "ncf = nc.Dataset(fname, \"r\")\n",
    "\n",
    "Percentile = ncf.variables[\"Percentile\"][:]\n",
    "SL_wTd_nos_base_R0 = ncf.variables[\"Antarctica\"][:]\n",
    "\n",
    "SL_wTd_nos_AISM_VUB_RCP85_table = [SL_wTd_nos_base_R0[-1,5],SL_wTd_nos_base_R0[-1,50],SL_wTd_nos_base_R0[-1,166],SL_wTd_nos_base_R0[-1,500],SL_wTd_nos_base_R0[-1,833],SL_wTd_nos_base_R0[-1,950],SL_wTd_nos_base_R0[-1,995]]\n",
    "\n",
    "print(SL_wTd_nos_AISM_VUB_RCP85_table)\n"
   ]
  },
  {
   "cell_type": "code",
   "execution_count": 4,
   "metadata": {},
   "outputs": [
    {
     "name": "stdout",
     "output_type": "stream",
     "text": [
      "[0.046995357, 0.07572349, 0.10974215, 0.17127112, 0.26680997, 0.4576838, 0.7638254]\n"
     ]
    }
   ],
   "source": [
    "fname=\"..\\ComputeCdfsOfProjections\\Cdfs/SL_wTd_nos_base_BISI_LBL_RCP85_cdf.nc\"\n",
    "ncf = nc.Dataset(fname, \"r\")\n",
    "\n",
    "Percentile = ncf.variables[\"Percentile\"][:]\n",
    "SL_wTd_nos_base_R0 = ncf.variables[\"Antarctica\"][:]\n",
    "\n",
    "SL_wTd_nos_BISI_LBL_RCP85_table = [SL_wTd_nos_base_R0[-1,5],SL_wTd_nos_base_R0[-1,50],SL_wTd_nos_base_R0[-1,166],SL_wTd_nos_base_R0[-1,500],SL_wTd_nos_base_R0[-1,833],SL_wTd_nos_base_R0[-1,950],SL_wTd_nos_base_R0[-1,995]]\n",
    "\n",
    "print(SL_wTd_nos_BISI_LBL_RCP85_table)\n"
   ]
  },
  {
   "cell_type": "code",
   "execution_count": 5,
   "metadata": {},
   "outputs": [
    {
     "name": "stdout",
     "output_type": "stream",
     "text": [
      "[0.0267316, 0.043589104, 0.06471946, 0.10157026, 0.15502666, 0.2690198, 0.43077597]\n"
     ]
    }
   ],
   "source": [
    "fname=\"..\\ComputeCdfsOfProjections\\Cdfs/SL_wTd_nos_base_CISM_NCA_RCP85_cdf.nc\"\n",
    "ncf = nc.Dataset(fname, \"r\")\n",
    "\n",
    "Percentile = ncf.variables[\"Percentile\"][:]\n",
    "SL_wTd_nos_base_R0 = ncf.variables[\"Antarctica\"][:]\n",
    "\n",
    "SL_wTd_nos_CISM_NCA_RCP85_table = [SL_wTd_nos_base_R0[-1,5],SL_wTd_nos_base_R0[-1,50],SL_wTd_nos_base_R0[-1,166],SL_wTd_nos_base_R0[-1,500],SL_wTd_nos_base_R0[-1,833],SL_wTd_nos_base_R0[-1,950],SL_wTd_nos_base_R0[-1,995]]\n",
    "\n",
    "print(SL_wTd_nos_CISM_NCA_RCP85_table)\n"
   ]
  },
  {
   "cell_type": "code",
   "execution_count": 6,
   "metadata": {},
   "outputs": [
    {
     "name": "stdout",
     "output_type": "stream",
     "text": [
      "[0.03987534, 0.060643554, 0.09115158, 0.15101038, 0.23293996, 0.38915214, 0.6455659]\n"
     ]
    }
   ],
   "source": [
    "fname=\"..\\ComputeCdfsOfProjections\\Cdfs/SL_wTd_nos_base_FETI_VUB_RCP85_cdf.nc\"\n",
    "ncf = nc.Dataset(fname, \"r\")\n",
    "\n",
    "Percentile = ncf.variables[\"Percentile\"][:]\n",
    "SL_wTd_nos_base_R0 = ncf.variables[\"Antarctica\"][:]\n",
    "\n",
    "SL_wTd_nos_FETI_VUB_RCP85_table = [SL_wTd_nos_base_R0[-1,5],SL_wTd_nos_base_R0[-1,50],SL_wTd_nos_base_R0[-1,166],SL_wTd_nos_base_R0[-1,500],SL_wTd_nos_base_R0[-1,833],SL_wTd_nos_base_R0[-1,950],SL_wTd_nos_base_R0[-1,995]]\n",
    "\n",
    "print(SL_wTd_nos_FETI_VUB_RCP85_table)\n"
   ]
  },
  {
   "cell_type": "code",
   "execution_count": 7,
   "metadata": {},
   "outputs": [
    {
     "name": "stdout",
     "output_type": "stream",
     "text": [
      "[0.018647475, 0.027097557, 0.041678384, 0.07228331, 0.11464657, 0.18494572, 0.2802907]\n"
     ]
    }
   ],
   "source": [
    "fname=\"..\\ComputeCdfsOfProjections\\Cdfs/SL_wTd_nos_base_GRIS_LSC_RCP85_cdf.nc\"\n",
    "ncf = nc.Dataset(fname, \"r\")\n",
    "\n",
    "Percentile = ncf.variables[\"Percentile\"][:]\n",
    "SL_wTd_nos_base_R0 = ncf.variables[\"Antarctica\"][:]\n",
    "\n",
    "SL_wTd_nos_GRIS_LSC_RCP85_table = [SL_wTd_nos_base_R0[-1,5],SL_wTd_nos_base_R0[-1,50],SL_wTd_nos_base_R0[-1,166],SL_wTd_nos_base_R0[-1,500],SL_wTd_nos_base_R0[-1,833],SL_wTd_nos_base_R0[-1,950],SL_wTd_nos_base_R0[-1,995]]\n",
    "\n",
    "print(SL_wTd_nos_GRIS_LSC_RCP85_table)\n"
   ]
  },
  {
   "cell_type": "code",
   "execution_count": 8,
   "metadata": {},
   "outputs": [
    {
     "name": "stdout",
     "output_type": "stream",
     "text": [
      "[0.061007902, 0.10835181, 0.16697133, 0.2619097, 0.415565, 0.69728833, 1.2292994]\n"
     ]
    }
   ],
   "source": [
    "fname=\"..\\ComputeCdfsOfProjections\\Cdfs/SL_wTd_nos_base_IMAU_VUB_RCP85_cdf.nc\"\n",
    "ncf = nc.Dataset(fname, \"r\")\n",
    "\n",
    "Percentile = ncf.variables[\"Percentile\"][:]\n",
    "SL_wTd_nos_base_R0 = ncf.variables[\"Antarctica\"][:]\n",
    "\n",
    "SL_wTd_nos_IMAU_VUB_RCP85_table = [SL_wTd_nos_base_R0[-1,5],SL_wTd_nos_base_R0[-1,50],SL_wTd_nos_base_R0[-1,166],SL_wTd_nos_base_R0[-1,500],SL_wTd_nos_base_R0[-1,833],SL_wTd_nos_base_R0[-1,950],SL_wTd_nos_base_R0[-1,995]]\n",
    "\n",
    "print(SL_wTd_nos_IMAU_VUB_RCP85_table)\n"
   ]
  },
  {
   "cell_type": "code",
   "execution_count": 9,
   "metadata": {},
   "outputs": [
    {
     "name": "stdout",
     "output_type": "stream",
     "text": [
      "[0.034274176, 0.053797934, 0.07726253, 0.1191446, 0.18012431, 0.31399813, 0.5121441]\n"
     ]
    }
   ],
   "source": [
    "fname=\"..\\ComputeCdfsOfProjections\\Cdfs/SL_wTd_nos_base_ISSM_JPL_RCP85_cdf.nc\"\n",
    "ncf = nc.Dataset(fname, \"r\")\n",
    "\n",
    "Percentile = ncf.variables[\"Percentile\"][:]\n",
    "SL_wTd_nos_base_R0 = ncf.variables[\"Antarctica\"][:]\n",
    "\n",
    "SL_wTd_nos_ISSM_JPL_RCP85_table = [SL_wTd_nos_base_R0[-1,5],SL_wTd_nos_base_R0[-1,50],SL_wTd_nos_base_R0[-1,166],SL_wTd_nos_base_R0[-1,500],SL_wTd_nos_base_R0[-1,833],SL_wTd_nos_base_R0[-1,950],SL_wTd_nos_base_R0[-1,995]]\n",
    "\n",
    "print(SL_wTd_nos_ISSM_JPL_RCP85_table)\n"
   ]
  },
  {
   "cell_type": "code",
   "execution_count": 10,
   "metadata": {},
   "outputs": [
    {
     "name": "stdout",
     "output_type": "stream",
     "text": [
      "[0.07233748, 0.12351479, 0.1774658, 0.26541048, 0.40742958, 0.71491367, 1.194968]\n"
     ]
    }
   ],
   "source": [
    "fname=\"..\\ComputeCdfsOfProjections\\Cdfs/SL_wTd_nos_base_ISSM_UCI_RCP85_cdf.nc\"\n",
    "ncf = nc.Dataset(fname, \"r\")\n",
    "\n",
    "Percentile = ncf.variables[\"Percentile\"][:]\n",
    "SL_wTd_nos_base_R0 = ncf.variables[\"Antarctica\"][:]\n",
    "\n",
    "SL_wTd_nos_ISSM_UCI_RCP85_table = [SL_wTd_nos_base_R0[-1,5],SL_wTd_nos_base_R0[-1,50],SL_wTd_nos_base_R0[-1,166],SL_wTd_nos_base_R0[-1,500],SL_wTd_nos_base_R0[-1,833],SL_wTd_nos_base_R0[-1,950],SL_wTd_nos_base_R0[-1,995]]\n",
    "\n",
    "print(SL_wTd_nos_ISSM_UCI_RCP85_table)\n"
   ]
  },
  {
   "cell_type": "code",
   "execution_count": 11,
   "metadata": {},
   "outputs": [
    {
     "name": "stdout",
     "output_type": "stream",
     "text": [
      "[0.04325478, 0.072487116, 0.101752095, 0.14989749, 0.22504331, 0.40071204, 0.6790098]\n"
     ]
    }
   ],
   "source": [
    "fname=\"..\\ComputeCdfsOfProjections\\Cdfs/SL_wTd_nos_base_MALI_LAN_RCP85_cdf.nc\"\n",
    "ncf = nc.Dataset(fname, \"r\")\n",
    "\n",
    "Percentile = ncf.variables[\"Percentile\"][:]\n",
    "SL_wTd_nos_base_R0 = ncf.variables[\"Antarctica\"][:]\n",
    "\n",
    "SL_wTd_nos_MALI_LAN_RCP85_table = [SL_wTd_nos_base_R0[-1,5],SL_wTd_nos_base_R0[-1,50],SL_wTd_nos_base_R0[-1,166],SL_wTd_nos_base_R0[-1,500],SL_wTd_nos_base_R0[-1,833],SL_wTd_nos_base_R0[-1,950],SL_wTd_nos_base_R0[-1,995]]\n",
    "\n",
    "print(SL_wTd_nos_MALI_LAN_RCP85_table)\n"
   ]
  },
  {
   "cell_type": "code",
   "execution_count": 12,
   "metadata": {},
   "outputs": [
    {
     "name": "stdout",
     "output_type": "stream",
     "text": [
      "[0.026587302, 0.04703041, 0.072839044, 0.10964677, 0.17154525, 0.29526553, 0.4699824]\n"
     ]
    }
   ],
   "source": [
    "fname=\"..\\ComputeCdfsOfProjections\\Cdfs/SL_wTd_nos_base_PISM_AWI_RCP85_cdf.nc\"\n",
    "ncf = nc.Dataset(fname, \"r\")\n",
    "\n",
    "Percentile = ncf.variables[\"Percentile\"][:]\n",
    "SL_wTd_nos_base_R0 = ncf.variables[\"Antarctica\"][:]\n",
    "\n",
    "SL_wTd_nos_PISM_AWI_RCP85_table = [SL_wTd_nos_base_R0[-1,5],SL_wTd_nos_base_R0[-1,50],SL_wTd_nos_base_R0[-1,166],SL_wTd_nos_base_R0[-1,500],SL_wTd_nos_base_R0[-1,833],SL_wTd_nos_base_R0[-1,950],SL_wTd_nos_base_R0[-1,995]]\n",
    "\n",
    "print(SL_wTd_nos_PISM_AWI_RCP85_table)\n"
   ]
  },
  {
   "cell_type": "code",
   "execution_count": 13,
   "metadata": {},
   "outputs": [
    {
     "name": "stdout",
     "output_type": "stream",
     "text": [
      "[0.09958131, 0.15331227, 0.21613961, 0.3164993, 0.47128788, 0.82774556, 1.4259273]\n"
     ]
    }
   ],
   "source": [
    "fname=\"..\\ComputeCdfsOfProjections\\Cdfs/SL_wTd_nos_base_PISM_DMI_RCP85_cdf.nc\"\n",
    "ncf = nc.Dataset(fname, \"r\")\n",
    "\n",
    "Percentile = ncf.variables[\"Percentile\"][:]\n",
    "SL_wTd_nos_base_R0 = ncf.variables[\"Antarctica\"][:]\n",
    "\n",
    "SL_wTd_nos_PISM_DMI_RCP85_table = [SL_wTd_nos_base_R0[-1,5],SL_wTd_nos_base_R0[-1,50],SL_wTd_nos_base_R0[-1,166],SL_wTd_nos_base_R0[-1,500],SL_wTd_nos_base_R0[-1,833],SL_wTd_nos_base_R0[-1,950],SL_wTd_nos_base_R0[-1,995]]\n",
    "\n",
    "print(SL_wTd_nos_PISM_DMI_RCP85_table)\n"
   ]
  },
  {
   "cell_type": "code",
   "execution_count": 14,
   "metadata": {},
   "outputs": [
    {
     "name": "stdout",
     "output_type": "stream",
     "text": [
      "[0.03993332, 0.07047115, 0.108098455, 0.18576147, 0.30962774, 0.48189932, 0.70831615]\n"
     ]
    }
   ],
   "source": [
    "fname=\"..\\ComputeCdfsOfProjections\\Cdfs/SL_wTd_nos_base_PISM_PIK_RCP85_cdf.nc\"\n",
    "ncf = nc.Dataset(fname, \"r\")\n",
    "\n",
    "Percentile = ncf.variables[\"Percentile\"][:]\n",
    "SL_wTd_nos_base_R0 = ncf.variables[\"Antarctica\"][:]\n",
    "\n",
    "SL_wTd_nos_PISM_PIK_RCP85_table = [SL_wTd_nos_base_R0[-1,5],SL_wTd_nos_base_R0[-1,50],SL_wTd_nos_base_R0[-1,166],SL_wTd_nos_base_R0[-1,500],SL_wTd_nos_base_R0[-1,833],SL_wTd_nos_base_R0[-1,950],SL_wTd_nos_base_R0[-1,995]]\n",
    "\n",
    "print(SL_wTd_nos_PISM_PIK_RCP85_table)\n"
   ]
  },
  {
   "cell_type": "code",
   "execution_count": 15,
   "metadata": {},
   "outputs": [
    {
     "name": "stdout",
     "output_type": "stream",
     "text": [
      "[0.10501491, 0.16877638, 0.24293827, 0.38160804, 0.5979126, 1.031107, 1.736994]\n"
     ]
    }
   ],
   "source": [
    "fname=\"..\\ComputeCdfsOfProjections\\Cdfs/SL_wTd_nos_base_PISM_VUW_RCP85_cdf.nc\"\n",
    "ncf = nc.Dataset(fname, \"r\")\n",
    "\n",
    "Percentile = ncf.variables[\"Percentile\"][:]\n",
    "SL_wTd_nos_base_R0 = ncf.variables[\"Antarctica\"][:]\n",
    "\n",
    "SL_wTd_nos_PISM_VUW_RCP85_table = [SL_wTd_nos_base_R0[-1,5],SL_wTd_nos_base_R0[-1,50],SL_wTd_nos_base_R0[-1,166],SL_wTd_nos_base_R0[-1,500],SL_wTd_nos_base_R0[-1,833],SL_wTd_nos_base_R0[-1,950],SL_wTd_nos_base_R0[-1,995]]\n",
    "\n",
    "print(SL_wTd_nos_PISM_VUW_RCP85_table)\n"
   ]
  },
  {
   "cell_type": "code",
   "execution_count": 16,
   "metadata": {},
   "outputs": [
    {
     "name": "stdout",
     "output_type": "stream",
     "text": [
      "[0.05768387, 0.08378896, 0.12054194, 0.19862045, 0.31255972, 0.5134486, 0.83099866]\n"
     ]
    }
   ],
   "source": [
    "fname=\"..\\ComputeCdfsOfProjections\\Cdfs/SL_wTd_nos_base_PS3D_PSU_RCP85_cdf.nc\"\n",
    "ncf = nc.Dataset(fname, \"r\")\n",
    "\n",
    "Percentile = ncf.variables[\"Percentile\"][:]\n",
    "SL_wTd_nos_base_R0 = ncf.variables[\"Antarctica\"][:]\n",
    "\n",
    "SL_wTd_nos_PS3D_PSU_RCP85_table = [SL_wTd_nos_base_R0[-1,5],SL_wTd_nos_base_R0[-1,50],SL_wTd_nos_base_R0[-1,166],SL_wTd_nos_base_R0[-1,500],SL_wTd_nos_base_R0[-1,833],SL_wTd_nos_base_R0[-1,950],SL_wTd_nos_base_R0[-1,995]]\n",
    "\n",
    "print(SL_wTd_nos_PS3D_PSU_RCP85_table)\n"
   ]
  },
  {
   "cell_type": "code",
   "execution_count": 17,
   "metadata": {},
   "outputs": [
    {
     "name": "stdout",
     "output_type": "stream",
     "text": [
      "[0.053292647, 0.07368525, 0.10447903, 0.16133171, 0.2445711, 0.4303909, 0.72724456]\n"
     ]
    }
   ],
   "source": [
    "fname=\"..\\ComputeCdfsOfProjections\\Cdfs/SL_wTd_nos_base_SICO_UHO_RCP85_cdf.nc\"\n",
    "ncf = nc.Dataset(fname, \"r\")\n",
    "\n",
    "Percentile = ncf.variables[\"Percentile\"][:]\n",
    "SL_wTd_nos_base_R0 = ncf.variables[\"Antarctica\"][:]\n",
    "\n",
    "SL_wTd_nos_SICO_UHO_RCP85_table = [SL_wTd_nos_base_R0[-1,5],SL_wTd_nos_base_R0[-1,50],SL_wTd_nos_base_R0[-1,166],SL_wTd_nos_base_R0[-1,500],SL_wTd_nos_base_R0[-1,833],SL_wTd_nos_base_R0[-1,950],SL_wTd_nos_base_R0[-1,995]]\n",
    "\n",
    "print(SL_wTd_nos_SICO_UHO_RCP85_table)\n"
   ]
  },
  {
   "cell_type": "code",
   "execution_count": 18,
   "metadata": {},
   "outputs": [
    {
     "name": "stdout",
     "output_type": "stream",
     "text": [
      "[0.13730721, 0.22119334, 0.30337808, 0.4585628, 0.6966888, 1.2455739, 2.1249092]\n"
     ]
    }
   ],
   "source": [
    "fname=\"..\\ComputeCdfsOfProjections\\Cdfs/SL_wTd_nos_base_UA_UNN_RCP85_cdf.nc\"\n",
    "ncf = nc.Dataset(fname, \"r\")\n",
    "\n",
    "Percentile = ncf.variables[\"Percentile\"][:]\n",
    "SL_wTd_nos_base_R0 = ncf.variables[\"Antarctica\"][:]\n",
    "\n",
    "SL_wTd_nos_UA_UNN_RCP85_table = [SL_wTd_nos_base_R0[-1,5],SL_wTd_nos_base_R0[-1,50],SL_wTd_nos_base_R0[-1,166],SL_wTd_nos_base_R0[-1,500],SL_wTd_nos_base_R0[-1,833],SL_wTd_nos_base_R0[-1,950],SL_wTd_nos_base_R0[-1,995]]\n",
    "\n",
    "print(SL_wTd_nos_UA_UNN_RCP85_table)\n"
   ]
  },
  {
   "cell_type": "code",
   "execution_count": 19,
   "metadata": {},
   "outputs": [],
   "source": [
    "f = open('Tables/Tab10_SL_RCP85.dat', 'w')\n",
    "\n",
    "for i in range(1,len(SL_wTd_nos_AISM_VUB_RCP85_table)-1):\n",
    "    f.write(\"%1.2f \" %(SL_wTd_nos_AISM_VUB_RCP85_table[i]))\n",
    "f.write(\"\\n\")\n",
    "    \n",
    "for i in range(1,len(SL_wTd_nos_BISI_LBL_RCP85_table)-1):\n",
    "    f.write(\"%1.2f \" %(SL_wTd_nos_BISI_LBL_RCP85_table[i]))\n",
    "f.write(\"\\n\")\n",
    "    \n",
    "for i in range(1,len(SL_wTd_nos_CISM_NCA_RCP85_table)-1):\n",
    "    f.write(\"%1.2f \" %(SL_wTd_nos_CISM_NCA_RCP85_table[i]))\n",
    "f.write(\"\\n\")\n",
    "    \n",
    "for i in range(1,len(SL_wTd_nos_FETI_VUB_RCP85_table)-1):\n",
    "    f.write(\"%1.2f \" %(SL_wTd_nos_FETI_VUB_RCP85_table[i]))\n",
    "f.write(\"\\n\")\n",
    "    \n",
    "for i in range(1,len(SL_wTd_nos_GRIS_LSC_RCP85_table)-1):\n",
    "    f.write(\"%1.2f \" %(SL_wTd_nos_GRIS_LSC_RCP85_table[i]))\n",
    "f.write(\"\\n\")\n",
    "    \n",
    "for i in range(1,len(SL_wTd_nos_IMAU_VUB_RCP85_table)-1):\n",
    "    f.write(\"%1.2f \" %(SL_wTd_nos_IMAU_VUB_RCP85_table[i]))\n",
    "f.write(\"\\n\")\n",
    "    \n",
    "for i in range(1,len(SL_wTd_nos_ISSM_JPL_RCP85_table)-1):\n",
    "    f.write(\"%1.2f \" %(SL_wTd_nos_ISSM_JPL_RCP85_table[i]))\n",
    "f.write(\"\\n\")\n",
    "    \n",
    "for i in range(1,len(SL_wTd_nos_ISSM_UCI_RCP85_table)-1):\n",
    "    f.write(\"%1.2f \" %(SL_wTd_nos_ISSM_UCI_RCP85_table[i]))\n",
    "f.write(\"\\n\")\n",
    "    \n",
    "for i in range(1,len(SL_wTd_nos_MALI_LAN_RCP85_table)-1):\n",
    "    f.write(\"%1.2f \" %(SL_wTd_nos_MALI_LAN_RCP85_table[i]))\n",
    "f.write(\"\\n\")\n",
    "    \n",
    "for i in range(1,len(SL_wTd_nos_PISM_AWI_RCP85_table)-1):\n",
    "    f.write(\"%1.2f \" %(SL_wTd_nos_PISM_AWI_RCP85_table[i]))\n",
    "f.write(\"\\n\")\n",
    "    \n",
    "for i in range(1,len(SL_wTd_nos_PISM_DMI_RCP85_table)-1):\n",
    "    f.write(\"%1.2f \" %(SL_wTd_nos_PISM_DMI_RCP85_table[i]))\n",
    "f.write(\"\\n\")\n",
    "    \n",
    "for i in range(1,len(SL_wTd_nos_PISM_PIK_RCP85_table)-1):\n",
    "    f.write(\"%1.2f \" %(SL_wTd_nos_PISM_PIK_RCP85_table[i]))\n",
    "f.write(\"\\n\")\n",
    "    \n",
    "for i in range(1,len(SL_wTd_nos_PISM_VUW_RCP85_table)-1):\n",
    "    f.write(\"%1.2f \" %(SL_wTd_nos_PISM_VUW_RCP85_table[i]))\n",
    "f.write(\"\\n\")\n",
    "    \n",
    "for i in range(1,len(SL_wTd_nos_PS3D_PSU_RCP85_table)-1):\n",
    "    f.write(\"%1.2f \" %(SL_wTd_nos_PS3D_PSU_RCP85_table[i]))\n",
    "f.write(\"\\n\")\n",
    "    \n",
    "for i in range(1,len(SL_wTd_nos_SICO_UHO_RCP85_table)-1):\n",
    "    f.write(\"%1.2f \" %(SL_wTd_nos_SICO_UHO_RCP85_table[i]))\n",
    "f.write(\"\\n\")\n",
    "    \n",
    "for i in range(1,len(SL_wTd_nos_UA_UNN_RCP85_table)-1):\n",
    "    f.write(\"%1.2f \" %(SL_wTd_nos_UA_UNN_RCP85_table[i]))\n",
    "f.write(\"\\n\")\n",
    "    \n",
    "f.close()\n"
   ]
  },
  {
   "cell_type": "code",
   "execution_count": 20,
   "metadata": {},
   "outputs": [],
   "source": [
    "f = open('Tables/Backup/Tab10_SL_RCP85_full.dat', 'w')\n",
    "\n",
    "for i in range(len(SL_wTd_nos_AISM_VUB_RCP85_table)):\n",
    "    f.write(\"%1.2f \" %(SL_wTd_nos_AISM_VUB_RCP85_table[i]))\n",
    "f.write(\"\\n\")\n",
    "    \n",
    "for i in range(len(SL_wTd_nos_BISI_LBL_RCP85_table)):\n",
    "    f.write(\"%1.2f \" %(SL_wTd_nos_BISI_LBL_RCP85_table[i]))\n",
    "f.write(\"\\n\")\n",
    "    \n",
    "for i in range(len(SL_wTd_nos_CISM_NCA_RCP85_table)):\n",
    "    f.write(\"%1.2f \" %(SL_wTd_nos_CISM_NCA_RCP85_table[i]))\n",
    "f.write(\"\\n\")\n",
    "    \n",
    "for i in range(len(SL_wTd_nos_FETI_VUB_RCP85_table)):\n",
    "    f.write(\"%1.2f \" %(SL_wTd_nos_FETI_VUB_RCP85_table[i]))\n",
    "f.write(\"\\n\")\n",
    "    \n",
    "for i in range(len(SL_wTd_nos_GRIS_LSC_RCP85_table)):\n",
    "    f.write(\"%1.2f \" %(SL_wTd_nos_GRIS_LSC_RCP85_table[i]))\n",
    "f.write(\"\\n\")\n",
    "    \n",
    "for i in range(len(SL_wTd_nos_IMAU_VUB_RCP85_table)):\n",
    "    f.write(\"%1.2f \" %(SL_wTd_nos_IMAU_VUB_RCP85_table[i]))\n",
    "f.write(\"\\n\")\n",
    "    \n",
    "for i in range(len(SL_wTd_nos_ISSM_JPL_RCP85_table)):\n",
    "    f.write(\"%1.2f \" %(SL_wTd_nos_ISSM_JPL_RCP85_table[i]))\n",
    "f.write(\"\\n\")\n",
    "    \n",
    "for i in range(len(SL_wTd_nos_ISSM_UCI_RCP85_table)):\n",
    "    f.write(\"%1.2f \" %(SL_wTd_nos_ISSM_UCI_RCP85_table[i]))\n",
    "f.write(\"\\n\")\n",
    "    \n",
    "for i in range(len(SL_wTd_nos_MALI_LAN_RCP85_table)):\n",
    "    f.write(\"%1.2f \" %(SL_wTd_nos_MALI_LAN_RCP85_table[i]))\n",
    "f.write(\"\\n\")\n",
    "    \n",
    "for i in range(len(SL_wTd_nos_PISM_AWI_RCP85_table)):\n",
    "    f.write(\"%1.2f \" %(SL_wTd_nos_PISM_AWI_RCP85_table[i]))\n",
    "f.write(\"\\n\")\n",
    "    \n",
    "for i in range(len(SL_wTd_nos_PISM_DMI_RCP85_table)):\n",
    "    f.write(\"%1.2f \" %(SL_wTd_nos_PISM_DMI_RCP85_table[i]))\n",
    "f.write(\"\\n\")\n",
    "    \n",
    "for i in range(len(SL_wTd_nos_PISM_PIK_RCP85_table)):\n",
    "    f.write(\"%1.2f \" %(SL_wTd_nos_PISM_PIK_RCP85_table[i]))\n",
    "f.write(\"\\n\")\n",
    "    \n",
    "for i in range(len(SL_wTd_nos_PISM_VUW_RCP85_table)):\n",
    "    f.write(\"%1.2f \" %(SL_wTd_nos_PISM_VUW_RCP85_table[i]))\n",
    "f.write(\"\\n\")\n",
    "    \n",
    "for i in range(len(SL_wTd_nos_PS3D_PSU_RCP85_table)):\n",
    "    f.write(\"%1.2f \" %(SL_wTd_nos_PS3D_PSU_RCP85_table[i]))\n",
    "f.write(\"\\n\")\n",
    "    \n",
    "for i in range(len(SL_wTd_nos_SICO_UHO_RCP85_table)):\n",
    "    f.write(\"%1.2f \" %(SL_wTd_nos_SICO_UHO_RCP85_table[i]))\n",
    "f.write(\"\\n\")\n",
    "    \n",
    "for i in range(len(SL_wTd_nos_UA_UNN_RCP85_table)):\n",
    "    f.write(\"%1.2f \" %(SL_wTd_nos_UA_UNN_RCP85_table[i]))\n",
    "f.write(\"\\n\")\n",
    "    \n",
    "f.close()\n"
   ]
  },
  {
   "cell_type": "code",
   "execution_count": null,
   "metadata": {},
   "outputs": [],
   "source": []
  },
  {
   "cell_type": "code",
   "execution_count": null,
   "metadata": {},
   "outputs": [],
   "source": []
  }
 ],
 "metadata": {
  "kernelspec": {
   "display_name": "Python 3",
   "language": "python",
   "name": "python3"
  },
  "language_info": {
   "codemirror_mode": {
    "name": "ipython",
    "version": 3
   },
   "file_extension": ".py",
   "mimetype": "text/x-python",
   "name": "python",
   "nbconvert_exporter": "python",
   "pygments_lexer": "ipython3",
   "version": "3.7.1"
  }
 },
 "nbformat": 4,
 "nbformat_minor": 2
}
