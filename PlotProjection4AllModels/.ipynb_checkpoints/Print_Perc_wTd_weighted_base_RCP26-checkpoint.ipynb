{
 "cells": [
  {
   "cell_type": "code",
   "execution_count": 1,
   "metadata": {},
   "outputs": [],
   "source": [
    "%matplotlib inline"
   ]
  },
  {
   "cell_type": "code",
   "execution_count": 2,
   "metadata": {},
   "outputs": [],
   "source": [
    "import numpy as np\n",
    "import netCDF4 as nc\n",
    "import matplotlib.pylab as plt\n",
    "import imp\n",
    "import csv\n",
    "import pandas as pd\n",
    "from io import StringIO"
   ]
  },
  {
   "cell_type": "code",
   "execution_count": 3,
   "metadata": {},
   "outputs": [
    {
     "name": "stdout",
     "output_type": "stream",
     "text": [
      "[0.009025556, 0.013460417, 0.0196181, 0.031232214, 0.046065524, 0.06768775, 0.11009127]\n"
     ]
    }
   ],
   "source": [
    "fname=\"..\\ComputeCdfsOfProjections\\Cdfs/SL_wTd_weighted_base_AISM_VUB_RCP26_cdf.nc\"\n",
    "ncf = nc.Dataset(fname, \"r\")\n",
    "\n",
    "Percentile = ncf.variables[\"Percentile\"][:]\n",
    "SL_wTd_weighted_base_R0 = ncf.variables[\"Antarctica\"][:]\n",
    "\n",
    "SL_wTd_weithed_base_AISM_VUB_RCP26_table = [SL_wTd_weighted_base_R0[-1,5],SL_wTd_weighted_base_R0[-1,50],SL_wTd_weighted_base_R0[-1,166],SL_wTd_weighted_base_R0[-1,500],SL_wTd_weighted_base_R0[-1,833],SL_wTd_weighted_base_R0[-1,950],SL_wTd_weighted_base_R0[-1,995]]\n",
    "\n",
    "print(SL_wTd_weithed_base_AISM_VUB_RCP26_table)\n"
   ]
  },
  {
   "cell_type": "code",
   "execution_count": 4,
   "metadata": {},
   "outputs": [
    {
     "name": "stdout",
     "output_type": "stream",
     "text": [
      "[0.039800897, 0.0644575, 0.092341945, 0.1363568, 0.19598447, 0.3423536, 0.53376627]\n"
     ]
    }
   ],
   "source": [
    "fname=\"..\\ComputeCdfsOfProjections\\Cdfs/SL_wTd_weighted_base_BISI_LBL_RCP26_cdf.nc\"\n",
    "ncf = nc.Dataset(fname, \"r\")\n",
    "\n",
    "Percentile = ncf.variables[\"Percentile\"][:]\n",
    "SL_wTd_weighted_base_R0 = ncf.variables[\"Antarctica\"][:]\n",
    "\n",
    "SL_wTd_weithed_base_BISI_LBL_RCP26_table = [SL_wTd_weighted_base_R0[-1,5],SL_wTd_weighted_base_R0[-1,50],SL_wTd_weighted_base_R0[-1,166],SL_wTd_weighted_base_R0[-1,500],SL_wTd_weighted_base_R0[-1,833],SL_wTd_weighted_base_R0[-1,950],SL_wTd_weighted_base_R0[-1,995]]\n",
    "\n",
    "print(SL_wTd_weithed_base_BISI_LBL_RCP26_table)\n"
   ]
  },
  {
   "cell_type": "code",
   "execution_count": 5,
   "metadata": {},
   "outputs": [
    {
     "name": "stdout",
     "output_type": "stream",
     "text": [
      "[0.019851394, 0.033353295, 0.049764335, 0.07372408, 0.10301476, 0.16502526, 0.24528432]\n"
     ]
    }
   ],
   "source": [
    "fname=\"..\\ComputeCdfsOfProjections\\Cdfs/SL_wTd_weighted_base_CISM_NCA_RCP26_cdf.nc\"\n",
    "ncf = nc.Dataset(fname, \"r\")\n",
    "\n",
    "Percentile = ncf.variables[\"Percentile\"][:]\n",
    "SL_wTd_weighted_base_R0 = ncf.variables[\"Antarctica\"][:]\n",
    "\n",
    "SL_wTd_weithed_base_CISM_NCA_RCP26_table = [SL_wTd_weighted_base_R0[-1,5],SL_wTd_weighted_base_R0[-1,50],SL_wTd_weighted_base_R0[-1,166],SL_wTd_weighted_base_R0[-1,500],SL_wTd_weighted_base_R0[-1,833],SL_wTd_weighted_base_R0[-1,950],SL_wTd_weighted_base_R0[-1,995]]\n",
    "\n",
    "print(SL_wTd_weithed_base_CISM_NCA_RCP26_table)\n"
   ]
  },
  {
   "cell_type": "code",
   "execution_count": 6,
   "metadata": {},
   "outputs": [
    {
     "name": "stdout",
     "output_type": "stream",
     "text": [
      "[0.03021486, 0.049439356, 0.07172807, 0.1140802, 0.16356502, 0.25773358, 0.38913485]\n"
     ]
    }
   ],
   "source": [
    "fname=\"..\\ComputeCdfsOfProjections\\Cdfs/SL_wTd_weighted_base_FETI_VUB_RCP26_cdf.nc\"\n",
    "ncf = nc.Dataset(fname, \"r\")\n",
    "\n",
    "Percentile = ncf.variables[\"Percentile\"][:]\n",
    "SL_wTd_weighted_base_R0 = ncf.variables[\"Antarctica\"][:]\n",
    "\n",
    "SL_wTd_weithed_base_FETI_VUB_RCP26_table = [SL_wTd_weighted_base_R0[-1,5],SL_wTd_weighted_base_R0[-1,50],SL_wTd_weighted_base_R0[-1,166],SL_wTd_weighted_base_R0[-1,500],SL_wTd_weighted_base_R0[-1,833],SL_wTd_weighted_base_R0[-1,950],SL_wTd_weighted_base_R0[-1,995]]\n",
    "\n",
    "print(SL_wTd_weithed_base_FETI_VUB_RCP26_table)\n"
   ]
  },
  {
   "cell_type": "code",
   "execution_count": 7,
   "metadata": {},
   "outputs": [
    {
     "name": "stdout",
     "output_type": "stream",
     "text": [
      "[0.016912926, 0.024670573, 0.036023468, 0.05840178, 0.084412344, 0.12818661, 0.19625987]\n"
     ]
    }
   ],
   "source": [
    "fname=\"..\\ComputeCdfsOfProjections\\Cdfs/SL_wTd_weighted_base_GRIS_LSC_RCP26_cdf.nc\"\n",
    "ncf = nc.Dataset(fname, \"r\")\n",
    "\n",
    "Percentile = ncf.variables[\"Percentile\"][:]\n",
    "SL_wTd_weighted_base_R0 = ncf.variables[\"Antarctica\"][:]\n",
    "\n",
    "SL_wTd_weithed_base_GRIS_LSC_RCP26_table = [SL_wTd_weighted_base_R0[-1,5],SL_wTd_weighted_base_R0[-1,50],SL_wTd_weighted_base_R0[-1,166],SL_wTd_weighted_base_R0[-1,500],SL_wTd_weighted_base_R0[-1,833],SL_wTd_weighted_base_R0[-1,950],SL_wTd_weighted_base_R0[-1,995]]\n",
    "\n",
    "print(SL_wTd_weithed_base_GRIS_LSC_RCP26_table)\n"
   ]
  },
  {
   "cell_type": "code",
   "execution_count": 8,
   "metadata": {},
   "outputs": [
    {
     "name": "stdout",
     "output_type": "stream",
     "text": [
      "[0.052856434, 0.09224571, 0.13503575, 0.1951228, 0.28421286, 0.48833948, 0.76417184]\n"
     ]
    }
   ],
   "source": [
    "fname=\"..\\ComputeCdfsOfProjections\\Cdfs/SL_wTd_weighted_base_IMAU_VUB_RCP26_cdf.nc\"\n",
    "ncf = nc.Dataset(fname, \"r\")\n",
    "\n",
    "Percentile = ncf.variables[\"Percentile\"][:]\n",
    "SL_wTd_weighted_base_R0 = ncf.variables[\"Antarctica\"][:]\n",
    "\n",
    "SL_wTd_weithed_base_IMAU_VUB_RCP26_table = [SL_wTd_weighted_base_R0[-1,5],SL_wTd_weighted_base_R0[-1,50],SL_wTd_weighted_base_R0[-1,166],SL_wTd_weighted_base_R0[-1,500],SL_wTd_weighted_base_R0[-1,833],SL_wTd_weighted_base_R0[-1,950],SL_wTd_weighted_base_R0[-1,995]]\n",
    "\n",
    "print(SL_wTd_weithed_base_IMAU_VUB_RCP26_table)\n"
   ]
  },
  {
   "cell_type": "code",
   "execution_count": 9,
   "metadata": {},
   "outputs": [
    {
     "name": "stdout",
     "output_type": "stream",
     "text": [
      "[0.02682716, 0.043335747, 0.06211752, 0.09136661, 0.12751384, 0.21525227, 0.33612007]\n"
     ]
    }
   ],
   "source": [
    "fname=\"..\\ComputeCdfsOfProjections\\Cdfs/SL_wTd_weighted_base_ISSM_JPL_RCP26_cdf.nc\"\n",
    "ncf = nc.Dataset(fname, \"r\")\n",
    "\n",
    "Percentile = ncf.variables[\"Percentile\"][:]\n",
    "SL_wTd_weighted_base_R0 = ncf.variables[\"Antarctica\"][:]\n",
    "\n",
    "SL_wTd_weithed_base_ISSM_JPL_RCP26_table = [SL_wTd_weighted_base_R0[-1,5],SL_wTd_weighted_base_R0[-1,50],SL_wTd_weighted_base_R0[-1,166],SL_wTd_weighted_base_R0[-1,500],SL_wTd_weighted_base_R0[-1,833],SL_wTd_weighted_base_R0[-1,950],SL_wTd_weighted_base_R0[-1,995]]\n",
    "\n",
    "print(SL_wTd_weithed_base_ISSM_JPL_RCP26_table)\n"
   ]
  },
  {
   "cell_type": "code",
   "execution_count": 10,
   "metadata": {},
   "outputs": [
    {
     "name": "stdout",
     "output_type": "stream",
     "text": [
      "[0.05472307, 0.092486486, 0.13505057, 0.19083725, 0.2702774, 0.45163956, 0.7379061]\n"
     ]
    }
   ],
   "source": [
    "fname=\"..\\ComputeCdfsOfProjections\\Cdfs/SL_wTd_weighted_base_ISSM_UCI_RCP26_cdf.nc\"\n",
    "ncf = nc.Dataset(fname, \"r\")\n",
    "\n",
    "Percentile = ncf.variables[\"Percentile\"][:]\n",
    "SL_wTd_weighted_base_R0 = ncf.variables[\"Antarctica\"][:]\n",
    "\n",
    "SL_wTd_weithed_base_ISSM_UCI_RCP26_table = [SL_wTd_weighted_base_R0[-1,5],SL_wTd_weighted_base_R0[-1,50],SL_wTd_weighted_base_R0[-1,166],SL_wTd_weighted_base_R0[-1,500],SL_wTd_weighted_base_R0[-1,833],SL_wTd_weighted_base_R0[-1,950],SL_wTd_weighted_base_R0[-1,995]]\n",
    "\n",
    "print(SL_wTd_weithed_base_ISSM_UCI_RCP26_table)\n"
   ]
  },
  {
   "cell_type": "code",
   "execution_count": 11,
   "metadata": {},
   "outputs": [
    {
     "name": "stdout",
     "output_type": "stream",
     "text": [
      "[0.031019742, 0.055990245, 0.07908835, 0.1101674, 0.15441068, 0.26011875, 0.41732946]\n"
     ]
    }
   ],
   "source": [
    "fname=\"..\\ComputeCdfsOfProjections\\Cdfs/SL_wTd_weighted_base_MALI_LAN_RCP26_cdf.nc\"\n",
    "ncf = nc.Dataset(fname, \"r\")\n",
    "\n",
    "Percentile = ncf.variables[\"Percentile\"][:]\n",
    "SL_wTd_weighted_base_R0 = ncf.variables[\"Antarctica\"][:]\n",
    "\n",
    "SL_wTd_weithed_base_MALI_LAN_RCP26_table = [SL_wTd_weighted_base_R0[-1,5],SL_wTd_weighted_base_R0[-1,50],SL_wTd_weighted_base_R0[-1,166],SL_wTd_weighted_base_R0[-1,500],SL_wTd_weighted_base_R0[-1,833],SL_wTd_weighted_base_R0[-1,950],SL_wTd_weighted_base_R0[-1,995]]\n",
    "\n",
    "print(SL_wTd_weithed_base_MALI_LAN_RCP26_table)\n"
   ]
  },
  {
   "cell_type": "code",
   "execution_count": 12,
   "metadata": {},
   "outputs": [
    {
     "name": "stdout",
     "output_type": "stream",
     "text": [
      "[0.019974448, 0.035155803, 0.057311174, 0.08326906, 0.119106956, 0.19514029, 0.2971678]\n"
     ]
    }
   ],
   "source": [
    "fname=\"..\\ComputeCdfsOfProjections\\Cdfs/SL_wTd_weighted_base_PISM_AWI_RCP26_cdf.nc\"\n",
    "ncf = nc.Dataset(fname, \"r\")\n",
    "\n",
    "Percentile = ncf.variables[\"Percentile\"][:]\n",
    "SL_wTd_weighted_base_R0 = ncf.variables[\"Antarctica\"][:]\n",
    "\n",
    "SL_wTd_weithed_base_PISM_AWI_RCP26_table = [SL_wTd_weighted_base_R0[-1,5],SL_wTd_weighted_base_R0[-1,50],SL_wTd_weighted_base_R0[-1,166],SL_wTd_weighted_base_R0[-1,500],SL_wTd_weighted_base_R0[-1,833],SL_wTd_weighted_base_R0[-1,950],SL_wTd_weighted_base_R0[-1,995]]\n",
    "\n",
    "print(SL_wTd_weithed_base_PISM_AWI_RCP26_table)\n"
   ]
  },
  {
   "cell_type": "code",
   "execution_count": 13,
   "metadata": {},
   "outputs": [
    {
     "name": "stdout",
     "output_type": "stream",
     "text": [
      "[0.06516445, 0.10976821, 0.16144013, 0.22469233, 0.3121031, 0.5209104, 0.8160793]\n"
     ]
    }
   ],
   "source": [
    "fname=\"..\\ComputeCdfsOfProjections\\Cdfs/SL_wTd_weighted_base_PISM_DMI_RCP26_cdf.nc\"\n",
    "ncf = nc.Dataset(fname, \"r\")\n",
    "\n",
    "Percentile = ncf.variables[\"Percentile\"][:]\n",
    "SL_wTd_weighted_base_R0 = ncf.variables[\"Antarctica\"][:]\n",
    "\n",
    "SL_wTd_weithed_base_PISM_DMI_RCP26_table = [SL_wTd_weighted_base_R0[-1,5],SL_wTd_weighted_base_R0[-1,50],SL_wTd_weighted_base_R0[-1,166],SL_wTd_weighted_base_R0[-1,500],SL_wTd_weighted_base_R0[-1,833],SL_wTd_weighted_base_R0[-1,950],SL_wTd_weighted_base_R0[-1,995]]\n",
    "\n",
    "print(SL_wTd_weithed_base_PISM_DMI_RCP26_table)\n"
   ]
  },
  {
   "cell_type": "code",
   "execution_count": 14,
   "metadata": {},
   "outputs": [
    {
     "name": "stdout",
     "output_type": "stream",
     "text": [
      "[0.031448945, 0.05683869, 0.08937788, 0.14470865, 0.21745734, 0.31478873, 0.450582]\n"
     ]
    }
   ],
   "source": [
    "fname=\"..\\ComputeCdfsOfProjections\\Cdfs/SL_wTd_weighted_base_PISM_PIK_RCP26_cdf.nc\"\n",
    "ncf = nc.Dataset(fname, \"r\")\n",
    "\n",
    "Percentile = ncf.variables[\"Percentile\"][:]\n",
    "SL_wTd_weighted_base_R0 = ncf.variables[\"Antarctica\"][:]\n",
    "\n",
    "SL_wTd_weithed_base_PISM_PIK_RCP26_table = [SL_wTd_weighted_base_R0[-1,5],SL_wTd_weighted_base_R0[-1,50],SL_wTd_weighted_base_R0[-1,166],SL_wTd_weighted_base_R0[-1,500],SL_wTd_weighted_base_R0[-1,833],SL_wTd_weighted_base_R0[-1,950],SL_wTd_weighted_base_R0[-1,995]]\n",
    "\n",
    "print(SL_wTd_weithed_base_PISM_PIK_RCP26_table)\n"
   ]
  },
  {
   "cell_type": "code",
   "execution_count": 15,
   "metadata": {},
   "outputs": [
    {
     "name": "stdout",
     "output_type": "stream",
     "text": [
      "[0.07749671, 0.12685731, 0.17893408, 0.263926, 0.37798265, 0.61549324, 0.98118186]\n"
     ]
    }
   ],
   "source": [
    "fname=\"..\\ComputeCdfsOfProjections\\Cdfs/SL_wTd_weighted_base_PISM_VUW_RCP26_cdf.nc\"\n",
    "ncf = nc.Dataset(fname, \"r\")\n",
    "\n",
    "Percentile = ncf.variables[\"Percentile\"][:]\n",
    "SL_wTd_weighted_base_R0 = ncf.variables[\"Antarctica\"][:]\n",
    "\n",
    "SL_wTd_weithed_base_PISM_VUW_RCP26_table = [SL_wTd_weighted_base_R0[-1,5],SL_wTd_weighted_base_R0[-1,50],SL_wTd_weighted_base_R0[-1,166],SL_wTd_weighted_base_R0[-1,500],SL_wTd_weighted_base_R0[-1,833],SL_wTd_weighted_base_R0[-1,950],SL_wTd_weighted_base_R0[-1,995]]\n",
    "\n",
    "print(SL_wTd_weithed_base_PISM_VUW_RCP26_table)\n"
   ]
  },
  {
   "cell_type": "code",
   "execution_count": 16,
   "metadata": {},
   "outputs": [
    {
     "name": "stdout",
     "output_type": "stream",
     "text": [
      "[0.036157362, 0.064593315, 0.092238, 0.14258474, 0.2005406, 0.29801273, 0.44993022]\n"
     ]
    }
   ],
   "source": [
    "fname=\"..\\ComputeCdfsOfProjections\\Cdfs/SL_wTd_weighted_base_PS3D_PSU_RCP26_cdf.nc\"\n",
    "ncf = nc.Dataset(fname, \"r\")\n",
    "\n",
    "Percentile = ncf.variables[\"Percentile\"][:]\n",
    "SL_wTd_weighted_base_R0 = ncf.variables[\"Antarctica\"][:]\n",
    "\n",
    "SL_wTd_weithed_base_PS3D_PSU_RCP26_table = [SL_wTd_weighted_base_R0[-1,5],SL_wTd_weighted_base_R0[-1,50],SL_wTd_weighted_base_R0[-1,166],SL_wTd_weighted_base_R0[-1,500],SL_wTd_weighted_base_R0[-1,833],SL_wTd_weighted_base_R0[-1,950],SL_wTd_weighted_base_R0[-1,995]]\n",
    "\n",
    "print(SL_wTd_weithed_base_PS3D_PSU_RCP26_table)\n"
   ]
  },
  {
   "cell_type": "code",
   "execution_count": 17,
   "metadata": {},
   "outputs": [
    {
     "name": "stdout",
     "output_type": "stream",
     "text": [
      "[0.041728336, 0.060266994, 0.0818583, 0.12105861, 0.1722247, 0.28842992, 0.46695963]\n"
     ]
    }
   ],
   "source": [
    "fname=\"..\\ComputeCdfsOfProjections\\Cdfs/SL_wTd_weighted_base_SICO_UHO_RCP26_cdf.nc\"\n",
    "ncf = nc.Dataset(fname, \"r\")\n",
    "\n",
    "Percentile = ncf.variables[\"Percentile\"][:]\n",
    "SL_wTd_weighted_base_R0 = ncf.variables[\"Antarctica\"][:]\n",
    "\n",
    "SL_wTd_weithed_base_SICO_UHO_RCP26_table = [SL_wTd_weighted_base_R0[-1,5],SL_wTd_weighted_base_R0[-1,50],SL_wTd_weighted_base_R0[-1,166],SL_wTd_weighted_base_R0[-1,500],SL_wTd_weighted_base_R0[-1,833],SL_wTd_weighted_base_R0[-1,950],SL_wTd_weighted_base_R0[-1,995]]\n",
    "\n",
    "print(SL_wTd_weithed_base_SICO_UHO_RCP26_table)\n"
   ]
  },
  {
   "cell_type": "code",
   "execution_count": 18,
   "metadata": {},
   "outputs": [
    {
     "name": "stdout",
     "output_type": "stream",
     "text": [
      "[0.100095525, 0.1631869, 0.22344172, 0.32016575, 0.45568967, 0.764606, 1.2218332]\n"
     ]
    }
   ],
   "source": [
    "fname=\"..\\ComputeCdfsOfProjections\\Cdfs/SL_wTd_weighted_base_UA_UNN_RCP26_cdf.nc\"\n",
    "ncf = nc.Dataset(fname, \"r\")\n",
    "\n",
    "Percentile = ncf.variables[\"Percentile\"][:]\n",
    "SL_wTd_weighted_base_R0 = ncf.variables[\"Antarctica\"][:]\n",
    "\n",
    "SL_wTd_weithed_base_UA_UNN_RCP26_table = [SL_wTd_weighted_base_R0[-1,5],SL_wTd_weighted_base_R0[-1,50],SL_wTd_weighted_base_R0[-1,166],SL_wTd_weighted_base_R0[-1,500],SL_wTd_weighted_base_R0[-1,833],SL_wTd_weighted_base_R0[-1,950],SL_wTd_weighted_base_R0[-1,995]]\n",
    "\n",
    "print(SL_wTd_weithed_base_UA_UNN_RCP26_table)\n"
   ]
  },
  {
   "cell_type": "code",
   "execution_count": 19,
   "metadata": {},
   "outputs": [],
   "source": [
    "f = open('Tables/SL_wTd_weighted_base_RCP26_table.dat', 'w')\n",
    "\n",
    "for i in range(len(SL_wTd_weithed_base_AISM_VUB_RCP26_table)):\n",
    "    f.write(\"%1.2f \" %(SL_wTd_weithed_base_AISM_VUB_RCP26_table[i]))\n",
    "f.write(\"\\n\")\n",
    "    \n",
    "for i in range(len(SL_wTd_weithed_base_BISI_LBL_RCP26_table)):\n",
    "    f.write(\"%1.2f \" %(SL_wTd_weithed_base_BISI_LBL_RCP26_table[i]))\n",
    "f.write(\"\\n\")\n",
    "    \n",
    "for i in range(len(SL_wTd_weithed_base_CISM_NCA_RCP26_table)):\n",
    "    f.write(\"%1.2f \" %(SL_wTd_weithed_base_CISM_NCA_RCP26_table[i]))\n",
    "f.write(\"\\n\")\n",
    "    \n",
    "for i in range(len(SL_wTd_weithed_base_FETI_VUB_RCP26_table)):\n",
    "    f.write(\"%1.2f \" %(SL_wTd_weithed_base_FETI_VUB_RCP26_table[i]))\n",
    "f.write(\"\\n\")\n",
    "    \n",
    "for i in range(len(SL_wTd_weithed_base_GRIS_LSC_RCP26_table)):\n",
    "    f.write(\"%1.2f \" %(SL_wTd_weithed_base_GRIS_LSC_RCP26_table[i]))\n",
    "f.write(\"\\n\")\n",
    "    \n",
    "for i in range(len(SL_wTd_weithed_base_IMAU_VUB_RCP26_table)):\n",
    "    f.write(\"%1.2f \" %(SL_wTd_weithed_base_IMAU_VUB_RCP26_table[i]))\n",
    "f.write(\"\\n\")\n",
    "    \n",
    "for i in range(len(SL_wTd_weithed_base_ISSM_JPL_RCP26_table)):\n",
    "    f.write(\"%1.2f \" %(SL_wTd_weithed_base_ISSM_JPL_RCP26_table[i]))\n",
    "f.write(\"\\n\")\n",
    "    \n",
    "for i in range(len(SL_wTd_weithed_base_ISSM_UCI_RCP26_table)):\n",
    "    f.write(\"%1.2f \" %(SL_wTd_weithed_base_ISSM_UCI_RCP26_table[i]))\n",
    "f.write(\"\\n\")\n",
    "    \n",
    "for i in range(len(SL_wTd_weithed_base_MALI_LAN_RCP26_table)):\n",
    "    f.write(\"%1.2f \" %(SL_wTd_weithed_base_MALI_LAN_RCP26_table[i]))\n",
    "f.write(\"\\n\")\n",
    "    \n",
    "for i in range(len(SL_wTd_weithed_base_PISM_AWI_RCP26_table)):\n",
    "    f.write(\"%1.2f \" %(SL_wTd_weithed_base_PISM_AWI_RCP26_table[i]))\n",
    "f.write(\"\\n\")\n",
    "    \n",
    "for i in range(len(SL_wTd_weithed_base_PISM_DMI_RCP26_table)):\n",
    "    f.write(\"%1.2f \" %(SL_wTd_weithed_base_PISM_DMI_RCP26_table[i]))\n",
    "f.write(\"\\n\")\n",
    "    \n",
    "for i in range(len(SL_wTd_weithed_base_PISM_PIK_RCP26_table)):\n",
    "    f.write(\"%1.2f \" %(SL_wTd_weithed_base_PISM_PIK_RCP26_table[i]))\n",
    "f.write(\"\\n\")\n",
    "    \n",
    "for i in range(len(SL_wTd_weithed_base_PISM_VUW_RCP26_table)):\n",
    "    f.write(\"%1.2f \" %(SL_wTd_weithed_base_PISM_VUW_RCP26_table[i]))\n",
    "f.write(\"\\n\")\n",
    "    \n",
    "for i in range(len(SL_wTd_weithed_base_PS3D_PSU_RCP26_table)):\n",
    "    f.write(\"%1.2f \" %(SL_wTd_weithed_base_PS3D_PSU_RCP26_table[i]))\n",
    "f.write(\"\\n\")\n",
    "    \n",
    "for i in range(len(SL_wTd_weithed_base_SICO_UHO_RCP26_table)):\n",
    "    f.write(\"%1.2f \" %(SL_wTd_weithed_base_SICO_UHO_RCP26_table[i]))\n",
    "f.write(\"\\n\")\n",
    "    \n",
    "for i in range(len(SL_wTd_weithed_base_UA_UNN_RCP26_table)):\n",
    "    f.write(\"%1.2f \" %(SL_wTd_weithed_base_UA_UNN_RCP26_table[i]))\n",
    "f.write(\"\\n\")\n",
    "    \n",
    "f.close()\n"
   ]
  },
  {
   "cell_type": "code",
   "execution_count": null,
   "metadata": {},
   "outputs": [],
   "source": []
  },
  {
   "cell_type": "code",
   "execution_count": null,
   "metadata": {},
   "outputs": [],
   "source": []
  }
 ],
 "metadata": {
  "kernelspec": {
   "display_name": "Python 3",
   "language": "python",
   "name": "python3"
  },
  "language_info": {
   "codemirror_mode": {
    "name": "ipython",
    "version": 3
   },
   "file_extension": ".py",
   "mimetype": "text/x-python",
   "name": "python",
   "nbconvert_exporter": "python",
   "pygments_lexer": "ipython3",
   "version": "3.7.0"
  }
 },
 "nbformat": 4,
 "nbformat_minor": 2
}
