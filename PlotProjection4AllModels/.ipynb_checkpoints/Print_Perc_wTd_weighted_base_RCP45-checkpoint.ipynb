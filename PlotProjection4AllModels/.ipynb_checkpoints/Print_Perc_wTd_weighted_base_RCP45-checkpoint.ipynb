{
 "cells": [
  {
   "cell_type": "code",
   "execution_count": 1,
   "metadata": {},
   "outputs": [],
   "source": [
    "%matplotlib inline"
   ]
  },
  {
   "cell_type": "code",
   "execution_count": 2,
   "metadata": {},
   "outputs": [],
   "source": [
    "import numpy as np\n",
    "import netCDF4 as nc\n",
    "import matplotlib.pylab as plt\n",
    "import imp\n",
    "import csv\n",
    "import pandas as pd\n",
    "from io import StringIO"
   ]
  },
  {
   "cell_type": "code",
   "execution_count": 3,
   "metadata": {},
   "outputs": [
    {
     "name": "stdout",
     "output_type": "stream",
     "text": [
      "[0.00959667, 0.014538747, 0.02138723, 0.034661338, 0.053218298, 0.0812161, 0.13194841]\n"
     ]
    }
   ],
   "source": [
    "fname=\"..\\ComputeCdfsOfProjections\\Cdfs/SL_wTd_weighted_base_AISM_VUB_RCP45_cdf.nc\"\n",
    "ncf = nc.Dataset(fname, \"r\")\n",
    "\n",
    "Percentile = ncf.variables[\"Percentile\"][:]\n",
    "SL_wTd_weighted_base_R0 = ncf.variables[\"Antarctica\"][:]\n",
    "\n",
    "SL_wTd_weithed_base_AISM_VUB_RCP45_table = [SL_wTd_weighted_base_R0[-1,5],SL_wTd_weighted_base_R0[-1,50],SL_wTd_weighted_base_R0[-1,166],SL_wTd_weighted_base_R0[-1,500],SL_wTd_weighted_base_R0[-1,833],SL_wTd_weighted_base_R0[-1,950],SL_wTd_weighted_base_R0[-1,995]]\n",
    "\n",
    "print(SL_wTd_weithed_base_AISM_VUB_RCP45_table)\n"
   ]
  },
  {
   "cell_type": "code",
   "execution_count": 4,
   "metadata": {},
   "outputs": [
    {
     "name": "stdout",
     "output_type": "stream",
     "text": [
      "[0.04147792, 0.06860452, 0.0980159, 0.1468767, 0.21977839, 0.3899351, 0.6243952]\n"
     ]
    }
   ],
   "source": [
    "fname=\"..\\ComputeCdfsOfProjections\\Cdfs/SL_wTd_weighted_base_BISI_LBL_RCP45_cdf.nc\"\n",
    "ncf = nc.Dataset(fname, \"r\")\n",
    "\n",
    "Percentile = ncf.variables[\"Percentile\"][:]\n",
    "SL_wTd_weighted_base_R0 = ncf.variables[\"Antarctica\"][:]\n",
    "\n",
    "SL_wTd_weithed_base_BISI_LBL_RCP45_table = [SL_wTd_weighted_base_R0[-1,5],SL_wTd_weighted_base_R0[-1,50],SL_wTd_weighted_base_R0[-1,166],SL_wTd_weighted_base_R0[-1,500],SL_wTd_weighted_base_R0[-1,833],SL_wTd_weighted_base_R0[-1,950],SL_wTd_weighted_base_R0[-1,995]]\n",
    "\n",
    "print(SL_wTd_weithed_base_BISI_LBL_RCP45_table)\n"
   ]
  },
  {
   "cell_type": "code",
   "execution_count": 5,
   "metadata": {},
   "outputs": [
    {
     "name": "stdout",
     "output_type": "stream",
     "text": [
      "[0.022063062, 0.03685297, 0.05480656, 0.08293974, 0.11761169, 0.19360147, 0.3085384]\n"
     ]
    }
   ],
   "source": [
    "fname=\"..\\ComputeCdfsOfProjections\\Cdfs/SL_wTd_weighted_base_CISM_NCA_RCP45_cdf.nc\"\n",
    "ncf = nc.Dataset(fname, \"r\")\n",
    "\n",
    "Percentile = ncf.variables[\"Percentile\"][:]\n",
    "SL_wTd_weighted_base_R0 = ncf.variables[\"Antarctica\"][:]\n",
    "\n",
    "SL_wTd_weithed_base_CISM_NCA_RCP45_table = [SL_wTd_weighted_base_R0[-1,5],SL_wTd_weighted_base_R0[-1,50],SL_wTd_weighted_base_R0[-1,166],SL_wTd_weighted_base_R0[-1,500],SL_wTd_weighted_base_R0[-1,833],SL_wTd_weighted_base_R0[-1,950],SL_wTd_weighted_base_R0[-1,995]]\n",
    "\n",
    "print(SL_wTd_weithed_base_CISM_NCA_RCP45_table)\n"
   ]
  },
  {
   "cell_type": "code",
   "execution_count": 6,
   "metadata": {},
   "outputs": [
    {
     "name": "stdout",
     "output_type": "stream",
     "text": [
      "[0.0334533, 0.05359203, 0.079229064, 0.12739576, 0.18550749, 0.3044951, 0.47974226]\n"
     ]
    }
   ],
   "source": [
    "fname=\"..\\ComputeCdfsOfProjections\\Cdfs/SL_wTd_weighted_base_FETI_VUB_RCP45_cdf.nc\"\n",
    "ncf = nc.Dataset(fname, \"r\")\n",
    "\n",
    "Percentile = ncf.variables[\"Percentile\"][:]\n",
    "SL_wTd_weighted_base_R0 = ncf.variables[\"Antarctica\"][:]\n",
    "\n",
    "SL_wTd_weithed_base_FETI_VUB_RCP45_table = [SL_wTd_weighted_base_R0[-1,5],SL_wTd_weighted_base_R0[-1,50],SL_wTd_weighted_base_R0[-1,166],SL_wTd_weighted_base_R0[-1,500],SL_wTd_weighted_base_R0[-1,833],SL_wTd_weighted_base_R0[-1,950],SL_wTd_weighted_base_R0[-1,995]]\n",
    "\n",
    "print(SL_wTd_weithed_base_FETI_VUB_RCP45_table)\n"
   ]
  },
  {
   "cell_type": "code",
   "execution_count": 7,
   "metadata": {},
   "outputs": [
    {
     "name": "stdout",
     "output_type": "stream",
     "text": [
      "[0.017399034, 0.025600795, 0.037429802, 0.06310516, 0.09428662, 0.1464021, 0.22830592]\n"
     ]
    }
   ],
   "source": [
    "fname=\"..\\ComputeCdfsOfProjections\\Cdfs/SL_wTd_weighted_base_GRIS_LSC_RCP45_cdf.nc\"\n",
    "ncf = nc.Dataset(fname, \"r\")\n",
    "\n",
    "Percentile = ncf.variables[\"Percentile\"][:]\n",
    "SL_wTd_weighted_base_R0 = ncf.variables[\"Antarctica\"][:]\n",
    "\n",
    "SL_wTd_weithed_base_GRIS_LSC_RCP45_table = [SL_wTd_weighted_base_R0[-1,5],SL_wTd_weighted_base_R0[-1,50],SL_wTd_weighted_base_R0[-1,166],SL_wTd_weighted_base_R0[-1,500],SL_wTd_weighted_base_R0[-1,833],SL_wTd_weighted_base_R0[-1,950],SL_wTd_weighted_base_R0[-1,995]]\n",
    "\n",
    "print(SL_wTd_weithed_base_GRIS_LSC_RCP45_table)\n"
   ]
  },
  {
   "cell_type": "code",
   "execution_count": 8,
   "metadata": {},
   "outputs": [
    {
     "name": "stdout",
     "output_type": "stream",
     "text": [
      "[0.05599165, 0.09637815, 0.14656809, 0.21762948, 0.3290394, 0.559697, 0.9061605]\n"
     ]
    }
   ],
   "source": [
    "fname=\"..\\ComputeCdfsOfProjections\\Cdfs/SL_wTd_weighted_base_IMAU_VUB_RCP45_cdf.nc\"\n",
    "ncf = nc.Dataset(fname, \"r\")\n",
    "\n",
    "Percentile = ncf.variables[\"Percentile\"][:]\n",
    "SL_wTd_weighted_base_R0 = ncf.variables[\"Antarctica\"][:]\n",
    "\n",
    "SL_wTd_weithed_base_IMAU_VUB_RCP45_table = [SL_wTd_weighted_base_R0[-1,5],SL_wTd_weighted_base_R0[-1,50],SL_wTd_weighted_base_R0[-1,166],SL_wTd_weighted_base_R0[-1,500],SL_wTd_weighted_base_R0[-1,833],SL_wTd_weighted_base_R0[-1,950],SL_wTd_weighted_base_R0[-1,995]]\n",
    "\n",
    "print(SL_wTd_weithed_base_IMAU_VUB_RCP45_table)\n"
   ]
  },
  {
   "cell_type": "code",
   "execution_count": 9,
   "metadata": {},
   "outputs": [
    {
     "name": "stdout",
     "output_type": "stream",
     "text": [
      "[0.029270938, 0.047086105, 0.0667629, 0.100185454, 0.14402714, 0.2486486, 0.3926121]\n"
     ]
    }
   ],
   "source": [
    "fname=\"..\\ComputeCdfsOfProjections\\Cdfs/SL_wTd_weighted_base_ISSM_JPL_RCP45_cdf.nc\"\n",
    "ncf = nc.Dataset(fname, \"r\")\n",
    "\n",
    "Percentile = ncf.variables[\"Percentile\"][:]\n",
    "SL_wTd_weighted_base_R0 = ncf.variables[\"Antarctica\"][:]\n",
    "\n",
    "SL_wTd_weithed_base_ISSM_JPL_RCP45_table = [SL_wTd_weighted_base_R0[-1,5],SL_wTd_weighted_base_R0[-1,50],SL_wTd_weighted_base_R0[-1,166],SL_wTd_weighted_base_R0[-1,500],SL_wTd_weighted_base_R0[-1,833],SL_wTd_weighted_base_R0[-1,950],SL_wTd_weighted_base_R0[-1,995]]\n",
    "\n",
    "print(SL_wTd_weithed_base_ISSM_JPL_RCP45_table)\n"
   ]
  },
  {
   "cell_type": "code",
   "execution_count": 10,
   "metadata": {},
   "outputs": [
    {
     "name": "stdout",
     "output_type": "stream",
     "text": [
      "[0.061370615, 0.10304579, 0.15000463, 0.21651356, 0.31696394, 0.5541604, 0.8936323]\n"
     ]
    }
   ],
   "source": [
    "fname=\"..\\ComputeCdfsOfProjections\\Cdfs/SL_wTd_weighted_base_ISSM_UCI_RCP45_cdf.nc\"\n",
    "ncf = nc.Dataset(fname, \"r\")\n",
    "\n",
    "Percentile = ncf.variables[\"Percentile\"][:]\n",
    "SL_wTd_weighted_base_R0 = ncf.variables[\"Antarctica\"][:]\n",
    "\n",
    "SL_wTd_weithed_base_ISSM_UCI_RCP45_table = [SL_wTd_weighted_base_R0[-1,5],SL_wTd_weighted_base_R0[-1,50],SL_wTd_weighted_base_R0[-1,166],SL_wTd_weighted_base_R0[-1,500],SL_wTd_weighted_base_R0[-1,833],SL_wTd_weighted_base_R0[-1,950],SL_wTd_weighted_base_R0[-1,995]]\n",
    "\n",
    "print(SL_wTd_weithed_base_ISSM_UCI_RCP45_table)\n"
   ]
  },
  {
   "cell_type": "code",
   "execution_count": 11,
   "metadata": {},
   "outputs": [
    {
     "name": "stdout",
     "output_type": "stream",
     "text": [
      "[0.03635816, 0.062429525, 0.08743585, 0.1239735, 0.17621599, 0.31232616, 0.5093595]\n"
     ]
    }
   ],
   "source": [
    "fname=\"..\\ComputeCdfsOfProjections\\Cdfs/SL_wTd_weighted_base_MALI_LAN_RCP45_cdf.nc\"\n",
    "ncf = nc.Dataset(fname, \"r\")\n",
    "\n",
    "Percentile = ncf.variables[\"Percentile\"][:]\n",
    "SL_wTd_weighted_base_R0 = ncf.variables[\"Antarctica\"][:]\n",
    "\n",
    "SL_wTd_weithed_base_MALI_LAN_RCP45_table = [SL_wTd_weighted_base_R0[-1,5],SL_wTd_weighted_base_R0[-1,50],SL_wTd_weighted_base_R0[-1,166],SL_wTd_weighted_base_R0[-1,500],SL_wTd_weighted_base_R0[-1,833],SL_wTd_weighted_base_R0[-1,950],SL_wTd_weighted_base_R0[-1,995]]\n",
    "\n",
    "print(SL_wTd_weithed_base_MALI_LAN_RCP45_table)\n"
   ]
  },
  {
   "cell_type": "code",
   "execution_count": 12,
   "metadata": {},
   "outputs": [
    {
     "name": "stdout",
     "output_type": "stream",
     "text": [
      "[0.022008017, 0.040211864, 0.062045578, 0.09170332, 0.13522187, 0.2270647, 0.34959397]\n"
     ]
    }
   ],
   "source": [
    "fname=\"..\\ComputeCdfsOfProjections\\Cdfs/SL_wTd_weighted_base_PISM_AWI_RCP45_cdf.nc\"\n",
    "ncf = nc.Dataset(fname, \"r\")\n",
    "\n",
    "Percentile = ncf.variables[\"Percentile\"][:]\n",
    "SL_wTd_weighted_base_R0 = ncf.variables[\"Antarctica\"][:]\n",
    "\n",
    "SL_wTd_weithed_base_PISM_AWI_RCP45_table = [SL_wTd_weighted_base_R0[-1,5],SL_wTd_weighted_base_R0[-1,50],SL_wTd_weighted_base_R0[-1,166],SL_wTd_weighted_base_R0[-1,500],SL_wTd_weighted_base_R0[-1,833],SL_wTd_weighted_base_R0[-1,950],SL_wTd_weighted_base_R0[-1,995]]\n",
    "\n",
    "print(SL_wTd_weithed_base_PISM_AWI_RCP45_table)\n"
   ]
  },
  {
   "cell_type": "code",
   "execution_count": 13,
   "metadata": {},
   "outputs": [
    {
     "name": "stdout",
     "output_type": "stream",
     "text": [
      "[0.07640897, 0.1256639, 0.18173276, 0.25529292, 0.36324275, 0.64119947, 1.0013492]\n"
     ]
    }
   ],
   "source": [
    "fname=\"..\\ComputeCdfsOfProjections\\Cdfs/SL_wTd_weighted_base_PISM_DMI_RCP45_cdf.nc\"\n",
    "ncf = nc.Dataset(fname, \"r\")\n",
    "\n",
    "Percentile = ncf.variables[\"Percentile\"][:]\n",
    "SL_wTd_weighted_base_R0 = ncf.variables[\"Antarctica\"][:]\n",
    "\n",
    "SL_wTd_weithed_base_PISM_DMI_RCP45_table = [SL_wTd_weighted_base_R0[-1,5],SL_wTd_weighted_base_R0[-1,50],SL_wTd_weighted_base_R0[-1,166],SL_wTd_weighted_base_R0[-1,500],SL_wTd_weighted_base_R0[-1,833],SL_wTd_weighted_base_R0[-1,950],SL_wTd_weighted_base_R0[-1,995]]\n",
    "\n",
    "print(SL_wTd_weithed_base_PISM_DMI_RCP45_table)\n"
   ]
  },
  {
   "cell_type": "code",
   "execution_count": 14,
   "metadata": {},
   "outputs": [
    {
     "name": "stdout",
     "output_type": "stream",
     "text": [
      "[0.034140926, 0.06100963, 0.09639759, 0.1590619, 0.24902642, 0.37394196, 0.54104286]\n"
     ]
    }
   ],
   "source": [
    "fname=\"..\\ComputeCdfsOfProjections\\Cdfs/SL_wTd_weighted_base_PISM_PIK_RCP45_cdf.nc\"\n",
    "ncf = nc.Dataset(fname, \"r\")\n",
    "\n",
    "Percentile = ncf.variables[\"Percentile\"][:]\n",
    "SL_wTd_weighted_base_R0 = ncf.variables[\"Antarctica\"][:]\n",
    "\n",
    "SL_wTd_weithed_base_PISM_PIK_RCP45_table = [SL_wTd_weighted_base_R0[-1,5],SL_wTd_weighted_base_R0[-1,50],SL_wTd_weighted_base_R0[-1,166],SL_wTd_weighted_base_R0[-1,500],SL_wTd_weighted_base_R0[-1,833],SL_wTd_weighted_base_R0[-1,950],SL_wTd_weighted_base_R0[-1,995]]\n",
    "\n",
    "print(SL_wTd_weithed_base_PISM_PIK_RCP45_table)\n"
   ]
  },
  {
   "cell_type": "code",
   "execution_count": 15,
   "metadata": {},
   "outputs": [
    {
     "name": "stdout",
     "output_type": "stream",
     "text": [
      "[0.08701136, 0.1406455, 0.20154785, 0.30079526, 0.45451668, 0.7611202, 1.2213283]\n"
     ]
    }
   ],
   "source": [
    "fname=\"..\\ComputeCdfsOfProjections\\Cdfs/SL_wTd_weighted_base_PISM_VUW_RCP45_cdf.nc\"\n",
    "ncf = nc.Dataset(fname, \"r\")\n",
    "\n",
    "Percentile = ncf.variables[\"Percentile\"][:]\n",
    "SL_wTd_weighted_base_R0 = ncf.variables[\"Antarctica\"][:]\n",
    "\n",
    "SL_wTd_weithed_base_PISM_VUW_RCP45_table = [SL_wTd_weighted_base_R0[-1,5],SL_wTd_weighted_base_R0[-1,50],SL_wTd_weighted_base_R0[-1,166],SL_wTd_weighted_base_R0[-1,500],SL_wTd_weighted_base_R0[-1,833],SL_wTd_weighted_base_R0[-1,950],SL_wTd_weighted_base_R0[-1,995]]\n",
    "\n",
    "print(SL_wTd_weithed_base_PISM_VUW_RCP45_table)\n"
   ]
  },
  {
   "cell_type": "code",
   "execution_count": 16,
   "metadata": {},
   "outputs": [
    {
     "name": "stdout",
     "output_type": "stream",
     "text": [
      "[0.043651674, 0.07181174, 0.10313051, 0.16190806, 0.2352774, 0.36757472, 0.5954847]\n"
     ]
    }
   ],
   "source": [
    "fname=\"..\\ComputeCdfsOfProjections\\Cdfs/SL_wTd_weighted_base_PS3D_PSU_RCP45_cdf.nc\"\n",
    "ncf = nc.Dataset(fname, \"r\")\n",
    "\n",
    "Percentile = ncf.variables[\"Percentile\"][:]\n",
    "SL_wTd_weighted_base_R0 = ncf.variables[\"Antarctica\"][:]\n",
    "\n",
    "SL_wTd_weithed_base_PS3D_PSU_RCP45_table = [SL_wTd_weighted_base_R0[-1,5],SL_wTd_weighted_base_R0[-1,50],SL_wTd_weighted_base_R0[-1,166],SL_wTd_weighted_base_R0[-1,500],SL_wTd_weighted_base_R0[-1,833],SL_wTd_weighted_base_R0[-1,950],SL_wTd_weighted_base_R0[-1,995]]\n",
    "\n",
    "print(SL_wTd_weithed_base_PS3D_PSU_RCP45_table)\n"
   ]
  },
  {
   "cell_type": "code",
   "execution_count": 17,
   "metadata": {},
   "outputs": [
    {
     "name": "stdout",
     "output_type": "stream",
     "text": [
      "[0.045930076, 0.06568446, 0.08996334, 0.13379036, 0.19359252, 0.33676866, 0.54813355]\n"
     ]
    }
   ],
   "source": [
    "fname=\"..\\ComputeCdfsOfProjections\\Cdfs/SL_wTd_weighted_base_SICO_UHO_RCP45_cdf.nc\"\n",
    "ncf = nc.Dataset(fname, \"r\")\n",
    "\n",
    "Percentile = ncf.variables[\"Percentile\"][:]\n",
    "SL_wTd_weighted_base_R0 = ncf.variables[\"Antarctica\"][:]\n",
    "\n",
    "SL_wTd_weithed_base_SICO_UHO_RCP45_table = [SL_wTd_weighted_base_R0[-1,5],SL_wTd_weighted_base_R0[-1,50],SL_wTd_weighted_base_R0[-1,166],SL_wTd_weighted_base_R0[-1,500],SL_wTd_weighted_base_R0[-1,833],SL_wTd_weighted_base_R0[-1,950],SL_wTd_weighted_base_R0[-1,995]]\n",
    "\n",
    "print(SL_wTd_weithed_base_SICO_UHO_RCP45_table)\n"
   ]
  },
  {
   "cell_type": "code",
   "execution_count": 18,
   "metadata": {},
   "outputs": [
    {
     "name": "stdout",
     "output_type": "stream",
     "text": [
      "[0.11354426, 0.18393138, 0.25291643, 0.3650042, 0.5308395, 0.9007997, 1.4785802]\n"
     ]
    }
   ],
   "source": [
    "fname=\"..\\ComputeCdfsOfProjections\\Cdfs/SL_wTd_weighted_base_UA_UNN_RCP45_cdf.nc\"\n",
    "ncf = nc.Dataset(fname, \"r\")\n",
    "\n",
    "Percentile = ncf.variables[\"Percentile\"][:]\n",
    "SL_wTd_weighted_base_R0 = ncf.variables[\"Antarctica\"][:]\n",
    "\n",
    "SL_wTd_weithed_base_UA_UNN_RCP45_table = [SL_wTd_weighted_base_R0[-1,5],SL_wTd_weighted_base_R0[-1,50],SL_wTd_weighted_base_R0[-1,166],SL_wTd_weighted_base_R0[-1,500],SL_wTd_weighted_base_R0[-1,833],SL_wTd_weighted_base_R0[-1,950],SL_wTd_weighted_base_R0[-1,995]]\n",
    "\n",
    "print(SL_wTd_weithed_base_UA_UNN_RCP45_table)\n"
   ]
  },
  {
   "cell_type": "code",
   "execution_count": 19,
   "metadata": {},
   "outputs": [],
   "source": [
    "f = open('Tables/SL_wTd_weighted_base_RCP45_table.dat', 'w')\n",
    "\n",
    "for i in range(len(SL_wTd_weithed_base_AISM_VUB_RCP45_table)):\n",
    "    f.write(\"%1.2f \" %(SL_wTd_weithed_base_AISM_VUB_RCP45_table[i]))\n",
    "f.write(\"\\n\")\n",
    "    \n",
    "for i in range(len(SL_wTd_weithed_base_BISI_LBL_RCP45_table)):\n",
    "    f.write(\"%1.2f \" %(SL_wTd_weithed_base_BISI_LBL_RCP45_table[i]))\n",
    "f.write(\"\\n\")\n",
    "    \n",
    "for i in range(len(SL_wTd_weithed_base_CISM_NCA_RCP45_table)):\n",
    "    f.write(\"%1.2f \" %(SL_wTd_weithed_base_CISM_NCA_RCP45_table[i]))\n",
    "f.write(\"\\n\")\n",
    "    \n",
    "for i in range(len(SL_wTd_weithed_base_FETI_VUB_RCP45_table)):\n",
    "    f.write(\"%1.2f \" %(SL_wTd_weithed_base_FETI_VUB_RCP45_table[i]))\n",
    "f.write(\"\\n\")\n",
    "    \n",
    "for i in range(len(SL_wTd_weithed_base_GRIS_LSC_RCP45_table)):\n",
    "    f.write(\"%1.2f \" %(SL_wTd_weithed_base_GRIS_LSC_RCP45_table[i]))\n",
    "f.write(\"\\n\")\n",
    "    \n",
    "for i in range(len(SL_wTd_weithed_base_IMAU_VUB_RCP45_table)):\n",
    "    f.write(\"%1.2f \" %(SL_wTd_weithed_base_IMAU_VUB_RCP45_table[i]))\n",
    "f.write(\"\\n\")\n",
    "    \n",
    "for i in range(len(SL_wTd_weithed_base_ISSM_JPL_RCP45_table)):\n",
    "    f.write(\"%1.2f \" %(SL_wTd_weithed_base_ISSM_JPL_RCP45_table[i]))\n",
    "f.write(\"\\n\")\n",
    "    \n",
    "for i in range(len(SL_wTd_weithed_base_ISSM_UCI_RCP45_table)):\n",
    "    f.write(\"%1.2f \" %(SL_wTd_weithed_base_ISSM_UCI_RCP45_table[i]))\n",
    "f.write(\"\\n\")\n",
    "    \n",
    "for i in range(len(SL_wTd_weithed_base_MALI_LAN_RCP45_table)):\n",
    "    f.write(\"%1.2f \" %(SL_wTd_weithed_base_MALI_LAN_RCP45_table[i]))\n",
    "f.write(\"\\n\")\n",
    "    \n",
    "for i in range(len(SL_wTd_weithed_base_PISM_AWI_RCP45_table)):\n",
    "    f.write(\"%1.2f \" %(SL_wTd_weithed_base_PISM_AWI_RCP45_table[i]))\n",
    "f.write(\"\\n\")\n",
    "    \n",
    "for i in range(len(SL_wTd_weithed_base_PISM_DMI_RCP45_table)):\n",
    "    f.write(\"%1.2f \" %(SL_wTd_weithed_base_PISM_DMI_RCP45_table[i]))\n",
    "f.write(\"\\n\")\n",
    "    \n",
    "for i in range(len(SL_wTd_weithed_base_PISM_PIK_RCP45_table)):\n",
    "    f.write(\"%1.2f \" %(SL_wTd_weithed_base_PISM_PIK_RCP45_table[i]))\n",
    "f.write(\"\\n\")\n",
    "    \n",
    "for i in range(len(SL_wTd_weithed_base_PISM_VUW_RCP45_table)):\n",
    "    f.write(\"%1.2f \" %(SL_wTd_weithed_base_PISM_VUW_RCP45_table[i]))\n",
    "f.write(\"\\n\")\n",
    "    \n",
    "for i in range(len(SL_wTd_weithed_base_PS3D_PSU_RCP45_table)):\n",
    "    f.write(\"%1.2f \" %(SL_wTd_weithed_base_PS3D_PSU_RCP45_table[i]))\n",
    "f.write(\"\\n\")\n",
    "    \n",
    "for i in range(len(SL_wTd_weithed_base_SICO_UHO_RCP45_table)):\n",
    "    f.write(\"%1.2f \" %(SL_wTd_weithed_base_SICO_UHO_RCP45_table[i]))\n",
    "f.write(\"\\n\")\n",
    "    \n",
    "for i in range(len(SL_wTd_weithed_base_UA_UNN_RCP45_table)):\n",
    "    f.write(\"%1.2f \" %(SL_wTd_weithed_base_UA_UNN_RCP45_table[i]))\n",
    "f.write(\"\\n\")\n",
    "    \n",
    "f.close()\n"
   ]
  },
  {
   "cell_type": "code",
   "execution_count": null,
   "metadata": {},
   "outputs": [],
   "source": []
  },
  {
   "cell_type": "code",
   "execution_count": null,
   "metadata": {},
   "outputs": [],
   "source": []
  }
 ],
 "metadata": {
  "kernelspec": {
   "display_name": "Python 3",
   "language": "python",
   "name": "python3"
  },
  "language_info": {
   "codemirror_mode": {
    "name": "ipython",
    "version": 3
   },
   "file_extension": ".py",
   "mimetype": "text/x-python",
   "name": "python",
   "nbconvert_exporter": "python",
   "pygments_lexer": "ipython3",
   "version": "3.7.0"
  }
 },
 "nbformat": 4,
 "nbformat_minor": 2
}
