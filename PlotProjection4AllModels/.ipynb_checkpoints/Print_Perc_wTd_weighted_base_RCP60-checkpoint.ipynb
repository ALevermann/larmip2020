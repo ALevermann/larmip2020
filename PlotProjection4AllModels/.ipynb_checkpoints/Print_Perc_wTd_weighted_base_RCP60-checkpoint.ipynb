{
 "cells": [
  {
   "cell_type": "code",
   "execution_count": 1,
   "metadata": {},
   "outputs": [],
   "source": [
    "%matplotlib inline"
   ]
  },
  {
   "cell_type": "code",
   "execution_count": 2,
   "metadata": {},
   "outputs": [],
   "source": [
    "import numpy as np\n",
    "import netCDF4 as nc\n",
    "import matplotlib.pylab as plt\n",
    "import imp\n",
    "import csv\n",
    "import pandas as pd\n",
    "from io import StringIO"
   ]
  },
  {
   "cell_type": "code",
   "execution_count": 3,
   "metadata": {},
   "outputs": [
    {
     "name": "stdout",
     "output_type": "stream",
     "text": [
      "[0.009538717, 0.014095284, 0.020982854, 0.03424089, 0.053323973, 0.082895145, 0.13228051]\n"
     ]
    }
   ],
   "source": [
    "fname=\"..\\ComputeCdfsOfProjections\\Cdfs/SL_wTd_weighted_base_AISM_VUB_RCP60_cdf.nc\"\n",
    "ncf = nc.Dataset(fname, \"r\")\n",
    "\n",
    "Percentile = ncf.variables[\"Percentile\"][:]\n",
    "SL_wTd_weighted_base_R0 = ncf.variables[\"Antarctica\"][:]\n",
    "\n",
    "SL_wTd_weithed_base_AISM_VUB_RCP60_table = [SL_wTd_weighted_base_R0[-1,5],SL_wTd_weighted_base_R0[-1,50],SL_wTd_weighted_base_R0[-1,166],SL_wTd_weighted_base_R0[-1,500],SL_wTd_weighted_base_R0[-1,833],SL_wTd_weighted_base_R0[-1,950],SL_wTd_weighted_base_R0[-1,995]]\n",
    "\n",
    "print(SL_wTd_weithed_base_AISM_VUB_RCP60_table)\n"
   ]
  },
  {
   "cell_type": "code",
   "execution_count": 4,
   "metadata": {},
   "outputs": [
    {
     "name": "stdout",
     "output_type": "stream",
     "text": [
      "[0.041035704, 0.06755602, 0.09688021, 0.14482147, 0.21517068, 0.36517197, 0.6214907]\n"
     ]
    }
   ],
   "source": [
    "fname=\"..\\ComputeCdfsOfProjections\\Cdfs/SL_wTd_weighted_base_BISI_LBL_RCP60_cdf.nc\"\n",
    "ncf = nc.Dataset(fname, \"r\")\n",
    "\n",
    "Percentile = ncf.variables[\"Percentile\"][:]\n",
    "SL_wTd_weighted_base_R0 = ncf.variables[\"Antarctica\"][:]\n",
    "\n",
    "SL_wTd_weithed_base_BISI_LBL_RCP60_table = [SL_wTd_weighted_base_R0[-1,5],SL_wTd_weighted_base_R0[-1,50],SL_wTd_weighted_base_R0[-1,166],SL_wTd_weighted_base_R0[-1,500],SL_wTd_weighted_base_R0[-1,833],SL_wTd_weighted_base_R0[-1,950],SL_wTd_weighted_base_R0[-1,995]]\n",
    "\n",
    "print(SL_wTd_weithed_base_BISI_LBL_RCP60_table)\n"
   ]
  },
  {
   "cell_type": "code",
   "execution_count": 5,
   "metadata": {},
   "outputs": [
    {
     "name": "stdout",
     "output_type": "stream",
     "text": [
      "[0.022547472, 0.037197523, 0.05422848, 0.082989596, 0.12005829, 0.2006626, 0.31517717]\n"
     ]
    }
   ],
   "source": [
    "fname=\"..\\ComputeCdfsOfProjections\\Cdfs/SL_wTd_weighted_base_CISM_NCA_RCP60_cdf.nc\"\n",
    "ncf = nc.Dataset(fname, \"r\")\n",
    "\n",
    "Percentile = ncf.variables[\"Percentile\"][:]\n",
    "SL_wTd_weighted_base_R0 = ncf.variables[\"Antarctica\"][:]\n",
    "\n",
    "SL_wTd_weithed_base_CISM_NCA_RCP60_table = [SL_wTd_weighted_base_R0[-1,5],SL_wTd_weighted_base_R0[-1,50],SL_wTd_weighted_base_R0[-1,166],SL_wTd_weighted_base_R0[-1,500],SL_wTd_weighted_base_R0[-1,833],SL_wTd_weighted_base_R0[-1,950],SL_wTd_weighted_base_R0[-1,995]]\n",
    "\n",
    "print(SL_wTd_weithed_base_CISM_NCA_RCP60_table)\n"
   ]
  },
  {
   "cell_type": "code",
   "execution_count": 6,
   "metadata": {},
   "outputs": [
    {
     "name": "stdout",
     "output_type": "stream",
     "text": [
      "[0.034336776, 0.053021256, 0.07868043, 0.12568259, 0.18555483, 0.30226427, 0.47231027]\n"
     ]
    }
   ],
   "source": [
    "fname=\"..\\ComputeCdfsOfProjections\\Cdfs/SL_wTd_weighted_base_FETI_VUB_RCP60_cdf.nc\"\n",
    "ncf = nc.Dataset(fname, \"r\")\n",
    "\n",
    "Percentile = ncf.variables[\"Percentile\"][:]\n",
    "SL_wTd_weighted_base_R0 = ncf.variables[\"Antarctica\"][:]\n",
    "\n",
    "SL_wTd_weithed_base_FETI_VUB_RCP60_table = [SL_wTd_weighted_base_R0[-1,5],SL_wTd_weighted_base_R0[-1,50],SL_wTd_weighted_base_R0[-1,166],SL_wTd_weighted_base_R0[-1,500],SL_wTd_weighted_base_R0[-1,833],SL_wTd_weighted_base_R0[-1,950],SL_wTd_weighted_base_R0[-1,995]]\n",
    "\n",
    "print(SL_wTd_weithed_base_FETI_VUB_RCP60_table)\n"
   ]
  },
  {
   "cell_type": "code",
   "execution_count": 7,
   "metadata": {},
   "outputs": [
    {
     "name": "stdout",
     "output_type": "stream",
     "text": [
      "[0.017271843, 0.02544471, 0.037625402, 0.06241526, 0.09401209, 0.14658242, 0.2224836]\n"
     ]
    }
   ],
   "source": [
    "fname=\"..\\ComputeCdfsOfProjections\\Cdfs/SL_wTd_weighted_base_GRIS_LSC_RCP60_cdf.nc\"\n",
    "ncf = nc.Dataset(fname, \"r\")\n",
    "\n",
    "Percentile = ncf.variables[\"Percentile\"][:]\n",
    "SL_wTd_weighted_base_R0 = ncf.variables[\"Antarctica\"][:]\n",
    "\n",
    "SL_wTd_weithed_base_GRIS_LSC_RCP60_table = [SL_wTd_weighted_base_R0[-1,5],SL_wTd_weighted_base_R0[-1,50],SL_wTd_weighted_base_R0[-1,166],SL_wTd_weighted_base_R0[-1,500],SL_wTd_weighted_base_R0[-1,833],SL_wTd_weighted_base_R0[-1,950],SL_wTd_weighted_base_R0[-1,995]]\n",
    "\n",
    "print(SL_wTd_weithed_base_GRIS_LSC_RCP60_table)\n"
   ]
  },
  {
   "cell_type": "code",
   "execution_count": 8,
   "metadata": {},
   "outputs": [
    {
     "name": "stdout",
     "output_type": "stream",
     "text": [
      "[0.05489913, 0.096884, 0.14414026, 0.2150792, 0.3276704, 0.5331268, 0.8889829]\n"
     ]
    }
   ],
   "source": [
    "fname=\"..\\ComputeCdfsOfProjections\\Cdfs/SL_wTd_weighted_base_IMAU_VUB_RCP60_cdf.nc\"\n",
    "ncf = nc.Dataset(fname, \"r\")\n",
    "\n",
    "Percentile = ncf.variables[\"Percentile\"][:]\n",
    "SL_wTd_weighted_base_R0 = ncf.variables[\"Antarctica\"][:]\n",
    "\n",
    "SL_wTd_weithed_base_IMAU_VUB_RCP60_table = [SL_wTd_weighted_base_R0[-1,5],SL_wTd_weighted_base_R0[-1,50],SL_wTd_weighted_base_R0[-1,166],SL_wTd_weighted_base_R0[-1,500],SL_wTd_weighted_base_R0[-1,833],SL_wTd_weighted_base_R0[-1,950],SL_wTd_weighted_base_R0[-1,995]]\n",
    "\n",
    "print(SL_wTd_weithed_base_IMAU_VUB_RCP60_table)\n"
   ]
  },
  {
   "cell_type": "code",
   "execution_count": 9,
   "metadata": {},
   "outputs": [
    {
     "name": "stdout",
     "output_type": "stream",
     "text": [
      "[0.029676083, 0.047936007, 0.06683898, 0.09972289, 0.14416885, 0.25306663, 0.39682898]\n"
     ]
    }
   ],
   "source": [
    "fname=\"..\\ComputeCdfsOfProjections\\Cdfs/SL_wTd_weighted_base_ISSM_JPL_RCP60_cdf.nc\"\n",
    "ncf = nc.Dataset(fname, \"r\")\n",
    "\n",
    "Percentile = ncf.variables[\"Percentile\"][:]\n",
    "SL_wTd_weighted_base_R0 = ncf.variables[\"Antarctica\"][:]\n",
    "\n",
    "SL_wTd_weithed_base_ISSM_JPL_RCP60_table = [SL_wTd_weighted_base_R0[-1,5],SL_wTd_weighted_base_R0[-1,50],SL_wTd_weighted_base_R0[-1,166],SL_wTd_weighted_base_R0[-1,500],SL_wTd_weighted_base_R0[-1,833],SL_wTd_weighted_base_R0[-1,950],SL_wTd_weighted_base_R0[-1,995]]\n",
    "\n",
    "print(SL_wTd_weithed_base_ISSM_JPL_RCP60_table)\n"
   ]
  },
  {
   "cell_type": "code",
   "execution_count": 10,
   "metadata": {},
   "outputs": [
    {
     "name": "stdout",
     "output_type": "stream",
     "text": [
      "[0.062382914, 0.10110475, 0.1493254, 0.21579601, 0.3161607, 0.5426847, 0.88566333]\n"
     ]
    }
   ],
   "source": [
    "fname=\"..\\ComputeCdfsOfProjections\\Cdfs/SL_wTd_weighted_base_ISSM_UCI_RCP60_cdf.nc\"\n",
    "ncf = nc.Dataset(fname, \"r\")\n",
    "\n",
    "Percentile = ncf.variables[\"Percentile\"][:]\n",
    "SL_wTd_weighted_base_R0 = ncf.variables[\"Antarctica\"][:]\n",
    "\n",
    "SL_wTd_weithed_base_ISSM_UCI_RCP60_table = [SL_wTd_weighted_base_R0[-1,5],SL_wTd_weighted_base_R0[-1,50],SL_wTd_weighted_base_R0[-1,166],SL_wTd_weighted_base_R0[-1,500],SL_wTd_weighted_base_R0[-1,833],SL_wTd_weighted_base_R0[-1,950],SL_wTd_weighted_base_R0[-1,995]]\n",
    "\n",
    "print(SL_wTd_weithed_base_ISSM_UCI_RCP60_table)\n"
   ]
  },
  {
   "cell_type": "code",
   "execution_count": 11,
   "metadata": {},
   "outputs": [
    {
     "name": "stdout",
     "output_type": "stream",
     "text": [
      "[0.034767944, 0.061665352, 0.08623361, 0.122694805, 0.17542611, 0.3066752, 0.5063448]\n"
     ]
    }
   ],
   "source": [
    "fname=\"..\\ComputeCdfsOfProjections\\Cdfs/SL_wTd_weighted_base_MALI_LAN_RCP60_cdf.nc\"\n",
    "ncf = nc.Dataset(fname, \"r\")\n",
    "\n",
    "Percentile = ncf.variables[\"Percentile\"][:]\n",
    "SL_wTd_weighted_base_R0 = ncf.variables[\"Antarctica\"][:]\n",
    "\n",
    "SL_wTd_weithed_base_MALI_LAN_RCP60_table = [SL_wTd_weighted_base_R0[-1,5],SL_wTd_weighted_base_R0[-1,50],SL_wTd_weighted_base_R0[-1,166],SL_wTd_weighted_base_R0[-1,500],SL_wTd_weighted_base_R0[-1,833],SL_wTd_weighted_base_R0[-1,950],SL_wTd_weighted_base_R0[-1,995]]\n",
    "\n",
    "print(SL_wTd_weithed_base_MALI_LAN_RCP60_table)\n"
   ]
  },
  {
   "cell_type": "code",
   "execution_count": 12,
   "metadata": {},
   "outputs": [
    {
     "name": "stdout",
     "output_type": "stream",
     "text": [
      "[0.02225678, 0.04022294, 0.06246242, 0.090267144, 0.13333434, 0.22127646, 0.3525933]\n"
     ]
    }
   ],
   "source": [
    "fname=\"..\\ComputeCdfsOfProjections\\Cdfs/SL_wTd_weighted_base_PISM_AWI_RCP60_cdf.nc\"\n",
    "ncf = nc.Dataset(fname, \"r\")\n",
    "\n",
    "Percentile = ncf.variables[\"Percentile\"][:]\n",
    "SL_wTd_weighted_base_R0 = ncf.variables[\"Antarctica\"][:]\n",
    "\n",
    "SL_wTd_weithed_base_PISM_AWI_RCP60_table = [SL_wTd_weighted_base_R0[-1,5],SL_wTd_weighted_base_R0[-1,50],SL_wTd_weighted_base_R0[-1,166],SL_wTd_weighted_base_R0[-1,500],SL_wTd_weighted_base_R0[-1,833],SL_wTd_weighted_base_R0[-1,950],SL_wTd_weighted_base_R0[-1,995]]\n",
    "\n",
    "print(SL_wTd_weithed_base_PISM_AWI_RCP60_table)\n"
   ]
  },
  {
   "cell_type": "code",
   "execution_count": 13,
   "metadata": {},
   "outputs": [
    {
     "name": "stdout",
     "output_type": "stream",
     "text": [
      "[0.079505906, 0.12797529, 0.18253435, 0.2552492, 0.36311477, 0.644781, 1.0190301]\n"
     ]
    }
   ],
   "source": [
    "fname=\"..\\ComputeCdfsOfProjections\\Cdfs/SL_wTd_weighted_base_PISM_DMI_RCP60_cdf.nc\"\n",
    "ncf = nc.Dataset(fname, \"r\")\n",
    "\n",
    "Percentile = ncf.variables[\"Percentile\"][:]\n",
    "SL_wTd_weighted_base_R0 = ncf.variables[\"Antarctica\"][:]\n",
    "\n",
    "SL_wTd_weithed_base_PISM_DMI_RCP60_table = [SL_wTd_weighted_base_R0[-1,5],SL_wTd_weighted_base_R0[-1,50],SL_wTd_weighted_base_R0[-1,166],SL_wTd_weighted_base_R0[-1,500],SL_wTd_weighted_base_R0[-1,833],SL_wTd_weighted_base_R0[-1,950],SL_wTd_weighted_base_R0[-1,995]]\n",
    "\n",
    "print(SL_wTd_weithed_base_PISM_DMI_RCP60_table)\n"
   ]
  },
  {
   "cell_type": "code",
   "execution_count": 14,
   "metadata": {},
   "outputs": [
    {
     "name": "stdout",
     "output_type": "stream",
     "text": [
      "[0.034287233, 0.06127181, 0.093762435, 0.15649195, 0.24607304, 0.36851284, 0.53914344]\n"
     ]
    }
   ],
   "source": [
    "fname=\"..\\ComputeCdfsOfProjections\\Cdfs/SL_wTd_weighted_base_PISM_PIK_RCP60_cdf.nc\"\n",
    "ncf = nc.Dataset(fname, \"r\")\n",
    "\n",
    "Percentile = ncf.variables[\"Percentile\"][:]\n",
    "SL_wTd_weighted_base_R0 = ncf.variables[\"Antarctica\"][:]\n",
    "\n",
    "SL_wTd_weithed_base_PISM_PIK_RCP60_table = [SL_wTd_weighted_base_R0[-1,5],SL_wTd_weighted_base_R0[-1,50],SL_wTd_weighted_base_R0[-1,166],SL_wTd_weighted_base_R0[-1,500],SL_wTd_weighted_base_R0[-1,833],SL_wTd_weighted_base_R0[-1,950],SL_wTd_weighted_base_R0[-1,995]]\n",
    "\n",
    "print(SL_wTd_weithed_base_PISM_PIK_RCP60_table)\n"
   ]
  },
  {
   "cell_type": "code",
   "execution_count": 15,
   "metadata": {},
   "outputs": [
    {
     "name": "stdout",
     "output_type": "stream",
     "text": [
      "[0.08893524, 0.14217947, 0.20173693, 0.30196095, 0.45344305, 0.7688471, 1.2463958]\n"
     ]
    }
   ],
   "source": [
    "fname=\"..\\ComputeCdfsOfProjections\\Cdfs/SL_wTd_weighted_base_PISM_VUW_RCP60_cdf.nc\"\n",
    "ncf = nc.Dataset(fname, \"r\")\n",
    "\n",
    "Percentile = ncf.variables[\"Percentile\"][:]\n",
    "SL_wTd_weighted_base_R0 = ncf.variables[\"Antarctica\"][:]\n",
    "\n",
    "SL_wTd_weithed_base_PISM_VUW_RCP60_table = [SL_wTd_weighted_base_R0[-1,5],SL_wTd_weighted_base_R0[-1,50],SL_wTd_weighted_base_R0[-1,166],SL_wTd_weighted_base_R0[-1,500],SL_wTd_weighted_base_R0[-1,833],SL_wTd_weighted_base_R0[-1,950],SL_wTd_weighted_base_R0[-1,995]]\n",
    "\n",
    "print(SL_wTd_weithed_base_PISM_VUW_RCP60_table)\n"
   ]
  },
  {
   "cell_type": "code",
   "execution_count": 16,
   "metadata": {},
   "outputs": [
    {
     "name": "stdout",
     "output_type": "stream",
     "text": [
      "[0.044663455, 0.071356006, 0.10137574, 0.16172662, 0.23600309, 0.37771896, 0.57951146]\n"
     ]
    }
   ],
   "source": [
    "fname=\"..\\ComputeCdfsOfProjections\\Cdfs/SL_wTd_weighted_base_PS3D_PSU_RCP60_cdf.nc\"\n",
    "ncf = nc.Dataset(fname, \"r\")\n",
    "\n",
    "Percentile = ncf.variables[\"Percentile\"][:]\n",
    "SL_wTd_weighted_base_R0 = ncf.variables[\"Antarctica\"][:]\n",
    "\n",
    "SL_wTd_weithed_base_PS3D_PSU_RCP60_table = [SL_wTd_weighted_base_R0[-1,5],SL_wTd_weighted_base_R0[-1,50],SL_wTd_weighted_base_R0[-1,166],SL_wTd_weighted_base_R0[-1,500],SL_wTd_weighted_base_R0[-1,833],SL_wTd_weighted_base_R0[-1,950],SL_wTd_weighted_base_R0[-1,995]]\n",
    "\n",
    "print(SL_wTd_weithed_base_PS3D_PSU_RCP60_table)\n"
   ]
  },
  {
   "cell_type": "code",
   "execution_count": 17,
   "metadata": {},
   "outputs": [
    {
     "name": "stdout",
     "output_type": "stream",
     "text": [
      "[0.044614986, 0.06458437, 0.08841979, 0.13279723, 0.1946599, 0.33581623, 0.5658589]\n"
     ]
    }
   ],
   "source": [
    "fname=\"..\\ComputeCdfsOfProjections\\Cdfs/SL_wTd_weighted_base_SICO_UHO_RCP60_cdf.nc\"\n",
    "ncf = nc.Dataset(fname, \"r\")\n",
    "\n",
    "Percentile = ncf.variables[\"Percentile\"][:]\n",
    "SL_wTd_weighted_base_R0 = ncf.variables[\"Antarctica\"][:]\n",
    "\n",
    "SL_wTd_weithed_base_SICO_UHO_RCP60_table = [SL_wTd_weighted_base_R0[-1,5],SL_wTd_weighted_base_R0[-1,50],SL_wTd_weighted_base_R0[-1,166],SL_wTd_weighted_base_R0[-1,500],SL_wTd_weighted_base_R0[-1,833],SL_wTd_weighted_base_R0[-1,950],SL_wTd_weighted_base_R0[-1,995]]\n",
    "\n",
    "print(SL_wTd_weithed_base_SICO_UHO_RCP60_table)\n"
   ]
  },
  {
   "cell_type": "code",
   "execution_count": 18,
   "metadata": {},
   "outputs": [
    {
     "name": "stdout",
     "output_type": "stream",
     "text": [
      "[0.11377767, 0.18118164, 0.25353664, 0.36588407, 0.53893167, 0.92555594, 1.5336841]\n"
     ]
    }
   ],
   "source": [
    "fname=\"..\\ComputeCdfsOfProjections\\Cdfs/SL_wTd_weighted_base_UA_UNN_RCP60_cdf.nc\"\n",
    "ncf = nc.Dataset(fname, \"r\")\n",
    "\n",
    "Percentile = ncf.variables[\"Percentile\"][:]\n",
    "SL_wTd_weighted_base_R0 = ncf.variables[\"Antarctica\"][:]\n",
    "\n",
    "SL_wTd_weithed_base_UA_UNN_RCP60_table = [SL_wTd_weighted_base_R0[-1,5],SL_wTd_weighted_base_R0[-1,50],SL_wTd_weighted_base_R0[-1,166],SL_wTd_weighted_base_R0[-1,500],SL_wTd_weighted_base_R0[-1,833],SL_wTd_weighted_base_R0[-1,950],SL_wTd_weighted_base_R0[-1,995]]\n",
    "\n",
    "print(SL_wTd_weithed_base_UA_UNN_RCP60_table)\n"
   ]
  },
  {
   "cell_type": "code",
   "execution_count": 19,
   "metadata": {},
   "outputs": [],
   "source": [
    "f = open('Tables/SL_wTd_weighted_base_RCP60_table.dat', 'w')\n",
    "\n",
    "for i in range(len(SL_wTd_weithed_base_AISM_VUB_RCP60_table)):\n",
    "    f.write(\"%1.2f \" %(SL_wTd_weithed_base_AISM_VUB_RCP60_table[i]))\n",
    "f.write(\"\\n\")\n",
    "    \n",
    "for i in range(len(SL_wTd_weithed_base_BISI_LBL_RCP60_table)):\n",
    "    f.write(\"%1.2f \" %(SL_wTd_weithed_base_BISI_LBL_RCP60_table[i]))\n",
    "f.write(\"\\n\")\n",
    "    \n",
    "for i in range(len(SL_wTd_weithed_base_CISM_NCA_RCP60_table)):\n",
    "    f.write(\"%1.2f \" %(SL_wTd_weithed_base_CISM_NCA_RCP60_table[i]))\n",
    "f.write(\"\\n\")\n",
    "    \n",
    "for i in range(len(SL_wTd_weithed_base_FETI_VUB_RCP60_table)):\n",
    "    f.write(\"%1.2f \" %(SL_wTd_weithed_base_FETI_VUB_RCP60_table[i]))\n",
    "f.write(\"\\n\")\n",
    "    \n",
    "for i in range(len(SL_wTd_weithed_base_GRIS_LSC_RCP60_table)):\n",
    "    f.write(\"%1.2f \" %(SL_wTd_weithed_base_GRIS_LSC_RCP60_table[i]))\n",
    "f.write(\"\\n\")\n",
    "    \n",
    "for i in range(len(SL_wTd_weithed_base_IMAU_VUB_RCP60_table)):\n",
    "    f.write(\"%1.2f \" %(SL_wTd_weithed_base_IMAU_VUB_RCP60_table[i]))\n",
    "f.write(\"\\n\")\n",
    "    \n",
    "for i in range(len(SL_wTd_weithed_base_ISSM_JPL_RCP60_table)):\n",
    "    f.write(\"%1.2f \" %(SL_wTd_weithed_base_ISSM_JPL_RCP60_table[i]))\n",
    "f.write(\"\\n\")\n",
    "    \n",
    "for i in range(len(SL_wTd_weithed_base_ISSM_UCI_RCP60_table)):\n",
    "    f.write(\"%1.2f \" %(SL_wTd_weithed_base_ISSM_UCI_RCP60_table[i]))\n",
    "f.write(\"\\n\")\n",
    "    \n",
    "for i in range(len(SL_wTd_weithed_base_MALI_LAN_RCP60_table)):\n",
    "    f.write(\"%1.2f \" %(SL_wTd_weithed_base_MALI_LAN_RCP60_table[i]))\n",
    "f.write(\"\\n\")\n",
    "    \n",
    "for i in range(len(SL_wTd_weithed_base_PISM_AWI_RCP60_table)):\n",
    "    f.write(\"%1.2f \" %(SL_wTd_weithed_base_PISM_AWI_RCP60_table[i]))\n",
    "f.write(\"\\n\")\n",
    "    \n",
    "for i in range(len(SL_wTd_weithed_base_PISM_DMI_RCP60_table)):\n",
    "    f.write(\"%1.2f \" %(SL_wTd_weithed_base_PISM_DMI_RCP60_table[i]))\n",
    "f.write(\"\\n\")\n",
    "    \n",
    "for i in range(len(SL_wTd_weithed_base_PISM_PIK_RCP60_table)):\n",
    "    f.write(\"%1.2f \" %(SL_wTd_weithed_base_PISM_PIK_RCP60_table[i]))\n",
    "f.write(\"\\n\")\n",
    "    \n",
    "for i in range(len(SL_wTd_weithed_base_PISM_VUW_RCP60_table)):\n",
    "    f.write(\"%1.2f \" %(SL_wTd_weithed_base_PISM_VUW_RCP60_table[i]))\n",
    "f.write(\"\\n\")\n",
    "    \n",
    "for i in range(len(SL_wTd_weithed_base_PS3D_PSU_RCP60_table)):\n",
    "    f.write(\"%1.2f \" %(SL_wTd_weithed_base_PS3D_PSU_RCP60_table[i]))\n",
    "f.write(\"\\n\")\n",
    "    \n",
    "for i in range(len(SL_wTd_weithed_base_SICO_UHO_RCP60_table)):\n",
    "    f.write(\"%1.2f \" %(SL_wTd_weithed_base_SICO_UHO_RCP60_table[i]))\n",
    "f.write(\"\\n\")\n",
    "    \n",
    "for i in range(len(SL_wTd_weithed_base_UA_UNN_RCP60_table)):\n",
    "    f.write(\"%1.2f \" %(SL_wTd_weithed_base_UA_UNN_RCP60_table[i]))\n",
    "f.write(\"\\n\")\n",
    "    \n",
    "f.close()\n"
   ]
  },
  {
   "cell_type": "code",
   "execution_count": null,
   "metadata": {},
   "outputs": [],
   "source": []
  },
  {
   "cell_type": "code",
   "execution_count": null,
   "metadata": {},
   "outputs": [],
   "source": []
  }
 ],
 "metadata": {
  "kernelspec": {
   "display_name": "Python 3",
   "language": "python",
   "name": "python3"
  },
  "language_info": {
   "codemirror_mode": {
    "name": "ipython",
    "version": 3
   },
   "file_extension": ".py",
   "mimetype": "text/x-python",
   "name": "python",
   "nbconvert_exporter": "python",
   "pygments_lexer": "ipython3",
   "version": "3.7.0"
  }
 },
 "nbformat": 4,
 "nbformat_minor": 2
}
