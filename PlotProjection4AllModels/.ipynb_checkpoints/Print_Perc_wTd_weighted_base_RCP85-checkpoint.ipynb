{
 "cells": [
  {
   "cell_type": "code",
   "execution_count": 1,
   "metadata": {},
   "outputs": [],
   "source": [
    "%matplotlib inline"
   ]
  },
  {
   "cell_type": "code",
   "execution_count": 2,
   "metadata": {},
   "outputs": [],
   "source": [
    "import numpy as np\n",
    "import netCDF4 as nc\n",
    "import matplotlib.pylab as plt\n",
    "import imp\n",
    "import csv\n",
    "import pandas as pd\n",
    "from io import StringIO"
   ]
  },
  {
   "cell_type": "code",
   "execution_count": 3,
   "metadata": {},
   "outputs": [
    {
     "name": "stdout",
     "output_type": "stream",
     "text": [
      "[0.010678433, 0.01621386, 0.024420245, 0.04097888, 0.068658285, 0.11079186, 0.17679504]\n"
     ]
    }
   ],
   "source": [
    "fname=\"..\\ComputeCdfsOfProjections\\Cdfs/SL_wTd_weighted_base_AISM_VUB_RCP85_cdf.nc\"\n",
    "ncf = nc.Dataset(fname, \"r\")\n",
    "\n",
    "Percentile = ncf.variables[\"Percentile\"][:]\n",
    "SL_wTd_weighted_base_R0 = ncf.variables[\"Antarctica\"][:]\n",
    "\n",
    "SL_wTd_weithed_base_AISM_VUB_RCP85_table = [SL_wTd_weighted_base_R0[-1,5],SL_wTd_weighted_base_R0[-1,50],SL_wTd_weighted_base_R0[-1,166],SL_wTd_weighted_base_R0[-1,500],SL_wTd_weighted_base_R0[-1,833],SL_wTd_weighted_base_R0[-1,950],SL_wTd_weighted_base_R0[-1,995]]\n",
    "\n",
    "print(SL_wTd_weithed_base_AISM_VUB_RCP85_table)\n"
   ]
  },
  {
   "cell_type": "code",
   "execution_count": 4,
   "metadata": {},
   "outputs": [
    {
     "name": "stdout",
     "output_type": "stream",
     "text": [
      "[0.046965748, 0.07569506, 0.109570965, 0.17073022, 0.26438117, 0.43983692, 0.7525791]\n"
     ]
    }
   ],
   "source": [
    "fname=\"..\\ComputeCdfsOfProjections\\Cdfs/SL_wTd_weighted_base_BISI_LBL_RCP85_cdf.nc\"\n",
    "ncf = nc.Dataset(fname, \"r\")\n",
    "\n",
    "Percentile = ncf.variables[\"Percentile\"][:]\n",
    "SL_wTd_weighted_base_R0 = ncf.variables[\"Antarctica\"][:]\n",
    "\n",
    "SL_wTd_weithed_base_BISI_LBL_RCP85_table = [SL_wTd_weighted_base_R0[-1,5],SL_wTd_weighted_base_R0[-1,50],SL_wTd_weighted_base_R0[-1,166],SL_wTd_weighted_base_R0[-1,500],SL_wTd_weighted_base_R0[-1,833],SL_wTd_weighted_base_R0[-1,950],SL_wTd_weighted_base_R0[-1,995]]\n",
    "\n",
    "print(SL_wTd_weithed_base_BISI_LBL_RCP85_table)\n"
   ]
  },
  {
   "cell_type": "code",
   "execution_count": 5,
   "metadata": {},
   "outputs": [
    {
     "name": "stdout",
     "output_type": "stream",
     "text": [
      "[0.0267104, 0.043590732, 0.06472939, 0.101519525, 0.15479898, 0.26712486, 0.42759293]\n"
     ]
    }
   ],
   "source": [
    "fname=\"..\\ComputeCdfsOfProjections\\Cdfs/SL_wTd_weighted_base_CISM_NCA_RCP85_cdf.nc\"\n",
    "ncf = nc.Dataset(fname, \"r\")\n",
    "\n",
    "Percentile = ncf.variables[\"Percentile\"][:]\n",
    "SL_wTd_weighted_base_R0 = ncf.variables[\"Antarctica\"][:]\n",
    "\n",
    "SL_wTd_weithed_base_CISM_NCA_RCP85_table = [SL_wTd_weighted_base_R0[-1,5],SL_wTd_weighted_base_R0[-1,50],SL_wTd_weighted_base_R0[-1,166],SL_wTd_weighted_base_R0[-1,500],SL_wTd_weighted_base_R0[-1,833],SL_wTd_weighted_base_R0[-1,950],SL_wTd_weighted_base_R0[-1,995]]\n",
    "\n",
    "print(SL_wTd_weithed_base_CISM_NCA_RCP85_table)\n"
   ]
  },
  {
   "cell_type": "code",
   "execution_count": 6,
   "metadata": {},
   "outputs": [
    {
     "name": "stdout",
     "output_type": "stream",
     "text": [
      "[0.039847825, 0.060577005, 0.09101155, 0.15069556, 0.23134461, 0.38218904, 0.6335045]\n"
     ]
    }
   ],
   "source": [
    "fname=\"..\\ComputeCdfsOfProjections\\Cdfs/SL_wTd_weighted_base_FETI_VUB_RCP85_cdf.nc\"\n",
    "ncf = nc.Dataset(fname, \"r\")\n",
    "\n",
    "Percentile = ncf.variables[\"Percentile\"][:]\n",
    "SL_wTd_weighted_base_R0 = ncf.variables[\"Antarctica\"][:]\n",
    "\n",
    "SL_wTd_weithed_base_FETI_VUB_RCP85_table = [SL_wTd_weighted_base_R0[-1,5],SL_wTd_weighted_base_R0[-1,50],SL_wTd_weighted_base_R0[-1,166],SL_wTd_weighted_base_R0[-1,500],SL_wTd_weighted_base_R0[-1,833],SL_wTd_weighted_base_R0[-1,950],SL_wTd_weighted_base_R0[-1,995]]\n",
    "\n",
    "print(SL_wTd_weithed_base_FETI_VUB_RCP85_table)\n"
   ]
  },
  {
   "cell_type": "code",
   "execution_count": 7,
   "metadata": {},
   "outputs": [
    {
     "name": "stdout",
     "output_type": "stream",
     "text": [
      "[0.018573761, 0.02710073, 0.04171507, 0.0723026, 0.1146058, 0.18486725, 0.28022414]\n"
     ]
    }
   ],
   "source": [
    "fname=\"..\\ComputeCdfsOfProjections\\Cdfs/SL_wTd_weighted_base_GRIS_LSC_RCP85_cdf.nc\"\n",
    "ncf = nc.Dataset(fname, \"r\")\n",
    "\n",
    "Percentile = ncf.variables[\"Percentile\"][:]\n",
    "SL_wTd_weighted_base_R0 = ncf.variables[\"Antarctica\"][:]\n",
    "\n",
    "SL_wTd_weithed_base_GRIS_LSC_RCP85_table = [SL_wTd_weighted_base_R0[-1,5],SL_wTd_weighted_base_R0[-1,50],SL_wTd_weighted_base_R0[-1,166],SL_wTd_weighted_base_R0[-1,500],SL_wTd_weighted_base_R0[-1,833],SL_wTd_weighted_base_R0[-1,950],SL_wTd_weighted_base_R0[-1,995]]\n",
    "\n",
    "print(SL_wTd_weithed_base_GRIS_LSC_RCP85_table)\n"
   ]
  },
  {
   "cell_type": "code",
   "execution_count": 8,
   "metadata": {},
   "outputs": [
    {
     "name": "stdout",
     "output_type": "stream",
     "text": [
      "[0.060329016, 0.10719434, 0.16547, 0.25876737, 0.4057941, 0.62287277, 1.167055]\n"
     ]
    }
   ],
   "source": [
    "fname=\"..\\ComputeCdfsOfProjections\\Cdfs/SL_wTd_weighted_base_IMAU_VUB_RCP85_cdf.nc\"\n",
    "ncf = nc.Dataset(fname, \"r\")\n",
    "\n",
    "Percentile = ncf.variables[\"Percentile\"][:]\n",
    "SL_wTd_weighted_base_R0 = ncf.variables[\"Antarctica\"][:]\n",
    "\n",
    "SL_wTd_weithed_base_IMAU_VUB_RCP85_table = [SL_wTd_weighted_base_R0[-1,5],SL_wTd_weighted_base_R0[-1,50],SL_wTd_weighted_base_R0[-1,166],SL_wTd_weighted_base_R0[-1,500],SL_wTd_weighted_base_R0[-1,833],SL_wTd_weighted_base_R0[-1,950],SL_wTd_weighted_base_R0[-1,995]]\n",
    "\n",
    "print(SL_wTd_weithed_base_IMAU_VUB_RCP85_table)\n"
   ]
  },
  {
   "cell_type": "code",
   "execution_count": 9,
   "metadata": {},
   "outputs": [
    {
     "name": "stdout",
     "output_type": "stream",
     "text": [
      "[0.034233347, 0.053797934, 0.07719575, 0.119048454, 0.17938423, 0.3086531, 0.5092705]\n"
     ]
    }
   ],
   "source": [
    "fname=\"..\\ComputeCdfsOfProjections\\Cdfs/SL_wTd_weighted_base_ISSM_JPL_RCP85_cdf.nc\"\n",
    "ncf = nc.Dataset(fname, \"r\")\n",
    "\n",
    "Percentile = ncf.variables[\"Percentile\"][:]\n",
    "SL_wTd_weighted_base_R0 = ncf.variables[\"Antarctica\"][:]\n",
    "\n",
    "SL_wTd_weithed_base_ISSM_JPL_RCP85_table = [SL_wTd_weighted_base_R0[-1,5],SL_wTd_weighted_base_R0[-1,50],SL_wTd_weighted_base_R0[-1,166],SL_wTd_weighted_base_R0[-1,500],SL_wTd_weighted_base_R0[-1,833],SL_wTd_weighted_base_R0[-1,950],SL_wTd_weighted_base_R0[-1,995]]\n",
    "\n",
    "print(SL_wTd_weithed_base_ISSM_JPL_RCP85_table)\n"
   ]
  },
  {
   "cell_type": "code",
   "execution_count": 10,
   "metadata": {},
   "outputs": [
    {
     "name": "stdout",
     "output_type": "stream",
     "text": [
      "[0.072215535, 0.122521214, 0.17586942, 0.26251957, 0.3951458, 0.62303764, 1.1329622]\n"
     ]
    }
   ],
   "source": [
    "fname=\"..\\ComputeCdfsOfProjections\\Cdfs/SL_wTd_weighted_base_ISSM_UCI_RCP85_cdf.nc\"\n",
    "ncf = nc.Dataset(fname, \"r\")\n",
    "\n",
    "Percentile = ncf.variables[\"Percentile\"][:]\n",
    "SL_wTd_weighted_base_R0 = ncf.variables[\"Antarctica\"][:]\n",
    "\n",
    "SL_wTd_weithed_base_ISSM_UCI_RCP85_table = [SL_wTd_weighted_base_R0[-1,5],SL_wTd_weighted_base_R0[-1,50],SL_wTd_weighted_base_R0[-1,166],SL_wTd_weighted_base_R0[-1,500],SL_wTd_weighted_base_R0[-1,833],SL_wTd_weighted_base_R0[-1,950],SL_wTd_weighted_base_R0[-1,995]]\n",
    "\n",
    "print(SL_wTd_weithed_base_ISSM_UCI_RCP85_table)\n"
   ]
  },
  {
   "cell_type": "code",
   "execution_count": 11,
   "metadata": {},
   "outputs": [
    {
     "name": "stdout",
     "output_type": "stream",
     "text": [
      "[0.043238666, 0.07242438, 0.101655535, 0.14965309, 0.22328447, 0.39093313, 0.67457974]\n"
     ]
    }
   ],
   "source": [
    "fname=\"..\\ComputeCdfsOfProjections\\Cdfs/SL_wTd_weighted_base_MALI_LAN_RCP85_cdf.nc\"\n",
    "ncf = nc.Dataset(fname, \"r\")\n",
    "\n",
    "Percentile = ncf.variables[\"Percentile\"][:]\n",
    "SL_wTd_weighted_base_R0 = ncf.variables[\"Antarctica\"][:]\n",
    "\n",
    "SL_wTd_weithed_base_MALI_LAN_RCP85_table = [SL_wTd_weighted_base_R0[-1,5],SL_wTd_weighted_base_R0[-1,50],SL_wTd_weighted_base_R0[-1,166],SL_wTd_weighted_base_R0[-1,500],SL_wTd_weighted_base_R0[-1,833],SL_wTd_weighted_base_R0[-1,950],SL_wTd_weighted_base_R0[-1,995]]\n",
    "\n",
    "print(SL_wTd_weithed_base_MALI_LAN_RCP85_table)\n"
   ]
  },
  {
   "cell_type": "code",
   "execution_count": 12,
   "metadata": {},
   "outputs": [
    {
     "name": "stdout",
     "output_type": "stream",
     "text": [
      "[0.026551621, 0.04704152, 0.072839044, 0.10958149, 0.17116351, 0.2934514, 0.46832466]\n"
     ]
    }
   ],
   "source": [
    "fname=\"..\\ComputeCdfsOfProjections\\Cdfs/SL_wTd_weighted_base_PISM_AWI_RCP85_cdf.nc\"\n",
    "ncf = nc.Dataset(fname, \"r\")\n",
    "\n",
    "Percentile = ncf.variables[\"Percentile\"][:]\n",
    "SL_wTd_weighted_base_R0 = ncf.variables[\"Antarctica\"][:]\n",
    "\n",
    "SL_wTd_weithed_base_PISM_AWI_RCP85_table = [SL_wTd_weighted_base_R0[-1,5],SL_wTd_weighted_base_R0[-1,50],SL_wTd_weighted_base_R0[-1,166],SL_wTd_weighted_base_R0[-1,500],SL_wTd_weighted_base_R0[-1,833],SL_wTd_weighted_base_R0[-1,950],SL_wTd_weighted_base_R0[-1,995]]\n",
    "\n",
    "print(SL_wTd_weithed_base_PISM_AWI_RCP85_table)\n"
   ]
  },
  {
   "cell_type": "code",
   "execution_count": 13,
   "metadata": {},
   "outputs": [
    {
     "name": "stdout",
     "output_type": "stream",
     "text": [
      "[0.099117376, 0.15176073, 0.21403092, 0.31281158, 0.45141858, 0.71941423, 1.3306708]\n"
     ]
    }
   ],
   "source": [
    "fname=\"..\\ComputeCdfsOfProjections\\Cdfs/SL_wTd_weighted_base_PISM_DMI_RCP85_cdf.nc\"\n",
    "ncf = nc.Dataset(fname, \"r\")\n",
    "\n",
    "Percentile = ncf.variables[\"Percentile\"][:]\n",
    "SL_wTd_weighted_base_R0 = ncf.variables[\"Antarctica\"][:]\n",
    "\n",
    "SL_wTd_weithed_base_PISM_DMI_RCP85_table = [SL_wTd_weighted_base_R0[-1,5],SL_wTd_weighted_base_R0[-1,50],SL_wTd_weighted_base_R0[-1,166],SL_wTd_weighted_base_R0[-1,500],SL_wTd_weighted_base_R0[-1,833],SL_wTd_weighted_base_R0[-1,950],SL_wTd_weighted_base_R0[-1,995]]\n",
    "\n",
    "print(SL_wTd_weithed_base_PISM_DMI_RCP85_table)\n"
   ]
  },
  {
   "cell_type": "code",
   "execution_count": 14,
   "metadata": {},
   "outputs": [
    {
     "name": "stdout",
     "output_type": "stream",
     "text": [
      "[0.039863415, 0.07022806, 0.10753862, 0.18477936, 0.30437127, 0.47426894, 0.70228696]\n"
     ]
    }
   ],
   "source": [
    "fname=\"..\\ComputeCdfsOfProjections\\Cdfs/SL_wTd_weighted_base_PISM_PIK_RCP85_cdf.nc\"\n",
    "ncf = nc.Dataset(fname, \"r\")\n",
    "\n",
    "Percentile = ncf.variables[\"Percentile\"][:]\n",
    "SL_wTd_weighted_base_R0 = ncf.variables[\"Antarctica\"][:]\n",
    "\n",
    "SL_wTd_weithed_base_PISM_PIK_RCP85_table = [SL_wTd_weighted_base_R0[-1,5],SL_wTd_weighted_base_R0[-1,50],SL_wTd_weighted_base_R0[-1,166],SL_wTd_weighted_base_R0[-1,500],SL_wTd_weighted_base_R0[-1,833],SL_wTd_weighted_base_R0[-1,950],SL_wTd_weighted_base_R0[-1,995]]\n",
    "\n",
    "print(SL_wTd_weithed_base_PISM_PIK_RCP85_table)\n"
   ]
  },
  {
   "cell_type": "code",
   "execution_count": 15,
   "metadata": {},
   "outputs": [
    {
     "name": "stdout",
     "output_type": "stream",
     "text": [
      "[0.10309599, 0.16617835, 0.23784526, 0.37036595, 0.5629777, 0.8242584, 1.5507982]\n"
     ]
    }
   ],
   "source": [
    "fname=\"..\\ComputeCdfsOfProjections\\Cdfs/SL_wTd_weighted_base_PISM_VUW_RCP85_cdf.nc\"\n",
    "ncf = nc.Dataset(fname, \"r\")\n",
    "\n",
    "Percentile = ncf.variables[\"Percentile\"][:]\n",
    "SL_wTd_weighted_base_R0 = ncf.variables[\"Antarctica\"][:]\n",
    "\n",
    "SL_wTd_weithed_base_PISM_VUW_RCP85_table = [SL_wTd_weighted_base_R0[-1,5],SL_wTd_weighted_base_R0[-1,50],SL_wTd_weighted_base_R0[-1,166],SL_wTd_weighted_base_R0[-1,500],SL_wTd_weighted_base_R0[-1,833],SL_wTd_weighted_base_R0[-1,950],SL_wTd_weighted_base_R0[-1,995]]\n",
    "\n",
    "print(SL_wTd_weithed_base_PISM_VUW_RCP85_table)\n"
   ]
  },
  {
   "cell_type": "code",
   "execution_count": 16,
   "metadata": {},
   "outputs": [
    {
     "name": "stdout",
     "output_type": "stream",
     "text": [
      "[0.057588004, 0.08362737, 0.12009191, 0.19755445, 0.3077953, 0.5005871, 0.8178196]\n"
     ]
    }
   ],
   "source": [
    "fname=\"..\\ComputeCdfsOfProjections\\Cdfs/SL_wTd_weighted_base_PS3D_PSU_RCP85_cdf.nc\"\n",
    "ncf = nc.Dataset(fname, \"r\")\n",
    "\n",
    "Percentile = ncf.variables[\"Percentile\"][:]\n",
    "SL_wTd_weighted_base_R0 = ncf.variables[\"Antarctica\"][:]\n",
    "\n",
    "SL_wTd_weithed_base_PS3D_PSU_RCP85_table = [SL_wTd_weighted_base_R0[-1,5],SL_wTd_weighted_base_R0[-1,50],SL_wTd_weighted_base_R0[-1,166],SL_wTd_weighted_base_R0[-1,500],SL_wTd_weighted_base_R0[-1,833],SL_wTd_weighted_base_R0[-1,950],SL_wTd_weighted_base_R0[-1,995]]\n",
    "\n",
    "print(SL_wTd_weithed_base_PS3D_PSU_RCP85_table)\n"
   ]
  },
  {
   "cell_type": "code",
   "execution_count": 17,
   "metadata": {},
   "outputs": [
    {
     "name": "stdout",
     "output_type": "stream",
     "text": [
      "[0.053281516, 0.07364217, 0.10421017, 0.16088395, 0.24186996, 0.41312715, 0.7191261]\n"
     ]
    }
   ],
   "source": [
    "fname=\"..\\ComputeCdfsOfProjections\\Cdfs/SL_wTd_weighted_base_SICO_UHO_RCP85_cdf.nc\"\n",
    "ncf = nc.Dataset(fname, \"r\")\n",
    "\n",
    "Percentile = ncf.variables[\"Percentile\"][:]\n",
    "SL_wTd_weighted_base_R0 = ncf.variables[\"Antarctica\"][:]\n",
    "\n",
    "SL_wTd_weithed_base_SICO_UHO_RCP85_table = [SL_wTd_weighted_base_R0[-1,5],SL_wTd_weighted_base_R0[-1,50],SL_wTd_weighted_base_R0[-1,166],SL_wTd_weighted_base_R0[-1,500],SL_wTd_weighted_base_R0[-1,833],SL_wTd_weighted_base_R0[-1,950],SL_wTd_weighted_base_R0[-1,995]]\n",
    "\n",
    "print(SL_wTd_weithed_base_SICO_UHO_RCP85_table)\n"
   ]
  },
  {
   "cell_type": "code",
   "execution_count": 18,
   "metadata": {},
   "outputs": [
    {
     "name": "stdout",
     "output_type": "stream",
     "text": [
      "[0.13446686, 0.2160186, 0.29525024, 0.44322574, 0.64055085, 0.91734755, 1.7965732]\n"
     ]
    }
   ],
   "source": [
    "fname=\"..\\ComputeCdfsOfProjections\\Cdfs/SL_wTd_weighted_base_UA_UNN_RCP85_cdf.nc\"\n",
    "ncf = nc.Dataset(fname, \"r\")\n",
    "\n",
    "Percentile = ncf.variables[\"Percentile\"][:]\n",
    "SL_wTd_weighted_base_R0 = ncf.variables[\"Antarctica\"][:]\n",
    "\n",
    "SL_wTd_weithed_base_UA_UNN_RCP85_table = [SL_wTd_weighted_base_R0[-1,5],SL_wTd_weighted_base_R0[-1,50],SL_wTd_weighted_base_R0[-1,166],SL_wTd_weighted_base_R0[-1,500],SL_wTd_weighted_base_R0[-1,833],SL_wTd_weighted_base_R0[-1,950],SL_wTd_weighted_base_R0[-1,995]]\n",
    "\n",
    "print(SL_wTd_weithed_base_UA_UNN_RCP85_table)\n"
   ]
  },
  {
   "cell_type": "code",
   "execution_count": 19,
   "metadata": {},
   "outputs": [],
   "source": [
    "f = open('Tables/SL_wTd_weighted_base_RCP85_table.dat', 'w')\n",
    "\n",
    "for i in range(len(SL_wTd_weithed_base_AISM_VUB_RCP85_table)):\n",
    "    f.write(\"%1.2f \" %(SL_wTd_weithed_base_AISM_VUB_RCP85_table[i]))\n",
    "f.write(\"\\n\")\n",
    "    \n",
    "for i in range(len(SL_wTd_weithed_base_BISI_LBL_RCP85_table)):\n",
    "    f.write(\"%1.2f \" %(SL_wTd_weithed_base_BISI_LBL_RCP85_table[i]))\n",
    "f.write(\"\\n\")\n",
    "    \n",
    "for i in range(len(SL_wTd_weithed_base_CISM_NCA_RCP85_table)):\n",
    "    f.write(\"%1.2f \" %(SL_wTd_weithed_base_CISM_NCA_RCP85_table[i]))\n",
    "f.write(\"\\n\")\n",
    "    \n",
    "for i in range(len(SL_wTd_weithed_base_FETI_VUB_RCP85_table)):\n",
    "    f.write(\"%1.2f \" %(SL_wTd_weithed_base_FETI_VUB_RCP85_table[i]))\n",
    "f.write(\"\\n\")\n",
    "    \n",
    "for i in range(len(SL_wTd_weithed_base_GRIS_LSC_RCP85_table)):\n",
    "    f.write(\"%1.2f \" %(SL_wTd_weithed_base_GRIS_LSC_RCP85_table[i]))\n",
    "f.write(\"\\n\")\n",
    "    \n",
    "for i in range(len(SL_wTd_weithed_base_IMAU_VUB_RCP85_table)):\n",
    "    f.write(\"%1.2f \" %(SL_wTd_weithed_base_IMAU_VUB_RCP85_table[i]))\n",
    "f.write(\"\\n\")\n",
    "    \n",
    "for i in range(len(SL_wTd_weithed_base_ISSM_JPL_RCP85_table)):\n",
    "    f.write(\"%1.2f \" %(SL_wTd_weithed_base_ISSM_JPL_RCP85_table[i]))\n",
    "f.write(\"\\n\")\n",
    "    \n",
    "for i in range(len(SL_wTd_weithed_base_ISSM_UCI_RCP85_table)):\n",
    "    f.write(\"%1.2f \" %(SL_wTd_weithed_base_ISSM_UCI_RCP85_table[i]))\n",
    "f.write(\"\\n\")\n",
    "    \n",
    "for i in range(len(SL_wTd_weithed_base_MALI_LAN_RCP85_table)):\n",
    "    f.write(\"%1.2f \" %(SL_wTd_weithed_base_MALI_LAN_RCP85_table[i]))\n",
    "f.write(\"\\n\")\n",
    "    \n",
    "for i in range(len(SL_wTd_weithed_base_PISM_AWI_RCP85_table)):\n",
    "    f.write(\"%1.2f \" %(SL_wTd_weithed_base_PISM_AWI_RCP85_table[i]))\n",
    "f.write(\"\\n\")\n",
    "    \n",
    "for i in range(len(SL_wTd_weithed_base_PISM_DMI_RCP85_table)):\n",
    "    f.write(\"%1.2f \" %(SL_wTd_weithed_base_PISM_DMI_RCP85_table[i]))\n",
    "f.write(\"\\n\")\n",
    "    \n",
    "for i in range(len(SL_wTd_weithed_base_PISM_PIK_RCP85_table)):\n",
    "    f.write(\"%1.2f \" %(SL_wTd_weithed_base_PISM_PIK_RCP85_table[i]))\n",
    "f.write(\"\\n\")\n",
    "    \n",
    "for i in range(len(SL_wTd_weithed_base_PISM_VUW_RCP85_table)):\n",
    "    f.write(\"%1.2f \" %(SL_wTd_weithed_base_PISM_VUW_RCP85_table[i]))\n",
    "f.write(\"\\n\")\n",
    "    \n",
    "for i in range(len(SL_wTd_weithed_base_PS3D_PSU_RCP85_table)):\n",
    "    f.write(\"%1.2f \" %(SL_wTd_weithed_base_PS3D_PSU_RCP85_table[i]))\n",
    "f.write(\"\\n\")\n",
    "    \n",
    "for i in range(len(SL_wTd_weithed_base_SICO_UHO_RCP85_table)):\n",
    "    f.write(\"%1.2f \" %(SL_wTd_weithed_base_SICO_UHO_RCP85_table[i]))\n",
    "f.write(\"\\n\")\n",
    "    \n",
    "for i in range(len(SL_wTd_weithed_base_UA_UNN_RCP85_table)):\n",
    "    f.write(\"%1.2f \" %(SL_wTd_weithed_base_UA_UNN_RCP85_table[i]))\n",
    "f.write(\"\\n\")\n",
    "    \n",
    "f.close()\n"
   ]
  },
  {
   "cell_type": "code",
   "execution_count": null,
   "metadata": {},
   "outputs": [],
   "source": []
  },
  {
   "cell_type": "code",
   "execution_count": null,
   "metadata": {},
   "outputs": [],
   "source": []
  }
 ],
 "metadata": {
  "kernelspec": {
   "display_name": "Python 3",
   "language": "python",
   "name": "python3"
  },
  "language_info": {
   "codemirror_mode": {
    "name": "ipython",
    "version": 3
   },
   "file_extension": ".py",
   "mimetype": "text/x-python",
   "name": "python",
   "nbconvert_exporter": "python",
   "pygments_lexer": "ipython3",
   "version": "3.7.0"
  }
 },
 "nbformat": 4,
 "nbformat_minor": 2
}
