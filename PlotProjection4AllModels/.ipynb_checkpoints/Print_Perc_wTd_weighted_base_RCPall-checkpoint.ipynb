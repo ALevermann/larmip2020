{
 "cells": [
  {
   "cell_type": "code",
   "execution_count": 1,
   "metadata": {},
   "outputs": [],
   "source": [
    "%matplotlib inline"
   ]
  },
  {
   "cell_type": "code",
   "execution_count": 2,
   "metadata": {},
   "outputs": [],
   "source": [
    "import numpy as np\n",
    "import netCDF4 as nc\n",
    "import matplotlib.pylab as plt\n",
    "import imp\n",
    "import csv\n",
    "import pandas as pd\n",
    "from io import StringIO"
   ]
  },
  {
   "cell_type": "code",
   "execution_count": 3,
   "metadata": {},
   "outputs": [
    {
     "name": "stdout",
     "output_type": "stream",
     "text": [
      "200\n"
     ]
    }
   ],
   "source": [
    "Time = np.arange(1900,2100)\n",
    "print(len(Time))\n"
   ]
  },
  {
   "cell_type": "code",
   "execution_count": 4,
   "metadata": {},
   "outputs": [
    {
     "name": "stdout",
     "output_type": "stream",
     "text": [
      "0 0.02\n",
      "1 0.03\n",
      "2 0.06\n",
      "3 0.13\n",
      "4 0.25\n",
      "5 0.38\n",
      "6 0.78\n",
      "[0.015250742, 0.032404862, 0.062153626, 0.1257312, 0.24653561, 0.381413, 0.77816904]\n"
     ]
    }
   ],
   "source": [
    "fname=\"..\\ComputeCdfsOfProjections\\Cdfs/SL_wTd_weighted_base_RCP26_cdf.nc\"\n",
    "ncf = nc.Dataset(fname, \"r\")\n",
    "\n",
    "Percentile = ncf.variables[\"Percentile\"][:]\n",
    "SL_wTd_nos_base_R0 = ncf.variables[\"Antarctica\"][:]\n",
    "\n",
    "SL_wTd_nos_base_RCP26_table = [SL_wTd_nos_base_R0[-1,5],SL_wTd_nos_base_R0[-1,50],SL_wTd_nos_base_R0[-1,166],SL_wTd_nos_base_R0[-1,500],SL_wTd_nos_base_R0[-1,833],SL_wTd_nos_base_R0[-1,950],SL_wTd_nos_base_R0[-1,995]]\n",
    "\n",
    "f = open('Tables/SL_wTd_weighted_base_RCP26_table.dat', 'w')\n",
    "for i in range(len(SL_wTd_nos_base_RCP26_table)):\n",
    "    print(\"%i %1.2f\" % (i,SL_wTd_nos_base_RCP26_table[i]))\n",
    "    f.write(\"%1.2f \" %(SL_wTd_nos_base_RCP26_table[i]))\n",
    "f.close()\n",
    "\n",
    "print(SL_wTd_nos_base_RCP26_table)\n"
   ]
  },
  {
   "cell_type": "code",
   "execution_count": 5,
   "metadata": {},
   "outputs": [
    {
     "name": "stdout",
     "output_type": "stream",
     "text": [
      "0 0.02\n",
      "1 0.04\n",
      "2 0.07\n",
      "3 0.14\n",
      "4 0.28\n",
      "5 0.45\n",
      "6 0.96\n",
      "[0.016350191, 0.035596106, 0.068039104, 0.14011754, 0.2834341, 0.44936273, 0.9571434]\n"
     ]
    }
   ],
   "source": [
    "fname=\"..\\ComputeCdfsOfProjections\\Cdfs/SL_wTd_weighted_base_RCP45_cdf.nc\"\n",
    "ncf = nc.Dataset(fname, \"r\")\n",
    "\n",
    "Percentile = ncf.variables[\"Percentile\"][:]\n",
    "SL_wTd_nos_base_R0 = ncf.variables[\"Antarctica\"][:]\n",
    "\n",
    "SL_wTd_nos_base_RCP45_table = [SL_wTd_nos_base_R0[-1,5],SL_wTd_nos_base_R0[-1,50],SL_wTd_nos_base_R0[-1,166],SL_wTd_nos_base_R0[-1,500],SL_wTd_nos_base_R0[-1,833],SL_wTd_nos_base_R0[-1,950],SL_wTd_nos_base_R0[-1,995]]\n",
    "f = open('Tables/SL_wTd_weighted_base_RCP45_table.dat', 'w')\n",
    "for i in range(len(SL_wTd_nos_base_RCP45_table)):\n",
    "    print(\"%i %1.2f\" % (i,SL_wTd_nos_base_RCP45_table[i]))\n",
    "    f.write(\"%1.2f \" %(SL_wTd_nos_base_RCP45_table[i]))\n",
    "f.close()\n",
    "\n",
    "print(SL_wTd_nos_base_RCP45_table)\n"
   ]
  },
  {
   "cell_type": "code",
   "execution_count": 6,
   "metadata": {},
   "outputs": [
    {
     "name": "stdout",
     "output_type": "stream",
     "text": [
      "0 0.02\n",
      "1 0.04\n",
      "2 0.07\n",
      "3 0.14\n",
      "4 0.28\n",
      "5 0.45\n",
      "6 0.97\n",
      "[0.015967714, 0.035481684, 0.06763188, 0.13884266, 0.28234622, 0.4493681, 0.97064203]\n"
     ]
    }
   ],
   "source": [
    "fname=\"..\\ComputeCdfsOfProjections\\Cdfs/SL_wTd_weighted_base_RCP60_cdf.nc\"\n",
    "ncf = nc.Dataset(fname, \"r\")\n",
    "\n",
    "Percentile = ncf.variables[\"Percentile\"][:]\n",
    "SL_wTd_nos_base_R0 = ncf.variables[\"Antarctica\"][:]\n",
    "\n",
    "SL_wTd_nos_base_RCP60_table = [SL_wTd_nos_base_R0[-1,5],SL_wTd_nos_base_R0[-1,50],SL_wTd_nos_base_R0[-1,166],SL_wTd_nos_base_R0[-1,500],SL_wTd_nos_base_R0[-1,833],SL_wTd_nos_base_R0[-1,950],SL_wTd_nos_base_R0[-1,995]]\n",
    "f = open('Tables/SL_wTd_weighted_base_RCP60_table.dat', 'w')\n",
    "for i in range(len(SL_wTd_nos_base_RCP60_table)):\n",
    "    print(\"%i %1.2f\" % (i,SL_wTd_nos_base_RCP60_table[i]))\n",
    "    f.write(\"%1.2f \" %(SL_wTd_nos_base_RCP60_table[i]))\n",
    "f.close()\n",
    "\n",
    "print(SL_wTd_nos_base_RCP60_table)\n"
   ]
  },
  {
   "cell_type": "code",
   "execution_count": 7,
   "metadata": {},
   "outputs": [
    {
     "name": "stdout",
     "output_type": "stream",
     "text": [
      "0 0.02\n",
      "1 0.04\n",
      "2 0.08\n",
      "3 0.17\n",
      "4 0.35\n",
      "5 0.55\n",
      "6 1.10\n",
      "[0.018228749, 0.041565962, 0.079547815, 0.16764462, 0.3491833, 0.55261713, 1.1005394]\n"
     ]
    }
   ],
   "source": [
    "fname=\"..\\ComputeCdfsOfProjections\\Cdfs/SL_wTd_weighted_base_RCP85_cdf.nc\"\n",
    "ncf = nc.Dataset(fname, \"r\")\n",
    "\n",
    "Percentile = ncf.variables[\"Percentile\"][:]\n",
    "SL_wTd_nos_base_R0 = ncf.variables[\"Antarctica\"][:]\n",
    "\n",
    "SL_wTd_nos_base_RCP85_table = [SL_wTd_nos_base_R0[-1,5],SL_wTd_nos_base_R0[-1,50],SL_wTd_nos_base_R0[-1,166],SL_wTd_nos_base_R0[-1,500],SL_wTd_nos_base_R0[-1,833],SL_wTd_nos_base_R0[-1,950],SL_wTd_nos_base_R0[-1,995]]\n",
    "f = open('Tables/SL_wTd_weighted_base_RCP85_table.dat', 'w')\n",
    "for i in range(len(SL_wTd_nos_base_RCP85_table)):\n",
    "    print(\"%i %1.2f\" % (i,SL_wTd_nos_base_RCP85_table[i]))\n",
    "    f.write(\"%1.2f \" %(SL_wTd_nos_base_RCP85_table[i]))\n",
    "f.close()\n",
    "\n",
    "print(SL_wTd_nos_base_RCP85_table)\n"
   ]
  },
  {
   "cell_type": "code",
   "execution_count": 8,
   "metadata": {},
   "outputs": [],
   "source": [
    "f = open('Tables/SL_wTd_weighted_base_table.dat', 'w')\n",
    "\n",
    "for i in range(len(SL_wTd_nos_base_RCP26_table)):\n",
    "    f.write(\"%1.2f \" %(SL_wTd_nos_base_RCP26_table[i]))\n",
    "f.write(\"\\n\")\n",
    "\n",
    "for i in range(len(SL_wTd_nos_base_RCP45_table)):\n",
    "    f.write(\"%1.2f \" %(SL_wTd_nos_base_RCP45_table[i]))\n",
    "f.write(\"\\n\")\n",
    "\n",
    "for i in range(len(SL_wTd_nos_base_RCP60_table)):\n",
    "    f.write(\"%1.2f \" %(SL_wTd_nos_base_RCP60_table[i]))\n",
    "f.write(\"\\n\")\n",
    "\n",
    "for i in range(len(SL_wTd_nos_base_RCP85_table)):\n",
    "    f.write(\"%1.2f \" %(SL_wTd_nos_base_RCP85_table[i]))\n",
    "f.write(\"\\n\")\n",
    "    \n",
    "f.close()\n"
   ]
  },
  {
   "cell_type": "code",
   "execution_count": null,
   "metadata": {},
   "outputs": [],
   "source": []
  },
  {
   "cell_type": "code",
   "execution_count": null,
   "metadata": {},
   "outputs": [],
   "source": []
  }
 ],
 "metadata": {
  "kernelspec": {
   "display_name": "Python 3",
   "language": "python",
   "name": "python3"
  },
  "language_info": {
   "codemirror_mode": {
    "name": "ipython",
    "version": 3
   },
   "file_extension": ".py",
   "mimetype": "text/x-python",
   "name": "python",
   "nbconvert_exporter": "python",
   "pygments_lexer": "ipython3",
   "version": "3.7.0"
  }
 },
 "nbformat": 4,
 "nbformat_minor": 2
}
