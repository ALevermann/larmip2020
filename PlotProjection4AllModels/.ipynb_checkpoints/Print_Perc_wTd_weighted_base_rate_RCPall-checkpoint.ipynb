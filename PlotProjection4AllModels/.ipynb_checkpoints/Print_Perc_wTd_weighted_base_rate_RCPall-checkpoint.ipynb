{
 "cells": [
  {
   "cell_type": "code",
   "execution_count": 1,
   "metadata": {},
   "outputs": [],
   "source": [
    "%matplotlib inline"
   ]
  },
  {
   "cell_type": "code",
   "execution_count": 10,
   "metadata": {},
   "outputs": [],
   "source": [
    "import numpy as np\n",
    "import netCDF4 as nc\n",
    "import matplotlib.pylab as plt\n",
    "import imp\n",
    "import csv\n",
    "import pandas as pd\n",
    "from io import StringIO"
   ]
  },
  {
   "cell_type": "code",
   "execution_count": 11,
   "metadata": {},
   "outputs": [
    {
     "name": "stdout",
     "output_type": "stream",
     "text": [
      "200\n"
     ]
    }
   ],
   "source": [
    "Time = np.arange(1900,2100)\n",
    "print(len(Time))\n"
   ]
  },
  {
   "cell_type": "code",
   "execution_count": 12,
   "metadata": {},
   "outputs": [
    {
     "name": "stdout",
     "output_type": "stream",
     "text": [
      "0 0.26\n",
      "1 0.58\n",
      "2 1.08\n",
      "3 2.09\n",
      "4 3.81\n",
      "5 5.79\n",
      "6 9.90\n",
      "[0.25753862, 0.5771518, 1.0838099, 2.0933747, 3.810525, 5.791873, 9.896874]\n"
     ]
    }
   ],
   "source": [
    "fname=\"..\\ComputeCdfsOfProjections\\Cdfs/SL_wTd_weighted_base_rate_RCP26_cdf.nc\"\n",
    "ncf = nc.Dataset(fname, \"r\")\n",
    "\n",
    "Percentile = ncf.variables[\"Percentile\"][:]\n",
    "SL_wTd_nos_base_R0 = ncf.variables[\"Antarctica\"][:]*1000\n",
    "\n",
    "SL_wTd_nos_base_RCP26_table = [SL_wTd_nos_base_R0[-1,5],SL_wTd_nos_base_R0[-1,50],SL_wTd_nos_base_R0[-1,166],SL_wTd_nos_base_R0[-1,500],SL_wTd_nos_base_R0[-1,833],SL_wTd_nos_base_R0[-1,950],SL_wTd_nos_base_R0[-1,995]]\n",
    "\n",
    "f = open('Tables/SL_wTd_weighted_base_rate_RCP26_table.dat', 'w')\n",
    "for i in range(len(SL_wTd_nos_base_RCP26_table)):\n",
    "    print(\"%i %1.2f\" % (i,SL_wTd_nos_base_RCP26_table[i]))\n",
    "    f.write(\"%1.2f \" %(SL_wTd_nos_base_RCP26_table[i]))\n",
    "f.close()\n",
    "\n",
    "print(SL_wTd_nos_base_RCP26_table)\n"
   ]
  },
  {
   "cell_type": "code",
   "execution_count": 13,
   "metadata": {},
   "outputs": [
    {
     "name": "stdout",
     "output_type": "stream",
     "text": [
      "0 0.33\n",
      "1 0.74\n",
      "2 1.38\n",
      "3 2.71\n",
      "4 5.17\n",
      "5 7.98\n",
      "6 15.34\n",
      "[0.33090824, 0.73907524, 1.3776273, 2.714932, 5.1651, 7.9761147, 15.34152]\n"
     ]
    }
   ],
   "source": [
    "fname=\"..\\ComputeCdfsOfProjections\\Cdfs/SL_wTd_weighted_base_rate_RCP45_cdf.nc\"\n",
    "ncf = nc.Dataset(fname, \"r\")\n",
    "\n",
    "Percentile = ncf.variables[\"Percentile\"][:]\n",
    "SL_wTd_nos_base_R0 = ncf.variables[\"Antarctica\"][:]*1000\n",
    "\n",
    "SL_wTd_nos_base_RCP45_table = [SL_wTd_nos_base_R0[-1,5],SL_wTd_nos_base_R0[-1,50],SL_wTd_nos_base_R0[-1,166],SL_wTd_nos_base_R0[-1,500],SL_wTd_nos_base_R0[-1,833],SL_wTd_nos_base_R0[-1,950],SL_wTd_nos_base_R0[-1,995]]\n",
    "f = open('Tables/SL_wTd_weighted_base_rate_RCP45_table.dat', 'w')\n",
    "for i in range(len(SL_wTd_nos_base_RCP45_table)):\n",
    "    print(\"%i %1.2f\" % (i,SL_wTd_nos_base_RCP45_table[i]))\n",
    "    f.write(\"%1.2f \" %(SL_wTd_nos_base_RCP45_table[i]))\n",
    "f.close()\n",
    "\n",
    "print(SL_wTd_nos_base_RCP45_table)\n"
   ]
  },
  {
   "cell_type": "code",
   "execution_count": 14,
   "metadata": {},
   "outputs": [
    {
     "name": "stdout",
     "output_type": "stream",
     "text": [
      "0 0.33\n",
      "1 0.77\n",
      "2 1.44\n",
      "3 2.85\n",
      "4 5.59\n",
      "5 8.70\n",
      "6 17.99\n",
      "[0.3322456, 0.7710457, 1.4448464, 2.8539374, 5.5929127, 8.698463, 17.991184]\n"
     ]
    }
   ],
   "source": [
    "fname=\"..\\ComputeCdfsOfProjections\\Cdfs/SL_wTd_weighted_base_rate_RCP60_cdf.nc\"\n",
    "ncf = nc.Dataset(fname, \"r\")\n",
    "\n",
    "Percentile = ncf.variables[\"Percentile\"][:]\n",
    "SL_wTd_nos_base_R0 = ncf.variables[\"Antarctica\"][:]*1000\n",
    "\n",
    "SL_wTd_nos_base_RCP60_table = [SL_wTd_nos_base_R0[-1,5],SL_wTd_nos_base_R0[-1,50],SL_wTd_nos_base_R0[-1,166],SL_wTd_nos_base_R0[-1,500],SL_wTd_nos_base_R0[-1,833],SL_wTd_nos_base_R0[-1,950],SL_wTd_nos_base_R0[-1,995]]\n",
    "f = open('Tables/SL_wTd_weighted_base_rate_RCP60_table.dat', 'w')\n",
    "for i in range(len(SL_wTd_nos_base_RCP60_table)):\n",
    "    print(\"%i %1.2f\" % (i,SL_wTd_nos_base_RCP60_table[i]))\n",
    "    f.write(\"%1.2f \" %(SL_wTd_nos_base_RCP60_table[i]))\n",
    "f.close()\n",
    "\n",
    "print(SL_wTd_nos_base_RCP60_table)\n"
   ]
  },
  {
   "cell_type": "code",
   "execution_count": 15,
   "metadata": {},
   "outputs": [
    {
     "name": "stdout",
     "output_type": "stream",
     "text": [
      "0 0.45\n",
      "1 1.04\n",
      "2 1.94\n",
      "3 3.97\n",
      "4 8.05\n",
      "5 12.57\n",
      "6 26.04\n",
      "[0.44758433, 1.0358319, 1.9407719, 3.9728582, 8.053094, 12.574315, 26.04139]\n"
     ]
    }
   ],
   "source": [
    "fname=\"..\\ComputeCdfsOfProjections\\Cdfs/SL_wTd_weighted_base_rate_RCP85_cdf.nc\"\n",
    "ncf = nc.Dataset(fname, \"r\")\n",
    "\n",
    "Percentile = ncf.variables[\"Percentile\"][:]\n",
    "SL_wTd_nos_base_R0 = ncf.variables[\"Antarctica\"][:]*1000\n",
    "\n",
    "SL_wTd_nos_base_RCP85_table = [SL_wTd_nos_base_R0[-1,5],SL_wTd_nos_base_R0[-1,50],SL_wTd_nos_base_R0[-1,166],SL_wTd_nos_base_R0[-1,500],SL_wTd_nos_base_R0[-1,833],SL_wTd_nos_base_R0[-1,950],SL_wTd_nos_base_R0[-1,995]]\n",
    "f = open('Tables/SL_wTd_weighted_base_rate_RCP85_table.dat', 'w')\n",
    "for i in range(len(SL_wTd_nos_base_RCP85_table)):\n",
    "    print(\"%i %1.2f\" % (i,SL_wTd_nos_base_RCP85_table[i]))\n",
    "    f.write(\"%1.2f \" %(SL_wTd_nos_base_RCP85_table[i]))\n",
    "f.close()\n",
    "\n",
    "print(SL_wTd_nos_base_RCP85_table)\n"
   ]
  },
  {
   "cell_type": "code",
   "execution_count": 16,
   "metadata": {},
   "outputs": [],
   "source": [
    "f = open('Tables/SL_wTd_weighted_base_rate_table.dat', 'w')\n",
    "\n",
    "for i in range(len(SL_wTd_nos_base_RCP26_table)):\n",
    "    f.write(\"%1.2f \" %(SL_wTd_nos_base_RCP26_table[i]))\n",
    "f.write(\"\\n\")\n",
    "\n",
    "for i in range(len(SL_wTd_nos_base_RCP45_table)):\n",
    "    f.write(\"%1.2f \" %(SL_wTd_nos_base_RCP45_table[i]))\n",
    "f.write(\"\\n\")\n",
    "\n",
    "for i in range(len(SL_wTd_nos_base_RCP60_table)):\n",
    "    f.write(\"%1.2f \" %(SL_wTd_nos_base_RCP60_table[i]))\n",
    "f.write(\"\\n\")\n",
    "\n",
    "for i in range(len(SL_wTd_nos_base_RCP85_table)):\n",
    "    f.write(\"%1.2f \" %(SL_wTd_nos_base_RCP85_table[i]))\n",
    "f.write(\"\\n\")\n",
    "    \n",
    "f.close()\n"
   ]
  },
  {
   "cell_type": "code",
   "execution_count": null,
   "metadata": {},
   "outputs": [],
   "source": []
  },
  {
   "cell_type": "code",
   "execution_count": null,
   "metadata": {},
   "outputs": [],
   "source": []
  }
 ],
 "metadata": {
  "kernelspec": {
   "display_name": "Python 3",
   "language": "python",
   "name": "python3"
  },
  "language_info": {
   "codemirror_mode": {
    "name": "ipython",
    "version": 3
   },
   "file_extension": ".py",
   "mimetype": "text/x-python",
   "name": "python",
   "nbconvert_exporter": "python",
   "pygments_lexer": "ipython3",
   "version": "3.7.0"
  }
 },
 "nbformat": 4,
 "nbformat_minor": 2
}
