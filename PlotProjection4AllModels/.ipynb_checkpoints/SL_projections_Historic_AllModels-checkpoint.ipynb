{
 "cells": [
  {
   "cell_type": "code",
   "execution_count": 60,
   "metadata": {},
   "outputs": [],
   "source": [
    "%matplotlib inline"
   ]
  },
  {
   "cell_type": "code",
   "execution_count": 61,
   "metadata": {},
   "outputs": [],
   "source": [
    "import numpy as np\n",
    "import netCDF4 as nc\n",
    "import matplotlib.pylab as plt\n",
    "import imp\n",
    "import csv\n",
    "import pandas as pd\n",
    "from io import StringIO"
   ]
  },
  {
   "cell_type": "code",
   "execution_count": 67,
   "metadata": {},
   "outputs": [],
   "source": [
    "Refyear = 1992\n",
    "Refyearind = 92\n",
    "EnsembleNumber = 20000\n",
    "YearNumber = 200"
   ]
  },
  {
   "cell_type": "code",
   "execution_count": 72,
   "metadata": {},
   "outputs": [
    {
     "name": "stdout",
     "output_type": "stream",
     "text": [
      "1992\n"
     ]
    },
    {
     "ename": "KeyboardInterrupt",
     "evalue": "",
     "output_type": "error",
     "traceback": [
      "\u001b[1;31m---------------------------------------------------------------------------\u001b[0m",
      "\u001b[1;31mKeyboardInterrupt\u001b[0m                         Traceback (most recent call last)",
      "\u001b[1;32m<ipython-input-72-d7a7c6018567>\u001b[0m in \u001b[0;36m<module>\u001b[1;34m()\u001b[0m\n\u001b[0;32m     12\u001b[0m         \u001b[0mSL_CISM_NCA_R1_RCP26\u001b[0m \u001b[1;33m=\u001b[0m \u001b[0mncf\u001b[0m\u001b[1;33m.\u001b[0m\u001b[0mvariables\u001b[0m\u001b[1;33m[\u001b[0m\u001b[1;34m\"EAIS\"\u001b[0m\u001b[1;33m]\u001b[0m\u001b[1;33m[\u001b[0m\u001b[0mi\u001b[0m\u001b[1;33m,\u001b[0m\u001b[0myr\u001b[0m\u001b[1;33m]\u001b[0m\u001b[1;33m-\u001b[0m\u001b[0mncf\u001b[0m\u001b[1;33m.\u001b[0m\u001b[0mvariables\u001b[0m\u001b[1;33m[\u001b[0m\u001b[1;34m\"EAIS\"\u001b[0m\u001b[1;33m]\u001b[0m\u001b[1;33m[\u001b[0m\u001b[1;33m:\u001b[0m\u001b[1;33m,\u001b[0m\u001b[0mRefyearind\u001b[0m\u001b[1;33m]\u001b[0m\u001b[1;33m\u001b[0m\u001b[0m\n\u001b[0;32m     13\u001b[0m         \u001b[0mSL_CISM_NCA_R2_RCP26\u001b[0m \u001b[1;33m=\u001b[0m \u001b[0mncf\u001b[0m\u001b[1;33m.\u001b[0m\u001b[0mvariables\u001b[0m\u001b[1;33m[\u001b[0m\u001b[1;34m\"Ross\"\u001b[0m\u001b[1;33m]\u001b[0m\u001b[1;33m[\u001b[0m\u001b[0mi\u001b[0m\u001b[1;33m,\u001b[0m\u001b[0myr\u001b[0m\u001b[1;33m]\u001b[0m\u001b[1;33m-\u001b[0m\u001b[0mncf\u001b[0m\u001b[1;33m.\u001b[0m\u001b[0mvariables\u001b[0m\u001b[1;33m[\u001b[0m\u001b[1;34m\"Ross\"\u001b[0m\u001b[1;33m]\u001b[0m\u001b[1;33m[\u001b[0m\u001b[1;33m:\u001b[0m\u001b[1;33m,\u001b[0m\u001b[0mRefyearind\u001b[0m\u001b[1;33m]\u001b[0m\u001b[1;33m\u001b[0m\u001b[0m\n\u001b[1;32m---> 14\u001b[1;33m         \u001b[0mSL_CISM_NCA_R3_RCP26\u001b[0m \u001b[1;33m=\u001b[0m \u001b[0mncf\u001b[0m\u001b[1;33m.\u001b[0m\u001b[0mvariables\u001b[0m\u001b[1;33m[\u001b[0m\u001b[1;34m\"Amundsen\"\u001b[0m\u001b[1;33m]\u001b[0m\u001b[1;33m[\u001b[0m\u001b[0mi\u001b[0m\u001b[1;33m,\u001b[0m\u001b[0myr\u001b[0m\u001b[1;33m]\u001b[0m\u001b[1;33m-\u001b[0m\u001b[0mncf\u001b[0m\u001b[1;33m.\u001b[0m\u001b[0mvariables\u001b[0m\u001b[1;33m[\u001b[0m\u001b[1;34m\"Amundsen\"\u001b[0m\u001b[1;33m]\u001b[0m\u001b[1;33m[\u001b[0m\u001b[1;33m:\u001b[0m\u001b[1;33m,\u001b[0m\u001b[0mRefyearind\u001b[0m\u001b[1;33m]\u001b[0m\u001b[1;33m\u001b[0m\u001b[0m\n\u001b[0m\u001b[0;32m     15\u001b[0m         \u001b[0mSL_CISM_NCA_R4_RCP26\u001b[0m \u001b[1;33m=\u001b[0m \u001b[0mncf\u001b[0m\u001b[1;33m.\u001b[0m\u001b[0mvariables\u001b[0m\u001b[1;33m[\u001b[0m\u001b[1;34m\"Weddell\"\u001b[0m\u001b[1;33m]\u001b[0m\u001b[1;33m[\u001b[0m\u001b[0mi\u001b[0m\u001b[1;33m,\u001b[0m\u001b[0myr\u001b[0m\u001b[1;33m]\u001b[0m\u001b[1;33m-\u001b[0m\u001b[0mncf\u001b[0m\u001b[1;33m.\u001b[0m\u001b[0mvariables\u001b[0m\u001b[1;33m[\u001b[0m\u001b[1;34m\"Weddell\"\u001b[0m\u001b[1;33m]\u001b[0m\u001b[1;33m[\u001b[0m\u001b[1;33m:\u001b[0m\u001b[1;33m,\u001b[0m\u001b[0mRefyearind\u001b[0m\u001b[1;33m]\u001b[0m\u001b[1;33m\u001b[0m\u001b[0m\n\u001b[0;32m     16\u001b[0m         \u001b[0mSL_CISM_NCA_R5_RCP26\u001b[0m \u001b[1;33m=\u001b[0m \u001b[0mncf\u001b[0m\u001b[1;33m.\u001b[0m\u001b[0mvariables\u001b[0m\u001b[1;33m[\u001b[0m\u001b[1;34m\"Peninsula\"\u001b[0m\u001b[1;33m]\u001b[0m\u001b[1;33m[\u001b[0m\u001b[0mi\u001b[0m\u001b[1;33m,\u001b[0m\u001b[0myr\u001b[0m\u001b[1;33m]\u001b[0m\u001b[1;33m-\u001b[0m\u001b[0mncf\u001b[0m\u001b[1;33m.\u001b[0m\u001b[0mvariables\u001b[0m\u001b[1;33m[\u001b[0m\u001b[1;34m\"Peninsula\"\u001b[0m\u001b[1;33m]\u001b[0m\u001b[1;33m[\u001b[0m\u001b[1;33m:\u001b[0m\u001b[1;33m,\u001b[0m\u001b[0mRefyearind\u001b[0m\u001b[1;33m]\u001b[0m\u001b[1;33m\u001b[0m\u001b[0m\n",
      "\u001b[1;32mnetCDF4\\_netCDF4.pyx\u001b[0m in \u001b[0;36mnetCDF4._netCDF4.Variable.__getitem__\u001b[1;34m()\u001b[0m\n",
      "\u001b[1;32mnetCDF4\\_netCDF4.pyx\u001b[0m in \u001b[0;36mnetCDF4._netCDF4.Variable._toma\u001b[1;34m()\u001b[0m\n",
      "\u001b[1;32m~\\AppData\\Local\\Continuum\\anaconda3\\lib\\site-packages\\numpy\\core\\_methods.py\u001b[0m in \u001b[0;36m_any\u001b[1;34m(a, axis, dtype, out, keepdims)\u001b[0m\n\u001b[0;32m     35\u001b[0m     \u001b[1;32mreturn\u001b[0m \u001b[0mumr_prod\u001b[0m\u001b[1;33m(\u001b[0m\u001b[0ma\u001b[0m\u001b[1;33m,\u001b[0m \u001b[0maxis\u001b[0m\u001b[1;33m,\u001b[0m \u001b[0mdtype\u001b[0m\u001b[1;33m,\u001b[0m \u001b[0mout\u001b[0m\u001b[1;33m,\u001b[0m \u001b[0mkeepdims\u001b[0m\u001b[1;33m)\u001b[0m\u001b[1;33m\u001b[0m\u001b[0m\n\u001b[0;32m     36\u001b[0m \u001b[1;33m\u001b[0m\u001b[0m\n\u001b[1;32m---> 37\u001b[1;33m \u001b[1;32mdef\u001b[0m \u001b[0m_any\u001b[0m\u001b[1;33m(\u001b[0m\u001b[0ma\u001b[0m\u001b[1;33m,\u001b[0m \u001b[0maxis\u001b[0m\u001b[1;33m=\u001b[0m\u001b[1;32mNone\u001b[0m\u001b[1;33m,\u001b[0m \u001b[0mdtype\u001b[0m\u001b[1;33m=\u001b[0m\u001b[1;32mNone\u001b[0m\u001b[1;33m,\u001b[0m \u001b[0mout\u001b[0m\u001b[1;33m=\u001b[0m\u001b[1;32mNone\u001b[0m\u001b[1;33m,\u001b[0m \u001b[0mkeepdims\u001b[0m\u001b[1;33m=\u001b[0m\u001b[1;32mFalse\u001b[0m\u001b[1;33m)\u001b[0m\u001b[1;33m:\u001b[0m\u001b[1;33m\u001b[0m\u001b[0m\n\u001b[0m\u001b[0;32m     38\u001b[0m     \u001b[1;32mreturn\u001b[0m \u001b[0mumr_any\u001b[0m\u001b[1;33m(\u001b[0m\u001b[0ma\u001b[0m\u001b[1;33m,\u001b[0m \u001b[0maxis\u001b[0m\u001b[1;33m,\u001b[0m \u001b[0mdtype\u001b[0m\u001b[1;33m,\u001b[0m \u001b[0mout\u001b[0m\u001b[1;33m,\u001b[0m \u001b[0mkeepdims\u001b[0m\u001b[1;33m)\u001b[0m\u001b[1;33m\u001b[0m\u001b[0m\n\u001b[0;32m     39\u001b[0m \u001b[1;33m\u001b[0m\u001b[0m\n",
      "\u001b[1;31mKeyboardInterrupt\u001b[0m: "
     ]
    }
   ],
   "source": [
    "# Read data\n",
    "# CISM_NCA\n",
    "\n",
    "fname=\"../\\ComputeProjection4OneIceModel\\EnsembleSingleModelProjections/SL_CISM_NCA_RCP26.nc\"\n",
    "ncf = nc.Dataset(fname, \"r\")\n",
    "\n",
    "Time = ncf.variables[\"Time\"][:]\n",
    "print(Time[Refyearind])\n",
    "for yr in range(YearNumber):\n",
    "    for i in range(0,EnsembleNumber):\n",
    "        SL_CISM_NCA_R0_RCP26 = ncf.variables[\"Antarctica\"][i,yr]-ncf.variables[\"Antarctica\"][i,Refyearind]\n",
    "        SL_CISM_NCA_R1_RCP26 = ncf.variables[\"EAIS\"][i,yr]-ncf.variables[\"EAIS\"][i,Refyearind]\n",
    "        SL_CISM_NCA_R2_RCP26 = ncf.variables[\"Ross\"][i,yr]-ncf.variables[\"Ross\"][i,Refyearind]\n",
    "        SL_CISM_NCA_R3_RCP26 = ncf.variables[\"Amundsen\"][i,yr]-ncf.variables[\"Amundsen\"][i,Refyearind]\n",
    "        SL_CISM_NCA_R4_RCP26 = ncf.variables[\"Weddell\"][i,yr]-ncf.variables[\"Weddell\"][i,Refyearind]\n",
    "        SL_CISM_NCA_R5_RCP26 = ncf.variables[\"Peninsula\"][i,yr]-ncf.variables[\"Peninsula\"][:,Refyearind]\n",
    "    print(yr, SL_CISM_NCA_R0_RCP26[92,199])\n",
    "SL_CISM_NCA_SU_RCP26 = SL_CISM_NCA_R1_RCP26+SL_CISM_NCA_R2_RCP26+SL_CISM_NCA_R3_RCP26+SL_CISM_NCA_R4_RCP26+SL_CISM_NCA_R5_RCP26\n",
    "\n",
    "SL_CISM_NCA_SU_RCP26_50pc = np.percentile(SL_CISM_NCA_SU_RCP26, 50, axis=0, out=None, overwrite_input=False, interpolation='linear', keepdims=False)\n",
    "SL_CISM_NCA_SU_RCP26_83pc = np.percentile(SL_CISM_NCA_SU_RCP26, 83.33, axis=0, out=None, overwrite_input=False, interpolation='linear', keepdims=False)\n",
    "SL_CISM_NCA_SU_RCP26_17pc = np.percentile(SL_CISM_NCA_SU_RCP26, 16.66, axis=0, out=None, overwrite_input=False, interpolation='linear', keepdims=False)\n",
    "SL_CISM_NCA_SU_RCP26_95pc = np.percentile(SL_CISM_NCA_SU_RCP26, 5, axis=0, out=None, overwrite_input=False, interpolation='linear', keepdims=False)\n",
    "SL_CISM_NCA_SU_RCP26_05pc = np.percentile(SL_CISM_NCA_SU_RCP26, 95, axis=0, out=None, overwrite_input=False, interpolation='linear', keepdims=False)\n",
    "SL_CISM_NCA_SU_RCP26_99pc = np.percentile(SL_CISM_NCA_SU_RCP26, 99, axis=0, out=None, overwrite_input=False, interpolation='linear', keepdims=False)\n",
    "SL_CISM_NCA_SU_RCP26_01pc = np.percentile(SL_CISM_NCA_SU_RCP26, 1, axis=0, out=None, overwrite_input=False, interpolation='linear', keepdims=False)\n",
    "\n",
    "print(max(SL_CISM_NCA_SU_RCP26_99pc))"
   ]
  },
  {
   "cell_type": "code",
   "execution_count": 69,
   "metadata": {},
   "outputs": [
    {
     "ename": "IndexError",
     "evalue": "too many indices for array",
     "output_type": "error",
     "traceback": [
      "\u001b[1;31m---------------------------------------------------------------------------\u001b[0m",
      "\u001b[1;31mIndexError\u001b[0m                                Traceback (most recent call last)",
      "\u001b[1;32m<ipython-input-69-f28ccb9352b2>\u001b[0m in \u001b[0;36m<module>\u001b[1;34m()\u001b[0m\n\u001b[1;32m----> 1\u001b[1;33m \u001b[0mplt\u001b[0m\u001b[1;33m.\u001b[0m\u001b[0mplot\u001b[0m\u001b[1;33m(\u001b[0m\u001b[0mSL_CISM_NCA_R0_RCP26\u001b[0m\u001b[1;33m[\u001b[0m\u001b[1;33m:\u001b[0m\u001b[1;33m,\u001b[0m\u001b[1;36m92\u001b[0m\u001b[1;33m]\u001b[0m\u001b[1;33m)\u001b[0m\u001b[1;33m\u001b[0m\u001b[0m\n\u001b[0m",
      "\u001b[1;31mIndexError\u001b[0m: too many indices for array"
     ]
    }
   ],
   "source": [
    "plt.plot(SL_CISM_NCA_R0_RCP26[:,92])"
   ]
  },
  {
   "cell_type": "code",
   "execution_count": 38,
   "metadata": {},
   "outputs": [
    {
     "name": "stdout",
     "output_type": "stream",
     "text": [
      "0.2657369077205658\n"
     ]
    }
   ],
   "source": [
    "# Read data\n",
    "# FETI_VUB\n",
    "\n",
    "fname=\"..\\ComputeProjection4OneIceModel\\EnsembleSingleModelProjections/SL_FETI_VUB_RCP26.nc\"\n",
    "ncf = nc.Dataset(fname, \"r\")\n",
    "\n",
    "Time = ncf.variables[\"Time\"][:]\n",
    "SL_FETI_VUB_R0_RCP26 = ncf.variables[\"Antarctica\"][:]-ncf.variables[\"Antarctica\"][:,Refyearind]\n",
    "SL_FETI_VUB_R1_RCP26 = ncf.variables[\"EAIS\"][:]-ncf.variables[\"EAIS\"][:,Refyearind]\n",
    "SL_FETI_VUB_R2_RCP26 = ncf.variables[\"Ross\"][:]-ncf.variables[\"Ross\"][:,Refyearind]\n",
    "SL_FETI_VUB_R3_RCP26 = ncf.variables[\"Amundsen\"][:]-ncf.variables[\"Amundsen\"][:,Refyearind]\n",
    "SL_FETI_VUB_R4_RCP26 = ncf.variables[\"Weddell\"][:]-ncf.variables[\"Weddell\"][:,Refyearind]\n",
    "SL_FETI_VUB_R5_RCP26 = ncf.variables[\"Peninsula\"][:]-ncf.variables[\"Peninsula\"][:,Refyearind]\n",
    "SL_FETI_VUB_SU_RCP26 = SL_FETI_VUB_R1_RCP26+SL_FETI_VUB_R2_RCP26+SL_FETI_VUB_R3_RCP26+SL_FETI_VUB_R4_RCP26+SL_FETI_VUB_R5_RCP26\n",
    "\n",
    "SL_FETI_VUB_SU_RCP26_50pc = np.percentile(SL_FETI_VUB_SU_RCP26, 50, axis=0, out=None, overwrite_input=False, interpolation='linear', keepdims=False)\n",
    "SL_FETI_VUB_SU_RCP26_83pc = np.percentile(SL_FETI_VUB_SU_RCP26, 83.33, axis=0, out=None, overwrite_input=False, interpolation='linear', keepdims=False)\n",
    "SL_FETI_VUB_SU_RCP26_17pc = np.percentile(SL_FETI_VUB_SU_RCP26, 16.66, axis=0, out=None, overwrite_input=False, interpolation='linear', keepdims=False)\n",
    "SL_FETI_VUB_SU_RCP26_95pc = np.percentile(SL_FETI_VUB_SU_RCP26, 5, axis=0, out=None, overwrite_input=False, interpolation='linear', keepdims=False)\n",
    "SL_FETI_VUB_SU_RCP26_05pc = np.percentile(SL_FETI_VUB_SU_RCP26, 95, axis=0, out=None, overwrite_input=False, interpolation='linear', keepdims=False)\n",
    "SL_FETI_VUB_SU_RCP26_99pc = np.percentile(SL_FETI_VUB_SU_RCP26, 99, axis=0, out=None, overwrite_input=False, interpolation='linear', keepdims=False)\n",
    "SL_FETI_VUB_SU_RCP26_01pc = np.percentile(SL_FETI_VUB_SU_RCP26, 1, axis=0, out=None, overwrite_input=False, interpolation='linear', keepdims=False)\n",
    "\n",
    "print(max(SL_FETI_VUB_SU_RCP26_99pc))"
   ]
  },
  {
   "cell_type": "code",
   "execution_count": 39,
   "metadata": {},
   "outputs": [
    {
     "name": "stdout",
     "output_type": "stream",
     "text": [
      "0.07505747675895691\n"
     ]
    }
   ],
   "source": [
    "# Read data\n",
    "# GRIS_LSC\n",
    "\n",
    "fname=\"../\\ComputeProjection4OneIceModel\\EnsembleSingleModelProjections/SL_GRIS_LSC_RCP26.nc\"\n",
    "ncf = nc.Dataset(fname, \"r\")\n",
    "\n",
    "Time = ncf.variables[\"Time\"][:]\n",
    "SL_GRIS_LSC_R0_RCP26 = ncf.variables[\"Antarctica\"][:]-ncf.variables[\"Antarctica\"][:,Refyearind]\n",
    "SL_GRIS_LSC_R1_RCP26 = ncf.variables[\"EAIS\"][:]-ncf.variables[\"EAIS\"][:,Refyearind]\n",
    "SL_GRIS_LSC_R2_RCP26 = ncf.variables[\"Ross\"][:]-ncf.variables[\"Ross\"][:,Refyearind]\n",
    "SL_GRIS_LSC_R3_RCP26 = ncf.variables[\"Amundsen\"][:]-ncf.variables[\"Amundsen\"][:,Refyearind]\n",
    "SL_GRIS_LSC_R4_RCP26 = ncf.variables[\"Weddell\"][:]-ncf.variables[\"Weddell\"][:,Refyearind]\n",
    "SL_GRIS_LSC_R5_RCP26 = ncf.variables[\"Peninsula\"][:]-ncf.variables[\"Peninsula\"][:,Refyearind]\n",
    "SL_GRIS_LSC_SU_RCP26 = SL_GRIS_LSC_R1_RCP26+SL_GRIS_LSC_R2_RCP26+SL_GRIS_LSC_R3_RCP26+SL_GRIS_LSC_R4_RCP26+SL_GRIS_LSC_R5_RCP26\n",
    "\n",
    "SL_GRIS_LSC_SU_RCP26_50pc = np.percentile(SL_GRIS_LSC_SU_RCP26, 50, axis=0, out=None, overwrite_input=False, interpolation='linear', keepdims=False)\n",
    "SL_GRIS_LSC_SU_RCP26_83pc = np.percentile(SL_GRIS_LSC_SU_RCP26, 83.33, axis=0, out=None, overwrite_input=False, interpolation='linear', keepdims=False)\n",
    "SL_GRIS_LSC_SU_RCP26_17pc = np.percentile(SL_GRIS_LSC_SU_RCP26, 16.66, axis=0, out=None, overwrite_input=False, interpolation='linear', keepdims=False)\n",
    "SL_GRIS_LSC_SU_RCP26_95pc = np.percentile(SL_GRIS_LSC_SU_RCP26, 5, axis=0, out=None, overwrite_input=False, interpolation='linear', keepdims=False)\n",
    "SL_GRIS_LSC_SU_RCP26_05pc = np.percentile(SL_GRIS_LSC_SU_RCP26, 95, axis=0, out=None, overwrite_input=False, interpolation='linear', keepdims=False)\n",
    "SL_GRIS_LSC_SU_RCP26_99pc = np.percentile(SL_GRIS_LSC_SU_RCP26, 99, axis=0, out=None, overwrite_input=False, interpolation='linear', keepdims=False)\n",
    "SL_GRIS_LSC_SU_RCP26_01pc = np.percentile(SL_GRIS_LSC_SU_RCP26, 1, axis=0, out=None, overwrite_input=False, interpolation='linear', keepdims=False)\n",
    "\n",
    "print(max(SL_GRIS_LSC_SU_RCP26_99pc))"
   ]
  },
  {
   "cell_type": "code",
   "execution_count": 40,
   "metadata": {},
   "outputs": [
    {
     "name": "stdout",
     "output_type": "stream",
     "text": [
      "0.3924482762813568\n"
     ]
    }
   ],
   "source": [
    "# Read data\n",
    "# IMAU_VUB\n",
    "\n",
    "fname=\"../\\ComputeProjection4OneIceModel\\EnsembleSingleModelProjections/SL_IMAU_VUB_RCP26.nc\"\n",
    "ncf = nc.Dataset(fname, \"r\")\n",
    "\n",
    "Time = ncf.variables[\"Time\"][:]\n",
    "SL_IMAU_VUB_R0_RCP26 = ncf.variables[\"Antarctica\"][:]-ncf.variables[\"Antarctica\"][:,Refyearind]\n",
    "SL_IMAU_VUB_R1_RCP26 = ncf.variables[\"EAIS\"][:]-ncf.variables[\"EAIS\"][:,Refyearind]\n",
    "SL_IMAU_VUB_R2_RCP26 = ncf.variables[\"Ross\"][:]-ncf.variables[\"Ross\"][:,Refyearind]\n",
    "SL_IMAU_VUB_R3_RCP26 = ncf.variables[\"Amundsen\"][:]-ncf.variables[\"Amundsen\"][:,Refyearind]\n",
    "SL_IMAU_VUB_R4_RCP26 = ncf.variables[\"Weddell\"][:]-ncf.variables[\"Weddell\"][:,Refyearind]\n",
    "SL_IMAU_VUB_R5_RCP26 = ncf.variables[\"Peninsula\"][:]-ncf.variables[\"Peninsula\"][:,Refyearind]\n",
    "SL_IMAU_VUB_SU_RCP26 = SL_IMAU_VUB_R1_RCP26+SL_IMAU_VUB_R2_RCP26+SL_IMAU_VUB_R3_RCP26+SL_IMAU_VUB_R4_RCP26+SL_IMAU_VUB_R5_RCP26\n",
    "\n",
    "SL_IMAU_VUB_SU_RCP26_50pc = np.percentile(SL_IMAU_VUB_SU_RCP26, 50, axis=0, out=None, overwrite_input=False, interpolation='linear', keepdims=False)\n",
    "SL_IMAU_VUB_SU_RCP26_83pc = np.percentile(SL_IMAU_VUB_SU_RCP26, 83.33, axis=0, out=None, overwrite_input=False, interpolation='linear', keepdims=False)\n",
    "SL_IMAU_VUB_SU_RCP26_17pc = np.percentile(SL_IMAU_VUB_SU_RCP26, 16.66, axis=0, out=None, overwrite_input=False, interpolation='linear', keepdims=False)\n",
    "SL_IMAU_VUB_SU_RCP26_95pc = np.percentile(SL_IMAU_VUB_SU_RCP26, 5, axis=0, out=None, overwrite_input=False, interpolation='linear', keepdims=False)\n",
    "SL_IMAU_VUB_SU_RCP26_05pc = np.percentile(SL_IMAU_VUB_SU_RCP26, 95, axis=0, out=None, overwrite_input=False, interpolation='linear', keepdims=False)\n",
    "SL_IMAU_VUB_SU_RCP26_99pc = np.percentile(SL_IMAU_VUB_SU_RCP26, 99, axis=0, out=None, overwrite_input=False, interpolation='linear', keepdims=False)\n",
    "SL_IMAU_VUB_SU_RCP26_01pc = np.percentile(SL_IMAU_VUB_SU_RCP26, 1, axis=0, out=None, overwrite_input=False, interpolation='linear', keepdims=False)\n",
    "\n",
    "print(max(SL_IMAU_VUB_SU_RCP26_99pc))"
   ]
  },
  {
   "cell_type": "code",
   "execution_count": 41,
   "metadata": {},
   "outputs": [
    {
     "name": "stdout",
     "output_type": "stream",
     "text": [
      "0.364809513092041\n"
     ]
    }
   ],
   "source": [
    "# Read data\n",
    "# ISSM_JPL\n",
    "\n",
    "fname=\"../\\ComputeProjection4OneIceModel\\EnsembleSingleModelProjections/SL_ISSM_JPL_RCP26.nc\"\n",
    "ncf = nc.Dataset(fname, \"r\")\n",
    "\n",
    "Time = ncf.variables[\"Time\"][:]\n",
    "SL_ISSM_JPL_R0_RCP26 = ncf.variables[\"Antarctica\"][:]-ncf.variables[\"Antarctica\"][:,Refyearind]\n",
    "SL_ISSM_JPL_R1_RCP26 = ncf.variables[\"EAIS\"][:]-ncf.variables[\"EAIS\"][:,Refyearind]\n",
    "SL_ISSM_JPL_R2_RCP26 = ncf.variables[\"Ross\"][:]-ncf.variables[\"Ross\"][:,Refyearind]\n",
    "SL_ISSM_JPL_R3_RCP26 = ncf.variables[\"Amundsen\"][:]-ncf.variables[\"Amundsen\"][:,Refyearind]\n",
    "SL_ISSM_JPL_R4_RCP26 = ncf.variables[\"Weddell\"][:]-ncf.variables[\"Weddell\"][:,Refyearind]\n",
    "SL_ISSM_JPL_R5_RCP26 = ncf.variables[\"Peninsula\"][:]-ncf.variables[\"Peninsula\"][:,Refyearind]\n",
    "SL_ISSM_JPL_SU_RCP26 = SL_ISSM_JPL_R1_RCP26+SL_ISSM_JPL_R2_RCP26+SL_ISSM_JPL_R3_RCP26+SL_ISSM_JPL_R4_RCP26+SL_ISSM_JPL_R5_RCP26\n",
    "\n",
    "SL_ISSM_JPL_SU_RCP26_50pc = np.percentile(SL_ISSM_JPL_SU_RCP26, 50, axis=0, out=None, overwrite_input=False, interpolation='linear', keepdims=False)\n",
    "SL_ISSM_JPL_SU_RCP26_83pc = np.percentile(SL_ISSM_JPL_SU_RCP26, 83.33, axis=0, out=None, overwrite_input=False, interpolation='linear', keepdims=False)\n",
    "SL_ISSM_JPL_SU_RCP26_17pc = np.percentile(SL_ISSM_JPL_SU_RCP26, 16.66, axis=0, out=None, overwrite_input=False, interpolation='linear', keepdims=False)\n",
    "SL_ISSM_JPL_SU_RCP26_95pc = np.percentile(SL_ISSM_JPL_SU_RCP26, 5, axis=0, out=None, overwrite_input=False, interpolation='linear', keepdims=False)\n",
    "SL_ISSM_JPL_SU_RCP26_05pc = np.percentile(SL_ISSM_JPL_SU_RCP26, 95, axis=0, out=None, overwrite_input=False, interpolation='linear', keepdims=False)\n",
    "SL_ISSM_JPL_SU_RCP26_99pc = np.percentile(SL_ISSM_JPL_SU_RCP26, 99, axis=0, out=None, overwrite_input=False, interpolation='linear', keepdims=False)\n",
    "SL_ISSM_JPL_SU_RCP26_01pc = np.percentile(SL_ISSM_JPL_SU_RCP26, 1, axis=0, out=None, overwrite_input=False, interpolation='linear', keepdims=False)\n",
    "\n",
    "print(max(SL_ISSM_JPL_SU_RCP26_99pc))"
   ]
  },
  {
   "cell_type": "code",
   "execution_count": 42,
   "metadata": {},
   "outputs": [
    {
     "name": "stdout",
     "output_type": "stream",
     "text": [
      "0.1871378868818283\n"
     ]
    }
   ],
   "source": [
    "# Read data\n",
    "# ISSM_UCI\n",
    "\n",
    "fname=\"../\\ComputeProjection4OneIceModel\\EnsembleSingleModelProjections/SL_ISSM_UCI_RCP26.nc\"\n",
    "ncf = nc.Dataset(fname, \"r\")\n",
    "\n",
    "Time = ncf.variables[\"Time\"][:]\n",
    "SL_ISSM_UCI_R0_RCP26 = ncf.variables[\"Antarctica\"][:]-ncf.variables[\"Antarctica\"][:,Refyearind]\n",
    "SL_ISSM_UCI_R1_RCP26 = ncf.variables[\"EAIS\"][:]-ncf.variables[\"EAIS\"][:,Refyearind]\n",
    "SL_ISSM_UCI_R2_RCP26 = ncf.variables[\"Ross\"][:]-ncf.variables[\"Ross\"][:,Refyearind]\n",
    "SL_ISSM_UCI_R3_RCP26 = ncf.variables[\"Amundsen\"][:]-ncf.variables[\"Amundsen\"][:,Refyearind]\n",
    "SL_ISSM_UCI_R4_RCP26 = ncf.variables[\"Weddell\"][:]-ncf.variables[\"Weddell\"][:,Refyearind]\n",
    "SL_ISSM_UCI_R5_RCP26 = ncf.variables[\"Peninsula\"][:]-ncf.variables[\"Peninsula\"][:,Refyearind]\n",
    "SL_ISSM_UCI_SU_RCP26 = SL_ISSM_UCI_R1_RCP26+SL_ISSM_UCI_R2_RCP26+SL_ISSM_UCI_R3_RCP26+SL_ISSM_UCI_R4_RCP26+SL_ISSM_UCI_R5_RCP26\n",
    "\n",
    "SL_ISSM_UCI_SU_RCP26_50pc = np.percentile(SL_ISSM_UCI_SU_RCP26, 50, axis=0, out=None, overwrite_input=False, interpolation='linear', keepdims=False)\n",
    "SL_ISSM_UCI_SU_RCP26_83pc = np.percentile(SL_ISSM_UCI_SU_RCP26, 83.33, axis=0, out=None, overwrite_input=False, interpolation='linear', keepdims=False)\n",
    "SL_ISSM_UCI_SU_RCP26_17pc = np.percentile(SL_ISSM_UCI_SU_RCP26, 16.66, axis=0, out=None, overwrite_input=False, interpolation='linear', keepdims=False)\n",
    "SL_ISSM_UCI_SU_RCP26_95pc = np.percentile(SL_ISSM_UCI_SU_RCP26, 5, axis=0, out=None, overwrite_input=False, interpolation='linear', keepdims=False)\n",
    "SL_ISSM_UCI_SU_RCP26_05pc = np.percentile(SL_ISSM_UCI_SU_RCP26, 95, axis=0, out=None, overwrite_input=False, interpolation='linear', keepdims=False)\n",
    "SL_ISSM_UCI_SU_RCP26_99pc = np.percentile(SL_ISSM_UCI_SU_RCP26, 99, axis=0, out=None, overwrite_input=False, interpolation='linear', keepdims=False)\n",
    "SL_ISSM_UCI_SU_RCP26_01pc = np.percentile(SL_ISSM_UCI_SU_RCP26, 1, axis=0, out=None, overwrite_input=False, interpolation='linear', keepdims=False)\n",
    "\n",
    "print(max(SL_ISSM_UCI_SU_RCP26_99pc))"
   ]
  },
  {
   "cell_type": "code",
   "execution_count": 43,
   "metadata": {},
   "outputs": [
    {
     "name": "stdout",
     "output_type": "stream",
     "text": [
      "0.23099182546138763\n"
     ]
    }
   ],
   "source": [
    "# Read data\n",
    "# PISM_AWI\n",
    "\n",
    "fname=\"../\\ComputeProjection4OneIceModel\\EnsembleSingleModelProjections/SL_PISM_AWI_RCP26.nc\"\n",
    "ncf = nc.Dataset(fname, \"r\")\n",
    "\n",
    "Time = ncf.variables[\"Time\"][:]\n",
    "SL_PISM_AWI_R0_RCP26 = ncf.variables[\"Antarctica\"][:]-ncf.variables[\"Antarctica\"][:,Refyearind]\n",
    "SL_PISM_AWI_R1_RCP26 = ncf.variables[\"EAIS\"][:]-ncf.variables[\"EAIS\"][:,Refyearind]\n",
    "SL_PISM_AWI_R2_RCP26 = ncf.variables[\"Ross\"][:]-ncf.variables[\"Ross\"][:,Refyearind]\n",
    "SL_PISM_AWI_R3_RCP26 = ncf.variables[\"Amundsen\"][:]-ncf.variables[\"Amundsen\"][:,Refyearind]\n",
    "SL_PISM_AWI_R4_RCP26 = ncf.variables[\"Weddell\"][:]-ncf.variables[\"Weddell\"][:,Refyearind]\n",
    "SL_PISM_AWI_R5_RCP26 = ncf.variables[\"Peninsula\"][:]-ncf.variables[\"Peninsula\"][:,Refyearind]\n",
    "SL_PISM_AWI_SU_RCP26 = SL_PISM_AWI_R1_RCP26+SL_PISM_AWI_R2_RCP26+SL_PISM_AWI_R3_RCP26+SL_PISM_AWI_R4_RCP26+SL_PISM_AWI_R5_RCP26\n",
    "\n",
    "SL_PISM_AWI_SU_RCP26_50pc = np.percentile(SL_PISM_AWI_SU_RCP26, 50, axis=0, out=None, overwrite_input=False, interpolation='linear', keepdims=False)\n",
    "SL_PISM_AWI_SU_RCP26_83pc = np.percentile(SL_PISM_AWI_SU_RCP26, 83.33, axis=0, out=None, overwrite_input=False, interpolation='linear', keepdims=False)\n",
    "SL_PISM_AWI_SU_RCP26_17pc = np.percentile(SL_PISM_AWI_SU_RCP26, 16.66, axis=0, out=None, overwrite_input=False, interpolation='linear', keepdims=False)\n",
    "SL_PISM_AWI_SU_RCP26_95pc = np.percentile(SL_PISM_AWI_SU_RCP26, 5, axis=0, out=None, overwrite_input=False, interpolation='linear', keepdims=False)\n",
    "SL_PISM_AWI_SU_RCP26_05pc = np.percentile(SL_PISM_AWI_SU_RCP26, 95, axis=0, out=None, overwrite_input=False, interpolation='linear', keepdims=False)\n",
    "SL_PISM_AWI_SU_RCP26_99pc = np.percentile(SL_PISM_AWI_SU_RCP26, 99, axis=0, out=None, overwrite_input=False, interpolation='linear', keepdims=False)\n",
    "SL_PISM_AWI_SU_RCP26_01pc = np.percentile(SL_PISM_AWI_SU_RCP26, 1, axis=0, out=None, overwrite_input=False, interpolation='linear', keepdims=False)\n",
    "\n",
    "print(max(SL_PISM_AWI_SU_RCP26_99pc))"
   ]
  },
  {
   "cell_type": "code",
   "execution_count": 44,
   "metadata": {},
   "outputs": [
    {
     "name": "stdout",
     "output_type": "stream",
     "text": [
      "0.1338306963443756\n"
     ]
    }
   ],
   "source": [
    "# Read data\n",
    "# PISM_PIK\n",
    "\n",
    "fname=\"../\\ComputeProjection4OneIceModel\\EnsembleSingleModelProjections/SL_PISM_PIK_RCP26.nc\"\n",
    "ncf = nc.Dataset(fname, \"r\")\n",
    "\n",
    "Time = ncf.variables[\"Time\"][:]\n",
    "SL_PISM_PIK_R0_RCP26 = ncf.variables[\"Antarctica\"][:]-ncf.variables[\"Antarctica\"][:,Refyearind]\n",
    "SL_PISM_PIK_R1_RCP26 = ncf.variables[\"EAIS\"][:]-ncf.variables[\"EAIS\"][:,Refyearind]\n",
    "SL_PISM_PIK_R2_RCP26 = ncf.variables[\"Ross\"][:]-ncf.variables[\"Ross\"][:,Refyearind]\n",
    "SL_PISM_PIK_R3_RCP26 = ncf.variables[\"Amundsen\"][:]-ncf.variables[\"Amundsen\"][:,Refyearind]\n",
    "SL_PISM_PIK_R4_RCP26 = ncf.variables[\"Weddell\"][:]-ncf.variables[\"Weddell\"][:,Refyearind]\n",
    "SL_PISM_PIK_R5_RCP26 = ncf.variables[\"Peninsula\"][:]-ncf.variables[\"Peninsula\"][:,Refyearind]\n",
    "SL_PISM_PIK_SU_RCP26 = SL_PISM_PIK_R1_RCP26+SL_PISM_PIK_R2_RCP26+SL_PISM_PIK_R3_RCP26+SL_PISM_PIK_R4_RCP26+SL_PISM_PIK_R5_RCP26\n",
    "\n",
    "SL_PISM_PIK_SU_RCP26_50pc = np.percentile(SL_PISM_PIK_SU_RCP26, 50, axis=0, out=None, overwrite_input=False, interpolation='linear', keepdims=False)\n",
    "SL_PISM_PIK_SU_RCP26_83pc = np.percentile(SL_PISM_PIK_SU_RCP26, 83.33, axis=0, out=None, overwrite_input=False, interpolation='linear', keepdims=False)\n",
    "SL_PISM_PIK_SU_RCP26_17pc = np.percentile(SL_PISM_PIK_SU_RCP26, 16.66, axis=0, out=None, overwrite_input=False, interpolation='linear', keepdims=False)\n",
    "SL_PISM_PIK_SU_RCP26_95pc = np.percentile(SL_PISM_PIK_SU_RCP26, 5, axis=0, out=None, overwrite_input=False, interpolation='linear', keepdims=False)\n",
    "SL_PISM_PIK_SU_RCP26_05pc = np.percentile(SL_PISM_PIK_SU_RCP26, 95, axis=0, out=None, overwrite_input=False, interpolation='linear', keepdims=False)\n",
    "SL_PISM_PIK_SU_RCP26_99pc = np.percentile(SL_PISM_PIK_SU_RCP26, 99, axis=0, out=None, overwrite_input=False, interpolation='linear', keepdims=False)\n",
    "SL_PISM_PIK_SU_RCP26_01pc = np.percentile(SL_PISM_PIK_SU_RCP26, 1, axis=0, out=None, overwrite_input=False, interpolation='linear', keepdims=False)\n",
    "\n",
    "print(max(SL_PISM_PIK_SU_RCP26_99pc))"
   ]
  },
  {
   "cell_type": "code",
   "execution_count": 45,
   "metadata": {},
   "outputs": [
    {
     "name": "stdout",
     "output_type": "stream",
     "text": [
      "0.5081838965415955\n"
     ]
    }
   ],
   "source": [
    "# Read data\n",
    "# PISM_VUW\n",
    "\n",
    "fname=\"../\\ComputeProjection4OneIceModel\\EnsembleSingleModelProjections/SL_PISM_VUW_RCP26.nc\"\n",
    "ncf = nc.Dataset(fname, \"r\")\n",
    "\n",
    "Time = ncf.variables[\"Time\"][:]\n",
    "SL_PISM_VUW_R0_RCP26 = ncf.variables[\"Antarctica\"][:]-ncf.variables[\"Antarctica\"][:,Refyearind]\n",
    "SL_PISM_VUW_R1_RCP26 = ncf.variables[\"EAIS\"][:]-ncf.variables[\"EAIS\"][:,Refyearind]\n",
    "SL_PISM_VUW_R2_RCP26 = ncf.variables[\"Ross\"][:]-ncf.variables[\"Ross\"][:,Refyearind]\n",
    "SL_PISM_VUW_R3_RCP26 = ncf.variables[\"Amundsen\"][:]-ncf.variables[\"Amundsen\"][:,Refyearind]\n",
    "SL_PISM_VUW_R4_RCP26 = ncf.variables[\"Weddell\"][:]-ncf.variables[\"Weddell\"][:,Refyearind]\n",
    "SL_PISM_VUW_R5_RCP26 = ncf.variables[\"Peninsula\"][:]-ncf.variables[\"Peninsula\"][:,Refyearind]\n",
    "SL_PISM_VUW_SU_RCP26 = SL_PISM_VUW_R1_RCP26+SL_PISM_VUW_R2_RCP26+SL_PISM_VUW_R3_RCP26+SL_PISM_VUW_R4_RCP26+SL_PISM_VUW_R5_RCP26\n",
    "\n",
    "SL_PISM_VUW_SU_RCP26_50pc = np.percentile(SL_PISM_VUW_SU_RCP26, 50, axis=0, out=None, overwrite_input=False, interpolation='linear', keepdims=False)\n",
    "SL_PISM_VUW_SU_RCP26_83pc = np.percentile(SL_PISM_VUW_SU_RCP26, 83.33, axis=0, out=None, overwrite_input=False, interpolation='linear', keepdims=False)\n",
    "SL_PISM_VUW_SU_RCP26_17pc = np.percentile(SL_PISM_VUW_SU_RCP26, 16.66, axis=0, out=None, overwrite_input=False, interpolation='linear', keepdims=False)\n",
    "SL_PISM_VUW_SU_RCP26_95pc = np.percentile(SL_PISM_VUW_SU_RCP26, 5, axis=0, out=None, overwrite_input=False, interpolation='linear', keepdims=False)\n",
    "SL_PISM_VUW_SU_RCP26_05pc = np.percentile(SL_PISM_VUW_SU_RCP26, 95, axis=0, out=None, overwrite_input=False, interpolation='linear', keepdims=False)\n",
    "SL_PISM_VUW_SU_RCP26_99pc = np.percentile(SL_PISM_VUW_SU_RCP26, 99, axis=0, out=None, overwrite_input=False, interpolation='linear', keepdims=False)\n",
    "SL_PISM_VUW_SU_RCP26_01pc = np.percentile(SL_PISM_VUW_SU_RCP26, 1, axis=0, out=None, overwrite_input=False, interpolation='linear', keepdims=False)\n",
    "\n",
    "print(max(SL_PISM_VUW_SU_RCP26_99pc))"
   ]
  },
  {
   "cell_type": "code",
   "execution_count": 46,
   "metadata": {},
   "outputs": [
    {
     "name": "stdout",
     "output_type": "stream",
     "text": [
      "0.2035384625196457\n"
     ]
    }
   ],
   "source": [
    "# Read data\n",
    "# PS3D_PSU\n",
    "\n",
    "fname=\"../\\ComputeProjection4OneIceModel\\EnsembleSingleModelProjections/SL_PS3D_PSU_RCP26.nc\"\n",
    "ncf = nc.Dataset(fname, \"r\")\n",
    "\n",
    "Time = ncf.variables[\"Time\"][:]\n",
    "SL_PS3D_PSU_R0_RCP26 = ncf.variables[\"Antarctica\"][:]-ncf.variables[\"Antarctica\"][:,Refyearind]\n",
    "SL_PS3D_PSU_R1_RCP26 = ncf.variables[\"EAIS\"][:]-ncf.variables[\"EAIS\"][:,Refyearind]\n",
    "SL_PS3D_PSU_R2_RCP26 = ncf.variables[\"Ross\"][:]-ncf.variables[\"Ross\"][:,Refyearind]\n",
    "SL_PS3D_PSU_R3_RCP26 = ncf.variables[\"Amundsen\"][:]-ncf.variables[\"Amundsen\"][:,Refyearind]\n",
    "SL_PS3D_PSU_R4_RCP26 = ncf.variables[\"Weddell\"][:]-ncf.variables[\"Weddell\"][:,Refyearind]\n",
    "SL_PS3D_PSU_R5_RCP26 = ncf.variables[\"Peninsula\"][:]-ncf.variables[\"Peninsula\"][:,Refyearind]\n",
    "SL_PS3D_PSU_SU_RCP26 = SL_PS3D_PSU_R1_RCP26+SL_PS3D_PSU_R2_RCP26+SL_PS3D_PSU_R3_RCP26+SL_PS3D_PSU_R4_RCP26+SL_PS3D_PSU_R5_RCP26\n",
    "\n",
    "SL_PS3D_PSU_SU_RCP26_50pc = np.percentile(SL_PS3D_PSU_SU_RCP26, 50, axis=0, out=None, overwrite_input=False, interpolation='linear', keepdims=False)\n",
    "SL_PS3D_PSU_SU_RCP26_83pc = np.percentile(SL_PS3D_PSU_SU_RCP26, 83.33, axis=0, out=None, overwrite_input=False, interpolation='linear', keepdims=False)\n",
    "SL_PS3D_PSU_SU_RCP26_17pc = np.percentile(SL_PS3D_PSU_SU_RCP26, 16.66, axis=0, out=None, overwrite_input=False, interpolation='linear', keepdims=False)\n",
    "SL_PS3D_PSU_SU_RCP26_95pc = np.percentile(SL_PS3D_PSU_SU_RCP26, 5, axis=0, out=None, overwrite_input=False, interpolation='linear', keepdims=False)\n",
    "SL_PS3D_PSU_SU_RCP26_05pc = np.percentile(SL_PS3D_PSU_SU_RCP26, 95, axis=0, out=None, overwrite_input=False, interpolation='linear', keepdims=False)\n",
    "SL_PS3D_PSU_SU_RCP26_99pc = np.percentile(SL_PS3D_PSU_SU_RCP26, 99, axis=0, out=None, overwrite_input=False, interpolation='linear', keepdims=False)\n",
    "SL_PS3D_PSU_SU_RCP26_01pc = np.percentile(SL_PS3D_PSU_SU_RCP26, 1, axis=0, out=None, overwrite_input=False, interpolation='linear', keepdims=False)\n",
    "\n",
    "print(max(SL_PS3D_PSU_SU_RCP26_99pc))"
   ]
  },
  {
   "cell_type": "code",
   "execution_count": 47,
   "metadata": {},
   "outputs": [
    {
     "name": "stdout",
     "output_type": "stream",
     "text": [
      "0.23552590608596802\n"
     ]
    }
   ],
   "source": [
    "# Read data\n",
    "# SICO_UHO\n",
    "\n",
    "fname=\"../\\ComputeProjection4OneIceModel\\EnsembleSingleModelProjections/SL_SICO_UHO_RCP26.nc\"\n",
    "ncf = nc.Dataset(fname, \"r\")\n",
    "\n",
    "Time = ncf.variables[\"Time\"][:]\n",
    "SL_SICO_UHO_R0_RCP26 = ncf.variables[\"Antarctica\"][:]-ncf.variables[\"Antarctica\"][:,Refyearind]\n",
    "SL_SICO_UHO_R1_RCP26 = ncf.variables[\"EAIS\"][:]-ncf.variables[\"EAIS\"][:,Refyearind]\n",
    "SL_SICO_UHO_R2_RCP26 = ncf.variables[\"Ross\"][:]-ncf.variables[\"Ross\"][:,Refyearind]\n",
    "SL_SICO_UHO_R3_RCP26 = ncf.variables[\"Amundsen\"][:]-ncf.variables[\"Amundsen\"][:,Refyearind]\n",
    "SL_SICO_UHO_R4_RCP26 = ncf.variables[\"Weddell\"][:]-ncf.variables[\"Weddell\"][:,Refyearind]\n",
    "SL_SICO_UHO_R5_RCP26 = ncf.variables[\"Peninsula\"][:]-ncf.variables[\"Peninsula\"][:,Refyearind]\n",
    "SL_SICO_UHO_SU_RCP26 = SL_SICO_UHO_R1_RCP26+SL_SICO_UHO_R2_RCP26+SL_SICO_UHO_R3_RCP26+SL_SICO_UHO_R4_RCP26+SL_SICO_UHO_R5_RCP26\n",
    "\n",
    "SL_SICO_UHO_SU_RCP26_50pc = np.percentile(SL_SICO_UHO_SU_RCP26, 50, axis=0, out=None, overwrite_input=False, interpolation='linear', keepdims=False)\n",
    "SL_SICO_UHO_SU_RCP26_83pc = np.percentile(SL_SICO_UHO_SU_RCP26, 83.33, axis=0, out=None, overwrite_input=False, interpolation='linear', keepdims=False)\n",
    "SL_SICO_UHO_SU_RCP26_17pc = np.percentile(SL_SICO_UHO_SU_RCP26, 16.66, axis=0, out=None, overwrite_input=False, interpolation='linear', keepdims=False)\n",
    "SL_SICO_UHO_SU_RCP26_95pc = np.percentile(SL_SICO_UHO_SU_RCP26, 5, axis=0, out=None, overwrite_input=False, interpolation='linear', keepdims=False)\n",
    "SL_SICO_UHO_SU_RCP26_05pc = np.percentile(SL_SICO_UHO_SU_RCP26, 95, axis=0, out=None, overwrite_input=False, interpolation='linear', keepdims=False)\n",
    "SL_SICO_UHO_SU_RCP26_99pc = np.percentile(SL_SICO_UHO_SU_RCP26, 99, axis=0, out=None, overwrite_input=False, interpolation='linear', keepdims=False)\n",
    "SL_SICO_UHO_SU_RCP26_01pc = np.percentile(SL_SICO_UHO_SU_RCP26, 1, axis=0, out=None, overwrite_input=False, interpolation='linear', keepdims=False)\n",
    "\n",
    "print(max(SL_SICO_UHO_SU_RCP26_99pc))"
   ]
  },
  {
   "cell_type": "code",
   "execution_count": 48,
   "metadata": {},
   "outputs": [
    {
     "name": "stdout",
     "output_type": "stream",
     "text": [
      "200\n",
      "220011\n"
     ]
    }
   ],
   "source": [
    "SL_RCP26 =np.vstack([SL_CISM_NCA_SU_RCP26,SL_FETI_VUB_SU_RCP26,SL_GRIS_LSC_SU_RCP26,SL_IMAU_VUB_SU_RCP26,SL_ISSM_JPL_SU_RCP26,SL_ISSM_UCI_SU_RCP26,SL_PISM_AWI_SU_RCP26,SL_PISM_PIK_SU_RCP26,SL_PISM_VUW_SU_RCP26,SL_PS3D_PSU_SU_RCP26, SL_SICO_UHO_SU_RCP26])\n",
    "print(len(SL_RCP26[0,:]))\n",
    "print(len(SL_RCP26[:,0]))"
   ]
  },
  {
   "cell_type": "code",
   "execution_count": 49,
   "metadata": {},
   "outputs": [],
   "source": [
    "SL_RCP26_50pc = np.percentile(SL_RCP26, 50, axis=0, out=None, overwrite_input=False, interpolation='linear', keepdims=False)\n",
    "SL_RCP26_83pc = np.percentile(SL_RCP26, 83.33, axis=0, out=None, overwrite_input=False, interpolation='linear', keepdims=False)\n",
    "SL_RCP26_17pc = np.percentile(SL_RCP26, 16.66, axis=0, out=None, overwrite_input=False, interpolation='linear', keepdims=False)\n",
    "SL_RCP26_95pc = np.percentile(SL_RCP26, 5, axis=0, out=None, overwrite_input=False, interpolation='linear', keepdims=False)\n",
    "SL_RCP26_05pc = np.percentile(SL_RCP26, 95, axis=0, out=None, overwrite_input=False, interpolation='linear', keepdims=False)\n",
    "SL_RCP26_99pc = np.percentile(SL_RCP26, 99, axis=0, out=None, overwrite_input=False, interpolation='linear', keepdims=False)\n",
    "SL_RCP26_01pc = np.percentile(SL_RCP26, 1, axis=0, out=None, overwrite_input=False, interpolation='linear', keepdims=False)\n",
    "\n",
    "#np.savetxt(\"Percentiles/SL_RCP26_50pc.dat\", SL_RCP26_50pc, delimiter=\",\")\n",
    "#np.savetxt(\"Percentiles/SL_RCP26_83pc.dat\", SL_RCP26_83pc, delimiter=\",\")\n",
    "#np.savetxt(\"Percentiles/SL_RCP26_17pc.dat\", SL_RCP26_17pc, delimiter=\",\")\n",
    "#np.savetxt(\"Percentiles/SL_RCP26_05pc.dat\", SL_RCP26_05pc, delimiter=\",\")\n",
    "#np.savetxt(\"Percentiles/SL_RCP26_95pc.dat\", SL_RCP26_95pc, delimiter=\",\")\n",
    "#np.savetxt(\"Percentiles/SL_RCP26_01pc.dat\", SL_RCP26_01pc, delimiter=\",\")\n",
    "#np.savetxt(\"Percentiles/SL_RCP26_99pc.dat\", SL_RCP26_99pc, delimiter=\",\")\n"
   ]
  },
  {
   "cell_type": "code",
   "execution_count": 54,
   "metadata": {},
   "outputs": [
    {
     "data": {
      "text/plain": [
       "<matplotlib.figure.Figure at 0x9b92860>"
      ]
     },
     "metadata": {},
     "output_type": "display_data"
    },
    {
     "data": {
      "image/png": "[encoded data removed]",
      "text/plain": [
       "<matplotlib.figure.Figure at 0x9b92710>"
      ]
     },
     "metadata": {},
     "output_type": "display_data"
    }
   ],
   "source": [
    "fp = plt.figure()\n",
    "\n",
    "# Set plotting variables\n",
    "SizeOfFont = 20\n",
    "Scalefactor = 1000 # 1 = m and 1000 = mm\n",
    "\n",
    "# For all panels but Whole Antarctica\n",
    "xmin = 1990\n",
    "xmax = 2020\n",
    "ymin = -0.1*Scalefactor\n",
    "ymax = 0.1*Scalefactor\n",
    "xlimit = [xmin, xmax]\n",
    "ylimit = [ymin, ymax]\n",
    "AspectRatio = 1.0*((xmax-xmin)/(ymax-ymin))\n",
    "\n",
    "figwidth = 15\n",
    "\n",
    "ScalingTextXPos= xmin+10\n",
    "ScalingTextYPos= ymax-0.08\n",
    "ScalingTextXPos2= xmin2+10\n",
    "ScalingTextYPos2= ymax2-0.25\n",
    "\n",
    "fp, axes = plt.subplots(1, 1,figsize=(figwidth,figwidth/3*2))\n",
    "fp.subplots_adjust(hspace=0.2, wspace=0.05)\n",
    "\n",
    "ax = axes\n",
    "\n",
    "#plt.fill_between(Time, SL_RCP26_01pc*Scalefactor, SL_RCP26_99pc*Scalefactor,facecolor='#0000ff',alpha=0.25)\n",
    "plt.fill_between(Time, SL_RCP26_05pc*Scalefactor, SL_RCP26_95pc*Scalefactor,facecolor='#0000ff',alpha=0.5)\n",
    "plt.fill_between(Time, SL_RCP26_17pc*Scalefactor, SL_RCP26_83pc*Scalefactor,facecolor='#0000ff')\n",
    "plt.plot(Time, SL_RCP26_50pc*Scalefactor, '#ffffff')\n",
    "\n",
    "#ax.xaxis.set_visible(False)\n",
    "#ax.yaxis.set_visible(False)\n",
    "#ax.yaxis.set_label_position(\"right\")\n",
    "ax.set_xlim(xlimit)\n",
    "ax.set_ylim(ylimit)\n",
    "ax.xaxis.set_tick_params(labelsize=SizeOfFont)\n",
    "ax.yaxis.set_tick_params(labelsize=SizeOfFont)\n",
    "ax.set(adjustable='box',aspect=AspectRatio)\n",
    "ax.set_title(\"Historic contribution\",fontsize = SizeOfFont)\n",
    "ax.set_ylabel(\"Sea level response (mm)\",fontsize = SizeOfFont)\n",
    "ax.set_xlabel(\"Time (years)\",fontsize = SizeOfFont)\n",
    "#ScalingText = \"r = \" + str(np.round(SF_CISM_NCA_BM08_R0,2))\n",
    "#ax.text(ScalingTextXPos2,ScalingTextYPos2,ScalingText,fontsize = SizeOfFont)\n",
    "\n",
    "\n",
    "plt.show()\n",
    "\n",
    "fp.savefig(\"SL_projections_Historic_ModelsCombined.pdf\", bbox_inches='tight')"
   ]
  },
  {
   "cell_type": "code",
   "execution_count": 55,
   "metadata": {},
   "outputs": [],
   "source": [
    "# Set plotting variables\n",
    "SizeOfFont = 20\n",
    "Scalefactor = 1000 # 1 = m and 1000 = mm\n",
    "\n",
    "# For all panels but Whole Antarctica\n",
    "xmin = 1990\n",
    "xmax = 2020\n",
    "ymin = -0.1*Scalefactor\n",
    "ymax = 0.1*Scalefactor\n",
    "xlimit = [xmin, xmax]\n",
    "ylimit = [ymin, ymax]\n",
    "AspectRatio = 0.75*((xmax-xmin)/(ymax-ymin))\n",
    "\n",
    "\n",
    "figwidth = 20\n",
    "\n",
    "ScalingTextXPos= xmin+10\n",
    "ScalingTextYPos= ymax-0.08\n",
    "ScalingTextXPos2= xmin2+10\n",
    "ScalingTextYPos2= ymax2-0.25\n"
   ]
  },
  {
   "cell_type": "code",
   "execution_count": 57,
   "metadata": {
    "scrolled": true
   },
   "outputs": [
    {
     "data": {
      "image/png": "[encoded data removed]",
      "text/plain": [
       "<matplotlib.figure.Figure at 0xa03e588>"
      ]
     },
     "metadata": {},
     "output_type": "display_data"
    }
   ],
   "source": [
    "fp, axes = plt.subplots(4, 3,figsize=(figwidth,figwidth))\n",
    "fp.subplots_adjust(hspace=0.2, wspace=0.01)\n",
    "\n",
    "# CISM_NCA\n",
    "\n",
    "ax = axes[0,0]\n",
    "ax.fill_between(Time, SL_CISM_NCA_SU_RCP26_01pc*Scalefactor, SL_CISM_NCA_SU_RCP26_99pc*Scalefactor,facecolor='#0000ff',alpha=0.25)\n",
    "ax.fill_between(Time, SL_CISM_NCA_SU_RCP26_05pc*Scalefactor, SL_CISM_NCA_SU_RCP26_95pc*Scalefactor,facecolor='#0000ff',alpha=0.5)\n",
    "ax.fill_between(Time, SL_CISM_NCA_SU_RCP26_17pc*Scalefactor, SL_CISM_NCA_SU_RCP26_83pc*Scalefactor,facecolor='#0000ff')\n",
    "ax.plot(Time, SL_CISM_NCA_SU_RCP26_50pc*Scalefactor, '#ffffff')\n",
    "\n",
    "ax.xaxis.set_visible(False)\n",
    "ax.set_xlim(xlimit)\n",
    "ax.set_ylim(ylimit)\n",
    "ax.xaxis.set_tick_params(labelsize=SizeOfFont)\n",
    "ax.yaxis.set_tick_params(labelsize=SizeOfFont)\n",
    "ax.set(adjustable='box',aspect=AspectRatio)\n",
    "ax.set_title(\"CISM NCA\",fontsize = SizeOfFont)\n",
    "#ax.set_ylabel(\"Sea level response (m)\",fontsize = SizeOfFont)\n",
    "#ax.set_xlabel(\"Time (years)\",fontsize = SizeOfFont)\n",
    "#ScalingText = \"r = \" + str(np.round(SF_ISSM_UCI_BM08_R1,2))\n",
    "#ax.text(ScalingTextXPos,ScalingTextYPos,ScalingText,fontsize = SizeOfFont)\n",
    "\n",
    "\n",
    "# FETI_VUB\n",
    "ax = axes[0,1]\n",
    "ax.fill_between(Time, SL_FETI_VUB_SU_RCP26_01pc*Scalefactor, SL_FETI_VUB_SU_RCP26_99pc*Scalefactor,facecolor='#0000ff',alpha=0.25)\n",
    "ax.fill_between(Time, SL_FETI_VUB_SU_RCP26_05pc*Scalefactor, SL_FETI_VUB_SU_RCP26_95pc*Scalefactor,facecolor='#0000ff',alpha=0.5)\n",
    "ax.fill_between(Time, SL_FETI_VUB_SU_RCP26_17pc*Scalefactor, SL_FETI_VUB_SU_RCP26_83pc*Scalefactor,facecolor='#0000ff')\n",
    "ax.plot(Time, SL_FETI_VUB_SU_RCP26_50pc*Scalefactor, '#ffffff')\n",
    "\n",
    "ax.xaxis.set_visible(False)\n",
    "ax.yaxis.set_visible(False)\n",
    "ax.set_xlim(xlimit)\n",
    "ax.set_ylim(ylimit)\n",
    "ax.xaxis.set_tick_params(labelsize=SizeOfFont)\n",
    "ax.yaxis.set_tick_params(labelsize=SizeOfFont)\n",
    "ax.set(adjustable='box',aspect=AspectRatio)\n",
    "ax.set_title(\"FETI VUB\",fontsize = SizeOfFont)\n",
    "#ax.set_ylabel(\"Sea level response (m)\",fontsize = SizeOfFont)\n",
    "#ax.set_xlabel(\"Time (years)\",fontsize = SizeOfFont)\n",
    "#ScalingText = \"r = \" + str(np.round(SF_ISSM_UCI_BM08_R2,2))\n",
    "#ax.text(ScalingTextXPos,ScalingTextYPos,ScalingText,fontsize = SizeOfFont)\n",
    "\n",
    "\n",
    "# GRIS_LSC\n",
    "ax = axes[0,2]\n",
    "#ax.plot(ISSM_UCI_BM02_R3[:endyear],'g')\n",
    "ax.fill_between(Time, SL_GRIS_LSC_SU_RCP26_01pc*Scalefactor, SL_GRIS_LSC_SU_RCP26_99pc*Scalefactor,facecolor='#0000ff',alpha=0.25)\n",
    "ax.fill_between(Time, SL_GRIS_LSC_SU_RCP26_05pc*Scalefactor, SL_GRIS_LSC_SU_RCP26_95pc*Scalefactor,facecolor='#0000ff',alpha=0.5)\n",
    "ax.fill_between(Time, SL_GRIS_LSC_SU_RCP26_17pc*Scalefactor, SL_GRIS_LSC_SU_RCP26_83pc*Scalefactor,facecolor='#0000ff')\n",
    "ax.plot(Time, SL_GRIS_LSC_SU_RCP26_50pc*Scalefactor, '#ffffff')\n",
    "\n",
    "ax.xaxis.set_visible(False)\n",
    "ax.yaxis.set_visible(False)\n",
    "ax.set_xlim(xlimit)\n",
    "ax.set_ylim(ylimit)\n",
    "ax.xaxis.set_tick_params(labelsize=SizeOfFont)\n",
    "ax.yaxis.set_tick_params(labelsize=SizeOfFont)\n",
    "ax.set(adjustable='box',aspect=AspectRatio)\n",
    "ax.set_title(\"GRIS LSC\",fontsize = SizeOfFont)\n",
    "#ax.set_ylabel(\"Sea level response (m)\",fontsize = SizeOfFont)\n",
    "#ax.set_xlabel(\"Time (years)\",fontsize = SizeOfFont)\n",
    "#ScalingText = \"r = \" + str(np.round(SF_ISSM_UCI_BM08_R3,2))\n",
    "#ax.text(ScalingTextXPos,ScalingTextYPos,ScalingText,fontsize = SizeOfFont)\n",
    "\n",
    "\n",
    "# IMAU_VUB\n",
    "ax = axes[1,0]\n",
    "#ax.plot(ISSM_UCI_BM02_R4[:endyear],'g',label=\"ISSM_UCI_BM02_R0\")\n",
    "ax.fill_between(Time, SL_IMAU_VUB_SU_RCP26_01pc*Scalefactor, SL_IMAU_VUB_SU_RCP26_99pc*Scalefactor,facecolor='#0000ff',alpha=0.25)\n",
    "ax.fill_between(Time, SL_IMAU_VUB_SU_RCP26_05pc*Scalefactor, SL_IMAU_VUB_SU_RCP26_95pc*Scalefactor,facecolor='#0000ff',alpha=0.5)\n",
    "ax.fill_between(Time, SL_IMAU_VUB_SU_RCP26_17pc*Scalefactor, SL_IMAU_VUB_SU_RCP26_83pc*Scalefactor,facecolor='#0000ff')\n",
    "ax.plot(Time, SL_IMAU_VUB_SU_RCP26_50pc*Scalefactor, '#ffffff')\n",
    "\n",
    "ax.xaxis.set_visible(False)\n",
    "#ax.yaxis.set_visible(False)\n",
    "ax.set_xlim(xlimit)\n",
    "ax.set_ylim(ylimit)\n",
    "ax.xaxis.set_tick_params(labelsize=SizeOfFont)\n",
    "ax.yaxis.set_tick_params(labelsize=SizeOfFont)\n",
    "ax.set(adjustable='box',aspect=AspectRatio)\n",
    "ax.set_title(\"IMAU VUB\",fontsize = SizeOfFont)\n",
    "#ax.set_ylabel(\"Sea level response (m)\",fontsize = SizeOfFont)\n",
    "#ax.set_xlabel(\"Time (years)\",fontsize = SizeOfFont)\n",
    "#ScalingText = \"r = \" + str(np.round(SF_ISSM_UCI_BM08_R4,2))\n",
    "#ax.text(ScalingTextXPos,ScalingTextYPos,ScalingText,fontsize = SizeOfFont)\n",
    "\n",
    "\n",
    "# ISSM_JPL\n",
    "ax = axes[1,1]\n",
    "#ax.plot(ISSM_UCI_BM04_R5[:endyear],'b')\n",
    "ax.fill_between(Time, SL_ISSM_JPL_SU_RCP26_01pc*Scalefactor, SL_ISSM_JPL_SU_RCP26_99pc*Scalefactor,facecolor='#0000ff',alpha=0.25)\n",
    "ax.fill_between(Time, SL_ISSM_JPL_SU_RCP26_05pc*Scalefactor, SL_ISSM_JPL_SU_RCP26_95pc*Scalefactor,facecolor='#0000ff',alpha=0.5)\n",
    "ax.fill_between(Time, SL_ISSM_JPL_SU_RCP26_17pc*Scalefactor, SL_ISSM_JPL_SU_RCP26_83pc*Scalefactor,facecolor='#0000ff')\n",
    "ax.plot(Time, SL_ISSM_JPL_SU_RCP26_50pc*Scalefactor, '#ffffff')\n",
    "\n",
    "ax.xaxis.set_visible(False)\n",
    "ax.yaxis.set_visible(False)\n",
    "ax.set_xlim(xlimit)\n",
    "ax.set_ylim(ylimit)\n",
    "ax.xaxis.set_tick_params(labelsize=SizeOfFont)\n",
    "ax.yaxis.set_tick_params(labelsize=SizeOfFont)\n",
    "ax.set(adjustable='box',aspect=AspectRatio)\n",
    "ax.set_title(\"ISSM JPL\",fontsize = SizeOfFont)\n",
    "#ax.set_ylabel(\"Sea level response (m)\",fontsize = SizeOfFont)\n",
    "#ax.set_xlabel(\"Time (years)\",fontsize = SizeOfFont)\n",
    "#ScalingText = \"r = \" + str(np.round(SF_ISSM_UCI_BM08_R5,2))\n",
    "#ax.text(ScalingTextXPos,ScalingTextYPos,ScalingText,fontsize = SizeOfFont)\n",
    "\n",
    "\n",
    "# ISSM_UCI\n",
    "ax = axes[1,2]\n",
    "#ax.plot(ISSM_UCI_BM02_R0[:endyear],'g',label=\"ISSM_UCI_BM02_R0\")\n",
    "ax.fill_between(Time, SL_ISSM_UCI_SU_RCP26_01pc*Scalefactor, SL_ISSM_UCI_SU_RCP26_99pc*Scalefactor,facecolor='#0000ff',alpha=0.25)\n",
    "ax.fill_between(Time, SL_ISSM_UCI_SU_RCP26_05pc*Scalefactor, SL_ISSM_UCI_SU_RCP26_95pc*Scalefactor,facecolor='#0000ff',alpha=0.5)\n",
    "ax.fill_between(Time, SL_ISSM_UCI_SU_RCP26_17pc*Scalefactor, SL_ISSM_UCI_SU_RCP26_83pc*Scalefactor,facecolor='#0000ff')\n",
    "ax.plot(Time, SL_ISSM_UCI_SU_RCP26_50pc*Scalefactor, '#ffffff')\n",
    "\n",
    "ax.xaxis.set_visible(False)\n",
    "ax.yaxis.set_visible(False)\n",
    "#ax.yaxis.set_label_position(\"right\")\n",
    "ax.yaxis.set_ticks_position(\"right\")\n",
    "ax.set_xlim(xlimit)\n",
    "ax.set_ylim(ylimit)\n",
    "ax.xaxis.set_tick_params(labelsize=SizeOfFont)\n",
    "ax.yaxis.set_tick_params(labelsize=SizeOfFont)\n",
    "ax.set(adjustable='box',aspect=AspectRatio)\n",
    "ax.set_title(\"ISSM UCI\",fontsize = SizeOfFont)\n",
    "#ax.set_ylabel(\"Sea level response (m)\",fontsize = SizeOfFont)\n",
    "#ax.set_xlabel(\"Time (years)\",fontsize = SizeOfFont)\n",
    "#ScalingText = \"r = \" + str(np.round(SF_ISSM_UCI_BM08_R0,2))\n",
    "#ax.text(ScalingTextXPos2,ScalingTextYPos2,ScalingText,fontsize = SizeOfFont)\n",
    "\n",
    "# PISM_AWI\n",
    "ax = axes[2,0]\n",
    "#ax.plot(ISSM_UCI_BM02_R4[:endyear],'g',label=\"ISSM_UCI_BM02_R0\")\n",
    "ax.fill_between(Time, SL_PISM_AWI_SU_RCP26_01pc*Scalefactor, SL_PISM_AWI_SU_RCP26_99pc*Scalefactor,facecolor='#0000ff',alpha=0.25)\n",
    "ax.fill_between(Time, SL_PISM_AWI_SU_RCP26_05pc*Scalefactor, SL_PISM_AWI_SU_RCP26_95pc*Scalefactor,facecolor='#0000ff',alpha=0.5)\n",
    "ax.fill_between(Time, SL_PISM_AWI_SU_RCP26_17pc*Scalefactor, SL_PISM_AWI_SU_RCP26_83pc*Scalefactor,facecolor='#0000ff')\n",
    "ax.plot(Time, SL_PISM_AWI_SU_RCP26_50pc*Scalefactor, '#ffffff')\n",
    "\n",
    "ax.xaxis.set_visible(False)\n",
    "#ax.yaxis.set_visible(False)\n",
    "ax.set_xlim(xlimit)\n",
    "ax.set_ylim(ylimit)\n",
    "ax.xaxis.set_tick_params(labelsize=SizeOfFont)\n",
    "ax.yaxis.set_tick_params(labelsize=SizeOfFont)\n",
    "ax.set(adjustable='box',aspect=AspectRatio)\n",
    "ax.set_title(\"PISM AWI\",fontsize = SizeOfFont)\n",
    "ax.set_ylabel(\"Sea level response (mm)\",fontsize = SizeOfFont)\n",
    "ax.set_xlabel(\"Time (years)\",fontsize = SizeOfFont)\n",
    "#ScalingText = \"r = \" + str(np.round(SF_ISSM_UCI_BM08_R4,2))\n",
    "#ax.text(ScalingTextXPos,ScalingTextYPos,ScalingText,fontsize = SizeOfFont)\n",
    "\n",
    "\n",
    "# PISM_PIK\n",
    "ax = axes[2,1]\n",
    "#ax.plot(ISSM_UCI_BM04_R5[:endyear],'b')\n",
    "ax.fill_between(Time, SL_PISM_PIK_SU_RCP26_01pc*Scalefactor, SL_PISM_PIK_SU_RCP26_99pc*Scalefactor,facecolor='#0000ff',alpha=0.25)\n",
    "ax.fill_between(Time, SL_PISM_PIK_SU_RCP26_05pc*Scalefactor, SL_PISM_PIK_SU_RCP26_95pc*Scalefactor,facecolor='#0000ff',alpha=0.5)\n",
    "ax.fill_between(Time, SL_PISM_PIK_SU_RCP26_17pc*Scalefactor, SL_PISM_PIK_SU_RCP26_83pc*Scalefactor,facecolor='#0000ff')\n",
    "ax.plot(Time, SL_PISM_PIK_SU_RCP26_50pc*Scalefactor, '#ffffff')\n",
    "\n",
    "ax.xaxis.set_visible(False)\n",
    "ax.yaxis.set_visible(False)\n",
    "ax.set_xlim(xlimit)\n",
    "ax.set_ylim(ylimit)\n",
    "ax.xaxis.set_tick_params(labelsize=SizeOfFont)\n",
    "ax.yaxis.set_tick_params(labelsize=SizeOfFont)\n",
    "ax.set(adjustable='box',aspect=AspectRatio)\n",
    "ax.set_title(\"PISM PIK\",fontsize = SizeOfFont)\n",
    "#ax.set_ylabel(\"Sea level response (m)\",fontsize = SizeOfFont)\n",
    "#ax.set_xlabel(\"Time (years)\",fontsize = SizeOfFont)\n",
    "#ScalingText = \"r = \" + str(np.round(SF_ISSM_UCI_BM08_R5,2))\n",
    "#ax.text(ScalingTextXPos,ScalingTextYPos,ScalingText,fontsize = SizeOfFont)\n",
    "\n",
    "\n",
    "# PISM_VUW\n",
    "ax = axes[2,2]\n",
    "#ax.plot(ISSM_UCI_BM02_R0[:endyear],'g',label=\"ISSM_UCI_BM02_R0\")\n",
    "ax.fill_between(Time, SL_PISM_VUW_SU_RCP26_01pc*Scalefactor, SL_PISM_VUW_SU_RCP26_99pc*Scalefactor,facecolor='#0000ff',alpha=0.25)\n",
    "ax.fill_between(Time, SL_PISM_VUW_SU_RCP26_05pc*Scalefactor, SL_PISM_VUW_SU_RCP26_95pc*Scalefactor,facecolor='#0000ff',alpha=0.5)\n",
    "ax.fill_between(Time, SL_PISM_VUW_SU_RCP26_17pc*Scalefactor, SL_PISM_VUW_SU_RCP26_83pc*Scalefactor,facecolor='#0000ff')\n",
    "ax.plot(Time, SL_PISM_VUW_SU_RCP26_50pc*Scalefactor, '#ffffff')\n",
    "\n",
    "ax.xaxis.set_visible(False)\n",
    "ax.yaxis.set_visible(False)\n",
    "#ax.yaxis.set_label_position(\"right\")\n",
    "ax.yaxis.set_ticks_position(\"right\")\n",
    "ax.set_xlim(xlimit)\n",
    "ax.set_ylim(ylimit)\n",
    "ax.xaxis.set_tick_params(labelsize=SizeOfFont)\n",
    "ax.yaxis.set_tick_params(labelsize=SizeOfFont)\n",
    "ax.set(adjustable='box',aspect=AspectRatio)\n",
    "ax.set_title(\"PISM VUW\",fontsize = SizeOfFont)\n",
    "#ax.set_ylabel(\"Sea level response (m)\",fontsize = SizeOfFont)\n",
    "#ax.set_xlabel(\"Time (years)\",fontsize = SizeOfFont)\n",
    "#ScalingText = \"r = \" + str(np.round(SF_ISSM_UCI_BM08_R0,2))\n",
    "#ax.text(ScalingTextXPos2,ScalingTextYPos2,ScalingText,fontsize = SizeOfFont)\n",
    "\n",
    "# PS3D_PSU\n",
    "ax = axes[3,0]\n",
    "#ax.plot(ISSM_UCI_BM02_R4[:endyear],'g',label=\"ISSM_UCI_BM02_R0\")\n",
    "ax.fill_between(Time, SL_PS3D_PSU_SU_RCP26_01pc*Scalefactor, SL_PS3D_PSU_SU_RCP26_99pc*Scalefactor,facecolor='#0000ff',alpha=0.25)\n",
    "ax.fill_between(Time, SL_PS3D_PSU_SU_RCP26_05pc*Scalefactor, SL_PS3D_PSU_SU_RCP26_95pc*Scalefactor,facecolor='#0000ff',alpha=0.5)\n",
    "ax.fill_between(Time, SL_PS3D_PSU_SU_RCP26_17pc*Scalefactor, SL_PS3D_PSU_SU_RCP26_83pc*Scalefactor,facecolor='#0000ff')\n",
    "ax.plot(Time, SL_PS3D_PSU_SU_RCP26_50pc*Scalefactor, '#ffffff')\n",
    "\n",
    "#ax.xaxis.set_visible(False)\n",
    "#ax.yaxis.set_visible(False)\n",
    "ax.set_xlim(xlimit)\n",
    "ax.set_ylim(ylimit)\n",
    "ax.xaxis.set_tick_params(labelsize=SizeOfFont)\n",
    "ax.yaxis.set_tick_params(labelsize=SizeOfFont)\n",
    "ax.set(adjustable='box',aspect=AspectRatio)\n",
    "ax.set_title(\"PS3D PSU\",fontsize = SizeOfFont)\n",
    "#ax.set_ylabel(\"Sea level response (m)\",fontsize = SizeOfFont)\n",
    "ax.set_xlabel(\"Time (years)\",fontsize = SizeOfFont)\n",
    "#ScalingText = \"r = \" + str(np.round(SF_ISSM_UCI_BM08_R4,2))\n",
    "#ax.text(ScalingTextXPos,ScalingTextYPos,ScalingText,fontsize = SizeOfFont)\n",
    "\n",
    "\n",
    "# SICO_UHO\n",
    "ax = axes[3,1]\n",
    "#ax.plot(ISSM_UCI_BM04_R5[:endyear],'b')\n",
    "ax.fill_between(Time, SL_SICO_UHO_SU_RCP26_01pc*Scalefactor, SL_SICO_UHO_SU_RCP26_99pc*Scalefactor,facecolor='#0000ff',alpha=0.25)\n",
    "ax.fill_between(Time, SL_SICO_UHO_SU_RCP26_05pc*Scalefactor, SL_SICO_UHO_SU_RCP26_95pc*Scalefactor,facecolor='#0000ff',alpha=0.5)\n",
    "ax.fill_between(Time, SL_SICO_UHO_SU_RCP26_17pc*Scalefactor, SL_SICO_UHO_SU_RCP26_83pc*Scalefactor,facecolor='#0000ff')\n",
    "ax.plot(Time, SL_SICO_UHO_SU_RCP26_50pc*Scalefactor, '#ffffff')\n",
    "\n",
    "#ax.xaxis.set_visible(False)\n",
    "ax.yaxis.set_visible(False)\n",
    "ax.set_xlim(xlimit)\n",
    "ax.set_ylim(ylimit)\n",
    "ax.xaxis.set_tick_params(labelsize=SizeOfFont)\n",
    "ax.yaxis.set_tick_params(labelsize=SizeOfFont)\n",
    "ax.set(adjustable='box',aspect=AspectRatio)\n",
    "ax.set_title(\"SICO UHO\",fontsize = SizeOfFont)\n",
    "#ax.set_ylabel(\"Sea level response (m)\",fontsize = SizeOfFont)\n",
    "ax.set_xlabel(\"Time (years)\",fontsize = SizeOfFont)\n",
    "#ScalingText = \"r = \" + str(np.round(SF_ISSM_UCI_BM08_R5,2))\n",
    "#ax.text(ScalingTextXPos,ScalingTextYPos,ScalingText,fontsize = SizeOfFont)\n",
    "\n",
    "\n",
    "# subplot (1,2) # R0=Whole Antarctica\n",
    "ax = axes[3,2]\n",
    "#ax.plot(ISSM_UCI_BM02_R0[:endyear],'g',label=\"ISSM_UCI_BM02_R0\")\n",
    "ax.fill_between(Time, SL_RCP26_01pc*Scalefactor, SL_RCP26_99pc*Scalefactor,facecolor='#0000ff',alpha=0.25)\n",
    "ax.fill_between(Time, SL_RCP26_05pc*Scalefactor, SL_RCP26_95pc*Scalefactor,facecolor='#0000ff',alpha=0.5)\n",
    "ax.fill_between(Time, SL_RCP26_17pc*Scalefactor, SL_RCP26_83pc*Scalefactor,facecolor='#0000ff')\n",
    "ax.plot(Time, SL_RCP26_50pc*Scalefactor, '#ffffff')\n",
    "\n",
    "#ax.xaxis.set_visible(False)\n",
    "ax.yaxis.set_visible(False)\n",
    "#ax.yaxis.set_label_position(\"right\")\n",
    "ax.yaxis.set_ticks_position(\"right\")\n",
    "ax.set_xlim(xlimit)\n",
    "ax.set_ylim(ylimit)\n",
    "ax.xaxis.set_tick_params(labelsize=SizeOfFont)\n",
    "ax.yaxis.set_tick_params(labelsize=SizeOfFont)\n",
    "ax.set(adjustable='box',aspect=AspectRatio)\n",
    "ax.set_title(\"MODE ALL\",fontsize = SizeOfFont)\n",
    "#ax.set_ylabel(\"Sea level response (m)\",fontsize = SizeOfFont)\n",
    "ax.set_xlabel(\"Time (years)\",fontsize = SizeOfFont)\n",
    "#ScalingText = \"r = \" + str(np.round(SF_ISSM_UCI_BM08_R0,2))\n",
    "#ax.text(ScalingTextXPos2,ScalingTextYPos2,ScalingText,fontsize = SizeOfFont)\n",
    "\n",
    "\n",
    "\n",
    "fp.savefig(\"SL_projections_Historic_AllModels.pdf\", bbox_inches='tight')"
   ]
  },
  {
   "cell_type": "code",
   "execution_count": null,
   "metadata": {},
   "outputs": [],
   "source": []
  },
  {
   "cell_type": "code",
   "execution_count": null,
   "metadata": {},
   "outputs": [],
   "source": []
  }
 ],
 "metadata": {
  "kernelspec": {
   "display_name": "Python 3",
   "language": "python",
   "name": "python3"
  },
  "language_info": {
   "codemirror_mode": {
    "name": "ipython",
    "version": 3
   },
   "file_extension": ".py",
   "mimetype": "text/x-python",
   "name": "python",
   "nbconvert_exporter": "python",
   "pygments_lexer": "ipython3",
   "version": "3.6.4"
  }
 },
 "nbformat": 4,
 "nbformat_minor": 2
}
