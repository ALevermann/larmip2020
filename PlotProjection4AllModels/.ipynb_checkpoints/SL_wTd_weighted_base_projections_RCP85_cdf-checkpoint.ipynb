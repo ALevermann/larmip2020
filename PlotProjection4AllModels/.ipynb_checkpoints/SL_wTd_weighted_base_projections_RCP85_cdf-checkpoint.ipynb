{
 "cells": [
  {
   "cell_type": "code",
   "execution_count": 73,
   "metadata": {},
   "outputs": [],
   "source": [
    "%matplotlib inline"
   ]
  },
  {
   "cell_type": "code",
   "execution_count": 74,
   "metadata": {},
   "outputs": [],
   "source": [
    "import numpy as np\n",
    "import netCDF4 as nc\n",
    "import matplotlib.pylab as plt\n",
    "import imp\n",
    "import csv\n",
    "import pandas as pd\n",
    "from io import StringIO"
   ]
  },
  {
   "cell_type": "code",
   "execution_count": 76,
   "metadata": {},
   "outputs": [],
   "source": [
    "# Read data\n",
    "# AISM_VUB\n",
    "\n",
    "fname=\"../ComputeProjection4OneIceModel/EnsembleSingleModelProjections/SL_wTd_nos_base_AISM_VUB_RCP85.nc\"\n",
    "ncf = nc.Dataset(fname, \"r\")\n",
    "\n",
    "Time = ncf.variables[\"Time\"][:]\n",
    "SL_wTd_nos_base_AISM_VUB_R0_RCP85 = ncf.variables[\"Antarctica\"][:]\n",
    "SL_wTd_nos_base_AISM_VUB_R1_RCP85 = ncf.variables[\"EAIS\"][:]\n",
    "SL_wTd_nos_base_AISM_VUB_R2_RCP85 = ncf.variables[\"Ross\"][:]\n",
    "SL_wTd_nos_base_AISM_VUB_R3_RCP85 = ncf.variables[\"Amundsen\"][:]\n",
    "SL_wTd_nos_base_AISM_VUB_R4_RCP85 = ncf.variables[\"Weddell\"][:]\n",
    "SL_wTd_nos_base_AISM_VUB_R5_RCP85 = ncf.variables[\"Peninsula\"][:]\n",
    "SL_wTd_nos_base_AISM_VUB_SU_RCP85 = SL_wTd_nos_base_AISM_VUB_R1_RCP85+SL_wTd_nos_base_AISM_VUB_R2_RCP85+SL_wTd_nos_base_AISM_VUB_R3_RCP85+SL_wTd_nos_base_AISM_VUB_R4_RCP85+SL_wTd_nos_base_AISM_VUB_R5_RCP85\n",
    "ncf.close()\n",
    "\n",
    "fname=\"ModelWeights/Weights_AISM_VUB.nc\"\n",
    "ncf = nc.Dataset(fname, \"r\")\n",
    "\n",
    "Weight_AISM_VUB_R0 = ncf.variables[\"Weight for Antarctica\"][:]\n",
    "Weight_AISM_VUB_R1 = ncf.variables[\"Weight for EAIS\"][:]\n",
    "Weight_AISM_VUB_R2 = ncf.variables[\"Weight for WAIS\"][:]\n",
    "Weight_AISM_VUB_R5 = ncf.variables[\"Weight for Peninsula\"][:]\n",
    "ncf.close()\n",
    "\n",
    "# compute cumulative probability distributions\n",
    "cdfnum = 1000\n",
    "\n",
    "SL_wTd_nos_base_AISM_VUB_R0_RCP85_cdf = [0] * (cdfnum+1)\n",
    "for t in range(len(SL_wTd_nos_base_AISM_VUB_SU_RCP85[1,:])):\n",
    "    # merge sl with weights\n",
    "    sortind = np.argsort(SL_wTd_nos_base_AISM_VUB_SU_RCP85[:,t])\n",
    "    sortedweights = Weight_AISM_VUB_R0[sortind]\n",
    "    cumsortedweights = []\n",
    "    thesum = 0\n",
    "    for i in range(len(sortedweights)):\n",
    "        thesum = thesum + sortedweights[i]\n",
    "        cumsortedweights.append(thesum)\n",
    "    cumsortedweights=cumsortedweights/thesum\n",
    "\n",
    "    slcdf = []\n",
    "    slcdf.append(0)\n",
    "    for i in range(1,cdfnum+1):\n",
    "        cdfval = float(i/cdfnum)\n",
    "        idx = (np.abs(cumsortedweights - cdfval)).argmin()\n",
    "        slval = SL_wTd_nos_base_AISM_VUB_SU_RCP85[sortind[idx],t]\n",
    "        slcdf.append(slval)\n",
    "    SL_wTd_nos_base_AISM_VUB_R0_RCP85_cdf=np.vstack([SL_wTd_nos_base_AISM_VUB_R0_RCP85_cdf, slcdf])\n",
    "\n",
    "\n",
    "SL_wTd_nos_base_AISM_VUB_R1_RCP85_cdf = [0] * (cdfnum+1)\n",
    "for t in range(len(SL_wTd_nos_base_AISM_VUB_R1_RCP85[1,:])):\n",
    "    # merge sl with weights\n",
    "    sortind = np.argsort(SL_wTd_nos_base_AISM_VUB_R1_RCP85[:,t])\n",
    "    sortedweights = Weight_AISM_VUB_R0[sortind]\n",
    "    cumsortedweights = []\n",
    "    thesum = 0\n",
    "    for i in range(len(sortedweights)):\n",
    "        thesum = thesum + sortedweights[i]\n",
    "        cumsortedweights.append(thesum)\n",
    "    cumsortedweights=cumsortedweights/thesum\n",
    "\n",
    "    slcdf = []\n",
    "    slcdf.append(0)\n",
    "    for i in range(1,cdfnum+1):\n",
    "        cdfval = float(i/cdfnum)\n",
    "        idx = (np.abs(cumsortedweights - cdfval)).argmin()\n",
    "        slval = SL_wTd_nos_base_AISM_VUB_R1_RCP85[sortind[idx],t]\n",
    "        slcdf.append(slval)\n",
    "    SL_wTd_nos_base_AISM_VUB_R1_RCP85_cdf=np.vstack([SL_wTd_nos_base_AISM_VUB_R1_RCP85_cdf, slcdf])\n",
    "\n",
    "\n",
    "SL_wTd_nos_base_AISM_VUB_R2_RCP85_cdf = [0] * (cdfnum+1)\n",
    "for t in range(len(SL_wTd_nos_base_AISM_VUB_R2_RCP85[1,:])):\n",
    "    # merge sl with weights\n",
    "    sortind = np.argsort(SL_wTd_nos_base_AISM_VUB_R2_RCP85[:,t])\n",
    "    sortedweights = Weight_AISM_VUB_R0[sortind]\n",
    "    cumsortedweights = []\n",
    "    thesum = 0\n",
    "    for i in range(len(sortedweights)):\n",
    "        thesum = thesum + sortedweights[i]\n",
    "        cumsortedweights.append(thesum)\n",
    "    cumsortedweights=cumsortedweights/thesum\n",
    "\n",
    "    slcdf = []\n",
    "    slcdf.append(0)\n",
    "    for i in range(1,cdfnum+1):\n",
    "        cdfval = float(i/cdfnum)\n",
    "        idx = (np.abs(cumsortedweights - cdfval)).argmin()\n",
    "        slval = SL_wTd_nos_base_AISM_VUB_R2_RCP85[sortind[idx],t]\n",
    "        slcdf.append(slval)\n",
    "    SL_wTd_nos_base_AISM_VUB_R2_RCP85_cdf=np.vstack([SL_wTd_nos_base_AISM_VUB_R2_RCP85_cdf, slcdf])\n",
    "\n",
    "\n",
    "SL_wTd_nos_base_AISM_VUB_R3_RCP85_cdf = [0] * (cdfnum+1)\n",
    "for t in range(len(SL_wTd_nos_base_AISM_VUB_R3_RCP85[1,:])):\n",
    "    # merge sl with weights\n",
    "    sortind = np.argsort(SL_wTd_nos_base_AISM_VUB_R3_RCP85[:,t])\n",
    "    sortedweights = Weight_AISM_VUB_R0[sortind]\n",
    "    cumsortedweights = []\n",
    "    thesum = 0\n",
    "    for i in range(len(sortedweights)):\n",
    "        thesum = thesum + sortedweights[i]\n",
    "        cumsortedweights.append(thesum)\n",
    "    cumsortedweights=cumsortedweights/thesum\n",
    "\n",
    "    slcdf = []\n",
    "    slcdf.append(0)\n",
    "    for i in range(1,cdfnum+1):\n",
    "        cdfval = float(i/cdfnum)\n",
    "        idx = (np.abs(cumsortedweights - cdfval)).argmin()\n",
    "        slval = SL_wTd_nos_base_AISM_VUB_R3_RCP85[sortind[idx],t]\n",
    "        slcdf.append(slval)\n",
    "    SL_wTd_nos_base_AISM_VUB_R3_RCP85_cdf=np.vstack([SL_wTd_nos_base_AISM_VUB_R3_RCP85_cdf, slcdf])\n",
    "\n",
    "\n",
    "SL_wTd_nos_base_AISM_VUB_R4_RCP85_cdf = [0] * (cdfnum+1)\n",
    "for t in range(len(SL_wTd_nos_base_AISM_VUB_R4_RCP85[1,:])):\n",
    "    # merge sl with weights\n",
    "    sortind = np.argsort(SL_wTd_nos_base_AISM_VUB_R4_RCP85[:,t])\n",
    "    sortedweights = Weight_AISM_VUB_R0[sortind]\n",
    "    cumsortedweights = []\n",
    "    thesum = 0\n",
    "    for i in range(len(sortedweights)):\n",
    "        thesum = thesum + sortedweights[i]\n",
    "        cumsortedweights.append(thesum)\n",
    "    cumsortedweights=cumsortedweights/thesum\n",
    "\n",
    "    slcdf = []\n",
    "    slcdf.append(0)\n",
    "    for i in range(1,cdfnum+1):\n",
    "        cdfval = float(i/cdfnum)\n",
    "        idx = (np.abs(cumsortedweights - cdfval)).argmin()\n",
    "        slval = SL_wTd_nos_base_AISM_VUB_R4_RCP85[sortind[idx],t]\n",
    "        slcdf.append(slval)\n",
    "    SL_wTd_nos_base_AISM_VUB_R4_RCP85_cdf=np.vstack([SL_wTd_nos_base_AISM_VUB_R4_RCP85_cdf, slcdf])\n",
    "\n",
    "\n",
    "SL_wTd_nos_base_AISM_VUB_R5_RCP85_cdf = [0] * (cdfnum+1)\n",
    "for t in range(len(SL_wTd_nos_base_AISM_VUB_R5_RCP85[1,:])):\n",
    "    # merge sl with weights\n",
    "    sortind = np.argsort(SL_wTd_nos_base_AISM_VUB_R5_RCP85[:,t])\n",
    "    sortedweights = Weight_AISM_VUB_R0[sortind]\n",
    "    cumsortedweights = []\n",
    "    thesum = 0\n",
    "    for i in range(len(sortedweights)):\n",
    "        thesum = thesum + sortedweights[i]\n",
    "        cumsortedweights.append(thesum)\n",
    "    cumsortedweights=cumsortedweights/thesum\n",
    "\n",
    "    slcdf = []\n",
    "    slcdf.append(0)\n",
    "    for i in range(1,cdfnum+1):\n",
    "        cdfval = float(i/cdfnum)\n",
    "        idx = (np.abs(cumsortedweights - cdfval)).argmin()\n",
    "        slval = SL_wTd_nos_base_AISM_VUB_R5_RCP85[sortind[idx],t]\n",
    "        slcdf.append(slval)\n",
    "    SL_wTd_nos_base_AISM_VUB_R5_RCP85_cdf=np.vstack([SL_wTd_nos_base_AISM_VUB_R5_RCP85_cdf, slcdf])\n",
    "\n",
    "Percentile = np.arange(0,float((cdfnum+1)/cdfnum),float(1/cdfnum))\n",
    "\n",
    "# write cdfs\n",
    "ncfile = nc.Dataset('Cdfs/SL_wTd_weighted_base_AISM_VUB_RCP85_cdf.nc','w', format='NETCDF4')\n",
    "ncfile.createDimension('Time', None)\n",
    "ncfile.createDimension('Percentile', None)\n",
    "\n",
    "SL_wTd_weighted_base_R0 = ncfile.createVariable('Antarctica', 'f4', ('Percentile', 'Time'))\n",
    "SL_wTd_weighted_base_R1 = ncfile.createVariable('EAIS', 'f4', ('Percentile', 'Time'))\n",
    "SL_wTd_weighted_base_R2 = ncfile.createVariable('Ross', 'f4', ('Percentile', 'Time'))\n",
    "SL_wTd_weighted_base_R3 = ncfile.createVariable('Amundsen', 'f4', ('Percentile', 'Time'))\n",
    "SL_wTd_weighted_base_R4 = ncfile.createVariable('Weddell', 'f4', ('Percentile', 'Time'))\n",
    "SL_wTd_weighted_base_R5 = ncfile.createVariable('Peninsula', 'f4', ('Percentile', 'Time'))\n",
    "p = ncfile.createVariable('Percentile', 'i4', 'Percentile')\n",
    "\n",
    "SL_wTd_weighted_base_R0[:,:] = SL_wTd_nos_base_AISM_VUB_R0_RCP85_cdf\n",
    "SL_wTd_weighted_base_R1[:,:] = SL_wTd_nos_base_AISM_VUB_R1_RCP85_cdf\n",
    "SL_wTd_weighted_base_R2[:,:] = SL_wTd_nos_base_AISM_VUB_R2_RCP85_cdf\n",
    "SL_wTd_weighted_base_R3[:,:] = SL_wTd_nos_base_AISM_VUB_R3_RCP85_cdf\n",
    "SL_wTd_weighted_base_R4[:,:] = SL_wTd_nos_base_AISM_VUB_R4_RCP85_cdf\n",
    "SL_wTd_weighted_base_R5[:,:] = SL_wTd_nos_base_AISM_VUB_R5_RCP85_cdf\n",
    "p[:] = Percentile\n",
    "\n",
    "SL_wTd_weighted_base_R0.units = 'meter'\n",
    "SL_wTd_weighted_base_R1.units = 'meter'\n",
    "SL_wTd_weighted_base_R2.units = 'meter'\n",
    "SL_wTd_weighted_base_R3.units = 'meter'\n",
    "SL_wTd_weighted_base_R4.units = 'meter'\n",
    "SL_wTd_weighted_base_R5.units = 'meter'\n",
    "\n",
    "p.units = 'percent'\n",
    "\n",
    "ncfile.close()\n"
   ]
  },
  {
   "cell_type": "code",
   "execution_count": 81,
   "metadata": {},
   "outputs": [
    {
     "data": {
      "text/plain": [
       "[<matplotlib.lines.Line2D at 0x96fdf28>]"
      ]
     },
     "execution_count": 81,
     "metadata": {},
     "output_type": "execute_result"
    },
    {
     "data": {
      "image/png": "[encoded data removed]",
      "text/plain": [
       "<matplotlib.figure.Figure at 0x96cf7f0>"
      ]
     },
     "metadata": {},
     "output_type": "display_data"
    }
   ],
   "source": [
    "plt.plot(SL_wTd_nos_base_AISM_VUB_R0_RCP85_cdf[110,:],Percentile)\n",
    "plt.plot(SL_wTd_nos_base_AISM_VUB_R0_RCP85_cdf[120,:],Percentile)\n",
    "plt.plot(SL_wTd_nos_base_AISM_VUB_R0_RCP85_cdf[130,:],Percentile)\n",
    "plt.plot(SL_wTd_nos_base_AISM_VUB_R0_RCP85_cdf[140,:],Percentile)\n",
    "plt.plot(SL_wTd_nos_base_AISM_VUB_R0_RCP85_cdf[150,:],Percentile)\n",
    "plt.plot(SL_wTd_nos_base_AISM_VUB_R0_RCP85_cdf[160,:],Percentile)\n",
    "plt.plot(SL_wTd_nos_base_AISM_VUB_R0_RCP85_cdf[170,:],Percentile)\n",
    "plt.plot(SL_wTd_nos_base_AISM_VUB_R0_RCP85_cdf[180,:],Percentile)\n",
    "plt.plot(SL_wTd_nos_base_AISM_VUB_R0_RCP85_cdf[190,:],Percentile)\n",
    "plt.plot(SL_wTd_nos_base_AISM_VUB_R0_RCP85_cdf[200,:],Percentile)\n"
   ]
  },
  {
   "cell_type": "code",
   "execution_count": 94,
   "metadata": {},
   "outputs": [
    {
     "name": "stdout",
     "output_type": "stream",
     "text": [
      "200\n",
      "200\n"
     ]
    },
    {
     "data": {
      "text/plain": [
       "[<matplotlib.lines.Line2D at 0x9bac6d8>]"
      ]
     },
     "execution_count": 94,
     "metadata": {},
     "output_type": "execute_result"
    },
    {
     "data": {
      "image/png": "[encoded data removed]",
      "text/plain": [
       "<matplotlib.figure.Figure at 0x9aa7550>"
      ]
     },
     "metadata": {},
     "output_type": "display_data"
    }
   ],
   "source": [
    "print(len(Time))\n",
    "print(len(SL_wTd_nos_base_AISM_VUB_R0_RCP85_cdf[0:-1,500]))\n",
    "plt.plot(Time,SL_wTd_nos_base_AISM_VUB_R0_RCP85_cdf[0:-1,10])\n",
    "plt.plot(Time,SL_wTd_nos_base_AISM_VUB_R0_RCP85_cdf[0:-1,50])\n",
    "plt.plot(Time,SL_wTd_nos_base_AISM_VUB_R0_RCP85_cdf[0:-1,166])\n",
    "plt.plot(Time,SL_wTd_nos_base_AISM_VUB_R0_RCP85_cdf[0:-1,500])\n",
    "plt.plot(Time,SL_wTd_nos_base_AISM_VUB_R0_RCP85_cdf[0:-1,833])\n",
    "plt.plot(Time,SL_wTd_nos_base_AISM_VUB_R0_RCP85_cdf[0:-1,950])\n",
    "plt.plot(Time,SL_wTd_nos_base_AISM_VUB_R0_RCP85_cdf[0:-1,990])\n"
   ]
  },
  {
   "cell_type": "code",
   "execution_count": 67,
   "metadata": {},
   "outputs": [
    {
     "name": "stdout",
     "output_type": "stream",
     "text": [
      "[0.    0.001 0.002 ... 0.998 0.999 1.   ]\n"
     ]
    }
   ],
   "source": [
    "print(Percentile)"
   ]
  },
  {
   "cell_type": "code",
   "execution_count": 68,
   "metadata": {},
   "outputs": [
    {
     "data": {
      "text/plain": [
       "1001"
      ]
     },
     "execution_count": 68,
     "metadata": {},
     "output_type": "execute_result"
    }
   ],
   "source": [
    "len(Percentile)"
   ]
  },
  {
   "cell_type": "code",
   "execution_count": null,
   "metadata": {},
   "outputs": [],
   "source": []
  }
 ],
 "metadata": {
  "kernelspec": {
   "display_name": "Python 3",
   "language": "python",
   "name": "python3"
  },
  "language_info": {
   "codemirror_mode": {
    "name": "ipython",
    "version": 3
   },
   "file_extension": ".py",
   "mimetype": "text/x-python",
   "name": "python",
   "nbconvert_exporter": "python",
   "pygments_lexer": "ipython3",
   "version": "3.6.4"
  }
 },
 "nbformat": 4,
 "nbformat_minor": 2
}
