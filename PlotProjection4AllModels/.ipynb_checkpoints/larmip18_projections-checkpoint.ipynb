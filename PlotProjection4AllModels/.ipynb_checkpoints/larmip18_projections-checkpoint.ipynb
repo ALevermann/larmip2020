{
 "cells": [
  {
   "cell_type": "code",
   "execution_count": 1,
   "metadata": {},
   "outputs": [],
   "source": [
    "%matplotlib inline"
   ]
  },
  {
   "cell_type": "code",
   "execution_count": 2,
   "metadata": {},
   "outputs": [],
   "source": [
    "import numpy as np\n",
    "import netCDF4 as nc\n",
    "import matplotlib.pylab as plt\n",
    "import imp\n",
    "import csv\n",
    "import pandas as pd\n",
    "from io import StringIO"
   ]
  },
  {
   "cell_type": "code",
   "execution_count": 3,
   "metadata": {},
   "outputs": [
    {
     "name": "stdout",
     "output_type": "stream",
     "text": [
      "0.31423670053482056\n"
     ]
    }
   ],
   "source": [
    "# Read data\n",
    "# CISM_NCA\n",
    "\n",
    "fname=\"../\\ComputeProjection4OneIceModel\\EnsembleSingleModelProjections/SL_CISM_NCA_RCP85.nc\"\n",
    "ncf = nc.Dataset(fname, \"r\")\n",
    "\n",
    "Time = ncf.variables[\"Time\"][:]\n",
    "SL_CISM_NCA_R0_RCP85 = ncf.variables[\"Antarctica\"][:]\n",
    "SL_CISM_NCA_R1_RCP85 = ncf.variables[\"EAIS\"][:]\n",
    "SL_CISM_NCA_R2_RCP85 = ncf.variables[\"Ross\"][:]\n",
    "SL_CISM_NCA_R3_RCP85 = ncf.variables[\"Amundsen\"][:]\n",
    "SL_CISM_NCA_R4_RCP85 = ncf.variables[\"Weddell\"][:]\n",
    "SL_CISM_NCA_R5_RCP85 = ncf.variables[\"Peninsula\"][:]\n",
    "SL_CISM_NCA_SU_RCP85 = SL_CISM_NCA_R1_RCP85+SL_CISM_NCA_R2_RCP85+SL_CISM_NCA_R3_RCP85+SL_CISM_NCA_R4_RCP85+SL_CISM_NCA_R5_RCP85\n",
    "\n",
    "SL_CISM_NCA_SU_RCP85_50pc = np.percentile(SL_CISM_NCA_SU_RCP85, 50, axis=0, out=None, overwrite_input=False, interpolation='linear', keepdims=False)\n",
    "SL_CISM_NCA_SU_RCP85_83pc = np.percentile(SL_CISM_NCA_SU_RCP85, 83.33, axis=0, out=None, overwrite_input=False, interpolation='linear', keepdims=False)\n",
    "SL_CISM_NCA_SU_RCP85_17pc = np.percentile(SL_CISM_NCA_SU_RCP85, 16.66, axis=0, out=None, overwrite_input=False, interpolation='linear', keepdims=False)\n",
    "SL_CISM_NCA_SU_RCP85_95pc = np.percentile(SL_CISM_NCA_SU_RCP85, 5, axis=0, out=None, overwrite_input=False, interpolation='linear', keepdims=False)\n",
    "SL_CISM_NCA_SU_RCP85_05pc = np.percentile(SL_CISM_NCA_SU_RCP85, 95, axis=0, out=None, overwrite_input=False, interpolation='linear', keepdims=False)\n",
    "SL_CISM_NCA_SU_RCP85_99pc = np.percentile(SL_CISM_NCA_SU_RCP85, 99, axis=0, out=None, overwrite_input=False, interpolation='linear', keepdims=False)\n",
    "SL_CISM_NCA_SU_RCP85_01pc = np.percentile(SL_CISM_NCA_SU_RCP85, 1, axis=0, out=None, overwrite_input=False, interpolation='linear', keepdims=False)\n",
    "\n",
    "print(max(SL_CISM_NCA_SU_RCP85_99pc))"
   ]
  },
  {
   "cell_type": "code",
   "execution_count": 4,
   "metadata": {},
   "outputs": [
    {
     "name": "stdout",
     "output_type": "stream",
     "text": [
      "0.5443729162216187\n"
     ]
    }
   ],
   "source": [
    "# Read data\n",
    "# FETI_VUB\n",
    "\n",
    "fname=\"..\\ComputeProjection4OneIceModel\\EnsembleSingleModelProjections/SL_FETI_VUB_RCP85.nc\"\n",
    "ncf = nc.Dataset(fname, \"r\")\n",
    "\n",
    "Time = ncf.variables[\"Time\"][:]\n",
    "SL_FETI_VUB_R0_RCP85 = ncf.variables[\"Antarctica\"][:]\n",
    "SL_FETI_VUB_R1_RCP85 = ncf.variables[\"EAIS\"][:]\n",
    "SL_FETI_VUB_R2_RCP85 = ncf.variables[\"Ross\"][:]\n",
    "SL_FETI_VUB_R3_RCP85 = ncf.variables[\"Amundsen\"][:]\n",
    "SL_FETI_VUB_R4_RCP85 = ncf.variables[\"Weddell\"][:]\n",
    "SL_FETI_VUB_R5_RCP85 = ncf.variables[\"Peninsula\"][:]\n",
    "SL_FETI_VUB_SU_RCP85 = SL_FETI_VUB_R1_RCP85+SL_FETI_VUB_R2_RCP85+SL_FETI_VUB_R3_RCP85+SL_FETI_VUB_R4_RCP85+SL_FETI_VUB_R5_RCP85\n",
    "\n",
    "SL_FETI_VUB_SU_RCP85_50pc = np.percentile(SL_FETI_VUB_SU_RCP85, 50, axis=0, out=None, overwrite_input=False, interpolation='linear', keepdims=False)\n",
    "SL_FETI_VUB_SU_RCP85_83pc = np.percentile(SL_FETI_VUB_SU_RCP85, 83.33, axis=0, out=None, overwrite_input=False, interpolation='linear', keepdims=False)\n",
    "SL_FETI_VUB_SU_RCP85_17pc = np.percentile(SL_FETI_VUB_SU_RCP85, 16.66, axis=0, out=None, overwrite_input=False, interpolation='linear', keepdims=False)\n",
    "SL_FETI_VUB_SU_RCP85_95pc = np.percentile(SL_FETI_VUB_SU_RCP85, 5, axis=0, out=None, overwrite_input=False, interpolation='linear', keepdims=False)\n",
    "SL_FETI_VUB_SU_RCP85_05pc = np.percentile(SL_FETI_VUB_SU_RCP85, 95, axis=0, out=None, overwrite_input=False, interpolation='linear', keepdims=False)\n",
    "SL_FETI_VUB_SU_RCP85_99pc = np.percentile(SL_FETI_VUB_SU_RCP85, 99, axis=0, out=None, overwrite_input=False, interpolation='linear', keepdims=False)\n",
    "SL_FETI_VUB_SU_RCP85_01pc = np.percentile(SL_FETI_VUB_SU_RCP85, 1, axis=0, out=None, overwrite_input=False, interpolation='linear', keepdims=False)\n",
    "\n",
    "print(max(SL_FETI_VUB_SU_RCP85_99pc))"
   ]
  },
  {
   "cell_type": "code",
   "execution_count": 5,
   "metadata": {},
   "outputs": [
    {
     "name": "stdout",
     "output_type": "stream",
     "text": [
      "0.22612930834293365\n"
     ]
    }
   ],
   "source": [
    "# Read data\n",
    "# GRIS_LSC\n",
    "\n",
    "fname=\"../\\ComputeProjection4OneIceModel\\EnsembleSingleModelProjections/SL_GRIS_LSC_RCP85.nc\"\n",
    "ncf = nc.Dataset(fname, \"r\")\n",
    "\n",
    "Time = ncf.variables[\"Time\"][:]\n",
    "SL_GRIS_LSC_R0_RCP85 = ncf.variables[\"Antarctica\"][:]\n",
    "SL_GRIS_LSC_R1_RCP85 = ncf.variables[\"EAIS\"][:]\n",
    "SL_GRIS_LSC_R2_RCP85 = ncf.variables[\"Ross\"][:]\n",
    "SL_GRIS_LSC_R3_RCP85 = ncf.variables[\"Amundsen\"][:]\n",
    "SL_GRIS_LSC_R4_RCP85 = ncf.variables[\"Weddell\"][:]\n",
    "SL_GRIS_LSC_R5_RCP85 = ncf.variables[\"Peninsula\"][:]\n",
    "SL_GRIS_LSC_SU_RCP85 = SL_GRIS_LSC_R1_RCP85+SL_GRIS_LSC_R2_RCP85+SL_GRIS_LSC_R3_RCP85+SL_GRIS_LSC_R4_RCP85+SL_GRIS_LSC_R5_RCP85\n",
    "\n",
    "SL_GRIS_LSC_SU_RCP85_50pc = np.percentile(SL_GRIS_LSC_SU_RCP85, 50, axis=0, out=None, overwrite_input=False, interpolation='linear', keepdims=False)\n",
    "SL_GRIS_LSC_SU_RCP85_83pc = np.percentile(SL_GRIS_LSC_SU_RCP85, 83.33, axis=0, out=None, overwrite_input=False, interpolation='linear', keepdims=False)\n",
    "SL_GRIS_LSC_SU_RCP85_17pc = np.percentile(SL_GRIS_LSC_SU_RCP85, 16.66, axis=0, out=None, overwrite_input=False, interpolation='linear', keepdims=False)\n",
    "SL_GRIS_LSC_SU_RCP85_95pc = np.percentile(SL_GRIS_LSC_SU_RCP85, 5, axis=0, out=None, overwrite_input=False, interpolation='linear', keepdims=False)\n",
    "SL_GRIS_LSC_SU_RCP85_05pc = np.percentile(SL_GRIS_LSC_SU_RCP85, 95, axis=0, out=None, overwrite_input=False, interpolation='linear', keepdims=False)\n",
    "SL_GRIS_LSC_SU_RCP85_99pc = np.percentile(SL_GRIS_LSC_SU_RCP85, 99, axis=0, out=None, overwrite_input=False, interpolation='linear', keepdims=False)\n",
    "SL_GRIS_LSC_SU_RCP85_01pc = np.percentile(SL_GRIS_LSC_SU_RCP85, 1, axis=0, out=None, overwrite_input=False, interpolation='linear', keepdims=False)\n",
    "\n",
    "print(max(SL_GRIS_LSC_SU_RCP85_99pc))"
   ]
  },
  {
   "cell_type": "code",
   "execution_count": 6,
   "metadata": {},
   "outputs": [
    {
     "name": "stdout",
     "output_type": "stream",
     "text": [
      "0.7688103914260864\n"
     ]
    }
   ],
   "source": [
    "# Read data\n",
    "# IMAU_VUB\n",
    "\n",
    "fname=\"../\\ComputeProjection4OneIceModel\\EnsembleSingleModelProjections/SL_IMAU_VUB_RCP85.nc\"\n",
    "ncf = nc.Dataset(fname, \"r\")\n",
    "\n",
    "Time = ncf.variables[\"Time\"][:]\n",
    "SL_IMAU_VUB_R0_RCP85 = ncf.variables[\"Antarctica\"][:]\n",
    "SL_IMAU_VUB_R1_RCP85 = ncf.variables[\"EAIS\"][:]\n",
    "SL_IMAU_VUB_R2_RCP85 = ncf.variables[\"Ross\"][:]\n",
    "SL_IMAU_VUB_R3_RCP85 = ncf.variables[\"Amundsen\"][:]\n",
    "SL_IMAU_VUB_R4_RCP85 = ncf.variables[\"Weddell\"][:]\n",
    "SL_IMAU_VUB_R5_RCP85 = ncf.variables[\"Peninsula\"][:]\n",
    "SL_IMAU_VUB_SU_RCP85 = SL_IMAU_VUB_R1_RCP85+SL_IMAU_VUB_R2_RCP85+SL_IMAU_VUB_R3_RCP85+SL_IMAU_VUB_R4_RCP85+SL_IMAU_VUB_R5_RCP85\n",
    "\n",
    "SL_IMAU_VUB_SU_RCP85_50pc = np.percentile(SL_IMAU_VUB_SU_RCP85, 50, axis=0, out=None, overwrite_input=False, interpolation='linear', keepdims=False)\n",
    "SL_IMAU_VUB_SU_RCP85_83pc = np.percentile(SL_IMAU_VUB_SU_RCP85, 83.33, axis=0, out=None, overwrite_input=False, interpolation='linear', keepdims=False)\n",
    "SL_IMAU_VUB_SU_RCP85_17pc = np.percentile(SL_IMAU_VUB_SU_RCP85, 16.66, axis=0, out=None, overwrite_input=False, interpolation='linear', keepdims=False)\n",
    "SL_IMAU_VUB_SU_RCP85_95pc = np.percentile(SL_IMAU_VUB_SU_RCP85, 5, axis=0, out=None, overwrite_input=False, interpolation='linear', keepdims=False)\n",
    "SL_IMAU_VUB_SU_RCP85_05pc = np.percentile(SL_IMAU_VUB_SU_RCP85, 95, axis=0, out=None, overwrite_input=False, interpolation='linear', keepdims=False)\n",
    "SL_IMAU_VUB_SU_RCP85_99pc = np.percentile(SL_IMAU_VUB_SU_RCP85, 99, axis=0, out=None, overwrite_input=False, interpolation='linear', keepdims=False)\n",
    "SL_IMAU_VUB_SU_RCP85_01pc = np.percentile(SL_IMAU_VUB_SU_RCP85, 1, axis=0, out=None, overwrite_input=False, interpolation='linear', keepdims=False)\n",
    "\n",
    "print(max(SL_IMAU_VUB_SU_RCP85_99pc))"
   ]
  },
  {
   "cell_type": "code",
   "execution_count": 7,
   "metadata": {},
   "outputs": [
    {
     "name": "stdout",
     "output_type": "stream",
     "text": [
      "0.8400728106498718\n"
     ]
    }
   ],
   "source": [
    "# Read data\n",
    "# ISSM_JPL\n",
    "\n",
    "fname=\"../\\ComputeProjection4OneIceModel\\EnsembleSingleModelProjections/SL_ISSM_JPL_RCP85.nc\"\n",
    "ncf = nc.Dataset(fname, \"r\")\n",
    "\n",
    "Time = ncf.variables[\"Time\"][:]\n",
    "SL_ISSM_JPL_R0_RCP85 = ncf.variables[\"Antarctica\"][:]\n",
    "SL_ISSM_JPL_R1_RCP85 = ncf.variables[\"EAIS\"][:]\n",
    "SL_ISSM_JPL_R2_RCP85 = ncf.variables[\"Ross\"][:]\n",
    "SL_ISSM_JPL_R3_RCP85 = ncf.variables[\"Amundsen\"][:]\n",
    "SL_ISSM_JPL_R4_RCP85 = ncf.variables[\"Weddell\"][:]\n",
    "SL_ISSM_JPL_R5_RCP85 = ncf.variables[\"Peninsula\"][:]\n",
    "SL_ISSM_JPL_SU_RCP85 = SL_ISSM_JPL_R1_RCP85+SL_ISSM_JPL_R2_RCP85+SL_ISSM_JPL_R3_RCP85+SL_ISSM_JPL_R4_RCP85+SL_ISSM_JPL_R5_RCP85\n",
    "\n",
    "SL_ISSM_JPL_SU_RCP85_50pc = np.percentile(SL_ISSM_JPL_SU_RCP85, 50, axis=0, out=None, overwrite_input=False, interpolation='linear', keepdims=False)\n",
    "SL_ISSM_JPL_SU_RCP85_83pc = np.percentile(SL_ISSM_JPL_SU_RCP85, 83.33, axis=0, out=None, overwrite_input=False, interpolation='linear', keepdims=False)\n",
    "SL_ISSM_JPL_SU_RCP85_17pc = np.percentile(SL_ISSM_JPL_SU_RCP85, 16.66, axis=0, out=None, overwrite_input=False, interpolation='linear', keepdims=False)\n",
    "SL_ISSM_JPL_SU_RCP85_95pc = np.percentile(SL_ISSM_JPL_SU_RCP85, 5, axis=0, out=None, overwrite_input=False, interpolation='linear', keepdims=False)\n",
    "SL_ISSM_JPL_SU_RCP85_05pc = np.percentile(SL_ISSM_JPL_SU_RCP85, 95, axis=0, out=None, overwrite_input=False, interpolation='linear', keepdims=False)\n",
    "SL_ISSM_JPL_SU_RCP85_99pc = np.percentile(SL_ISSM_JPL_SU_RCP85, 99, axis=0, out=None, overwrite_input=False, interpolation='linear', keepdims=False)\n",
    "SL_ISSM_JPL_SU_RCP85_01pc = np.percentile(SL_ISSM_JPL_SU_RCP85, 1, axis=0, out=None, overwrite_input=False, interpolation='linear', keepdims=False)\n",
    "\n",
    "print(max(SL_ISSM_JPL_SU_RCP85_99pc))"
   ]
  },
  {
   "cell_type": "code",
   "execution_count": 8,
   "metadata": {},
   "outputs": [
    {
     "name": "stdout",
     "output_type": "stream",
     "text": [
      "0.9354023337364197\n"
     ]
    }
   ],
   "source": [
    "# Read data\n",
    "# ISSM_UCI\n",
    "\n",
    "fname=\"../\\ComputeProjection4OneIceModel\\EnsembleSingleModelProjections/SL_ISSM_UCI_RCP85.nc\"\n",
    "ncf = nc.Dataset(fname, \"r\")\n",
    "\n",
    "Time = ncf.variables[\"Time\"][:]\n",
    "SL_ISSM_UCI_R0_RCP85 = ncf.variables[\"Antarctica\"][:]\n",
    "SL_ISSM_UCI_R1_RCP85 = ncf.variables[\"EAIS\"][:]\n",
    "SL_ISSM_UCI_R2_RCP85 = ncf.variables[\"Ross\"][:]\n",
    "SL_ISSM_UCI_R3_RCP85 = ncf.variables[\"Amundsen\"][:]\n",
    "SL_ISSM_UCI_R4_RCP85 = ncf.variables[\"Weddell\"][:]\n",
    "SL_ISSM_UCI_R5_RCP85 = ncf.variables[\"Peninsula\"][:]\n",
    "SL_ISSM_UCI_SU_RCP85 = SL_ISSM_UCI_R1_RCP85+SL_ISSM_UCI_R2_RCP85+SL_ISSM_UCI_R3_RCP85+SL_ISSM_UCI_R4_RCP85+SL_ISSM_UCI_R5_RCP85\n",
    "\n",
    "SL_ISSM_UCI_SU_RCP85_50pc = np.percentile(SL_ISSM_UCI_SU_RCP85, 50, axis=0, out=None, overwrite_input=False, interpolation='linear', keepdims=False)\n",
    "SL_ISSM_UCI_SU_RCP85_83pc = np.percentile(SL_ISSM_UCI_SU_RCP85, 83.33, axis=0, out=None, overwrite_input=False, interpolation='linear', keepdims=False)\n",
    "SL_ISSM_UCI_SU_RCP85_17pc = np.percentile(SL_ISSM_UCI_SU_RCP85, 16.66, axis=0, out=None, overwrite_input=False, interpolation='linear', keepdims=False)\n",
    "SL_ISSM_UCI_SU_RCP85_95pc = np.percentile(SL_ISSM_UCI_SU_RCP85, 5, axis=0, out=None, overwrite_input=False, interpolation='linear', keepdims=False)\n",
    "SL_ISSM_UCI_SU_RCP85_05pc = np.percentile(SL_ISSM_UCI_SU_RCP85, 95, axis=0, out=None, overwrite_input=False, interpolation='linear', keepdims=False)\n",
    "SL_ISSM_UCI_SU_RCP85_99pc = np.percentile(SL_ISSM_UCI_SU_RCP85, 99, axis=0, out=None, overwrite_input=False, interpolation='linear', keepdims=False)\n",
    "SL_ISSM_UCI_SU_RCP85_01pc = np.percentile(SL_ISSM_UCI_SU_RCP85, 1, axis=0, out=None, overwrite_input=False, interpolation='linear', keepdims=False)\n",
    "\n",
    "print(max(SL_ISSM_UCI_SU_RCP85_99pc))"
   ]
  },
  {
   "cell_type": "code",
   "execution_count": 9,
   "metadata": {},
   "outputs": [
    {
     "name": "stdout",
     "output_type": "stream",
     "text": [
      "0.47677192091941833\n"
     ]
    }
   ],
   "source": [
    "# Read data\n",
    "# PISM_AWI\n",
    "\n",
    "fname=\"../\\ComputeProjection4OneIceModel\\EnsembleSingleModelProjections/SL_PISM_AWI_RCP85.nc\"\n",
    "ncf = nc.Dataset(fname, \"r\")\n",
    "\n",
    "Time = ncf.variables[\"Time\"][:]\n",
    "SL_PISM_AWI_R0_RCP85 = ncf.variables[\"Antarctica\"][:]\n",
    "SL_PISM_AWI_R1_RCP85 = ncf.variables[\"EAIS\"][:]\n",
    "SL_PISM_AWI_R2_RCP85 = ncf.variables[\"Ross\"][:]\n",
    "SL_PISM_AWI_R3_RCP85 = ncf.variables[\"Amundsen\"][:]\n",
    "SL_PISM_AWI_R4_RCP85 = ncf.variables[\"Weddell\"][:]\n",
    "SL_PISM_AWI_R5_RCP85 = ncf.variables[\"Peninsula\"][:]\n",
    "SL_PISM_AWI_SU_RCP85 = SL_PISM_AWI_R1_RCP85+SL_PISM_AWI_R2_RCP85+SL_PISM_AWI_R3_RCP85+SL_PISM_AWI_R4_RCP85+SL_PISM_AWI_R5_RCP85\n",
    "\n",
    "SL_PISM_AWI_SU_RCP85_50pc = np.percentile(SL_PISM_AWI_SU_RCP85, 50, axis=0, out=None, overwrite_input=False, interpolation='linear', keepdims=False)\n",
    "SL_PISM_AWI_SU_RCP85_83pc = np.percentile(SL_PISM_AWI_SU_RCP85, 83.33, axis=0, out=None, overwrite_input=False, interpolation='linear', keepdims=False)\n",
    "SL_PISM_AWI_SU_RCP85_17pc = np.percentile(SL_PISM_AWI_SU_RCP85, 16.66, axis=0, out=None, overwrite_input=False, interpolation='linear', keepdims=False)\n",
    "SL_PISM_AWI_SU_RCP85_95pc = np.percentile(SL_PISM_AWI_SU_RCP85, 5, axis=0, out=None, overwrite_input=False, interpolation='linear', keepdims=False)\n",
    "SL_PISM_AWI_SU_RCP85_05pc = np.percentile(SL_PISM_AWI_SU_RCP85, 95, axis=0, out=None, overwrite_input=False, interpolation='linear', keepdims=False)\n",
    "SL_PISM_AWI_SU_RCP85_99pc = np.percentile(SL_PISM_AWI_SU_RCP85, 99, axis=0, out=None, overwrite_input=False, interpolation='linear', keepdims=False)\n",
    "SL_PISM_AWI_SU_RCP85_01pc = np.percentile(SL_PISM_AWI_SU_RCP85, 1, axis=0, out=None, overwrite_input=False, interpolation='linear', keepdims=False)\n",
    "\n",
    "print(max(SL_PISM_AWI_SU_RCP85_99pc))"
   ]
  },
  {
   "cell_type": "code",
   "execution_count": 10,
   "metadata": {},
   "outputs": [
    {
     "name": "stdout",
     "output_type": "stream",
     "text": [
      "0.34203481674194336\n"
     ]
    }
   ],
   "source": [
    "# Read data\n",
    "# PISM_PIK\n",
    "\n",
    "fname=\"../\\ComputeProjection4OneIceModel\\EnsembleSingleModelProjections/SL_PISM_PIK_RCP85.nc\"\n",
    "ncf = nc.Dataset(fname, \"r\")\n",
    "\n",
    "Time = ncf.variables[\"Time\"][:]\n",
    "SL_PISM_PIK_R0_RCP85 = ncf.variables[\"Antarctica\"][:]\n",
    "SL_PISM_PIK_R1_RCP85 = ncf.variables[\"EAIS\"][:]\n",
    "SL_PISM_PIK_R2_RCP85 = ncf.variables[\"Ross\"][:]\n",
    "SL_PISM_PIK_R3_RCP85 = ncf.variables[\"Amundsen\"][:]\n",
    "SL_PISM_PIK_R4_RCP85 = ncf.variables[\"Weddell\"][:]\n",
    "SL_PISM_PIK_R5_RCP85 = ncf.variables[\"Peninsula\"][:]\n",
    "SL_PISM_PIK_SU_RCP85 = SL_PISM_PIK_R1_RCP85+SL_PISM_PIK_R2_RCP85+SL_PISM_PIK_R3_RCP85+SL_PISM_PIK_R4_RCP85+SL_PISM_PIK_R5_RCP85\n",
    "\n",
    "SL_PISM_PIK_SU_RCP85_50pc = np.percentile(SL_PISM_PIK_SU_RCP85, 50, axis=0, out=None, overwrite_input=False, interpolation='linear', keepdims=False)\n",
    "SL_PISM_PIK_SU_RCP85_83pc = np.percentile(SL_PISM_PIK_SU_RCP85, 83.33, axis=0, out=None, overwrite_input=False, interpolation='linear', keepdims=False)\n",
    "SL_PISM_PIK_SU_RCP85_17pc = np.percentile(SL_PISM_PIK_SU_RCP85, 16.66, axis=0, out=None, overwrite_input=False, interpolation='linear', keepdims=False)\n",
    "SL_PISM_PIK_SU_RCP85_95pc = np.percentile(SL_PISM_PIK_SU_RCP85, 5, axis=0, out=None, overwrite_input=False, interpolation='linear', keepdims=False)\n",
    "SL_PISM_PIK_SU_RCP85_05pc = np.percentile(SL_PISM_PIK_SU_RCP85, 95, axis=0, out=None, overwrite_input=False, interpolation='linear', keepdims=False)\n",
    "SL_PISM_PIK_SU_RCP85_99pc = np.percentile(SL_PISM_PIK_SU_RCP85, 99, axis=0, out=None, overwrite_input=False, interpolation='linear', keepdims=False)\n",
    "SL_PISM_PIK_SU_RCP85_01pc = np.percentile(SL_PISM_PIK_SU_RCP85, 1, axis=0, out=None, overwrite_input=False, interpolation='linear', keepdims=False)\n",
    "\n",
    "print(max(SL_PISM_PIK_SU_RCP85_99pc))"
   ]
  },
  {
   "cell_type": "code",
   "execution_count": 11,
   "metadata": {},
   "outputs": [
    {
     "name": "stdout",
     "output_type": "stream",
     "text": [
      "1.3253824710845947\n"
     ]
    }
   ],
   "source": [
    "# Read data\n",
    "# PISM_VUW\n",
    "\n",
    "fname=\"../\\ComputeProjection4OneIceModel\\EnsembleSingleModelProjections/SL_PISM_VUW_RCP85.nc\"\n",
    "ncf = nc.Dataset(fname, \"r\")\n",
    "\n",
    "Time = ncf.variables[\"Time\"][:]\n",
    "SL_PISM_VUW_R0_RCP85 = ncf.variables[\"Antarctica\"][:]\n",
    "SL_PISM_VUW_R1_RCP85 = ncf.variables[\"EAIS\"][:]\n",
    "SL_PISM_VUW_R2_RCP85 = ncf.variables[\"Ross\"][:]\n",
    "SL_PISM_VUW_R3_RCP85 = ncf.variables[\"Amundsen\"][:]\n",
    "SL_PISM_VUW_R4_RCP85 = ncf.variables[\"Weddell\"][:]\n",
    "SL_PISM_VUW_R5_RCP85 = ncf.variables[\"Peninsula\"][:]\n",
    "SL_PISM_VUW_SU_RCP85 = SL_PISM_VUW_R1_RCP85+SL_PISM_VUW_R2_RCP85+SL_PISM_VUW_R3_RCP85+SL_PISM_VUW_R4_RCP85+SL_PISM_VUW_R5_RCP85\n",
    "\n",
    "SL_PISM_VUW_SU_RCP85_50pc = np.percentile(SL_PISM_VUW_SU_RCP85, 50, axis=0, out=None, overwrite_input=False, interpolation='linear', keepdims=False)\n",
    "SL_PISM_VUW_SU_RCP85_83pc = np.percentile(SL_PISM_VUW_SU_RCP85, 83.33, axis=0, out=None, overwrite_input=False, interpolation='linear', keepdims=False)\n",
    "SL_PISM_VUW_SU_RCP85_17pc = np.percentile(SL_PISM_VUW_SU_RCP85, 16.66, axis=0, out=None, overwrite_input=False, interpolation='linear', keepdims=False)\n",
    "SL_PISM_VUW_SU_RCP85_95pc = np.percentile(SL_PISM_VUW_SU_RCP85, 5, axis=0, out=None, overwrite_input=False, interpolation='linear', keepdims=False)\n",
    "SL_PISM_VUW_SU_RCP85_05pc = np.percentile(SL_PISM_VUW_SU_RCP85, 95, axis=0, out=None, overwrite_input=False, interpolation='linear', keepdims=False)\n",
    "SL_PISM_VUW_SU_RCP85_99pc = np.percentile(SL_PISM_VUW_SU_RCP85, 99, axis=0, out=None, overwrite_input=False, interpolation='linear', keepdims=False)\n",
    "SL_PISM_VUW_SU_RCP85_01pc = np.percentile(SL_PISM_VUW_SU_RCP85, 1, axis=0, out=None, overwrite_input=False, interpolation='linear', keepdims=False)\n",
    "\n",
    "print(max(SL_PISM_VUW_SU_RCP85_99pc))"
   ]
  },
  {
   "cell_type": "code",
   "execution_count": 12,
   "metadata": {},
   "outputs": [
    {
     "name": "stdout",
     "output_type": "stream",
     "text": [
      "0.5780105590820312\n"
     ]
    }
   ],
   "source": [
    "# Read data\n",
    "# PS3D_PSU\n",
    "\n",
    "fname=\"../\\ComputeProjection4OneIceModel\\EnsembleSingleModelProjections/SL_PS3D_PSU_RCP85.nc\"\n",
    "ncf = nc.Dataset(fname, \"r\")\n",
    "\n",
    "Time = ncf.variables[\"Time\"][:]\n",
    "SL_PS3D_PSU_R0_RCP85 = ncf.variables[\"Antarctica\"][:]\n",
    "SL_PS3D_PSU_R1_RCP85 = ncf.variables[\"EAIS\"][:]\n",
    "SL_PS3D_PSU_R2_RCP85 = ncf.variables[\"Ross\"][:]\n",
    "SL_PS3D_PSU_R3_RCP85 = ncf.variables[\"Amundsen\"][:]\n",
    "SL_PS3D_PSU_R4_RCP85 = ncf.variables[\"Weddell\"][:]\n",
    "SL_PS3D_PSU_R5_RCP85 = ncf.variables[\"Peninsula\"][:]\n",
    "SL_PS3D_PSU_SU_RCP85 = SL_PS3D_PSU_R1_RCP85+SL_PS3D_PSU_R2_RCP85+SL_PS3D_PSU_R3_RCP85+SL_PS3D_PSU_R4_RCP85+SL_PS3D_PSU_R5_RCP85\n",
    "\n",
    "SL_PS3D_PSU_SU_RCP85_50pc = np.percentile(SL_PS3D_PSU_SU_RCP85, 50, axis=0, out=None, overwrite_input=False, interpolation='linear', keepdims=False)\n",
    "SL_PS3D_PSU_SU_RCP85_83pc = np.percentile(SL_PS3D_PSU_SU_RCP85, 83.33, axis=0, out=None, overwrite_input=False, interpolation='linear', keepdims=False)\n",
    "SL_PS3D_PSU_SU_RCP85_17pc = np.percentile(SL_PS3D_PSU_SU_RCP85, 16.66, axis=0, out=None, overwrite_input=False, interpolation='linear', keepdims=False)\n",
    "SL_PS3D_PSU_SU_RCP85_95pc = np.percentile(SL_PS3D_PSU_SU_RCP85, 5, axis=0, out=None, overwrite_input=False, interpolation='linear', keepdims=False)\n",
    "SL_PS3D_PSU_SU_RCP85_05pc = np.percentile(SL_PS3D_PSU_SU_RCP85, 95, axis=0, out=None, overwrite_input=False, interpolation='linear', keepdims=False)\n",
    "SL_PS3D_PSU_SU_RCP85_99pc = np.percentile(SL_PS3D_PSU_SU_RCP85, 99, axis=0, out=None, overwrite_input=False, interpolation='linear', keepdims=False)\n",
    "SL_PS3D_PSU_SU_RCP85_01pc = np.percentile(SL_PS3D_PSU_SU_RCP85, 1, axis=0, out=None, overwrite_input=False, interpolation='linear', keepdims=False)\n",
    "\n",
    "print(max(SL_PS3D_PSU_SU_RCP85_99pc))"
   ]
  },
  {
   "cell_type": "code",
   "execution_count": 13,
   "metadata": {},
   "outputs": [
    {
     "name": "stdout",
     "output_type": "stream",
     "text": [
      "0.4811260998249054\n"
     ]
    }
   ],
   "source": [
    "# Read data\n",
    "# SICO_UHO\n",
    "\n",
    "fname=\"../\\ComputeProjection4OneIceModel\\EnsembleSingleModelProjections/SL_SICO_UHO_RCP85.nc\"\n",
    "ncf = nc.Dataset(fname, \"r\")\n",
    "\n",
    "Time = ncf.variables[\"Time\"][:]\n",
    "SL_SICO_UHO_R0_RCP85 = ncf.variables[\"Antarctica\"][:]\n",
    "SL_SICO_UHO_R1_RCP85 = ncf.variables[\"EAIS\"][:]\n",
    "SL_SICO_UHO_R2_RCP85 = ncf.variables[\"Ross\"][:]\n",
    "SL_SICO_UHO_R3_RCP85 = ncf.variables[\"Amundsen\"][:]\n",
    "SL_SICO_UHO_R4_RCP85 = ncf.variables[\"Weddell\"][:]\n",
    "SL_SICO_UHO_R5_RCP85 = ncf.variables[\"Peninsula\"][:]\n",
    "SL_SICO_UHO_SU_RCP85 = SL_SICO_UHO_R1_RCP85+SL_SICO_UHO_R2_RCP85+SL_SICO_UHO_R3_RCP85+SL_SICO_UHO_R4_RCP85+SL_SICO_UHO_R5_RCP85\n",
    "\n",
    "SL_SICO_UHO_SU_RCP85_50pc = np.percentile(SL_SICO_UHO_SU_RCP85, 50, axis=0, out=None, overwrite_input=False, interpolation='linear', keepdims=False)\n",
    "SL_SICO_UHO_SU_RCP85_83pc = np.percentile(SL_SICO_UHO_SU_RCP85, 83.33, axis=0, out=None, overwrite_input=False, interpolation='linear', keepdims=False)\n",
    "SL_SICO_UHO_SU_RCP85_17pc = np.percentile(SL_SICO_UHO_SU_RCP85, 16.66, axis=0, out=None, overwrite_input=False, interpolation='linear', keepdims=False)\n",
    "SL_SICO_UHO_SU_RCP85_95pc = np.percentile(SL_SICO_UHO_SU_RCP85, 5, axis=0, out=None, overwrite_input=False, interpolation='linear', keepdims=False)\n",
    "SL_SICO_UHO_SU_RCP85_05pc = np.percentile(SL_SICO_UHO_SU_RCP85, 95, axis=0, out=None, overwrite_input=False, interpolation='linear', keepdims=False)\n",
    "SL_SICO_UHO_SU_RCP85_99pc = np.percentile(SL_SICO_UHO_SU_RCP85, 99, axis=0, out=None, overwrite_input=False, interpolation='linear', keepdims=False)\n",
    "SL_SICO_UHO_SU_RCP85_01pc = np.percentile(SL_SICO_UHO_SU_RCP85, 1, axis=0, out=None, overwrite_input=False, interpolation='linear', keepdims=False)\n",
    "\n",
    "print(max(SL_SICO_UHO_SU_RCP85_99pc))"
   ]
  },
  {
   "cell_type": "code",
   "execution_count": 14,
   "metadata": {},
   "outputs": [
    {
     "name": "stdout",
     "output_type": "stream",
     "text": [
      "200\n",
      "220011\n"
     ]
    }
   ],
   "source": [
    "SL_RCP85 =np.vstack([SL_CISM_NCA_SU_RCP85,SL_FETI_VUB_SU_RCP85,SL_GRIS_LSC_SU_RCP85,SL_IMAU_VUB_SU_RCP85,SL_ISSM_JPL_SU_RCP85,SL_ISSM_UCI_SU_RCP85,SL_PISM_AWI_SU_RCP85,SL_PISM_PIK_SU_RCP85,SL_PISM_VUW_SU_RCP85,SL_PS3D_PSU_SU_RCP85, SL_SICO_UHO_SU_RCP85])\n",
    "print(len(SL_RCP85[0,:]))\n",
    "print(len(SL_RCP85[:,0]))"
   ]
  },
  {
   "cell_type": "code",
   "execution_count": 15,
   "metadata": {},
   "outputs": [],
   "source": [
    "SL_RCP85_50pc = np.percentile(SL_RCP85, 50, axis=0, out=None, overwrite_input=False, interpolation='linear', keepdims=False)\n",
    "SL_RCP85_83pc = np.percentile(SL_RCP85, 83.33, axis=0, out=None, overwrite_input=False, interpolation='linear', keepdims=False)\n",
    "SL_RCP85_17pc = np.percentile(SL_RCP85, 16.66, axis=0, out=None, overwrite_input=False, interpolation='linear', keepdims=False)\n",
    "SL_RCP85_95pc = np.percentile(SL_RCP85, 5, axis=0, out=None, overwrite_input=False, interpolation='linear', keepdims=False)\n",
    "SL_RCP85_05pc = np.percentile(SL_RCP85, 95, axis=0, out=None, overwrite_input=False, interpolation='linear', keepdims=False)\n",
    "SL_RCP85_99pc = np.percentile(SL_RCP85, 99, axis=0, out=None, overwrite_input=False, interpolation='linear', keepdims=False)\n",
    "SL_RCP85_01pc = np.percentile(SL_RCP85, 1, axis=0, out=None, overwrite_input=False, interpolation='linear', keepdims=False)\n",
    "\n",
    "np.savetxt(\"Percentiles/SL_RCP85_50pc.dat\", SL_RCP85_50pc, delimiter=\",\")\n",
    "np.savetxt(\"Percentiles/SL_RCP85_83pc.dat\", SL_RCP85_83pc, delimiter=\",\")\n",
    "np.savetxt(\"Percentiles/SL_RCP85_17pc.dat\", SL_RCP85_17pc, delimiter=\",\")\n",
    "np.savetxt(\"Percentiles/SL_RCP85_05pc.dat\", SL_RCP85_05pc, delimiter=\",\")\n",
    "np.savetxt(\"Percentiles/SL_RCP85_95pc.dat\", SL_RCP85_95pc, delimiter=\",\")\n",
    "np.savetxt(\"Percentiles/SL_RCP85_01pc.dat\", SL_RCP85_01pc, delimiter=\",\")\n",
    "np.savetxt(\"Percentiles/SL_RCP85_99pc.dat\", SL_RCP85_99pc, delimiter=\",\")\n"
   ]
  },
  {
   "cell_type": "code",
   "execution_count": 27,
   "metadata": {},
   "outputs": [
    {
     "data": {
      "text/plain": [
       "<matplotlib.figure.Figure at 0x9dbc198>"
      ]
     },
     "metadata": {},
     "output_type": "display_data"
    },
    {
     "data": {
      "image/png": "[encoded data removed]",
      "text/plain": [
       "<matplotlib.figure.Figure at 0x9dbccf8>"
      ]
     },
     "metadata": {},
     "output_type": "display_data"
    }
   ],
   "source": [
    "fp = plt.figure()\n",
    "\n",
    "# Set plotting variables\n",
    "SizeOfFont = 20\n",
    "\n",
    "# For all panels but Whole Antarctica\n",
    "xmin = 1900\n",
    "xmax = 2100\n",
    "ymin = 0.0\n",
    "ymax = 0.95\n",
    "xlimit = [xmin, xmax]\n",
    "ylimit = [ymin, ymax]\n",
    "AspectRatio = 1.0*((xmax-xmin)/(ymax-ymin))\n",
    "\n",
    "# For Whole Antarctica panel\n",
    "xmin2 = 0\n",
    "xmax2 = 100\n",
    "ymin2 = 0\n",
    "ymax2 = 0.75\n",
    "xlimit2 = [xmin2, xmax2]\n",
    "ylimit2 = [ymin2, ymax2]\n",
    "AspectRatio2 = 1.0*((xmax2-xmin2)/(ymax2-ymin2))\n",
    "\n",
    "\n",
    "figwidth = 15\n",
    "\n",
    "ScalingTextXPos= xmin+10\n",
    "ScalingTextYPos= ymax-0.08\n",
    "ScalingTextXPos2= xmin2+10\n",
    "ScalingTextYPos2= ymax2-0.25\n",
    "\n",
    "fp, axes = plt.subplots(1, 1,figsize=(figwidth,figwidth/3*2))\n",
    "fp.subplots_adjust(hspace=0.2, wspace=0.05)\n",
    "\n",
    "ax = axes\n",
    "\n",
    "plt.fill_between(Time, SL_RCP85_01pc, SL_RCP85_99pc,facecolor='#ff0000',alpha=0.25)\n",
    "plt.fill_between(Time, SL_RCP85_05pc, SL_RCP85_95pc,facecolor='#ff0000',alpha=0.5)\n",
    "plt.fill_between(Time, SL_RCP85_17pc, SL_RCP85_83pc,facecolor='#ff0000')\n",
    "plt.plot(Time, SL_RCP85_50pc, '#000000')\n",
    "\n",
    "#ax.xaxis.set_visible(False)\n",
    "#ax.yaxis.set_visible(False)\n",
    "#ax.yaxis.set_label_position(\"right\")\n",
    "ax.set_xlim(xlimit)\n",
    "ax.set_ylim(ylimit)\n",
    "ax.xaxis.set_tick_params(labelsize=SizeOfFont)\n",
    "ax.yaxis.set_tick_params(labelsize=SizeOfFont)\n",
    "ax.set(adjustable='box',aspect=AspectRatio2)\n",
    "ax.set_title(\"Projections RCP-8.5\",fontsize = SizeOfFont)\n",
    "ax.set_ylabel(\"Sea level response (m)\",fontsize = SizeOfFont)\n",
    "ax.set_xlabel(\"Time (years)\",fontsize = SizeOfFont)\n",
    "#ScalingText = \"r = \" + str(np.round(SF_CISM_NCA_BM08_R0,2))\n",
    "#ax.text(ScalingTextXPos2,ScalingTextYPos2,ScalingText,fontsize = SizeOfFont)\n",
    "\n",
    "\n",
    "plt.show()\n",
    "fp.savefig(\"SL_projections_RCP85.pdf\", bbox_inches='tight')"
   ]
  },
  {
   "cell_type": "code",
   "execution_count": null,
   "metadata": {},
   "outputs": [],
   "source": []
  },
  {
   "cell_type": "code",
   "execution_count": null,
   "metadata": {},
   "outputs": [],
   "source": []
  }
 ],
 "metadata": {
  "kernelspec": {
   "display_name": "Python 3",
   "language": "python",
   "name": "python3"
  },
  "language_info": {
   "codemirror_mode": {
    "name": "ipython",
    "version": 3
   },
   "file_extension": ".py",
   "mimetype": "text/x-python",
   "name": "python",
   "nbconvert_exporter": "python",
   "pygments_lexer": "ipython3",
   "version": "3.6.4"
  }
 },
 "nbformat": 4,
 "nbformat_minor": 2
}
