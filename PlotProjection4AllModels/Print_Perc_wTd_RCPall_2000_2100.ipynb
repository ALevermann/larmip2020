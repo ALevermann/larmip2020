{
 "cells": [
  {
   "cell_type": "code",
   "execution_count": 11,
   "metadata": {},
   "outputs": [],
   "source": [
    "%matplotlib inline"
   ]
  },
  {
   "cell_type": "code",
   "execution_count": 12,
   "metadata": {},
   "outputs": [],
   "source": [
    "import numpy as np\n",
    "import netCDF4 as nc\n",
    "import matplotlib.pylab as plt\n",
    "import imp\n",
    "import csv\n",
    "import pandas as pd\n",
    "from io import StringIO"
   ]
  },
  {
   "cell_type": "code",
   "execution_count": 13,
   "metadata": {},
   "outputs": [
    {
     "name": "stdout",
     "output_type": "stream",
     "text": [
      "200\n"
     ]
    }
   ],
   "source": [
    "Time = np.arange(1900,2100)\n",
    "print(len(Time))\n"
   ]
  },
  {
   "cell_type": "code",
   "execution_count": 14,
   "metadata": {},
   "outputs": [
    {
     "name": "stdout",
     "output_type": "stream",
     "text": [
      "--\n",
      "2000.0\n",
      "0 0.02\n",
      "1 0.04\n",
      "2 0.07\n",
      "3 0.13\n",
      "4 0.24\n",
      "5 0.37\n",
      "6 0.74\n",
      "[0.022446249, 0.04335113, 0.06642235, 0.12615106, 0.24385951, 0.3663443, 0.7384804]\n"
     ]
    }
   ],
   "source": [
    "fname=\"..\\ComputeCdfsOfProjections\\Cdfs/SL_2000_2100_wTd_nos_base_RCP26_cdf.nc\"\n",
    "ncf = nc.Dataset(fname, \"r\")\n",
    "\n",
    "Percentile = ncf.variables[\"Percentile\"][:]\n",
    "SL_wTd_nos_base_R0 = ncf.variables[\"Antarctica\"][:]\n",
    "\n",
    "Year = ncf.variables[\"Time\"][:]\n",
    "yr = 200\n",
    "print(Year[yr])\n",
    "\n",
    "start_yr = 100\n",
    "print(Year[start_yr])\n",
    "SL_wTd_nos_base_R0[start_yr,50]\n",
    "SL_wTd_nos_base_R0[start_yr,166]\n",
    "SL_wTd_nos_base_R0[start_yr,500]\n",
    "SL_wTd_nos_base_R0[start_yr,833]\n",
    "SL_wTd_nos_base_R0[start_yr,950]\n",
    "\n",
    "SL_wTd_nos_base_RCP26_table = [SL_wTd_nos_base_R0[yr,5],SL_wTd_nos_base_R0[yr,50],SL_wTd_nos_base_R0[yr,166],SL_wTd_nos_base_R0[yr,500],SL_wTd_nos_base_R0[yr,833],SL_wTd_nos_base_R0[yr,950],SL_wTd_nos_base_R0[yr,995]]\n",
    "\n",
    "f = open('Tables/SL_wTd_nos_base_RCP26_2000_2100_table.dat', 'w')\n",
    "for i in range(len(SL_wTd_nos_base_RCP26_table)):\n",
    "    print(\"%i %1.2f\" % (i,SL_wTd_nos_base_RCP26_table[i]))\n",
    "    f.write(\"%1.2f \" %(SL_wTd_nos_base_RCP26_table[i]))\n",
    "f.close()\n",
    "\n",
    "print(SL_wTd_nos_base_RCP26_table)\n"
   ]
  },
  {
   "cell_type": "code",
   "execution_count": 15,
   "metadata": {},
   "outputs": [
    {
     "name": "stdout",
     "output_type": "stream",
     "text": [
      "--\n",
      "0 0.02\n",
      "1 0.05\n",
      "2 0.07\n",
      "3 0.14\n",
      "4 0.28\n",
      "5 0.44\n",
      "6 0.92\n",
      "[0.024334498, 0.04769402, 0.073916875, 0.14223714, 0.28275448, 0.4373819, 0.91579986]\n"
     ]
    }
   ],
   "source": [
    "fname=\"..\\ComputeCdfsOfProjections\\Cdfs/SL_2000_2100_wTd_nos_base_RCP45_cdf.nc\"\n",
    "ncf = nc.Dataset(fname, \"r\")\n",
    "\n",
    "Percentile = ncf.variables[\"Percentile\"][:]\n",
    "SL_wTd_nos_base_R0 = ncf.variables[\"Antarctica\"][:]\n",
    "\n",
    "Year = ncf.variables[\"Time\"][:]\n",
    "yr = 200\n",
    "print(Year[yr])\n",
    "\n",
    "SL_wTd_nos_base_RCP45_table = [SL_wTd_nos_base_R0[yr,5],SL_wTd_nos_base_R0[yr,50],SL_wTd_nos_base_R0[yr,166],SL_wTd_nos_base_R0[yr,500],SL_wTd_nos_base_R0[yr,833],SL_wTd_nos_base_R0[yr,950],SL_wTd_nos_base_R0[yr,995]]\n",
    "f = open('Tables/SL_wTd_nos_base_RCP45_2000_2100_table.dat', 'w')\n",
    "for i in range(len(SL_wTd_nos_base_RCP45_table)):\n",
    "    print(\"%i %1.2f\" % (i,SL_wTd_nos_base_RCP45_table[i]))\n",
    "    f.write(\"%1.2f \" %(SL_wTd_nos_base_RCP45_table[i]))\n",
    "f.close()\n",
    "\n",
    "print(SL_wTd_nos_base_RCP45_table)\n"
   ]
  },
  {
   "cell_type": "code",
   "execution_count": 16,
   "metadata": {},
   "outputs": [
    {
     "name": "stdout",
     "output_type": "stream",
     "text": [
      "--\n",
      "0 0.02\n",
      "1 0.05\n",
      "2 0.07\n",
      "3 0.14\n",
      "4 0.28\n",
      "5 0.44\n",
      "6 0.93\n",
      "[0.02442322, 0.047616318, 0.07355297, 0.14128265, 0.28159532, 0.4356724, 0.9265066]\n"
     ]
    }
   ],
   "source": [
    "fname=\"..\\ComputeCdfsOfProjections\\Cdfs/SL_2000_2100_wTd_nos_base_RCP60_cdf.nc\"\n",
    "ncf = nc.Dataset(fname, \"r\")\n",
    "\n",
    "Percentile = ncf.variables[\"Percentile\"][:]\n",
    "SL_wTd_nos_base_R0 = ncf.variables[\"Antarctica\"][:]\n",
    "\n",
    "Year = ncf.variables[\"Time\"][:]\n",
    "yr = 200\n",
    "print(Year[yr])\n",
    "\n",
    "SL_wTd_nos_base_RCP60_table = [SL_wTd_nos_base_R0[yr,5],SL_wTd_nos_base_R0[yr,50],SL_wTd_nos_base_R0[yr,166],SL_wTd_nos_base_R0[yr,500],SL_wTd_nos_base_R0[yr,833],SL_wTd_nos_base_R0[yr,950],SL_wTd_nos_base_R0[yr,995]]\n",
    "f = open('Tables/SL_wTd_nos_base_RCP60_2000_2100_table.dat', 'w')\n",
    "for i in range(len(SL_wTd_nos_base_RCP60_table)):\n",
    "    print(\"%i %1.2f\" % (i,SL_wTd_nos_base_RCP60_table[i]))\n",
    "    f.write(\"%1.2f \" %(SL_wTd_nos_base_RCP60_table[i]))\n",
    "f.close()\n",
    "\n",
    "print(SL_wTd_nos_base_RCP60_table)\n"
   ]
  },
  {
   "cell_type": "code",
   "execution_count": 17,
   "metadata": {},
   "outputs": [
    {
     "name": "stdout",
     "output_type": "stream",
     "text": [
      "--\n",
      "0 0.03\n",
      "1 0.06\n",
      "2 0.09\n",
      "3 0.17\n",
      "4 0.36\n",
      "5 0.58\n",
      "6 1.29\n",
      "[0.027428538, 0.055749238, 0.08848882, 0.17397156, 0.3604816, 0.5767392, 1.2884034]\n"
     ]
    }
   ],
   "source": [
    "fname=\"..\\ComputeCdfsOfProjections\\Cdfs/SL_2000_2100_wTd_nos_base_RCP85_cdf.nc\"\n",
    "ncf = nc.Dataset(fname, \"r\")\n",
    "\n",
    "Percentile = ncf.variables[\"Percentile\"][:]\n",
    "SL_wTd_nos_base_R0 = ncf.variables[\"Antarctica\"][:]\n",
    "\n",
    "Year = ncf.variables[\"Time\"][:]\n",
    "yr = 200\n",
    "print(Year[yr])\n",
    "\n",
    "SL_wTd_nos_base_RCP85_table = [SL_wTd_nos_base_R0[yr,5],SL_wTd_nos_base_R0[yr,50],SL_wTd_nos_base_R0[yr,166],SL_wTd_nos_base_R0[yr,500],SL_wTd_nos_base_R0[yr,833],SL_wTd_nos_base_R0[yr,950],SL_wTd_nos_base_R0[yr,995]]\n",
    "f = open('Tables/SL_wTd_nos_base_RCP85_2000_2100_table.dat', 'w')\n",
    "for i in range(len(SL_wTd_nos_base_RCP85_table)):\n",
    "    print(\"%i %1.2f\" % (i,SL_wTd_nos_base_RCP85_table[i]))\n",
    "    f.write(\"%1.2f \" %(SL_wTd_nos_base_RCP85_table[i]))\n",
    "f.close()\n",
    "\n",
    "print(SL_wTd_nos_base_RCP85_table)\n"
   ]
  },
  {
   "cell_type": "code",
   "execution_count": 18,
   "metadata": {},
   "outputs": [],
   "source": [
    "f = open('Tables/Tab15_SL_RCPall_2000_2100.dat', 'w')\n",
    "\n",
    "for i in range(1,len(SL_wTd_nos_base_RCP26_table)-1):\n",
    "    f.write(\"%1.2f \" %(SL_wTd_nos_base_RCP26_table[i]))\n",
    "f.write(\"\\n\")\n",
    "\n",
    "for i in range(1,len(SL_wTd_nos_base_RCP45_table)-1):\n",
    "    f.write(\"%1.2f \" %(SL_wTd_nos_base_RCP45_table[i]))\n",
    "f.write(\"\\n\")\n",
    "\n",
    "for i in range(1,len(SL_wTd_nos_base_RCP60_table)-1):\n",
    "    f.write(\"%1.2f \" %(SL_wTd_nos_base_RCP60_table[i]))\n",
    "f.write(\"\\n\")\n",
    "\n",
    "for i in range(1,len(SL_wTd_nos_base_RCP85_table)-1):\n",
    "    f.write(\"%1.2f \" %(SL_wTd_nos_base_RCP85_table[i]))\n",
    "f.write(\"\\n\")\n",
    "    \n",
    "f.close()\n"
   ]
  },
  {
   "cell_type": "code",
   "execution_count": 19,
   "metadata": {},
   "outputs": [],
   "source": [
    "f = open('Tables/Backup/Tab15_SL_RCPall_2000_2100_full.dat', 'w')\n",
    "\n",
    "for i in range(len(SL_wTd_nos_base_RCP26_table)):\n",
    "    f.write(\"%1.2f \" %(SL_wTd_nos_base_RCP26_table[i]))\n",
    "f.write(\"\\n\")\n",
    "\n",
    "for i in range(len(SL_wTd_nos_base_RCP45_table)):\n",
    "    f.write(\"%1.2f \" %(SL_wTd_nos_base_RCP45_table[i]))\n",
    "f.write(\"\\n\")\n",
    "\n",
    "for i in range(len(SL_wTd_nos_base_RCP60_table)):\n",
    "    f.write(\"%1.2f \" %(SL_wTd_nos_base_RCP60_table[i]))\n",
    "f.write(\"\\n\")\n",
    "\n",
    "for i in range(len(SL_wTd_nos_base_RCP85_table)):\n",
    "    f.write(\"%1.2f \" %(SL_wTd_nos_base_RCP85_table[i]))\n",
    "f.write(\"\\n\")\n",
    "    \n",
    "f.close()\n"
   ]
  },
  {
   "cell_type": "code",
   "execution_count": null,
   "metadata": {},
   "outputs": [],
   "source": []
  },
  {
   "cell_type": "code",
   "execution_count": null,
   "metadata": {},
   "outputs": [],
   "source": []
  },
  {
   "cell_type": "code",
   "execution_count": null,
   "metadata": {},
   "outputs": [],
   "source": []
  }
 ],
 "metadata": {
  "kernelspec": {
   "display_name": "Python 3",
   "language": "python",
   "name": "python3"
  },
  "language_info": {
   "codemirror_mode": {
    "name": "ipython",
    "version": 3
   },
   "file_extension": ".py",
   "mimetype": "text/x-python",
   "name": "python",
   "nbconvert_exporter": "python",
   "pygments_lexer": "ipython3",
   "version": "3.7.1"
  }
 },
 "nbformat": 4,
 "nbformat_minor": 2
}
