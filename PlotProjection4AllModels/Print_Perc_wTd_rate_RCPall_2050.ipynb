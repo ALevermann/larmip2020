{
 "cells": [
  {
   "cell_type": "code",
   "execution_count": 1,
   "metadata": {},
   "outputs": [],
   "source": [
    "%matplotlib inline"
   ]
  },
  {
   "cell_type": "code",
   "execution_count": 2,
   "metadata": {},
   "outputs": [],
   "source": [
    "import numpy as np\n",
    "import netCDF4 as nc\n",
    "import matplotlib.pylab as plt\n",
    "import imp\n",
    "import csv\n",
    "import pandas as pd\n",
    "from io import StringIO"
   ]
  },
  {
   "cell_type": "code",
   "execution_count": 3,
   "metadata": {},
   "outputs": [
    {
     "name": "stdout",
     "output_type": "stream",
     "text": [
      "200\n"
     ]
    }
   ],
   "source": [
    "Time = np.arange(1900,2100)\n",
    "print(len(Time))\n"
   ]
  },
  {
   "cell_type": "code",
   "execution_count": 4,
   "metadata": {},
   "outputs": [
    {
     "name": "stdout",
     "output_type": "stream",
     "text": [
      "2050.0\n",
      "0 0.17\n",
      "1 0.39\n",
      "2 0.64\n",
      "3 1.20\n",
      "4 2.48\n",
      "5 3.93\n",
      "6 8.29\n",
      "[0.1702793, 0.39247796, 0.6432161, 1.202736, 2.4829283, 3.9349198, 8.285463]\n"
     ]
    }
   ],
   "source": [
    "fname=\"..\\ComputeCdfsOfProjections\\Cdfs/SL_wTd_nos_base_rate_RCP26_cdf.nc\"\n",
    "ncf = nc.Dataset(fname, \"r\")\n",
    "\n",
    "Percentile = ncf.variables[\"Percentile\"][:]\n",
    "SL_wTd_nos_base_R0 = ncf.variables[\"Antarctica\"][:]*1000\n",
    "\n",
    "Year = ncf.variables[\"Time\"][:]\n",
    "yr = 150\n",
    "print(Year[yr])\n",
    "\n",
    "SL_wTd_nos_base_RCP26_table = [SL_wTd_nos_base_R0[yr,5],SL_wTd_nos_base_R0[yr,50],SL_wTd_nos_base_R0[yr,166],SL_wTd_nos_base_R0[yr,500],SL_wTd_nos_base_R0[yr,833],SL_wTd_nos_base_R0[yr,950],SL_wTd_nos_base_R0[yr,995]]\n",
    "\n",
    "f = open('Tables/SL_wTd_nos_base_rate_RCP26_2050_table.dat', 'w')\n",
    "for i in range(len(SL_wTd_nos_base_RCP26_table)):\n",
    "    print(\"%i %1.2f\" % (i,SL_wTd_nos_base_RCP26_table[i]))\n",
    "    f.write(\"%1.2f \" %(SL_wTd_nos_base_RCP26_table[i]))\n",
    "f.close()\n",
    "\n",
    "print(SL_wTd_nos_base_RCP26_table)\n"
   ]
  },
  {
   "cell_type": "code",
   "execution_count": 5,
   "metadata": {},
   "outputs": [
    {
     "name": "stdout",
     "output_type": "stream",
     "text": [
      "2050.0\n",
      "0 0.18\n",
      "1 0.41\n",
      "2 0.67\n",
      "3 1.26\n",
      "4 2.65\n",
      "5 4.26\n",
      "6 9.21\n",
      "[0.18114316, 0.40946993, 0.6738156, 1.2612753, 2.6524215, 4.2595267, 9.212732]\n"
     ]
    }
   ],
   "source": [
    "fname=\"..\\ComputeCdfsOfProjections\\Cdfs/SL_wTd_nos_base_rate_RCP45_cdf.nc\"\n",
    "ncf = nc.Dataset(fname, \"r\")\n",
    "\n",
    "Percentile = ncf.variables[\"Percentile\"][:]\n",
    "SL_wTd_nos_base_R0 = ncf.variables[\"Antarctica\"][:]*1000\n",
    "\n",
    "Year = ncf.variables[\"Time\"][:]\n",
    "yr = 150\n",
    "print(Year[yr])\n",
    "\n",
    "SL_wTd_nos_base_RCP45_table = [SL_wTd_nos_base_R0[yr,5],SL_wTd_nos_base_R0[yr,50],SL_wTd_nos_base_R0[yr,166],SL_wTd_nos_base_R0[yr,500],SL_wTd_nos_base_R0[yr,833],SL_wTd_nos_base_R0[yr,950],SL_wTd_nos_base_R0[yr,995]]\n",
    "f = open('Tables/SL_wTd_nos_base_rate_RCP45_2050_table.dat', 'w')\n",
    "for i in range(len(SL_wTd_nos_base_RCP45_table)):\n",
    "    print(\"%i %1.2f\" % (i,SL_wTd_nos_base_RCP45_table[i]))\n",
    "    f.write(\"%1.2f \" %(SL_wTd_nos_base_RCP45_table[i]))\n",
    "f.close()\n",
    "\n",
    "print(SL_wTd_nos_base_RCP45_table)\n"
   ]
  },
  {
   "cell_type": "code",
   "execution_count": 6,
   "metadata": {},
   "outputs": [
    {
     "name": "stdout",
     "output_type": "stream",
     "text": [
      "2050.0\n",
      "0 0.18\n",
      "1 0.40\n",
      "2 0.65\n",
      "3 1.22\n",
      "4 2.53\n",
      "5 4.03\n",
      "6 8.59\n",
      "[0.17538947, 0.39742422, 0.65106714, 1.2162775, 2.5320277, 4.0342956, 8.585274]\n"
     ]
    }
   ],
   "source": [
    "fname=\"..\\ComputeCdfsOfProjections\\Cdfs/SL_wTd_nos_base_rate_RCP60_cdf.nc\"\n",
    "ncf = nc.Dataset(fname, \"r\")\n",
    "\n",
    "Percentile = ncf.variables[\"Percentile\"][:]\n",
    "SL_wTd_nos_base_R0 = ncf.variables[\"Antarctica\"][:]*1000\n",
    "\n",
    "Year = ncf.variables[\"Time\"][:]\n",
    "yr = 150\n",
    "print(Year[yr])\n",
    "\n",
    "SL_wTd_nos_base_RCP60_table = [SL_wTd_nos_base_R0[yr,5],SL_wTd_nos_base_R0[yr,50],SL_wTd_nos_base_R0[yr,166],SL_wTd_nos_base_R0[yr,500],SL_wTd_nos_base_R0[yr,833],SL_wTd_nos_base_R0[yr,950],SL_wTd_nos_base_R0[yr,995]]\n",
    "f = open('Tables/SL_wTd_nos_base_rate_RCP60_2050_table.dat', 'w')\n",
    "for i in range(len(SL_wTd_nos_base_RCP60_table)):\n",
    "    print(\"%i %1.2f\" % (i,SL_wTd_nos_base_RCP60_table[i]))\n",
    "    f.write(\"%1.2f \" %(SL_wTd_nos_base_RCP60_table[i]))\n",
    "f.close()\n",
    "\n",
    "print(SL_wTd_nos_base_RCP60_table)\n"
   ]
  },
  {
   "cell_type": "code",
   "execution_count": 7,
   "metadata": {},
   "outputs": [
    {
     "name": "stdout",
     "output_type": "stream",
     "text": [
      "2050.0\n",
      "0 0.19\n",
      "1 0.44\n",
      "2 0.73\n",
      "3 1.39\n",
      "4 3.00\n",
      "5 4.88\n",
      "6 11.02\n",
      "[0.19283873, 0.43833348, 0.7312335, 1.3901181, 3.0011013, 4.876241, 11.015118]\n"
     ]
    }
   ],
   "source": [
    "fname=\"..\\ComputeCdfsOfProjections\\Cdfs/SL_wTd_nos_base_rate_RCP85_cdf.nc\"\n",
    "ncf = nc.Dataset(fname, \"r\")\n",
    "\n",
    "Percentile = ncf.variables[\"Percentile\"][:]\n",
    "SL_wTd_nos_base_R0 = ncf.variables[\"Antarctica\"][:]*1000\n",
    "\n",
    "Year = ncf.variables[\"Time\"][:]\n",
    "yr = 150\n",
    "print(Year[yr])\n",
    "\n",
    "SL_wTd_nos_base_RCP85_table = [SL_wTd_nos_base_R0[yr,5],SL_wTd_nos_base_R0[yr,50],SL_wTd_nos_base_R0[yr,166],SL_wTd_nos_base_R0[yr,500],SL_wTd_nos_base_R0[yr,833],SL_wTd_nos_base_R0[yr,950],SL_wTd_nos_base_R0[yr,995]]\n",
    "f = open('Tables/SL_wTd_nos_base_rate_RCP85_2050_table.dat', 'w')\n",
    "for i in range(len(SL_wTd_nos_base_RCP85_table)):\n",
    "    print(\"%i %1.2f\" % (i,SL_wTd_nos_base_RCP85_table[i]))\n",
    "    f.write(\"%1.2f \" %(SL_wTd_nos_base_RCP85_table[i]))\n",
    "f.close()\n",
    "\n",
    "print(SL_wTd_nos_base_RCP85_table)\n"
   ]
  },
  {
   "cell_type": "code",
   "execution_count": 8,
   "metadata": {},
   "outputs": [],
   "source": [
    "f = open('Tables/Tab14_SL_rate_RCPall_2050.dat', 'w')\n",
    "\n",
    "for i in range(1,len(SL_wTd_nos_base_RCP26_table)-1):\n",
    "    f.write(\"%1.2f \" %(SL_wTd_nos_base_RCP26_table[i]))\n",
    "f.write(\"\\n\")\n",
    "\n",
    "for i in range(1,len(SL_wTd_nos_base_RCP45_table)-1):\n",
    "    f.write(\"%1.2f \" %(SL_wTd_nos_base_RCP45_table[i]))\n",
    "f.write(\"\\n\")\n",
    "\n",
    "for i in range(1,len(SL_wTd_nos_base_RCP60_table)-1):\n",
    "    f.write(\"%1.2f \" %(SL_wTd_nos_base_RCP60_table[i]))\n",
    "f.write(\"\\n\")\n",
    "\n",
    "for i in range(1,len(SL_wTd_nos_base_RCP85_table)-1):\n",
    "    f.write(\"%1.2f \" %(SL_wTd_nos_base_RCP85_table[i]))\n",
    "f.write(\"\\n\")\n",
    "    \n",
    "f.close()\n"
   ]
  },
  {
   "cell_type": "code",
   "execution_count": 9,
   "metadata": {},
   "outputs": [],
   "source": [
    "f = open('Tables/Backup/Tab14_SL_rate_RCPall_2050_full.dat', 'w')\n",
    "\n",
    "for i in range(len(SL_wTd_nos_base_RCP26_table)):\n",
    "    f.write(\"%1.2f \" %(SL_wTd_nos_base_RCP26_table[i]))\n",
    "f.write(\"\\n\")\n",
    "\n",
    "for i in range(len(SL_wTd_nos_base_RCP45_table)):\n",
    "    f.write(\"%1.2f \" %(SL_wTd_nos_base_RCP45_table[i]))\n",
    "f.write(\"\\n\")\n",
    "\n",
    "for i in range(len(SL_wTd_nos_base_RCP60_table)):\n",
    "    f.write(\"%1.2f \" %(SL_wTd_nos_base_RCP60_table[i]))\n",
    "f.write(\"\\n\")\n",
    "\n",
    "for i in range(len(SL_wTd_nos_base_RCP85_table)):\n",
    "    f.write(\"%1.2f \" %(SL_wTd_nos_base_RCP85_table[i]))\n",
    "f.write(\"\\n\")\n",
    "    \n",
    "f.close()\n"
   ]
  },
  {
   "cell_type": "code",
   "execution_count": null,
   "metadata": {},
   "outputs": [],
   "source": []
  },
  {
   "cell_type": "code",
   "execution_count": null,
   "metadata": {},
   "outputs": [],
   "source": []
  },
  {
   "cell_type": "code",
   "execution_count": null,
   "metadata": {},
   "outputs": [],
   "source": []
  }
 ],
 "metadata": {
  "kernelspec": {
   "display_name": "Python 3",
   "language": "python",
   "name": "python3"
  },
  "language_info": {
   "codemirror_mode": {
    "name": "ipython",
    "version": 3
   },
   "file_extension": ".py",
   "mimetype": "text/x-python",
   "name": "python",
   "nbconvert_exporter": "python",
   "pygments_lexer": "ipython3",
   "version": "3.7.1"
  }
 },
 "nbformat": 4,
 "nbformat_minor": 2
}
